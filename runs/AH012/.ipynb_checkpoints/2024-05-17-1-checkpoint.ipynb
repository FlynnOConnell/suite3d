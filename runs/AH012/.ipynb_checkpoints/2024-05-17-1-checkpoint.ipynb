{
 "cells": [
  {
   "cell_type": "code",
   "execution_count": 1,
   "id": "f57652f9",
   "metadata": {},
   "outputs": [],
   "source": [
    "%load_ext autoreload\n",
    "%autoreload 2\n",
    "\n",
    "import os \n",
    "import shutil\n",
    "import numpy as n\n",
    "from datetime import date\n",
    "from matplotlib import pyplot as plt\n",
    "import time\n",
    "import napari"
   ]
  },
  {
   "cell_type": "code",
   "execution_count": 2,
   "id": "1d4aca1f",
   "metadata": {},
   "outputs": [],
   "source": [
    "os.chdir('/home/ali/packages/s2p-lbm/')\n",
    "\n",
    "from suite3d.job import Job\n",
    "from suite3d import lbmio, utils, ui\n",
    "from suite3d import tiff_utils as tfu\n",
    "from suite3d import file_utils as flu"
   ]
  },
  {
   "cell_type": "code",
   "execution_count": 3,
   "id": "9f0d542b",
   "metadata": {},
   "outputs": [],
   "source": [
    "job_params = {    \n",
    "    'notch_filt' :     None,\n",
    "    'planes' :         n.concatenate([n.arange(0,30,2), n.arange(1,31,2)]),\n",
    "    'n_ch_tif' : 30,\n",
    "    'convert_plane_ids_to_channel_ids' : False,\n",
    "    \n",
    "    'n_init_files' :   1,\n",
    "    'init_file_pool' : None,\n",
    "    'init_file_sample_method': 'random',\n",
    "    \n",
    "    'subtract_crosstalk' : True,\n",
    "    'override_crosstalk' : 0.13,\n",
    "    'crosstalk_n_planes' : 10, \n",
    "    \n",
    "    'nonrigid' : True,\n",
    "    'smooth_sigma' : 1.15,\n",
    "    'maxregshift' : 0.15,\n",
    "    'reg_filter_pcorr' : 1,\n",
    "    'generate_sample_registered_bins' : False,\n",
    "\n",
    "    'dtype' : n.float32,\n",
    "    'tif_batch_size' : 1,\n",
    "}\n",
    "\n"
   ]
  },
  {
   "cell_type": "code",
   "execution_count": 117,
   "id": "5f9f1d50",
   "metadata": {},
   "outputs": [
    {
     "name": "stdout",
     "output_type": "stream",
     "text": [
      "Job directory /mnt/md0/runs/s3d-AH012_2024-05-17_1 already exists\n",
      "Loading job directory for AH012_2024-05-17_1 in /mnt/md0/runs\n",
      "   Loading dirs \n",
      "      Found dir registered_fused_data\n",
      "      Found dir summary\n",
      "      Found dir iters\n",
      "   Loading default params\n",
      "      Updating param notch_filt\n",
      "      Updating param planes\n",
      "      Updating param n_ch_tif\n",
      "      Updating param convert_plane_ids_to_channel_ids\n",
      "      Updating param n_init_files\n",
      "      Updating param init_file_pool\n",
      "      Updating param init_file_sample_method\n",
      "      Updating param subtract_crosstalk\n",
      "      Updating param override_crosstalk\n",
      "      Updating param crosstalk_n_planes\n",
      "      Updating param nonrigid\n",
      "      Updating param smooth_sigma\n",
      "      Updating param maxregshift\n",
      "      Updating param reg_filter_pcorr\n",
      "      Updating param generate_sample_registered_bins\n",
      "      Updating param dtype\n",
      "      Updating param tif_batch_size\n",
      "      Updating param fs\n",
      "   Updated main params file\n"
     ]
    }
   ],
   "source": [
    "subjects_dir =   '/mnt/zortex-subjects/'\n",
    "expt_info = { \n",
    "    'subject':         'AH012',\n",
    "    'date' :          '2024-05-17',\n",
    "    'expnum' :         [1],}\n",
    "\n",
    "tifs, si_params, exp_str = flu.find_exp(subjects_dir, **expt_info, verbose=False)\n",
    "\n",
    "job_params['fs'] = si_params['vol_rate']\n",
    "\n",
    "savedir = os.path.join('/mnt/md0/runs', expt_info['subject'], expt_info['date'])\n",
    "os.makedirs(savedir, exist_ok=True)\n",
    "\n",
    "# Create the job\n",
    "job = Job('/mnt/md0/runs',exp_str, tifs = tifs,\n",
    "          params=job_params, create=True, overwrite=True, verbosity = 100)\n",
    "\n",
    "job.params['planes'] = n.array([ 0,  2,  4,  6,  8, 10, 12, 14, 16, 18, 20, 22,  1,  3,\n",
    "         5,  7,  9, 11])\n",
    "job.params['3d_reg'] = True\n",
    "job.params['fuse_shift_override'] = 6\n",
    "job.params['n_init_files'] = 4\n",
    "job.params['init_n_frames'] = 400\n",
    "job.params['cavity_size'] = 12\n",
    "job.verbosity = 100"
   ]
  },
  {
   "cell_type": "code",
   "execution_count": 161,
   "id": "6d8f3950",
   "metadata": {
    "scrolled": false
   },
   "outputs": [
    {
     "name": "stdout",
     "output_type": "stream",
     "text": [
      "   Saved a copy of params at /mnt/md0/runs/s3d-AH012_2024-05-17_1/summary\n",
      "   Updated main params file\n",
      "Launching initial pass\n",
      "Saving summary to /mnt/md0/runs/s3d-AH012_2024-05-17_1/summary/summary.npy\n",
      "   Loading init tifs with 30 channels\n",
      "      Loading /mnt/zortex-subjects/AH012/2024-05-17/1/2024-05-17_1_AH012_2P_00001_00021.tif\n",
      "      Loading /mnt/zortex-subjects/AH012/2024-05-17/1/2024-05-17_1_AH012_2P_00001_00008.tif\n",
      "      Loading /mnt/zortex-subjects/AH012/2024-05-17/1/2024-05-17_1_AH012_2P_00001_00006.tif\n",
      "      Loading /mnt/zortex-subjects/AH012/2024-05-17/1/2024-05-17_1_AH012_2P_00001_00003.tif\n",
      "   Loaded 4 files, total 10.81 GB\n",
      "   Loaded movie with 400 frames and shape 18, 800, 1008\n",
      "      Enforcing positivity in mean image\n",
      "   Subtracting crosstalk with forced coefficient 0.130\n",
      "         Subtracting plane 0 from 12\n",
      "         Subtracting plane 1 from 13\n",
      "         Subtracting plane 2 from 14\n",
      "         Subtracting plane 3 from 15\n",
      "         Subtracting plane 4 from 16\n",
      "         Subtracting plane 5 from 17\n",
      "   Saved init mov to /mnt/md0/runs/s3d-AH012_2024-05-17_1/summary/init_mov.npy\n",
      "   Using 3d registration\n",
      "   Computing plane alignment shifts\n",
      "   Applying plane alignment shifts\n",
      "   Launching 3D GPU reference image calculation\n",
      "   Launched\n",
      "      Seeding reference image with most active frames\n",
      "      Completed iter 1 out of 8 in  17.51s\n",
      "      Completed iter 2 out of 8 in  18.83s\n",
      "      Completed iter 3 out of 8 in  20.33s\n",
      "      Completed iter 4 out of 8 in  21.88s\n",
      "      Completed iter 5 out of 8 in  23.07s\n",
      "      Completed iter 6 out of 8 in  24.38s\n",
      "      Completed iter 7 out of 8 in  25.76s\n",
      "      Completed iter 8 out of 8 in  15.74s\n",
      "   Saving summary to /mnt/md0/runs/s3d-AH012_2024-05-17_1/summary/summary.npy\n",
      "   Initial pass complete. See /mnt/md0/runs/s3d-AH012_2024-05-17_1/summary for details\n",
      "CPU times: user 6min 4s, sys: 3min 41s, total: 9min 45s\n",
      "Wall time: 5min 47s\n"
     ]
    },
    {
     "data": {
      "image/png": "[encoded data removed]",
      "text/plain": [
       "<Figure size 1600x800 with 1 Axes>"
      ]
     },
     "metadata": {},
     "output_type": "display_data"
    }
   ],
   "source": [
    "%%time\n",
    "n.random.seed(10)\n",
    "summary = job.run_init_pass()"
   ]
  },
  {
   "cell_type": "code",
   "execution_count": 162,
   "id": "fb321ee2",
   "metadata": {},
   "outputs": [],
   "source": [
    "summary = job.load_summary()"
   ]
  },
  {
   "cell_type": "code",
   "execution_count": 198,
   "id": "6294cd4f",
   "metadata": {},
   "outputs": [
    {
     "name": "stdout",
     "output_type": "stream",
     "text": [
      "      Found dir /mnt/md0/runs/s3d-AH012_2024-05-17_1/registered_fused_data\n",
      "      Updating self.dirs tag registered_fused_data\n",
      "   Overriding fuse shift value to 6\n",
      "   Not clipping frames for registration\n",
      "Will analyze 5 tifs in 5 batches\n",
      "   Enforcing positivity\n",
      "   Launching IO thread\n",
      "               [Thread] Loading batch 0 \n",
      "\n",
      "         Memory at batch 0.  Total Used: 052.723 GB, Virtual Available: 450.540 GB, Virtual Used: 052.656 GB, Swap Used: 000.067 GB\n",
      "Loading Batch 0 of 4\n",
      "                  [Thread] Before load 0 \n",
      "Total Used: 052.723 GB, Virtual Available: 450.540 GB, Virtual Used: 052.656 GB, Swap Used: 000.067 GB\n",
      "      Loading /mnt/zortex-subjects/AH012/2024-05-17/1/2024-05-17_1_AH012_2P_00001_00011.tif\n"
     ]
    },
    {
     "name": "stderr",
     "output_type": "stream",
     "text": [
      "Numba: Attempted to fork from a non-main thread, the TBB library may be in an invalid state in the child process.\n",
      "Numba: Attempted to fork from a non-main thread, the TBB library may be in an invalid state in the child process.\n",
      "Numba: Attempted to fork from a non-main thread, the TBB library may be in an invalid state in the child process.\n",
      "Numba: Attempted to fork from a non-main thread, the TBB library may be in an invalid state in the child process.\n",
      "Numba: Attempted to fork from a non-main thread, the TBB library may be in an invalid state in the child process.\n",
      "Numba: Attempted to fork from a non-main thread, the TBB library may be in an invalid state in the child process.\n",
      "Numba: Attempted to fork from a non-main thread, the TBB library may be in an invalid state in the child process.\n",
      "Numba: Attempted to fork from a non-main thread, the TBB library may be in an invalid state in the child process.\n",
      "Numba: Attempted to fork from a non-main thread, the TBB library may be in an invalid state in the child process.\n",
      "Numba: Attempted to fork from a non-main thread, the TBB library may be in an invalid state in the child process.\n",
      "Numba: Attempted to fork from a non-main thread, the TBB library may be in an invalid state in the child process.\n",
      "Numba: Attempted to fork from a non-main thread, the TBB library may be in an invalid state in the child process.\n",
      "Numba: Attempted to fork from a non-main thread, the TBB library may be in an invalid state in the child process.\n",
      "Numba: Attempted to fork from a non-main thread, the TBB library may be in an invalid state in the child process.\n",
      "Numba: Attempted to fork from a non-main thread, the TBB library may be in an invalid state in the child process.\n"
     ]
    },
    {
     "name": "stdout",
     "output_type": "stream",
     "text": [
      "   Loaded 1 files, total 2.70 GB\n",
      "               [Thread] Thread for batch 0 ready to join after 24.19 sec \n",
      "\n",
      "                  [Thread] After load 0 \n",
      "Total Used: 055.436 GB, Virtual Available: 447.826 GB, Virtual Used: 055.369 GB, Swap Used: 000.067 GB\n",
      "   Batch 0 IO thread joined\n",
      "         Memory after IO thread joinTotal Used: 055.436 GB, Virtual Available: 447.826 GB, Virtual Used: 055.369 GB, Swap Used: 000.067 GB\n",
      "         Memory after movie copied from threadTotal Used: 058.144 GB, Virtual Available: 445.119 GB, Virtual Used: 058.076 GB, Swap Used: 000.067 GB\n",
      "         Memory after thread memory clearedTotal Used: 055.433 GB, Virtual Available: 447.830 GB, Virtual Used: 055.365 GB, Swap Used: 000.067 GB\n",
      "   Launching IO thread for next batch\n",
      "               [Thread] Loading batch 1 \n",
      "\n",
      "         After IO thread launch:Total Used: 055.433 GB, Virtual Available: 447.830 GB, Virtual Used: 055.365 GB, Swap Used: 000.067 GB\n",
      "      Loaded batch of size (18, 100, 800, 1008)\n",
      "                  [Thread] Before load 1 \n",
      "Total Used: 055.433 GB, Virtual Available: 447.830 GB, Virtual Used: 055.365 GB, Swap Used: 000.067 GB\n",
      "      Loading /mnt/zortex-subjects/AH012/2024-05-17/1/2024-05-17_1_AH012_2P_00001_00012.tif\n",
      "   Completed rigid reg on batch in :3.9545674324035645s\n",
      "   Shifted the mov in: 8.551854133605957s\n",
      "         After all GPU Batches:Total Used: 058.647 GB, Virtual Available: 444.615 GB, Virtual Used: 058.580 GB, Swap Used: 000.067 GB\n",
      "      Saving fused, registered file of shape (18, 100, 800, 1008) to /mnt/md0/runs/s3d-AH012_2024-05-17_1/registered_fused_data/fused_reg_data0000.npy\n",
      "         Saved in 1.17 sec\n",
      "         After full batch saving:Total Used: 058.778 GB, Virtual Available: 444.485 GB, Virtual Used: 058.710 GB, Swap Used: 000.067 GB\n",
      "         Memory at batch 1.  Total Used: 058.778 GB, Virtual Available: 444.485 GB, Virtual Used: 058.711 GB, Swap Used: 000.067 GB\n",
      "Loading Batch 1 of 4\n"
     ]
    },
    {
     "name": "stderr",
     "output_type": "stream",
     "text": [
      "Numba: Attempted to fork from a non-main thread, the TBB library may be in an invalid state in the child process.\n",
      "Numba: Attempted to fork from a non-main thread, the TBB library may be in an invalid state in the child process.\n",
      "Numba: Attempted to fork from a non-main thread, the TBB library may be in an invalid state in the child process.\n",
      "Numba: Attempted to fork from a non-main thread, the TBB library may be in an invalid state in the child process.\n",
      "Numba: Attempted to fork from a non-main thread, the TBB library may be in an invalid state in the child process.\n",
      "Numba: Attempted to fork from a non-main thread, the TBB library may be in an invalid state in the child process.\n",
      "Numba: Attempted to fork from a non-main thread, the TBB library may be in an invalid state in the child process.\n",
      "Numba: Attempted to fork from a non-main thread, the TBB library may be in an invalid state in the child process.\n",
      "Numba: Attempted to fork from a non-main thread, the TBB library may be in an invalid state in the child process.\n",
      "Numba: Attempted to fork from a non-main thread, the TBB library may be in an invalid state in the child process.\n",
      "Numba: Attempted to fork from a non-main thread, the TBB library may be in an invalid state in the child process.\n",
      "Numba: Attempted to fork from a non-main thread, the TBB library may be in an invalid state in the child process.\n",
      "Numba: Attempted to fork from a non-main thread, the TBB library may be in an invalid state in the child process.\n",
      "Numba: Attempted to fork from a non-main thread, the TBB library may be in an invalid state in the child process.\n",
      "Numba: Attempted to fork from a non-main thread, the TBB library may be in an invalid state in the child process.\n"
     ]
    },
    {
     "name": "stdout",
     "output_type": "stream",
     "text": [
      "   Loaded 1 files, total 2.70 GB\n",
      "               [Thread] Thread for batch 1 ready to join after 26.70 sec \n",
      "\n",
      "                  [Thread] After load 1 \n",
      "Total Used: 061.494 GB, Virtual Available: 441.768 GB, Virtual Used: 061.427 GB, Swap Used: 000.067 GB\n",
      "   Batch 1 IO thread joined\n",
      "         Memory after IO thread joinTotal Used: 061.494 GB, Virtual Available: 441.768 GB, Virtual Used: 061.427 GB, Swap Used: 000.067 GB\n",
      "         Memory after movie copied from threadTotal Used: 061.496 GB, Virtual Available: 441.767 GB, Virtual Used: 061.428 GB, Swap Used: 000.067 GB\n",
      "         Memory after thread memory clearedTotal Used: 058.796 GB, Virtual Available: 444.467 GB, Virtual Used: 058.729 GB, Swap Used: 000.067 GB\n",
      "   Launching IO thread for next batch\n",
      "               [Thread] Loading batch 2 \n",
      "\n",
      "         After IO thread launch:Total Used: 058.796 GB, Virtual Available: 444.467 GB, Virtual Used: 058.729 GB, Swap Used: 000.067 GB\n",
      "                  [Thread] Before load 2 \n",
      "Total Used: 058.796 GB, Virtual Available: 444.467 GB, Virtual Used: 058.729 GB, Swap Used: 000.067 GB\n",
      "      Loading /mnt/zortex-subjects/AH012/2024-05-17/1/2024-05-17_1_AH012_2P_00001_00013.tif\n",
      "      Loaded batch of size (18, 100, 800, 1008)\n",
      "   Completed rigid reg on batch in :3.3821704387664795s\n",
      "   Shifted the mov in: 0.885676383972168s\n",
      "         After all GPU Batches:Total Used: 061.494 GB, Virtual Available: 441.769 GB, Virtual Used: 061.426 GB, Swap Used: 000.067 GB\n",
      "      Saving fused, registered file of shape (18, 100, 800, 1008) to /mnt/md0/runs/s3d-AH012_2024-05-17_1/registered_fused_data/fused_reg_data0001.npy\n",
      "         Saved in 1.15 sec\n",
      "         After full batch saving:Total Used: 058.792 GB, Virtual Available: 444.471 GB, Virtual Used: 058.724 GB, Swap Used: 000.067 GB\n",
      "         Memory at batch 2.  Total Used: 058.792 GB, Virtual Available: 444.471 GB, Virtual Used: 058.724 GB, Swap Used: 000.067 GB\n",
      "Loading Batch 2 of 4\n"
     ]
    },
    {
     "name": "stderr",
     "output_type": "stream",
     "text": [
      "Numba: Attempted to fork from a non-main thread, the TBB library may be in an invalid state in the child process.\n",
      "Numba: Attempted to fork from a non-main thread, the TBB library may be in an invalid state in the child process.\n",
      "Numba: Attempted to fork from a non-main thread, the TBB library may be in an invalid state in the child process.\n",
      "Numba: Attempted to fork from a non-main thread, the TBB library may be in an invalid state in the child process.\n",
      "Numba: Attempted to fork from a non-main thread, the TBB library may be in an invalid state in the child process.\n",
      "Numba: Attempted to fork from a non-main thread, the TBB library may be in an invalid state in the child process.\n",
      "Numba: Attempted to fork from a non-main thread, the TBB library may be in an invalid state in the child process.\n",
      "Numba: Attempted to fork from a non-main thread, the TBB library may be in an invalid state in the child process.\n",
      "Numba: Attempted to fork from a non-main thread, the TBB library may be in an invalid state in the child process.\n",
      "Numba: Attempted to fork from a non-main thread, the TBB library may be in an invalid state in the child process.\n",
      "Numba: Attempted to fork from a non-main thread, the TBB library may be in an invalid state in the child process.\n",
      "Numba: Attempted to fork from a non-main thread, the TBB library may be in an invalid state in the child process.\n",
      "Numba: Attempted to fork from a non-main thread, the TBB library may be in an invalid state in the child process.\n",
      "Numba: Attempted to fork from a non-main thread, the TBB library may be in an invalid state in the child process.\n",
      "Numba: Attempted to fork from a non-main thread, the TBB library may be in an invalid state in the child process.\n"
     ]
    },
    {
     "name": "stdout",
     "output_type": "stream",
     "text": [
      "   Loaded 1 files, total 2.70 GB\n",
      "               [Thread] Thread for batch 2 ready to join after 22.18 sec \n",
      "\n",
      "                  [Thread] After load 2 \n",
      "Total Used: 061.366 GB, Virtual Available: 441.896 GB, Virtual Used: 061.299 GB, Swap Used: 000.067 GB\n",
      "   Batch 2 IO thread joined\n",
      "         Memory after IO thread joinTotal Used: 061.358 GB, Virtual Available: 441.904 GB, Virtual Used: 061.291 GB, Swap Used: 000.067 GB\n",
      "         Memory after movie copied from threadTotal Used: 061.358 GB, Virtual Available: 441.904 GB, Virtual Used: 061.291 GB, Swap Used: 000.067 GB\n",
      "         Memory after thread memory clearedTotal Used: 058.656 GB, Virtual Available: 444.606 GB, Virtual Used: 058.589 GB, Swap Used: 000.067 GB\n",
      "   Launching IO thread for next batch\n",
      "               [Thread] Loading batch 3 \n",
      "\n",
      "         After IO thread launch:Total Used: 058.656 GB, Virtual Available: 444.606 GB, Virtual Used: 058.589 GB, Swap Used: 000.067 GB\n",
      "                  [Thread] Before load 3 \n",
      "Total Used: 058.656 GB, Virtual Available: 444.606 GB, Virtual Used: 058.589 GB, Swap Used: 000.067 GB\n",
      "      Loaded batch of size (18, 100, 800, 1008)\n",
      "      Loading /mnt/zortex-subjects/AH012/2024-05-17/1/2024-05-17_1_AH012_2P_00001_00014.tif\n",
      "   Completed rigid reg on batch in :3.3943634033203125s\n",
      "   Shifted the mov in: 0.9169619083404541s\n",
      "         After all GPU Batches:Total Used: 061.353 GB, Virtual Available: 441.910 GB, Virtual Used: 061.285 GB, Swap Used: 000.067 GB\n",
      "      Saving fused, registered file of shape (18, 100, 800, 1008) to /mnt/md0/runs/s3d-AH012_2024-05-17_1/registered_fused_data/fused_reg_data0002.npy\n",
      "         Saved in 1.14 sec\n",
      "         After full batch saving:Total Used: 058.641 GB, Virtual Available: 444.622 GB, Virtual Used: 058.574 GB, Swap Used: 000.067 GB\n",
      "         Memory at batch 3.  Total Used: 058.642 GB, Virtual Available: 444.621 GB, Virtual Used: 058.575 GB, Swap Used: 000.067 GB\n",
      "Loading Batch 3 of 4\n"
     ]
    },
    {
     "name": "stderr",
     "output_type": "stream",
     "text": [
      "Numba: Attempted to fork from a non-main thread, the TBB library may be in an invalid state in the child process.\n",
      "Numba: Attempted to fork from a non-main thread, the TBB library may be in an invalid state in the child process.\n",
      "Numba: Attempted to fork from a non-main thread, the TBB library may be in an invalid state in the child process.\n",
      "Numba: Attempted to fork from a non-main thread, the TBB library may be in an invalid state in the child process.\n",
      "Numba: Attempted to fork from a non-main thread, the TBB library may be in an invalid state in the child process.\n",
      "Numba: Attempted to fork from a non-main thread, the TBB library may be in an invalid state in the child process.\n",
      "Numba: Attempted to fork from a non-main thread, the TBB library may be in an invalid state in the child process.\n",
      "Numba: Attempted to fork from a non-main thread, the TBB library may be in an invalid state in the child process.\n",
      "Numba: Attempted to fork from a non-main thread, the TBB library may be in an invalid state in the child process.\n",
      "Numba: Attempted to fork from a non-main thread, the TBB library may be in an invalid state in the child process.\n",
      "Numba: Attempted to fork from a non-main thread, the TBB library may be in an invalid state in the child process.\n",
      "Numba: Attempted to fork from a non-main thread, the TBB library may be in an invalid state in the child process.\n",
      "Numba: Attempted to fork from a non-main thread, the TBB library may be in an invalid state in the child process.\n",
      "Numba: Attempted to fork from a non-main thread, the TBB library may be in an invalid state in the child process.\n",
      "Numba: Attempted to fork from a non-main thread, the TBB library may be in an invalid state in the child process.\n"
     ]
    },
    {
     "name": "stdout",
     "output_type": "stream",
     "text": [
      "   Loaded 1 files, total 2.70 GB\n",
      "               [Thread] Thread for batch 3 ready to join after 22.92 sec \n",
      "\n",
      "                  [Thread] After load 3 \n",
      "Total Used: 061.343 GB, Virtual Available: 441.920 GB, Virtual Used: 061.275 GB, Swap Used: 000.067 GB\n",
      "   Batch 3 IO thread joined\n",
      "         Memory after IO thread joinTotal Used: 061.343 GB, Virtual Available: 441.920 GB, Virtual Used: 061.275 GB, Swap Used: 000.067 GB\n",
      "         Memory after movie copied from threadTotal Used: 061.343 GB, Virtual Available: 441.920 GB, Virtual Used: 061.275 GB, Swap Used: 000.067 GB\n",
      "         Memory after thread memory clearedTotal Used: 058.630 GB, Virtual Available: 444.633 GB, Virtual Used: 058.563 GB, Swap Used: 000.067 GB\n",
      "   Launching IO thread for next batch\n",
      "               [Thread] Loading batch 4 \n",
      "\n",
      "         After IO thread launch:Total Used: 058.630 GB, Virtual Available: 444.633 GB, Virtual Used: 058.563 GB, Swap Used: 000.067 GB\n",
      "      Loaded batch of size (18, 100, 800, 1008)\n",
      "                  [Thread] Before load 4 \n",
      "Total Used: 058.630 GB, Virtual Available: 444.633 GB, Virtual Used: 058.563 GB, Swap Used: 000.067 GB\n",
      "      Loading /mnt/zortex-subjects/AH012/2024-05-17/1/2024-05-17_1_AH012_2P_00001_00015.tif\n",
      "   Completed rigid reg on batch in :3.3529648780822754s\n",
      "   Shifted the mov in: 0.8909602165222168s\n",
      "         After all GPU Batches:Total Used: 061.331 GB, Virtual Available: 441.932 GB, Virtual Used: 061.264 GB, Swap Used: 000.067 GB\n",
      "      Saving fused, registered file of shape (18, 100, 800, 1008) to /mnt/md0/runs/s3d-AH012_2024-05-17_1/registered_fused_data/fused_reg_data0003.npy\n",
      "         Saved in 1.16 sec\n",
      "         After full batch saving:Total Used: 058.623 GB, Virtual Available: 444.640 GB, Virtual Used: 058.555 GB, Swap Used: 000.067 GB\n",
      "         Memory at batch 4.  Total Used: 058.623 GB, Virtual Available: 444.640 GB, Virtual Used: 058.555 GB, Swap Used: 000.067 GB\n",
      "Loading Batch 4 of 4\n"
     ]
    },
    {
     "name": "stderr",
     "output_type": "stream",
     "text": [
      "Numba: Attempted to fork from a non-main thread, the TBB library may be in an invalid state in the child process.\n",
      "Numba: Attempted to fork from a non-main thread, the TBB library may be in an invalid state in the child process.\n",
      "Numba: Attempted to fork from a non-main thread, the TBB library may be in an invalid state in the child process.\n",
      "Numba: Attempted to fork from a non-main thread, the TBB library may be in an invalid state in the child process.\n",
      "Numba: Attempted to fork from a non-main thread, the TBB library may be in an invalid state in the child process.\n",
      "Numba: Attempted to fork from a non-main thread, the TBB library may be in an invalid state in the child process.\n",
      "Numba: Attempted to fork from a non-main thread, the TBB library may be in an invalid state in the child process.\n",
      "Numba: Attempted to fork from a non-main thread, the TBB library may be in an invalid state in the child process.\n",
      "Numba: Attempted to fork from a non-main thread, the TBB library may be in an invalid state in the child process.\n",
      "Numba: Attempted to fork from a non-main thread, the TBB library may be in an invalid state in the child process.\n",
      "Numba: Attempted to fork from a non-main thread, the TBB library may be in an invalid state in the child process.\n",
      "Numba: Attempted to fork from a non-main thread, the TBB library may be in an invalid state in the child process.\n",
      "Numba: Attempted to fork from a non-main thread, the TBB library may be in an invalid state in the child process.\n",
      "Numba: Attempted to fork from a non-main thread, the TBB library may be in an invalid state in the child process.\n",
      "Numba: Attempted to fork from a non-main thread, the TBB library may be in an invalid state in the child process.\n"
     ]
    },
    {
     "name": "stdout",
     "output_type": "stream",
     "text": [
      "   Loaded 1 files, total 2.70 GB\n",
      "               [Thread] Thread for batch 4 ready to join after 22.58 sec \n",
      "\n",
      "                  [Thread] After load 4 \n",
      "Total Used: 061.311 GB, Virtual Available: 441.952 GB, Virtual Used: 061.243 GB, Swap Used: 000.067 GB\n",
      "   Batch 4 IO thread joined\n",
      "         Memory after IO thread joinTotal Used: 061.311 GB, Virtual Available: 441.952 GB, Virtual Used: 061.243 GB, Swap Used: 000.067 GB\n",
      "         Memory after movie copied from threadTotal Used: 061.310 GB, Virtual Available: 441.953 GB, Virtual Used: 061.242 GB, Swap Used: 000.067 GB\n",
      "         Memory after thread memory clearedTotal Used: 058.600 GB, Virtual Available: 444.663 GB, Virtual Used: 058.533 GB, Swap Used: 000.067 GB\n",
      "      Loaded batch of size (18, 100, 800, 1008)\n",
      "   Completed rigid reg on batch in :3.3380930423736572s\n",
      "   Shifted the mov in: 0.8510715961456299s\n",
      "         After all GPU Batches:Total Used: 061.311 GB, Virtual Available: 441.951 GB, Virtual Used: 061.244 GB, Swap Used: 000.067 GB\n",
      "      Saving fused, registered file of shape (18, 100, 800, 1008) to /mnt/md0/runs/s3d-AH012_2024-05-17_1/registered_fused_data/fused_reg_data0004.npy\n",
      "         Saved in 1.14 sec\n",
      "         After full batch saving:Total Used: 058.602 GB, Virtual Available: 444.660 GB, Virtual Used: 058.535 GB, Swap Used: 000.067 GB\n"
     ]
    }
   ],
   "source": [
    "job.register_gpu_3d(tifs = job.tifs[10:15])"
   ]
  },
  {
   "cell_type": "code",
   "execution_count": 220,
   "id": "7c8ac55d",
   "metadata": {},
   "outputs": [],
   "source": [
    "job.params['sdnorm_exp'] = 0.8\n",
    "job.params['intensity_thresh'] = 0.0\n",
    "job.params['cell_filt_xy_um'] = 3.0\n",
    "job.params['npil_filt_xy_um'] = 10.0"
   ]
  },
  {
   "cell_type": "code",
   "execution_count": 222,
   "id": "e8c84b81",
   "metadata": {},
   "outputs": [
    {
     "name": "stdout",
     "output_type": "stream",
     "text": [
      "      Found dir /mnt/md0/runs/s3d-AH012_2024-05-17_1/corrmap\n",
      "      Updating self.dirs tag corrmap\n",
      "      Found dir /mnt/md0/runs/s3d-AH012_2024-05-17_1/mov_sub\n",
      "      Updating self.dirs tag mov_sub\n",
      "   Saved a copy of params at /mnt/md0/runs/s3d-AH012_2024-05-17_1/corrmap\n",
      "   Updated main params file\n",
      "   Computing correlation map of movie with 500 frames, volume shape: 18, 800, 1008\n",
      "      Running batch 1 of 3\n",
      "         Loading movie into shared memory\n",
      "         Subtracting neuropil and applying cell filters\n",
      "         Reducing filtered movie to compute correlation map\n",
      "      Running batch 2 of 3\n",
      "         Loading movie into shared memory\n",
      "         Subtracting neuropil and applying cell filters\n",
      "         Reducing filtered movie to compute correlation map\n",
      "      Running batch 3 of 3\n",
      "         Loading movie into shared memory\n",
      "         Subtracting neuropil and applying cell filters\n",
      "         Reducing filtered movie to compute correlation map\n"
     ]
    }
   ],
   "source": [
    "__ = job.calculate_corr_map()"
   ]
  },
  {
   "cell_type": "code",
   "execution_count": 223,
   "id": "7b712f2a",
   "metadata": {},
   "outputs": [],
   "source": [
    "results = job.load_corr_map_results()"
   ]
  },
  {
   "cell_type": "code",
   "execution_count": null,
   "id": "0634fe5d",
   "metadata": {},
   "outputs": [],
   "source": [
    "tfu.show_tif_all_planes(results['vmap'], vminmax_percentile=(20,100))"
   ]
  },
  {
   "cell_type": "code",
   "execution_count": 237,
   "id": "2b8de5ad",
   "metadata": {},
   "outputs": [
    {
     "ename": "KeyError",
     "evalue": "'params'",
     "output_type": "error",
     "traceback": [
      "\u001b[0;31m---------------------------------------------------------------------------\u001b[0m",
      "\u001b[0;31mKeyError\u001b[0m                                  Traceback (most recent call last)",
      "Cell \u001b[0;32mIn[237], line 1\u001b[0m\n\u001b[0;32m----> 1\u001b[0m \u001b[43msummary\u001b[49m\u001b[43m[\u001b[49m\u001b[38;5;124;43m'\u001b[39;49m\u001b[38;5;124;43mparams\u001b[39;49m\u001b[38;5;124;43m'\u001b[39;49m\u001b[43m]\u001b[49m\n",
      "\u001b[0;31mKeyError\u001b[0m: 'params'"
     ]
    }
   ],
   "source": [
    "summary"
   ]
  },
  {
   "cell_type": "code",
   "execution_count": null,
   "id": "6f38a95f",
   "metadata": {},
   "outputs": [],
   "source": []
  }
 ],
 "metadata": {
  "kernelspec": {
   "display_name": "Python [conda env:suite3d-gpu]",
   "language": "python",
   "name": "conda-env-suite3d-gpu-py"
  },
  "language_info": {
   "codemirror_mode": {
    "name": "ipython",
    "version": 3
   },
   "file_extension": ".py",
   "mimetype": "text/x-python",
   "name": "python",
   "nbconvert_exporter": "python",
   "pygments_lexer": "ipython3",
   "version": "3.8.18"
  }
 },
 "nbformat": 4,
 "nbformat_minor": 5
}
