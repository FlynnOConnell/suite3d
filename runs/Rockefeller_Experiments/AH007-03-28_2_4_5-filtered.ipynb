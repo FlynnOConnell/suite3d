{
 "cells": [
  {
   "cell_type": "code",
   "execution_count": 1,
   "id": "f57652f9",
   "metadata": {},
   "outputs": [],
   "source": [
    "%load_ext autoreload\n",
    "%autoreload 2\n",
    "\n",
    "import os \n",
    "import shutil\n",
    "import numpy as n\n",
    "from datetime import date\n",
    "from matplotlib import pyplot as plt\n",
    "import time\n",
    "import napari"
   ]
  },
  {
   "cell_type": "code",
   "execution_count": 2,
   "id": "1d4aca1f",
   "metadata": {},
   "outputs": [],
   "source": [
    "os.chdir('/home/ali/packages/s2p-lbm/')\n",
    "\n",
    "from suite3d.job import Job\n",
    "from suite3d import lbmio, utils, ui\n",
    "from suite3d import tiff_utils as tfu\n",
    "from suite3d import file_utils as flu"
   ]
  },
  {
   "cell_type": "code",
   "execution_count": 3,
   "id": "9f0d542b",
   "metadata": {},
   "outputs": [],
   "source": [
    "job_params = {\n",
    "    'subjects_dir' :   '/mnt/a2',\n",
    "    'subject' :        'AH007',\n",
    "    'date' :           '2022-03-28',\n",
    "    'expnum' :         [2,4,5],\n",
    "    'planes' :         n.arange(0,30),\n",
    "    \n",
    "    'notch_filt' :     {'f0' : 200, 'Q' : 5},\n",
    "    \n",
    "    'n_init_files' :   3,\n",
    "    'init_file_pool' : None,\n",
    "    'init_file_sample_method': 'random',\n",
    "    \n",
    "    'subtract_crosstalk' : True,\n",
    "    'override_crosstalk' : None,\n",
    "    'crosstalk_n_planes' : 10, \n",
    "    \n",
    "    'nonrigid' : True,\n",
    "    'smooth_sigma' : 1.15,\n",
    "    'maxregshift' : 0.15,\n",
    "    'reg_filter_pcorr' : 1,\n",
    "    'generate_sample_registered_bins' : False,\n",
    "\n",
    "    'dtype' : n.float32,\n",
    "    'tif_batch_size' : 1,\n",
    "}\n",
    "\n"
   ]
  },
  {
   "cell_type": "code",
   "execution_count": 4,
   "id": "3abb8db3",
   "metadata": {
    "scrolled": true
   },
   "outputs": [
    {
     "name": "stdout",
     "output_type": "stream",
     "text": [
      "SI ROI pix count in x is 182, which is impossible, setting it to 145\n"
     ]
    }
   ],
   "source": [
    "tifs, si_params, exp_str = flu.find_exp(job_params['subjects_dir'], job_params['subject'],\n",
    "                                        job_params['date'], job_params['expnum'])"
   ]
  },
  {
   "cell_type": "code",
   "execution_count": 5,
   "id": "2b3e38e5",
   "metadata": {},
   "outputs": [],
   "source": [
    "job_params['fs'] = si_params['vol_rate']\n",
    "job_params['notch_filt']['line_freq'] = si_params['line_freq']"
   ]
  },
  {
   "cell_type": "code",
   "execution_count": 6,
   "id": "d26af3ea",
   "metadata": {},
   "outputs": [],
   "source": [
    "# job.save_frame_counts()"
   ]
  },
  {
   "cell_type": "code",
   "execution_count": 7,
   "id": "b56bc732",
   "metadata": {
    "scrolled": true
   },
   "outputs": [],
   "source": [
    "# tifs_nofilt = lbmio.load_and_stitch_tifs(job.tifs[:2], planes = n.arange(10),filt=None)\n",
    "\n",
    "# tifs_filt = lbmio.load_and_stitch_tifs(job.tifs[:2], planes=n.arange(10), filt = job_params['notch_filt'])\n",
    "\n",
    "# v = napari.view_image(tifs_nofilt, name='no filt')\n",
    "# v.add_image(tifs_filt, name='filt')"
   ]
  },
  {
   "cell_type": "code",
   "execution_count": 8,
   "id": "e02910a1",
   "metadata": {},
   "outputs": [
    {
     "name": "stdout",
     "output_type": "stream",
     "text": [
      "   Found and loaded params from /mnt/md0/runs/s3d-AH007_2022-03-28_2-4-5-filtered/params.npy\n"
     ]
    }
   ],
   "source": [
    "# Create the job\n",
    "job = Job('/mnt/md0/runs',exp_str + '-filtered', tifs = tifs,\n",
    "          params=job_params, create=False, overwrite=False, verbosity = 3)"
   ]
  },
  {
   "cell_type": "code",
   "execution_count": 9,
   "id": "4969f94e",
   "metadata": {},
   "outputs": [],
   "source": [
    "# optional parameters for initialization\n",
    "# load 1 file to initialize, and select 200 frames randomly to do initalization on\n",
    "job.params['n_init_files'] = 3\n",
    "job.params['init_n_frames'] = None\n"
   ]
  },
  {
   "cell_type": "code",
   "execution_count": 10,
   "id": "c5310b6e",
   "metadata": {
    "scrolled": false
   },
   "outputs": [],
   "source": [
    "# %%time\n",
    "# summary = job.run_init_pass()"
   ]
  },
  {
   "cell_type": "code",
   "execution_count": 11,
   "id": "d45d99a0",
   "metadata": {},
   "outputs": [],
   "source": [
    "# split the large tiffs into files of size 100 after registration\n",
    "job.params['split_tif_size'] = 100"
   ]
  },
  {
   "cell_type": "code",
   "execution_count": 12,
   "id": "e465e68a",
   "metadata": {
    "scrolled": true
   },
   "outputs": [],
   "source": [
    "# %%time\n",
    "# # job.register_gpu()"
   ]
  },
  {
   "cell_type": "code",
   "execution_count": 13,
   "id": "1729a0af",
   "metadata": {},
   "outputs": [],
   "source": [
    "mov_full = job.get_registered_movie('registered_fused_data', 'fused')\n",
    "# im_full = mov_full[:,:200].mean(axis=1).compute()"
   ]
  },
  {
   "cell_type": "code",
   "execution_count": 14,
   "id": "2dfa3ff8",
   "metadata": {},
   "outputs": [],
   "source": [
    "# find crop values that minimize dark zones - check planes 0 and 15 in the following cell to \n",
    "# make sure you're not cutting out parts of the brain\n",
    "crop = ((0,18), (100,1100), (50, 900))"
   ]
  },
  {
   "cell_type": "code",
   "execution_count": 15,
   "id": "b0395ad4",
   "metadata": {},
   "outputs": [],
   "source": [
    "# number of SVD components to use when calculating the correlation map\n",
    "# lower number means more denoising, but if it's too low you will start losing cells!\n",
    "# This can't be larger than the number of svd components you used in the decomposition above\n",
    "job.params['n_svd_comp'] = 50\n",
    "\n",
    "# spatial filter sizes for neuropil subtraction, and cell detection\n",
    "# npil_filt is a low_pass filter that attempts to remove any features larger than the filter size (neuropil!)\n",
    "# conv_filt_xy is a high_pass filter that amplifies any features that are smaller than ~2x the filter size (cells!)\n",
    "# these values worked well for me with ~4um xy pixel spacing and ~15 um z pixel spacing, for detecting mouse somata\n",
    "# When you change resolution, or if you're trying to detect smaller things, you will need to adjust these values\n",
    "# because the units here are _pixels_, not microns!\n",
    "job.params['conv_filt_type'] = 'gaussian'\n",
    "job.params['conv_filt_xy'] = 1.0\n",
    "job.params['conv_filt_z'] = 1.0\n",
    "job.params['npil_filt_type'] = 'unif'\n",
    "job.params['npil_filt_xy'] = 8.0\n",
    "job.params['npil_filt_z']=  1.5\n",
    "\n",
    "# normalization exponent, should be around 1. \n",
    "# If you find blood vessels or the background being too bright in the correlation map, reduce it to ~0.7-0.8! \n",
    "job.params['sdnorm_exp']= 0.8\n",
    "\n",
    "# threshold applied to the normalized, filtered movie before it is accumulated into the correlation map\n",
    "# if you increase it, the background will become darker (which is good!), however at some point you will\n",
    "# start excluding dimmer cells (which is bad!)\n",
    "job.params['intensity_thresh'] : 0.4\n",
    "\n",
    "## Compute parameters \n",
    "# number of frames to compute at one iteration \n",
    "# (any value above ~100-200 shouldn't affect results, \n",
    "# decrease if you have RAM issues or if SVD reconstruction gets stuck on \"Sending all blocks to dask to compute\")\n",
    "job.params['t_batch_size'] = 300\n",
    "# number of processors to use when calculating the correlation map\n",
    "job.params['n_proc_corr'] = 70\n",
    "# number of frames per smaller batch within the batch, should be ~t_batch_size / n_proc_corr, but above ~5\n",
    "job.params['mproc_batchsize'] = 5\n"
   ]
  },
  {
   "cell_type": "code",
   "execution_count": 16,
   "id": "2c83e44b",
   "metadata": {},
   "outputs": [],
   "source": [
    "mov_crop = mov_full[crop[0][0]:crop[0][1], :, crop[1][0]:crop[1][1], crop[2][0]:crop[2][1]]"
   ]
  },
  {
   "cell_type": "code",
   "execution_count": 18,
   "id": "0bbccacf",
   "metadata": {},
   "outputs": [
    {
     "name": "stdout",
     "output_type": "stream",
     "text": [
      "      Found dir /mnt/md0/runs/s3d-AH007_2022-03-28_2-4-5-filtered/retinotopy_data with tag retinotopy_data\n"
     ]
    }
   ],
   "source": [
    "# save clips from retinotopy for analysis later\n",
    "retinotopy_dir = job.make_new_dir('retinotopy_data')\n",
    "t0, t1 = job.get_exp_frame_idxs(4)\n",
    "# for plane_idx in (0,5,10):\n",
    "#     mov_save = mov_crop[plane_idx,t0:t1].compute()\n",
    "#     n.save(os.path.join(retinotopy_dir, 'plane_%02d.npy' % plane_idx), mov_save)\n",
    "#     print(\"Saved\")"
   ]
  },
  {
   "cell_type": "code",
   "execution_count": 21,
   "id": "64590214",
   "metadata": {},
   "outputs": [],
   "source": [
    "mov_mean = mov_crop[:13][:,t0:t1].mean(axis=0)"
   ]
  },
  {
   "cell_type": "code",
   "execution_count": 22,
   "id": "f727b52c",
   "metadata": {},
   "outputs": [],
   "source": [
    "xx = mov_mean.compute()"
   ]
  },
  {
   "cell_type": "code",
   "execution_count": 23,
   "id": "b6495c61",
   "metadata": {},
   "outputs": [],
   "source": [
    "n.save(os.path.join(retinotopy_dir, 'plane_mean.npy'), xx)"
   ]
  },
  {
   "cell_type": "code",
   "execution_count": 20,
   "id": "891e8d98",
   "metadata": {},
   "outputs": [
    {
     "data": {
      "text/html": [
       "<table>\n",
       "    <tr>\n",
       "        <td>\n",
       "            <table style=\"border-collapse: collapse;\">\n",
       "                <thead>\n",
       "                    <tr>\n",
       "                        <td> </td>\n",
       "                        <th> Array </th>\n",
       "                        <th> Chunk </th>\n",
       "                    </tr>\n",
       "                </thead>\n",
       "                <tbody>\n",
       "                    \n",
       "                    <tr>\n",
       "                        <th> Bytes </th>\n",
       "                        <td> 32.28 GiB </td>\n",
       "                        <td> 324.25 MiB </td>\n",
       "                    </tr>\n",
       "                    \n",
       "                    <tr>\n",
       "                        <th> Shape </th>\n",
       "                        <td> (10194, 1000, 850) </td>\n",
       "                        <td> (100, 1000, 850) </td>\n",
       "                    </tr>\n",
       "                    <tr>\n",
       "                        <th> Dask graph </th>\n",
       "                        <td colspan=\"2\"> 103 chunks in 5 graph layers </td>\n",
       "                    </tr>\n",
       "                    <tr>\n",
       "                        <th> Data type </th>\n",
       "                        <td colspan=\"2\"> float32 numpy.ndarray </td>\n",
       "                    </tr>\n",
       "                </tbody>\n",
       "            </table>\n",
       "        </td>\n",
       "        <td>\n",
       "        <svg width=\"168\" height=\"159\" style=\"stroke:rgb(0,0,0);stroke-width:1\" >\n",
       "\n",
       "  <!-- Horizontal lines -->\n",
       "  <line x1=\"10\" y1=\"0\" x2=\"80\" y2=\"70\" style=\"stroke-width:2\" />\n",
       "  <line x1=\"10\" y1=\"38\" x2=\"80\" y2=\"109\" style=\"stroke-width:2\" />\n",
       "\n",
       "  <!-- Vertical lines -->\n",
       "  <line x1=\"10\" y1=\"0\" x2=\"10\" y2=\"38\" style=\"stroke-width:2\" />\n",
       "  <line x1=\"12\" y1=\"2\" x2=\"12\" y2=\"41\" />\n",
       "  <line x1=\"16\" y1=\"6\" x2=\"16\" y2=\"44\" />\n",
       "  <line x1=\"20\" y1=\"10\" x2=\"20\" y2=\"49\" />\n",
       "  <line x1=\"24\" y1=\"14\" x2=\"24\" y2=\"52\" />\n",
       "  <line x1=\"28\" y1=\"18\" x2=\"28\" y2=\"56\" />\n",
       "  <line x1=\"31\" y1=\"21\" x2=\"31\" y2=\"60\" />\n",
       "  <line x1=\"35\" y1=\"25\" x2=\"35\" y2=\"63\" />\n",
       "  <line x1=\"39\" y1=\"29\" x2=\"39\" y2=\"67\" />\n",
       "  <line x1=\"42\" y1=\"32\" x2=\"42\" y2=\"71\" />\n",
       "  <line x1=\"46\" y1=\"36\" x2=\"46\" y2=\"75\" />\n",
       "  <line x1=\"50\" y1=\"40\" x2=\"50\" y2=\"78\" />\n",
       "  <line x1=\"54\" y1=\"44\" x2=\"54\" y2=\"82\" />\n",
       "  <line x1=\"57\" y1=\"47\" x2=\"57\" y2=\"86\" />\n",
       "  <line x1=\"61\" y1=\"51\" x2=\"61\" y2=\"89\" />\n",
       "  <line x1=\"65\" y1=\"55\" x2=\"65\" y2=\"93\" />\n",
       "  <line x1=\"68\" y1=\"58\" x2=\"68\" y2=\"97\" />\n",
       "  <line x1=\"73\" y1=\"63\" x2=\"73\" y2=\"101\" />\n",
       "  <line x1=\"76\" y1=\"66\" x2=\"76\" y2=\"105\" />\n",
       "  <line x1=\"80\" y1=\"70\" x2=\"80\" y2=\"109\" style=\"stroke-width:2\" />\n",
       "\n",
       "  <!-- Colored Rectangle -->\n",
       "  <polygon points=\"10.0,0.0 80.58823529411765,70.58823529411765 80.58823529411765,109.0783405158368 10.0,38.49010522171915\" style=\"fill:#8B4903A0;stroke-width:0\"/>\n",
       "\n",
       "  <!-- Horizontal lines -->\n",
       "  <line x1=\"10\" y1=\"0\" x2=\"47\" y2=\"0\" style=\"stroke-width:2\" />\n",
       "  <line x1=\"12\" y1=\"2\" x2=\"50\" y2=\"2\" />\n",
       "  <line x1=\"16\" y1=\"6\" x2=\"53\" y2=\"6\" />\n",
       "  <line x1=\"20\" y1=\"10\" x2=\"58\" y2=\"10\" />\n",
       "  <line x1=\"24\" y1=\"14\" x2=\"61\" y2=\"14\" />\n",
       "  <line x1=\"28\" y1=\"18\" x2=\"65\" y2=\"18\" />\n",
       "  <line x1=\"31\" y1=\"21\" x2=\"69\" y2=\"21\" />\n",
       "  <line x1=\"35\" y1=\"25\" x2=\"72\" y2=\"25\" />\n",
       "  <line x1=\"39\" y1=\"29\" x2=\"76\" y2=\"29\" />\n",
       "  <line x1=\"42\" y1=\"32\" x2=\"80\" y2=\"32\" />\n",
       "  <line x1=\"46\" y1=\"36\" x2=\"84\" y2=\"36\" />\n",
       "  <line x1=\"50\" y1=\"40\" x2=\"87\" y2=\"40\" />\n",
       "  <line x1=\"54\" y1=\"44\" x2=\"92\" y2=\"44\" />\n",
       "  <line x1=\"57\" y1=\"47\" x2=\"95\" y2=\"47\" />\n",
       "  <line x1=\"61\" y1=\"51\" x2=\"98\" y2=\"51\" />\n",
       "  <line x1=\"65\" y1=\"55\" x2=\"103\" y2=\"55\" />\n",
       "  <line x1=\"68\" y1=\"58\" x2=\"106\" y2=\"58\" />\n",
       "  <line x1=\"73\" y1=\"63\" x2=\"110\" y2=\"63\" />\n",
       "  <line x1=\"76\" y1=\"66\" x2=\"114\" y2=\"66\" />\n",
       "  <line x1=\"80\" y1=\"70\" x2=\"118\" y2=\"70\" style=\"stroke-width:2\" />\n",
       "\n",
       "  <!-- Vertical lines -->\n",
       "  <line x1=\"10\" y1=\"0\" x2=\"80\" y2=\"70\" style=\"stroke-width:2\" />\n",
       "  <line x1=\"47\" y1=\"0\" x2=\"118\" y2=\"70\" style=\"stroke-width:2\" />\n",
       "\n",
       "  <!-- Colored Rectangle -->\n",
       "  <polygon points=\"10.0,0.0 47.56698905104601,0.0 118.15522434516366,70.58823529411765 80.58823529411765,70.58823529411765\" style=\"fill:#8B4903A0;stroke-width:0\"/>\n",
       "\n",
       "  <!-- Horizontal lines -->\n",
       "  <line x1=\"80\" y1=\"70\" x2=\"118\" y2=\"70\" style=\"stroke-width:2\" />\n",
       "  <line x1=\"80\" y1=\"109\" x2=\"118\" y2=\"109\" style=\"stroke-width:2\" />\n",
       "\n",
       "  <!-- Vertical lines -->\n",
       "  <line x1=\"80\" y1=\"70\" x2=\"80\" y2=\"109\" style=\"stroke-width:2\" />\n",
       "  <line x1=\"118\" y1=\"70\" x2=\"118\" y2=\"109\" style=\"stroke-width:2\" />\n",
       "\n",
       "  <!-- Colored Rectangle -->\n",
       "  <polygon points=\"80.58823529411765,70.58823529411765 118.15522434516366,70.58823529411765 118.15522434516366,109.0783405158368 80.58823529411765,109.0783405158368\" style=\"fill:#ECB172A0;stroke-width:0\"/>\n",
       "\n",
       "  <!-- Text -->\n",
       "  <text x=\"99.371730\" y=\"129.078341\" font-size=\"1.0rem\" font-weight=\"100\" text-anchor=\"middle\" >850</text>\n",
       "  <text x=\"138.155224\" y=\"89.833288\" font-size=\"1.0rem\" font-weight=\"100\" text-anchor=\"middle\" transform=\"rotate(-90,138.155224,89.833288)\">1000</text>\n",
       "  <text x=\"35.294118\" y=\"93.784223\" font-size=\"1.0rem\" font-weight=\"100\" text-anchor=\"middle\" transform=\"rotate(45,35.294118,93.784223)\">10194</text>\n",
       "</svg>\n",
       "        </td>\n",
       "    </tr>\n",
       "</table>"
      ],
      "text/plain": [
       "dask.array<mean_agg-aggregate, shape=(10194, 1000, 850), dtype=float32, chunksize=(100, 1000, 850), chunktype=numpy.ndarray>"
      ]
     },
     "execution_count": 20,
     "metadata": {},
     "output_type": "execute_result"
    }
   ],
   "source": []
  },
  {
   "cell_type": "code",
   "execution_count": 41,
   "id": "76a6eff4",
   "metadata": {},
   "outputs": [
    {
     "data": {
      "text/plain": [
       "(18, 10194, 1000, 850)"
      ]
     },
     "execution_count": 41,
     "metadata": {},
     "output_type": "execute_result"
    }
   ],
   "source": [
    "mov_crop.shape"
   ]
  },
  {
   "cell_type": "code",
   "execution_count": 15,
   "id": "cdd052c3",
   "metadata": {},
   "outputs": [
    {
     "name": "stdout",
     "output_type": "stream",
     "text": [
      "CPU times: user 1 µs, sys: 1 µs, total: 2 µs\n",
      "Wall time: 3.1 µs\n"
     ]
    }
   ],
   "source": [
    "%%time\n",
    "# uncomment below to load svd_info for and svd you did earlier if you are re-running this notebook\n",
    "# svd_info = n.load(os.path.join(job.dirs['svd_cropped'], 'svd_info.npy'), allow_pickle=True).item()\n",
    "# (vmap, mean_img, max_img), __, __ = job.calculate_corr_map(mov = mov_crop)"
   ]
  },
  {
   "cell_type": "code",
   "execution_count": null,
   "id": "99e35ce2",
   "metadata": {},
   "outputs": [],
   "source": []
  },
  {
   "cell_type": "code",
   "execution_count": 17,
   "id": "93d11fdb",
   "metadata": {},
   "outputs": [],
   "source": [
    "# # Pick the parameters you want to sweep, and enter them in the tuples.\n",
    "# # It will do all combinations of parameters, so if you have many parameters it will be many combinations! \n",
    "# job.params['t_batch_size'] = 300\n",
    "# params_to_sweep = {\n",
    "#     'intensity_thresh' : (0.25, 0.4),\n",
    "#     'n_svd_comp' : (50,), # if you have multiple values here, make sure you pass mov=svd_info\n",
    "#     'conv_filt_xy': (0.7,1.0,),\n",
    "#     'npil_filt_xy': (3.0,5.0,8.0),\n",
    "#     'conv_filt_z' : (1.0,1.5),\n",
    "#     'npil_filt_z' : (1.0,1.5,),\n",
    "#     'sdnorm_exp' : (0.8, 1.0)\n",
    "# }\n",
    "\n",
    "# sweep_summary = job.sweep_params(params_to_sweep, mov = mov_crop,testing_dir_tag='sweep-nosvd',\n",
    "#                            do_vmap=True, all_combinations=True, n_test_iters = 1)\n",
    "# # use this to access older sweep results\n",
    "# # sweep_summary = n.load(os.path.join(job.dirs['sweep-full'], 'sweep_summary.npy'),allow_pickle=True).item()\n",
    "# job.vis_vmap_sweep(sweep_summary)"
   ]
  },
  {
   "cell_type": "code",
   "execution_count": 17,
   "id": "e7ec06f3",
   "metadata": {},
   "outputs": [
    {
     "name": "stdout",
     "output_type": "stream",
     "text": [
      "   Loading from /mnt/md0/runs/s3d-AH007_2022-03-28_2-4-5-filtered/iters/batch0033\n"
     ]
    }
   ],
   "source": [
    "vmap = job.load_iter_results(-1)['vmap']"
   ]
  },
  {
   "cell_type": "code",
   "execution_count": 19,
   "id": "675bd445",
   "metadata": {
    "scrolled": true
   },
   "outputs": [
    {
     "name": "stdout",
     "output_type": "stream",
     "text": [
      "CPU times: user 2 µs, sys: 4 µs, total: 6 µs\n",
      "Wall time: 9.06 µs\n"
     ]
    }
   ],
   "source": [
    "%%time\n",
    "job.params['detection_timebin'] = 1 \n",
    "job.params['detection_time_crop'] = (None,None)\n",
    "job.params['max_pix'] = 250\n",
    "job.params['peak_thresh'] = 27.0\n",
    "\n",
    "job.params['activity_thresh'] = 10.0\n",
    "job.params['percentile'] = 99.5\n",
    "job.params['extend_thresh'] = 0.15\n",
    "job.params['max_iter'] = 10000 # maximum number of ROIs detected in given patch\n",
    "# combined_dir = job.patch_and_detect(combined_name='combined-full')"
   ]
  },
  {
   "cell_type": "code",
   "execution_count": 20,
   "id": "d53f033a",
   "metadata": {},
   "outputs": [],
   "source": [
    "# job.compute_npil_masks(combined_dir)"
   ]
  },
  {
   "cell_type": "code",
   "execution_count": 21,
   "id": "237232ac",
   "metadata": {},
   "outputs": [],
   "source": [
    "# traces = job.extract_and_deconvolve(stats_dir = combined_dir, mov=mov_crop, crop=False)"
   ]
  },
  {
   "cell_type": "code",
   "execution_count": 23,
   "id": "4ab6ab91",
   "metadata": {},
   "outputs": [],
   "source": [
    "combined_dir = job.dirs['detection-combined-full']"
   ]
  },
  {
   "cell_type": "code",
   "execution_count": 26,
   "id": "54228e6f",
   "metadata": {},
   "outputs": [
    {
     "data": {
      "text/plain": [
       "(18, 10194, 1000, 850)"
      ]
     },
     "execution_count": 26,
     "metadata": {},
     "output_type": "execute_result"
    }
   ],
   "source": [
    "mov_crop.shape"
   ]
  },
  {
   "cell_type": "code",
   "execution_count": 30,
   "id": "e0aa6cec",
   "metadata": {},
   "outputs": [],
   "source": [
    "mov_sample = mov_crop[:,:200].compute()"
   ]
  },
  {
   "cell_type": "code",
   "execution_count": 31,
   "id": "7df73739",
   "metadata": {},
   "outputs": [
    {
     "data": {
      "text/plain": [
       "Viewer(camera=Camera(center=(0.0, 499.5, 424.5), zoom=1.0495015384615385, angles=(0.0, 0.0, 90.0), perspective=0.0, mouse_pan=True, mouse_zoom=True), cursor=Cursor(position=(8.0, 99.0, 0.0, 0.0), scaled=True, size=1, style=<CursorStyle.STANDARD: 'standard'>), dims=Dims(ndim=4, ndisplay=2, last_used=0, range=((0.0, 18.0, 1.0), (0.0, 200.0, 1.0), (0.0, 1000.0, 1.0), (0.0, 850.0, 1.0)), current_step=(8, 99, 499, 424), order=(0, 1, 2, 3), axis_labels=('0', '1', '2', '3')), grid=GridCanvas(stride=1, shape=(-1, -1), enabled=False), layers=[<Image layer 'mov_sample' at 0x7f6a7d3189a0>], help='use <2> for transform', status='Ready', tooltip=Tooltip(visible=False, text=''), theme='dark', title='napari', mouse_over_canvas=False, mouse_move_callbacks=[], mouse_drag_callbacks=[], mouse_double_click_callbacks=[], mouse_wheel_callbacks=[<function dims_scroll at 0x7f6df17e75e0>], _persisted_mouse_event={}, _mouse_drag_gen={}, _mouse_wheel_gen={}, keymap={})"
      ]
     },
     "execution_count": 31,
     "metadata": {},
     "output_type": "execute_result"
    }
   ],
   "source": [
    "napari.view_image(mov_sample)"
   ]
  },
  {
   "cell_type": "code",
   "execution_count": 25,
   "id": "d8cb8c7b",
   "metadata": {},
   "outputs": [
    {
     "name": "stdout",
     "output_type": "stream",
     "text": [
      "Found old curated iscell with 60744 of 60745 marked as cells\n",
      "Saving old iscell_curated to backup path /mnt/md0/runs/s3d-AH007_2022-03-28_2-4-5-filtered/detection/combined-full/iscell_curated_old_25-10-23_11-36-01.npy\n",
      "Cells\n",
      "Found old curated + slider-ed iscell with 60744 of 60745 marked as cells\n",
      "Saving old iscell_curated to backup path /mnt/md0/runs/s3d-AH007_2022-03-28_2-4-5-filtered/detection/combined-full/iscell_curated_slider_old_25-10-23_11-36-02.npy\n",
      "('vmap_peak', (27.000048, 31.11153259277344), 'peak_val', <function add_curation_sliders.<locals>.<lambda> at 0x7f6a93b6e820>)\n",
      "50421, 50421 cells valid\n",
      "Cells\n",
      "32734, 32734 cells valid\n",
      "Cells\n",
      "Updating cell 6074\n",
      "32733, 32733 cells valid\n",
      "Cells\n",
      "Updating cell 6131\n",
      "32732, 32732 cells valid\n",
      "Cells\n",
      "Updating cell 6398\n",
      "32731, 32731 cells valid\n",
      "Cells\n",
      "Updating cell 10139\n",
      "32730, 32730 cells valid\n",
      "Cells\n",
      "Updating cell 11105\n",
      "32729, 32729 cells valid\n",
      "Cells\n",
      "Updating cell 10642\n",
      "32728, 32728 cells valid\n",
      "Cells\n",
      "Updating cell 17194\n",
      "32727, 32727 cells valid\n",
      "Cells\n",
      "Updating cell 17124\n",
      "32726, 32726 cells valid\n",
      "Cells\n",
      "Updating cell 10675\n",
      "32725, 32725 cells valid\n",
      "Cells\n",
      "Updating cell 10272\n",
      "32724, 32724 cells valid\n",
      "Cells\n",
      "Updating cell 17145\n",
      "32723, 32723 cells valid\n",
      "Cells\n",
      "Updating cell 17332\n",
      "32722, 32722 cells valid\n",
      "Cells\n",
      "Updating cell 17278\n",
      "32721, 32721 cells valid\n",
      "Cells\n",
      "Updating cell 17350\n",
      "32720, 32720 cells valid\n",
      "Cells\n",
      "Updating cell 17367\n",
      "32719, 32719 cells valid\n",
      "Cells\n",
      "Updating cell 17378\n",
      "32718, 32718 cells valid\n",
      "Cells\n",
      "Updating cell 17313\n",
      "32717, 32717 cells valid\n",
      "Cells\n",
      "Updating cell 17337\n",
      "32716, 32716 cells valid\n",
      "Cells\n",
      "Updating cell 25706\n",
      "32715, 32715 cells valid\n",
      "Cells\n",
      "Updating cell 25874\n",
      "32714, 32714 cells valid\n",
      "Cells\n",
      "Updating cell 25797\n",
      "32713, 32713 cells valid\n",
      "Cells\n",
      "Updating cell 25797\n",
      "32714, 32714 cells valid\n",
      "Cells\n",
      "37551, 37551 cells valid\n",
      "Cells\n",
      "31397, 31397 cells valid\n",
      "Cells\n",
      "31395, 31395 cells valid\n",
      "Cells\n",
      "Updating cell 57528\n",
      "31394, 31394 cells valid\n",
      "Cells\n",
      "31394, 31394 cells valid\n",
      "Cells\n",
      "31394, 31394 cells valid\n",
      "Cells\n"
     ]
    }
   ],
   "source": [
    "outputs = ui.load_outputs(combined_dir, load_traces=True)\n",
    "v,layers = ui.create_ui(outputs)\n",
    "ui.add_callbacks_to_ui(v,layers,outputs,savedir=combined_dir)"
   ]
  },
  {
   "cell_type": "code",
   "execution_count": null,
   "id": "23fb44ed",
   "metadata": {},
   "outputs": [],
   "source": []
  },
  {
   "cell_type": "code",
   "execution_count": null,
   "id": "cb0c047e",
   "metadata": {},
   "outputs": [],
   "source": []
  }
 ],
 "metadata": {
  "kernelspec": {
   "display_name": "Python [conda env:suite3d-gpu]",
   "language": "python",
   "name": "conda-env-suite3d-gpu-py"
  },
  "language_info": {
   "codemirror_mode": {
    "name": "ipython",
    "version": 3
   },
   "file_extension": ".py",
   "mimetype": "text/x-python",
   "name": "python",
   "nbconvert_exporter": "python",
   "pygments_lexer": "ipython3",
   "version": "3.8.18"
  }
 },
 "nbformat": 4,
 "nbformat_minor": 5
}
