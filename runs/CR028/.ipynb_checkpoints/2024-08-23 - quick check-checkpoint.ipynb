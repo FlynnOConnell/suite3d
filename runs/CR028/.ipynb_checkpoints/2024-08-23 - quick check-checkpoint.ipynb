{
 "cells": [
  {
   "cell_type": "code",
   "execution_count": 2,
   "id": "f57652f9",
   "metadata": {},
   "outputs": [],
   "source": [
    "%load_ext autoreload\n",
    "%autoreload 2\n",
    "\n",
    "import os \n",
    "import shutil\n",
    "import numpy as n\n",
    "from datetime import date\n",
    "from matplotlib import pyplot as plt\n",
    "import time\n",
    "import napari"
   ]
  },
  {
   "cell_type": "code",
   "execution_count": 3,
   "id": "1d4aca1f",
   "metadata": {},
   "outputs": [],
   "source": [
    "os.chdir('/home/ali/packages/s2p-lbm/')\n",
    "\n",
    "from suite3d.job import Job\n",
    "from suite3d import lbmio, utils, ui\n",
    "from suite3d import tiff_utils as tfu\n",
    "from suite3d import file_utils as flu"
   ]
  },
  {
   "cell_type": "code",
   "execution_count": 4,
   "id": "b49daef7-1c10-45df-a9c6-0ee17b03a01a",
   "metadata": {},
   "outputs": [],
   "source": [
    "subjects_dir =   '/mnt/zortex-subjects/'\n",
    "expt_info = { \n",
    "    'subject':         'CR028',\n",
    "    'date' :          '2024-08-23',\n",
    "    'expnum' :         [7],}\n",
    "\n",
    "tifs, si_params, exp_str = flu.find_exp(subjects_dir, **expt_info, verbose=False)\n",
    "\n",
    "job_params = {    \n",
    "    # number of channels recorded in the tiff file, typically 30\n",
    "    'n_ch_tif' : 26,\n",
    "    # number of planes in the deeper cavity, typically 15\n",
    "    'cavity_size' : 13,\n",
    "    # convert from the Scanimage channel ordering to deep-to-shallow ordering\n",
    "    # in our case, ScanImage channel numbers are in temporal order. \n",
    "    'planes' : n.array([ 0,  2,  4,  6,  8, 10, 12, 14,\n",
    "                        16, 18, 20, 22, 24, 1,  3, 5,  7,9,11, 13, 15,17,19,21]),\n",
    "    # number of files to use for the initial pass\n",
    "    'n_init_files' :   4,\n",
    "    \n",
    "    # number of pixels to fuse between the ROI strips\n",
    "    # the auto-detection doesn't always work well, recommend \n",
    "    # manually tuning it to reduce the stitching artifacts\n",
    "    'fuse_shift_override' : 6,\n",
    "    \n",
    "    # will try to automatically estimate crosstalk using \n",
    "    # the shallowest crosstalk_n_planes planes. if you want to override,\n",
    "    # set override_crosstalk = float between 0 and 1\n",
    "    'subtract_crosstalk' : True,\n",
    "    \n",
    "    # volume rate in acquisition\n",
    "    'fs' : flu.get_si_params(tifs[0])['vol_rate'],\n",
    "    \n",
    "    # 3D GPU registration - fast! \n",
    "    # for now, 3D + GPU are well-tested, other options might have minor bugs\n",
    "    # if you run into them, let us know! we'll fix them\n",
    "    '3d_reg' : False,\n",
    "    'use_GPU_registration' : True,\n",
    "}"
   ]
  },
  {
   "cell_type": "code",
   "execution_count": 5,
   "id": "5f9f1d50",
   "metadata": {},
   "outputs": [],
   "source": [
    "\n",
    "job_params['fs'] = si_params['vol_rate']\n",
    "\n",
    "savedir = os.path.join('/mnt/md0/runs', expt_info['subject'], expt_info['date'])\n",
    "os.makedirs(savedir, exist_ok=True)"
   ]
  },
  {
   "cell_type": "code",
   "execution_count": 7,
   "id": "e02910a1",
   "metadata": {},
   "outputs": [
    {
     "name": "stdout",
     "output_type": "stream",
     "text": [
      "Loading job directory for CR028_2024-08-23_7 in /mnt/md0/runs\n",
      "      Created dir /mnt/md0/runs/s3d-CR028_2024-08-23_7/registered_fused_data\n",
      "      Created dir /mnt/md0/runs/s3d-CR028_2024-08-23_7/summary\n",
      "      Created dir /mnt/md0/runs/s3d-CR028_2024-08-23_7/iters\n",
      "   Loading default params\n",
      "      Updating param n_ch_tif\n",
      "      Updating param cavity_size\n",
      "      Updating param planes\n",
      "      Updating param n_init_files\n",
      "      Updating param fuse_shift_override\n",
      "      Updating param subtract_crosstalk\n",
      "      Updating param fs\n",
      "      Updating param 3d_reg\n",
      "      Updating param use_GPU_registration\n",
      "   Updated main params file\n"
     ]
    }
   ],
   "source": [
    "# Create the job\n",
    "job = Job('/mnt/md0/runs',exp_str, tifs = tifs,\n",
    "          params=job_params, create=True, overwrite=False, verbosity = 3)"
   ]
  },
  {
   "cell_type": "code",
   "execution_count": 8,
   "id": "4969f94e",
   "metadata": {},
   "outputs": [],
   "source": [
    "# optional parameters for initialization\n",
    "# load 1 file to initialize, and select 200 frames randomly to do initalization on\n",
    "job.params['n_init_files'] = 4\n",
    "job.params['init_n_frames'] = None\n",
    "job.params['init_file_sample_method'] = 'even'\n",
    "job.params['voxel_size_um'] = (20, 3.3, 3.3)"
   ]
  },
  {
   "cell_type": "code",
   "execution_count": null,
   "id": "36a3203f-1a7d-4538-8faa-86e85dc8eeec",
   "metadata": {},
   "outputs": [],
   "source": [
    "lbmio.load_and_stitch_tifs(job.tifs[:1], planes = job.params['planes'], )"
   ]
  },
  {
   "cell_type": "code",
   "execution_count": null,
   "id": "a7170754-a149-4d97-9806-2a922570444c",
   "metadata": {},
   "outputs": [],
   "source": []
  },
  {
   "cell_type": "code",
   "execution_count": 9,
   "id": "e4532250-2920-498b-a877-050cb44e0655",
   "metadata": {},
   "outputs": [
    {
     "data": {
      "text/plain": [
       "['/mnt/zortex-subjects/CR028/2024-08-23/7/2024-08-23_7_CR028_2P_00001_00001.tif',\n",
       " '/mnt/zortex-subjects/CR028/2024-08-23/7/2024-08-23_7_CR028_2P_00001_00002.tif',\n",
       " '/mnt/zortex-subjects/CR028/2024-08-23/7/2024-08-23_7_CR028_2P_00001_00003.tif',\n",
       " '/mnt/zortex-subjects/CR028/2024-08-23/7/2024-08-23_7_CR028_2P_00001_00004.tif',\n",
       " '/mnt/zortex-subjects/CR028/2024-08-23/7/2024-08-23_7_CR028_2P_00001_00005.tif',\n",
       " '/mnt/zortex-subjects/CR028/2024-08-23/7/2024-08-23_7_CR028_2P_00001_00006.tif',\n",
       " '/mnt/zortex-subjects/CR028/2024-08-23/7/2024-08-23_7_CR028_2P_00001_00007.tif',\n",
       " '/mnt/zortex-subjects/CR028/2024-08-23/7/2024-08-23_7_CR028_2P_00001_00008.tif',\n",
       " '/mnt/zortex-subjects/CR028/2024-08-23/7/2024-08-23_7_CR028_2P_00001_00009.tif',\n",
       " '/mnt/zortex-subjects/CR028/2024-08-23/7/2024-08-23_7_CR028_2P_00001_00010.tif',\n",
       " '/mnt/zortex-subjects/CR028/2024-08-23/7/2024-08-23_7_CR028_2P_00001_00011.tif',\n",
       " '/mnt/zortex-subjects/CR028/2024-08-23/7/2024-08-23_7_CR028_2P_00001_00012.tif',\n",
       " '/mnt/zortex-subjects/CR028/2024-08-23/7/2024-08-23_7_CR028_2P_00001_00013.tif',\n",
       " '/mnt/zortex-subjects/CR028/2024-08-23/7/2024-08-23_7_CR028_2P_00001_00014.tif',\n",
       " '/mnt/zortex-subjects/CR028/2024-08-23/7/2024-08-23_7_CR028_2P_00001_00015.tif',\n",
       " '/mnt/zortex-subjects/CR028/2024-08-23/7/2024-08-23_7_CR028_2P_00001_00016.tif',\n",
       " '/mnt/zortex-subjects/CR028/2024-08-23/7/2024-08-23_7_CR028_2P_00001_00017.tif',\n",
       " '/mnt/zortex-subjects/CR028/2024-08-23/7/2024-08-23_7_CR028_2P_00001_00018.tif',\n",
       " '/mnt/zortex-subjects/CR028/2024-08-23/7/2024-08-23_7_CR028_2P_00001_00019.tif',\n",
       " '/mnt/zortex-subjects/CR028/2024-08-23/7/2024-08-23_7_CR028_2P_00001_00020.tif',\n",
       " '/mnt/zortex-subjects/CR028/2024-08-23/7/2024-08-23_7_CR028_2P_00001_00021.tif',\n",
       " '/mnt/zortex-subjects/CR028/2024-08-23/7/2024-08-23_7_CR028_2P_00001_00022.tif',\n",
       " '/mnt/zortex-subjects/CR028/2024-08-23/7/2024-08-23_7_CR028_2P_00001_00023.tif',\n",
       " '/mnt/zortex-subjects/CR028/2024-08-23/7/2024-08-23_7_CR028_2P_00001_00024.tif',\n",
       " '/mnt/zortex-subjects/CR028/2024-08-23/7/2024-08-23_7_CR028_2P_00001_00025.tif',\n",
       " '/mnt/zortex-subjects/CR028/2024-08-23/7/2024-08-23_7_CR028_2P_00001_00026.tif',\n",
       " '/mnt/zortex-subjects/CR028/2024-08-23/7/2024-08-23_7_CR028_2P_00001_00027.tif',\n",
       " '/mnt/zortex-subjects/CR028/2024-08-23/7/2024-08-23_7_CR028_2P_00001_00028.tif',\n",
       " '/mnt/zortex-subjects/CR028/2024-08-23/7/2024-08-23_7_CR028_2P_00001_00029.tif',\n",
       " '/mnt/zortex-subjects/CR028/2024-08-23/7/2024-08-23_7_CR028_2P_00001_00030.tif',\n",
       " '/mnt/zortex-subjects/CR028/2024-08-23/7/2024-08-23_7_CR028_2P_00001_00031.tif',\n",
       " '/mnt/zortex-subjects/CR028/2024-08-23/7/2024-08-23_7_CR028_2P_00001_00032.tif',\n",
       " '/mnt/zortex-subjects/CR028/2024-08-23/7/2024-08-23_7_CR028_2P_00001_00033.tif',\n",
       " '/mnt/zortex-subjects/CR028/2024-08-23/7/2024-08-23_7_CR028_2P_00001_00034.tif',\n",
       " '/mnt/zortex-subjects/CR028/2024-08-23/7/2024-08-23_7_CR028_2P_00001_00035.tif',\n",
       " '/mnt/zortex-subjects/CR028/2024-08-23/7/2024-08-23_7_CR028_2P_00001_00036.tif',\n",
       " '/mnt/zortex-subjects/CR028/2024-08-23/7/2024-08-23_7_CR028_2P_00001_00037.tif',\n",
       " '/mnt/zortex-subjects/CR028/2024-08-23/7/2024-08-23_7_CR028_2P_00001_00038.tif',\n",
       " '/mnt/zortex-subjects/CR028/2024-08-23/7/2024-08-23_7_CR028_2P_00001_00039.tif',\n",
       " '/mnt/zortex-subjects/CR028/2024-08-23/7/2024-08-23_7_CR028_2P_00001_00040.tif',\n",
       " '/mnt/zortex-subjects/CR028/2024-08-23/7/2024-08-23_7_CR028_2P_00001_00041.tif',\n",
       " '/mnt/zortex-subjects/CR028/2024-08-23/7/2024-08-23_7_CR028_2P_00001_00042.tif',\n",
       " '/mnt/zortex-subjects/CR028/2024-08-23/7/2024-08-23_7_CR028_2P_00001_00043.tif',\n",
       " '/mnt/zortex-subjects/CR028/2024-08-23/7/2024-08-23_7_CR028_2P_00001_00044.tif',\n",
       " '/mnt/zortex-subjects/CR028/2024-08-23/7/2024-08-23_7_CR028_2P_00001_00045.tif',\n",
       " '/mnt/zortex-subjects/CR028/2024-08-23/7/2024-08-23_7_CR028_2P_00001_00046.tif',\n",
       " '/mnt/zortex-subjects/CR028/2024-08-23/7/2024-08-23_7_CR028_2P_00001_00047.tif',\n",
       " '/mnt/zortex-subjects/CR028/2024-08-23/7/2024-08-23_7_CR028_2P_00001_00048.tif',\n",
       " '/mnt/zortex-subjects/CR028/2024-08-23/7/2024-08-23_7_CR028_2P_00001_00049.tif',\n",
       " '/mnt/zortex-subjects/CR028/2024-08-23/7/2024-08-23_7_CR028_2P_00001_00050.tif',\n",
       " '/mnt/zortex-subjects/CR028/2024-08-23/7/2024-08-23_7_CR028_2P_00001_00051.tif',\n",
       " '/mnt/zortex-subjects/CR028/2024-08-23/7/2024-08-23_7_CR028_2P_00001_00052.tif',\n",
       " '/mnt/zortex-subjects/CR028/2024-08-23/7/2024-08-23_7_CR028_2P_00001_00053.tif',\n",
       " '/mnt/zortex-subjects/CR028/2024-08-23/7/2024-08-23_7_CR028_2P_00001_00054.tif',\n",
       " '/mnt/zortex-subjects/CR028/2024-08-23/7/2024-08-23_7_CR028_2P_00001_00055.tif',\n",
       " '/mnt/zortex-subjects/CR028/2024-08-23/7/2024-08-23_7_CR028_2P_00001_00056.tif',\n",
       " '/mnt/zortex-subjects/CR028/2024-08-23/7/2024-08-23_7_CR028_2P_00001_00057.tif',\n",
       " '/mnt/zortex-subjects/CR028/2024-08-23/7/2024-08-23_7_CR028_2P_00001_00058.tif',\n",
       " '/mnt/zortex-subjects/CR028/2024-08-23/7/2024-08-23_7_CR028_2P_00001_00059.tif',\n",
       " '/mnt/zortex-subjects/CR028/2024-08-23/7/2024-08-23_7_CR028_2P_00001_00060.tif',\n",
       " '/mnt/zortex-subjects/CR028/2024-08-23/7/2024-08-23_7_CR028_2P_00001_00061.tif',\n",
       " '/mnt/zortex-subjects/CR028/2024-08-23/7/2024-08-23_7_CR028_2P_00001_00062.tif',\n",
       " '/mnt/zortex-subjects/CR028/2024-08-23/7/2024-08-23_7_CR028_2P_00001_00063.tif',\n",
       " '/mnt/zortex-subjects/CR028/2024-08-23/7/2024-08-23_7_CR028_2P_00001_00064.tif',\n",
       " '/mnt/zortex-subjects/CR028/2024-08-23/7/2024-08-23_7_CR028_2P_00001_00065.tif',\n",
       " '/mnt/zortex-subjects/CR028/2024-08-23/7/2024-08-23_7_CR028_2P_00001_00066.tif',\n",
       " '/mnt/zortex-subjects/CR028/2024-08-23/7/2024-08-23_7_CR028_2P_00001_00067.tif',\n",
       " '/mnt/zortex-subjects/CR028/2024-08-23/7/2024-08-23_7_CR028_2P_00001_00068.tif',\n",
       " '/mnt/zortex-subjects/CR028/2024-08-23/7/2024-08-23_7_CR028_2P_00001_00069.tif',\n",
       " '/mnt/zortex-subjects/CR028/2024-08-23/7/2024-08-23_7_CR028_2P_00001_00070.tif',\n",
       " '/mnt/zortex-subjects/CR028/2024-08-23/7/2024-08-23_7_CR028_2P_00001_00071.tif',\n",
       " '/mnt/zortex-subjects/CR028/2024-08-23/7/2024-08-23_7_CR028_2P_00001_00072.tif',\n",
       " '/mnt/zortex-subjects/CR028/2024-08-23/7/2024-08-23_7_CR028_2P_00001_00073.tif',\n",
       " '/mnt/zortex-subjects/CR028/2024-08-23/7/2024-08-23_7_CR028_2P_00001_00074.tif',\n",
       " '/mnt/zortex-subjects/CR028/2024-08-23/7/2024-08-23_7_CR028_2P_00001_00075.tif',\n",
       " '/mnt/zortex-subjects/CR028/2024-08-23/7/2024-08-23_7_CR028_2P_00001_00076.tif',\n",
       " '/mnt/zortex-subjects/CR028/2024-08-23/7/2024-08-23_7_CR028_2P_00001_00077.tif',\n",
       " '/mnt/zortex-subjects/CR028/2024-08-23/7/2024-08-23_7_CR028_2P_00001_00078.tif',\n",
       " '/mnt/zortex-subjects/CR028/2024-08-23/7/2024-08-23_7_CR028_2P_00001_00079.tif',\n",
       " '/mnt/zortex-subjects/CR028/2024-08-23/7/2024-08-23_7_CR028_2P_00001_00080.tif',\n",
       " '/mnt/zortex-subjects/CR028/2024-08-23/7/2024-08-23_7_CR028_2P_00001_00081.tif',\n",
       " '/mnt/zortex-subjects/CR028/2024-08-23/7/2024-08-23_7_CR028_2P_00001_00082.tif',\n",
       " '/mnt/zortex-subjects/CR028/2024-08-23/7/2024-08-23_7_CR028_2P_00001_00083.tif',\n",
       " '/mnt/zortex-subjects/CR028/2024-08-23/7/2024-08-23_7_CR028_2P_00001_00084.tif',\n",
       " '/mnt/zortex-subjects/CR028/2024-08-23/7/2024-08-23_7_CR028_2P_00001_00085.tif',\n",
       " '/mnt/zortex-subjects/CR028/2024-08-23/7/2024-08-23_7_CR028_2P_00001_00086.tif',\n",
       " '/mnt/zortex-subjects/CR028/2024-08-23/7/2024-08-23_7_CR028_2P_00001_00087.tif',\n",
       " '/mnt/zortex-subjects/CR028/2024-08-23/7/2024-08-23_7_CR028_2P_00001_00088.tif',\n",
       " '/mnt/zortex-subjects/CR028/2024-08-23/7/2024-08-23_7_CR028_2P_00001_00089.tif',\n",
       " '/mnt/zortex-subjects/CR028/2024-08-23/7/2024-08-23_7_CR028_2P_00001_00090.tif',\n",
       " '/mnt/zortex-subjects/CR028/2024-08-23/7/2024-08-23_7_CR028_2P_00001_00091.tif',\n",
       " '/mnt/zortex-subjects/CR028/2024-08-23/7/2024-08-23_7_CR028_2P_00001_00092.tif',\n",
       " '/mnt/zortex-subjects/CR028/2024-08-23/7/2024-08-23_7_CR028_2P_00001_00093.tif',\n",
       " '/mnt/zortex-subjects/CR028/2024-08-23/7/2024-08-23_7_CR028_2P_00001_00094.tif',\n",
       " '/mnt/zortex-subjects/CR028/2024-08-23/7/2024-08-23_7_CR028_2P_00001_00095.tif']"
      ]
     },
     "execution_count": 9,
     "metadata": {},
     "output_type": "execute_result"
    }
   ],
   "source": [
    "job.tifs"
   ]
  },
  {
   "cell_type": "code",
   "execution_count": null,
   "id": "c5310b6e",
   "metadata": {},
   "outputs": [],
   "source": [
    "# %%time\n",
    "# summary = job.run_init_pass()"
   ]
  },
  {
   "cell_type": "code",
   "execution_count": null,
   "id": "f9eede84-bfeb-48de-988a-fc961dc93332",
   "metadata": {},
   "outputs": [],
   "source": [
    "summary = job.load_summary()"
   ]
  },
  {
   "cell_type": "code",
   "execution_count": null,
   "id": "9a7d44fd-255b-46f3-b16c-5311896475af",
   "metadata": {},
   "outputs": [],
   "source": [
    "img = summary['ref_img_3d']"
   ]
  },
  {
   "cell_type": "code",
   "execution_count": null,
   "id": "d45d99a0",
   "metadata": {},
   "outputs": [],
   "source": [
    "# split the large tiffs into files of size 100 after registration\n",
    "job.params['split_tif_size'] = 100"
   ]
  },
  {
   "cell_type": "code",
   "execution_count": null,
   "id": "e465e68a",
   "metadata": {},
   "outputs": [],
   "source": [
    "%%time\n",
    "job.register_gpu_3d()"
   ]
  },
  {
   "cell_type": "code",
   "execution_count": null,
   "id": "1729a0af",
   "metadata": {},
   "outputs": [],
   "source": [
    "mov_full = job.get_registered_movie('registered_fused_data', 'fused')\n",
    "im_full = mov_full[:,:200].mean(axis=1).compute()"
   ]
  },
  {
   "cell_type": "code",
   "execution_count": null,
   "id": "1ab501eb",
   "metadata": {},
   "outputs": [],
   "source": [
    "tfu.show_tif(im_full[0])"
   ]
  },
  {
   "cell_type": "code",
   "execution_count": null,
   "id": "4c43035a-2535-4430-bd73-d218122f43d2",
   "metadata": {},
   "outputs": [],
   "source": [
    "job.params['cell_filt_type'] = 'gaussian'\n",
    "\n",
    "job.params['voxel_size_um'] = (20, 3.33, 3.33)\n",
    "job.params['npil_filt_xy_um'] = 70\n",
    "job.params['cell_filt_xy_um'] = 5\n",
    "job.params['sdnorm_exp'] = 0.80\n",
    "\n",
    "params_to_sweep = {\n",
    "    'cell_filt_xy_um' : (5,10),\n",
    "    'npil_filt_xy_um' : (40, 70, 100),\n",
    "    'sdnorm_exp' : (0.8,1.0),\n",
    "}\n",
    "job.sweep_corrmap(params_to_sweep, iter_limit=1)"
   ]
  },
  {
   "cell_type": "code",
   "execution_count": null,
   "id": "23fb44ed",
   "metadata": {},
   "outputs": [],
   "source": [
    "%%time\n",
    "corr_map = job.calculate_corr_map()"
   ]
  },
  {
   "cell_type": "code",
   "execution_count": null,
   "id": "d04d9e95-db86-4730-8218-6a0568b27fdf",
   "metadata": {},
   "outputs": [],
   "source": [
    "res = job.load_corr_map_results()\n",
    "vmap = res['vmap']"
   ]
  },
  {
   "cell_type": "code",
   "execution_count": null,
   "id": "c2646a2e-ba21-4c28-92fc-dd0fe0968dc6",
   "metadata": {
    "scrolled": true
   },
   "outputs": [],
   "source": [
    "# most important parameter - any value of the corrmap\n",
    "# above this will be considered a peak for a possible ROI,\n",
    "# and will be used as a \"seed\" to grow an ROI around it\n",
    "# bigger number: fewer ROIs, only bright ones\n",
    "# smaller number: many ROIs, increasingly worse quality\n",
    "job.params['peak_thresh'] = 2.9\n",
    "\n",
    "# optionally, bin the movie in time to speed up detection\n",
    "# probably a good idea if you have high framerate (>5 Hz?)\n",
    "job.params['detection_timebin'] = 1 \n",
    "\n",
    "# when extending an ROI, compare its activity to its neighboring pixels\n",
    "# in frames where the fluorescence is above this percentile\n",
    "job.params['percentile'] = 99.5\n",
    "\n",
    "\n",
    "job.segment_rois()"
   ]
  },
  {
   "cell_type": "code",
   "execution_count": null,
   "id": "61d2f6e1-1bf4-4f09-b03f-93f559c71162",
   "metadata": {
    "scrolled": true
   },
   "outputs": [],
   "source": [
    "# rois_dir_path = job.combine_patches(n.arange(80), job.dirs['rois'], deduplicate=False,\n",
    "#                                     parent_dir_name='segmentation', info_use_idx=None)"
   ]
  },
  {
   "cell_type": "code",
   "execution_count": null,
   "id": "5ad19f4d-7079-4144-b96b-8e5681b095b0",
   "metadata": {},
   "outputs": [],
   "source": [
    "job.compute_npil_masks(stats_dir = job.dirs['rois'])\n"
   ]
  },
  {
   "cell_type": "code",
   "execution_count": null,
   "id": "21019aa2-cf5c-42e1-b1ed-00df75f1a51e",
   "metadata": {},
   "outputs": [],
   "source": [
    "\n",
    "traces = job.extract_and_deconvolve(stats_dir=job.dirs['rois'],iscell=iscell)"
   ]
  },
  {
   "cell_type": "code",
   "execution_count": null,
   "id": "9245ee46-ed1c-4f1a-9bba-9a4cd17c5f8f",
   "metadata": {},
   "outputs": [],
   "source": [
    "job.export_results('/mnt/zeytin-f1/s3d-results/',result_dir_name='rois')"
   ]
  },
  {
   "cell_type": "code",
   "execution_count": null,
   "id": "fd52a189-3940-413e-b05f-098f3ceec876",
   "metadata": {},
   "outputs": [],
   "source": []
  },
  {
   "cell_type": "code",
   "execution_count": null,
   "id": "7f4c53c3-72de-4467-bc09-b661eae17241",
   "metadata": {},
   "outputs": [],
   "source": []
  },
  {
   "cell_type": "code",
   "execution_count": null,
   "id": "7c542bd9-df48-4a2a-9555-5819dd1e0937",
   "metadata": {},
   "outputs": [],
   "source": []
  },
  {
   "cell_type": "code",
   "execution_count": null,
   "id": "6856591e-7e42-47f8-af65-8dcc877bc53a",
   "metadata": {},
   "outputs": [],
   "source": []
  },
  {
   "cell_type": "code",
   "execution_count": null,
   "id": "3355910c-8124-403c-a9bb-85e712b0754f",
   "metadata": {},
   "outputs": [],
   "source": []
  },
  {
   "cell_type": "code",
   "execution_count": null,
   "id": "b53d9a69-52ca-468b-a79b-4b7c2b2d5053",
   "metadata": {},
   "outputs": [],
   "source": []
  },
  {
   "cell_type": "code",
   "execution_count": null,
   "id": "cb0c047e",
   "metadata": {},
   "outputs": [],
   "source": []
  }
 ],
 "metadata": {
  "kernelspec": {
   "display_name": "Python [conda env:suite3d-gpu]",
   "language": "python",
   "name": "conda-env-suite3d-gpu-py"
  },
  "language_info": {
   "codemirror_mode": {
    "name": "ipython",
    "version": 3
   },
   "file_extension": ".py",
   "mimetype": "text/x-python",
   "name": "python",
   "nbconvert_exporter": "python",
   "pygments_lexer": "ipython3",
   "version": "3.8.18"
  }
 },
 "nbformat": 4,
 "nbformat_minor": 5
}
