{
 "cells": [
  {
   "cell_type": "code",
   "execution_count": 1,
   "id": "f57652f9",
   "metadata": {},
   "outputs": [],
   "source": [
    "%load_ext autoreload\n",
    "%autoreload 2\n",
    "\n",
    "import os \n",
    "import shutil\n",
    "import numpy as n\n",
    "from datetime import date\n",
    "from matplotlib import pyplot as plt\n",
    "import time\n",
    "import napari"
   ]
  },
  {
   "cell_type": "code",
   "execution_count": 2,
   "id": "1d4aca1f",
   "metadata": {},
   "outputs": [],
   "source": [
    "os.chdir('/home/ali/packages/s2p-lbm/')\n",
    "\n",
    "from suite3d.job import Job\n",
    "from suite3d import lbmio, utils, ui\n",
    "from suite3d import tiff_utils as tfu\n",
    "from suite3d import file_utils as flu"
   ]
  },
  {
   "cell_type": "code",
   "execution_count": 3,
   "id": "9f0d542b",
   "metadata": {},
   "outputs": [],
   "source": [
    "job_params = {    \n",
    "    'planes' :         n.arange(0,15),\n",
    "    'n_ch_tif' : 15,\n",
    "    'n_init_files' :   6,\n",
    "    'fuse_shift_override' : 6,\n",
    "    'subtract_crosstalk' : False,\n",
    "    'fix_fastZ' : 0,\n",
    "}"
   ]
  },
  {
   "cell_type": "code",
   "execution_count": 4,
   "id": "5f9f1d50",
   "metadata": {},
   "outputs": [
    {
     "name": "stdout",
     "output_type": "stream",
     "text": [
      "Looking for AH011/2024-02-02/1 in /mnt/zortex-subjects/\n",
      "Found\n",
      "Looking for AH011/2024-02-02/4 in /mnt/zortex-subjects/\n",
      "Found\n",
      "Looking for AH011/2024-02-02/6 in /mnt/zortex-subjects/\n",
      "Found\n"
     ]
    }
   ],
   "source": [
    "subjects_dir =   '/mnt/zortex-subjects/'\n",
    "expt_info = { \n",
    "    'subject':         'AH011',\n",
    "    'date' :          '2024-02-02',\n",
    "    'expnum' :         [1,4,6],}\n",
    "\n",
    "tifs, si_params, exp_str = flu.find_exp(subjects_dir, **expt_info, verbose=True, get_si_params=True)\n",
    "job_params['fs'] = si_params['vol_rate']\n",
    "\n",
    "# # savedir = os.path.join('/mnt/md0/runs', expt_info['subject'], expt_info['date'])\n",
    "# # os.makedirs(savedir, exist_ok=True)"
   ]
  },
  {
   "cell_type": "code",
   "execution_count": 5,
   "id": "87ad8875-05f8-45e6-89a0-11722af10383",
   "metadata": {},
   "outputs": [
    {
     "name": "stdout",
     "output_type": "stream",
     "text": [
      "   Found and loaded params from /mnt/md0/runs/s3d-AH011_2024-02-02_1-4-6/params.npy\n"
     ]
    }
   ],
   "source": [
    "# Create the job\n",
    "job = Job('/mnt/md0/runs',exp_str, tifs = tifs,params_path='/mnt/md0/runs/s3d-AH011_2024-02-02_1-4-6/params.npy',\n",
    "          params=job_params, create=False, overwrite=True, verbosity = 3)\n",
    "# job.update_root_path('/mnt/md0/runs')"
   ]
  },
  {
   "cell_type": "code",
   "execution_count": 6,
   "id": "04240ca9",
   "metadata": {},
   "outputs": [],
   "source": [
    "summary = job.load_summary()"
   ]
  },
  {
   "cell_type": "code",
   "execution_count": null,
   "id": "9477218a",
   "metadata": {},
   "outputs": [],
   "source": []
  },
  {
   "cell_type": "code",
   "execution_count": 6,
   "id": "f27ba1e5",
   "metadata": {},
   "outputs": [
    {
     "name": "stdout",
     "output_type": "stream",
     "text": [
      "   Made new extension dir at /mnt/a3/runs/s3d-extension-AH011_2024-02-02_1-4-6\n"
     ]
    },
    {
     "data": {
      "text/plain": [
       "'/mnt/a3/runs/s3d-extension-AH011_2024-02-02_1-4-6'"
      ]
     },
     "execution_count": 6,
     "metadata": {},
     "output_type": "execute_result"
    }
   ],
   "source": [
    "job.make_extension_dir('/mnt/a3/runs')"
   ]
  },
  {
   "cell_type": "code",
   "execution_count": 6,
   "id": "99fb9e02-7178-4ebd-8eb6-db1039ef88f5",
   "metadata": {},
   "outputs": [],
   "source": [
    "# optional parameters for initialization\n",
    "# load 1 file to initialize, and select 200 frames randomly to do initalization on\n",
    "job.params['n_init_files'] = 6\n",
    "job.params['init_n_frames'] = None\n",
    "job.params['fuse_shift_override'] = 6"
   ]
  },
  {
   "cell_type": "code",
   "execution_count": 7,
   "id": "c5310b6e",
   "metadata": {},
   "outputs": [],
   "source": [
    "# %%time\n",
    "# summary = job.run_init_pass()"
   ]
  },
  {
   "cell_type": "code",
   "execution_count": 8,
   "id": "8ecfefa2-4361-4572-ba11-d639d9b5a997",
   "metadata": {},
   "outputs": [],
   "source": [
    "# job.show_summary_plots()"
   ]
  },
  {
   "cell_type": "code",
   "execution_count": 9,
   "id": "3625ddb3-753f-498f-ab54-65c11689e701",
   "metadata": {},
   "outputs": [],
   "source": [
    "summary = job.load_summary()"
   ]
  },
  {
   "cell_type": "code",
   "execution_count": 10,
   "id": "93d11fdb",
   "metadata": {
    "scrolled": true
   },
   "outputs": [],
   "source": [
    "# # Pick the parameters you want to sweep, and enter them in the tuples.\n",
    "# # It will do all combinations of parameters, so if you have many parameters it will be many combinations! \n",
    "# job.params['t_batch_size'] = 200\n",
    "# job.params['edge_crop_npix'] = 10\n",
    "# params_to_sweep = {\n",
    "#     'intensity_thresh' : (0.1,),\n",
    "#     'conv_filt_xy': (1.0,),\n",
    "#     'npil_filt_xy': (20.0,),\n",
    "#     'conv_filt_z' : (1.0,1.5,),\n",
    "#     'npil_filt_z' : (1.0,),\n",
    "#     'sdnorm_exp' : (1.0,),\n",
    "#     'edge_crop_npix' : (0,20),\n",
    "# }\n",
    "\n",
    "# # sweep_summary = job.sweep_params(params_to_sweep, mov = None,testing_dir_tag='sweep-test',\n",
    "# #                            do_vmap=True, all_combinations=True, n_test_iters = 1)\n",
    "# # # use this to access older sweep results\n",
    "# # sweep_summary = n.load(os.path.join(job.dirs['sweep-full'], 'sweep_summary.npy'),allow_pickle=True).item()\n",
    "# # job.vis_vmap_sweep(sweep_summary)"
   ]
  },
  {
   "cell_type": "code",
   "execution_count": 11,
   "id": "acd467e5-7ed3-4c3b-8729-7f6669034265",
   "metadata": {},
   "outputs": [],
   "source": [
    "mov = job.get_registered_movie()"
   ]
  },
  {
   "cell_type": "code",
   "execution_count": 12,
   "id": "a11da265-5fc1-4ed2-92d1-acbaea9a19d3",
   "metadata": {},
   "outputs": [],
   "source": [
    "job.params['t_batch_size'] = 400\n",
    "job.params['voxel_size_um'] = (15, 2.5, 2.5)\n",
    "job.params['npil_filt_type'] = 'unif'\n",
    "job.params['npil_filt_xy_um'] = 70\n",
    "job.params['npil_filt_z_um'] = 15.0\n",
    "job.params['cell_filt_type'] = 'gaussian'\n",
    "job.params['cell_filt_xy_um'] = 2.5\n",
    "job.params['cell_filt_z_um'] = 22.5\n",
    "job.params['edge_crop_npix'] = 10\n",
    "job.params['fix_vmap_edge_planes'] = True\n",
    "job.params['sdnorm_exp'] = 0.85\n",
    "job.params['intensity_thresh'] = 0.1\n",
    "job.params['n_proc'] = 32\n"
   ]
  },
  {
   "cell_type": "code",
   "execution_count": 13,
   "id": "932ac147-58ba-4935-8dea-dbd80d82c3f5",
   "metadata": {},
   "outputs": [],
   "source": [
    "# corrmap_new = job.calculate_corr_map(mov, save=True)"
   ]
  },
  {
   "cell_type": "code",
   "execution_count": 14,
   "id": "2d0f1927-f5a6-455e-ac61-0a682de4f79f",
   "metadata": {},
   "outputs": [],
   "source": [
    "# results = job.load_corr_map_results()"
   ]
  },
  {
   "cell_type": "code",
   "execution_count": 15,
   "id": "675bd445",
   "metadata": {
    "scrolled": true
   },
   "outputs": [
    {
     "name": "stdout",
     "output_type": "stream",
     "text": [
      "CPU times: user 3 µs, sys: 1 µs, total: 4 µs\n",
      "Wall time: 6.2 µs\n"
     ]
    }
   ],
   "source": [
    "job.verbosity = 2\n",
    "job.params['detection_timebin'] = 2\n",
    "job.params['detection_time_crop'] = (None,None)\n",
    "job.params['max_pix'] = 250\n",
    "job.params['peak_thresh'] = 0.1\n",
    "job.params['patch_size_xy'] = (150,150)\n",
    "job.params['n_proc_detect'] = 8\n",
    "job.params['activity_thresh'] = 1.0\n",
    "job.params['percentile'] = 99.0\n",
    "job.params['extend_thresh'] = 0.15\n",
    "job.params['max_iter'] = 10000 # maximum number of ROIs detected in given patch"
   ]
  },
  {
   "cell_type": "code",
   "execution_count": 16,
   "id": "b55c8c78-2863-41ce-941a-f0683f238f99",
   "metadata": {},
   "outputs": [],
   "source": [
    "\n",
    "# job.segment_rois()"
   ]
  },
  {
   "cell_type": "code",
   "execution_count": 18,
   "id": "d53f033a",
   "metadata": {},
   "outputs": [
    {
     "name": "stdout",
     "output_type": "stream",
     "text": [
      "CPU times: user 39.2 s, sys: 3.77 s, total: 43 s\n",
      "Wall time: 2min 12s\n"
     ]
    },
    {
     "data": {
      "text/plain": [
       "'/mnt/md0/runs/s3d-AH011_2024-02-02_1-4-6/rois'"
      ]
     },
     "execution_count": 18,
     "metadata": {},
     "output_type": "execute_result"
    }
   ],
   "source": [
    "%%time\n",
    "job.compute_npil_masks(job.dirs['rois'])"
   ]
  },
  {
   "cell_type": "code",
   "execution_count": 19,
   "id": "bf926ca2",
   "metadata": {},
   "outputs": [
    {
     "name": "stdout",
     "output_type": "stream",
     "text": [
      "   Updated main params file\n",
      "   Movie shape: (15, 20711, 1060, 765)\n",
      "11915\n",
      "   Extracting 11915 valid cells, and saving cell flags to /mnt/md0/runs/s3d-AH011_2024-02-02_1-4-6/rois/iscell_extracted.npy\n",
      "   Extracting activity\n",
      "Will extract in 42 batches of 500\n",
      "Saving intermediate results to /mnt/md0/runs/s3d-AH011_2024-02-02_1-4-6/rois\n",
      "Extracting batch 0000 of 0042\n",
      "Batch size: 22 GB\n",
      "Extracting batch 0001 of 0042\n",
      "Batch size: 22 GB\n",
      "Extracting batch 0002 of 0042\n",
      "Batch size: 22 GB\n",
      "Extracting batch 0003 of 0042\n",
      "Batch size: 22 GB\n",
      "Extracting batch 0004 of 0042\n",
      "Batch size: 22 GB\n",
      "Extracting batch 0005 of 0042\n",
      "Batch size: 22 GB\n",
      "Extracting batch 0006 of 0042\n",
      "Batch size: 22 GB\n",
      "Extracting batch 0007 of 0042\n",
      "Batch size: 22 GB\n",
      "Extracting batch 0008 of 0042\n",
      "Batch size: 22 GB\n",
      "Extracting batch 0009 of 0042\n",
      "Batch size: 22 GB\n",
      "Extracting batch 0010 of 0042\n",
      "Batch size: 22 GB\n",
      "Extracting batch 0011 of 0042\n",
      "Batch size: 22 GB\n",
      "Extracting batch 0012 of 0042\n",
      "Batch size: 22 GB\n",
      "Extracting batch 0013 of 0042\n",
      "Batch size: 22 GB\n",
      "Extracting batch 0014 of 0042\n",
      "Batch size: 22 GB\n",
      "Extracting batch 0015 of 0042\n",
      "Batch size: 22 GB\n",
      "Extracting batch 0016 of 0042\n",
      "Batch size: 22 GB\n",
      "Extracting batch 0017 of 0042\n",
      "Batch size: 22 GB\n",
      "Extracting batch 0018 of 0042\n",
      "Batch size: 22 GB\n",
      "Extracting batch 0019 of 0042\n",
      "Batch size: 22 GB\n",
      "Extracting batch 0020 of 0042\n",
      "Batch size: 22 GB\n",
      "Extracting batch 0021 of 0042\n",
      "Batch size: 22 GB\n",
      "Extracting batch 0022 of 0042\n",
      "Batch size: 22 GB\n",
      "Extracting batch 0023 of 0042\n",
      "Batch size: 22 GB\n",
      "Extracting batch 0024 of 0042\n",
      "Batch size: 22 GB\n",
      "Extracting batch 0025 of 0042\n",
      "Batch size: 22 GB\n",
      "Extracting batch 0026 of 0042\n",
      "Batch size: 22 GB\n",
      "Extracting batch 0027 of 0042\n",
      "Batch size: 22 GB\n",
      "Extracting batch 0028 of 0042\n",
      "Batch size: 22 GB\n",
      "Extracting batch 0029 of 0042\n",
      "Batch size: 22 GB\n",
      "Extracting batch 0030 of 0042\n",
      "Batch size: 22 GB\n",
      "Extracting batch 0031 of 0042\n",
      "Batch size: 22 GB\n",
      "Extracting batch 0032 of 0042\n",
      "Batch size: 22 GB\n",
      "Extracting batch 0033 of 0042\n",
      "Batch size: 22 GB\n",
      "Extracting batch 0034 of 0042\n",
      "Batch size: 22 GB\n",
      "Extracting batch 0035 of 0042\n",
      "Batch size: 22 GB\n",
      "Extracting batch 0036 of 0042\n",
      "Batch size: 22 GB\n",
      "Extracting batch 0037 of 0042\n",
      "Batch size: 22 GB\n",
      "Extracting batch 0038 of 0042\n",
      "Batch size: 22 GB\n",
      "Extracting batch 0039 of 0042\n",
      "Batch size: 22 GB\n",
      "Extracting batch 0040 of 0042\n",
      "Batch size: 22 GB\n",
      "Extracting batch 0041 of 0042\n",
      "Batch size: 9 GB\n",
      "   Deconvolving\n",
      "   Saving to /mnt/md0/runs/s3d-AH011_2024-02-02_1-4-6/rois\n"
     ]
    }
   ],
   "source": [
    "traces = job.extract_and_deconvolve(stats_dir = job.dirs['rois'], mov=mov, crop=False)"
   ]
  },
  {
   "cell_type": "code",
   "execution_count": 9,
   "id": "878128ea-77db-476a-b766-1fa26f69d965",
   "metadata": {},
   "outputs": [
    {
     "name": "stdout",
     "output_type": "stream",
     "text": [
      "   Created dir /mnt/zeytin-f1/s3d-results/s3d-results-AH011_2024-02-02_1-4-6 to export results\n",
      "      Loading from /mnt/md0/runs/s3d-AH011_2024-02-02_1-4-6/rois/stats_small.npy\n",
      "      Loading from /mnt/md0/runs/s3d-AH011_2024-02-02_1-4-6/rois/info.npy\n",
      "      Loading from /mnt/md0/runs/s3d-AH011_2024-02-02_1-4-6/rois/F.npy\n",
      "      Loading from /mnt/md0/runs/s3d-AH011_2024-02-02_1-4-6/rois/spks.npy\n",
      "      Loading from /mnt/md0/runs/s3d-AH011_2024-02-02_1-4-6/rois/Fneu.npy\n",
      "      Loading from /mnt/md0/runs/s3d-AH011_2024-02-02_1-4-6/rois/iscell.npy\n",
      "      Overwriting existing /mnt/zeytin-f1/s3d-results/s3d-results-AH011_2024-02-02_1-4-6/s3d-params.npy\n",
      "      Overwriting existing /mnt/zeytin-f1/s3d-results/s3d-results-AH011_2024-02-02_1-4-6/frames.npy\n",
      "      Overwriting existing /mnt/zeytin-f1/s3d-results/s3d-results-AH011_2024-02-02_1-4-6/stats.npy\n",
      "      Saved stats.npy to /mnt/zeytin-f1/s3d-results/s3d-results-AH011_2024-02-02_1-4-6\n",
      "      Overwriting existing /mnt/zeytin-f1/s3d-results/s3d-results-AH011_2024-02-02_1-4-6/info.npy\n",
      "      Saved info.npy to /mnt/zeytin-f1/s3d-results/s3d-results-AH011_2024-02-02_1-4-6\n",
      "      Overwriting existing /mnt/zeytin-f1/s3d-results/s3d-results-AH011_2024-02-02_1-4-6/F.npy\n",
      "      Saved F.npy to /mnt/zeytin-f1/s3d-results/s3d-results-AH011_2024-02-02_1-4-6\n",
      "      Overwriting existing /mnt/zeytin-f1/s3d-results/s3d-results-AH011_2024-02-02_1-4-6/spks.npy\n",
      "      Saved spks.npy to /mnt/zeytin-f1/s3d-results/s3d-results-AH011_2024-02-02_1-4-6\n",
      "      Overwriting existing /mnt/zeytin-f1/s3d-results/s3d-results-AH011_2024-02-02_1-4-6/Fneu.npy\n",
      "      Saved Fneu.npy to /mnt/zeytin-f1/s3d-results/s3d-results-AH011_2024-02-02_1-4-6\n",
      "      Overwriting existing /mnt/zeytin-f1/s3d-results/s3d-results-AH011_2024-02-02_1-4-6/iscell.npy\n",
      "      Saved iscell.npy to /mnt/zeytin-f1/s3d-results/s3d-results-AH011_2024-02-02_1-4-6\n"
     ]
    }
   ],
   "source": [
    "job.export_results(export_path='/mnt/zeytin-f1/s3d-results/', result_dir_name='rois')"
   ]
  },
  {
   "cell_type": "code",
   "execution_count": null,
   "id": "25645072",
   "metadata": {},
   "outputs": [],
   "source": []
  },
  {
   "cell_type": "code",
   "execution_count": null,
   "id": "595ed298",
   "metadata": {},
   "outputs": [],
   "source": []
  },
  {
   "cell_type": "code",
   "execution_count": null,
   "id": "909e770a-7b85-4975-8ce5-f761a196a41b",
   "metadata": {},
   "outputs": [],
   "source": [
    "from suite3d "
   ]
  }
 ],
 "metadata": {
  "kernelspec": {
   "display_name": "Python [conda env:suite3d-gpu]",
   "language": "python",
   "name": "conda-env-suite3d-gpu-py"
  },
  "language_info": {
   "codemirror_mode": {
    "name": "ipython",
    "version": 3
   },
   "file_extension": ".py",
   "mimetype": "text/x-python",
   "name": "python",
   "nbconvert_exporter": "python",
   "pygments_lexer": "ipython3",
   "version": "3.8.18"
  }
 },
 "nbformat": 4,
 "nbformat_minor": 5
}
