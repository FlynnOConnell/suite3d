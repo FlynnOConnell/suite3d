{
 "cells": [
  {
   "cell_type": "code",
   "execution_count": 1,
   "id": "e236e1e4-476b-465a-b004-8d170eb22596",
   "metadata": {},
   "outputs": [],
   "source": [
    "%load_ext autoreload\n",
    "%autoreload "
   ]
  },
  {
   "cell_type": "code",
   "execution_count": 17,
   "id": "57921481-1451-477a-bdf8-cf14e3f92972",
   "metadata": {},
   "outputs": [],
   "source": [
    "\n",
    "import os \n",
    "import shutil\n",
    "import numpy as n\n",
    "from datetime import date\n",
    "from matplotlib import pyplot as plt\n",
    "import time\n",
    "\n",
    "os.chdir('/home/ali/packages/s2p-lbm/')\n",
    "\n",
    "import suite2p"
   ]
  },
  {
   "cell_type": "code",
   "execution_count": null,
   "id": "dc17830d-2b7c-441c-9f39-87b9c9ef626a",
   "metadata": {},
   "outputs": [],
   "source": [
    "os.listdir(os.path.join"
   ]
  },
  {
   "cell_type": "code",
   "execution_count": 31,
   "id": "5634c6ed-fc1a-41de-86a8-5c1db1c3300f",
   "metadata": {},
   "outputs": [],
   "source": [
    "subjects_dir =   '/mnt/zortex-subjects/'\n",
    "expt_info = { \n",
    "    'subject':         'SS003',\n",
    "    'date' :          '2024-08-15',\n",
    "    'expnum' :         [1,2,3,4],}\n",
    "\n",
    "fixed_tif_dir = '/mnt/md0/runs/s3d-SS003_2024-08-15_1-2-3-4/raw\n",
    "'"
   ]
  },
  {
   "cell_type": "code",
   "execution_count": 35,
   "id": "6858320e-93c9-46e8-be12-dd8145e5d829",
   "metadata": {},
   "outputs": [],
   "source": []
  },
  {
   "cell_type": "code",
   "execution_count": 36,
   "id": "26a757c0-0a88-4acc-9c38-55870124eb0d",
   "metadata": {},
   "outputs": [],
   "source": [
    "ops = suite2p.default_ops()\n",
    "ops['look_one_level_down'] = True\n",
    "ops['subfolders'] = [1,2,3,4]\n",
    "ops['nplanes'] = 7\n",
    "ops['fs'] = 4.284\n",
    "ops['batch_size'] = 400\n",
    "ops['threshold_scaling'] = 1.0\n",
    "ops['tau'] = 1.3\n",
    "ops['ignore_flyback'] = [0,1]\n",
    "ops['data_path'] = fixed_tif_dir\n",
    "ops['save_path0'] = '/mnt/md0/runs/s2p-SS003_2024-08-15_1-2-3-4/'\n",
    "# print(ops)"
   ]
  },
  {
   "cell_type": "code",
   "execution_count": 37,
   "id": "121e1cb7-9bbe-4f3f-bde6-34b3ca2d9209",
   "metadata": {},
   "outputs": [
    {
     "name": "stdout",
     "output_type": "stream",
     "text": [
      "{}\n",
      "tif\n",
      "Could not find any tiffs\n"
     ]
    },
    {
     "ename": "Exception",
     "evalue": "no tiffs",
     "output_type": "error",
     "traceback": [
      "\u001b[0;31m---------------------------------------------------------------------------\u001b[0m",
      "\u001b[0;31mException\u001b[0m                                 Traceback (most recent call last)",
      "File \u001b[0;32m<timed exec>:1\u001b[0m\n",
      "File \u001b[0;32m~/anaconda3/envs/s2p/lib/python3.9/site-packages/suite2p/run_s2p.py:505\u001b[0m, in \u001b[0;36mrun_s2p\u001b[0;34m(ops, db, server)\u001b[0m\n\u001b[1;32m    503\u001b[0m         ops0 \u001b[38;5;241m=\u001b[39m ops0[\u001b[38;5;241m0\u001b[39m]\n\u001b[1;32m    504\u001b[0m \u001b[38;5;28;01melse\u001b[39;00m:\n\u001b[0;32m--> 505\u001b[0m     ops0 \u001b[38;5;241m=\u001b[39m \u001b[43mio\u001b[49m\u001b[38;5;241;43m.\u001b[39;49m\u001b[43mtiff_to_binary\u001b[49m\u001b[43m(\u001b[49m\u001b[43mops\u001b[49m\u001b[38;5;241;43m.\u001b[39;49m\u001b[43mcopy\u001b[49m\u001b[43m(\u001b[49m\u001b[43m)\u001b[49m\u001b[43m)\u001b[49m\n\u001b[1;32m    507\u001b[0m plane_folders \u001b[38;5;241m=\u001b[39m natsorted([\n\u001b[1;32m    508\u001b[0m     f\u001b[38;5;241m.\u001b[39mpath\n\u001b[1;32m    509\u001b[0m     \u001b[38;5;28;01mfor\u001b[39;00m f \u001b[38;5;129;01min\u001b[39;00m os\u001b[38;5;241m.\u001b[39mscandir(save_folder)\n\u001b[1;32m    510\u001b[0m     \u001b[38;5;28;01mif\u001b[39;00m f\u001b[38;5;241m.\u001b[39mis_dir() \u001b[38;5;129;01mand\u001b[39;00m f\u001b[38;5;241m.\u001b[39mname[:\u001b[38;5;241m5\u001b[39m] \u001b[38;5;241m==\u001b[39m \u001b[38;5;124m\"\u001b[39m\u001b[38;5;124mplane\u001b[39m\u001b[38;5;124m\"\u001b[39m\n\u001b[1;32m    511\u001b[0m ])\n\u001b[1;32m    512\u001b[0m ops_paths \u001b[38;5;241m=\u001b[39m [os\u001b[38;5;241m.\u001b[39mpath\u001b[38;5;241m.\u001b[39mjoin(f, \u001b[38;5;124m\"\u001b[39m\u001b[38;5;124mops.npy\u001b[39m\u001b[38;5;124m\"\u001b[39m) \u001b[38;5;28;01mfor\u001b[39;00m f \u001b[38;5;129;01min\u001b[39;00m plane_folders]\n",
      "File \u001b[0;32m~/anaconda3/envs/s2p/lib/python3.9/site-packages/suite2p/io/tiff.py:168\u001b[0m, in \u001b[0;36mtiff_to_binary\u001b[0;34m(ops)\u001b[0m\n\u001b[1;32m    164\u001b[0m nchannels \u001b[38;5;241m=\u001b[39m ops1[\u001b[38;5;241m0\u001b[39m][\u001b[38;5;124m\"\u001b[39m\u001b[38;5;124mnchannels\u001b[39m\u001b[38;5;124m\"\u001b[39m]\n\u001b[1;32m    166\u001b[0m \u001b[38;5;66;03m# open all binary files for writing\u001b[39;00m\n\u001b[1;32m    167\u001b[0m \u001b[38;5;66;03m# look for tiffs in all requested folders\u001b[39;00m\n\u001b[0;32m--> 168\u001b[0m ops1, fs, reg_file, reg_file_chan2 \u001b[38;5;241m=\u001b[39m \u001b[43mutils\u001b[49m\u001b[38;5;241;43m.\u001b[39;49m\u001b[43mfind_files_open_binaries\u001b[49m\u001b[43m(\u001b[49m\u001b[43mops1\u001b[49m\u001b[43m,\u001b[49m\u001b[43m \u001b[49m\u001b[38;5;28;43;01mFalse\u001b[39;49;00m\u001b[43m)\u001b[49m\n\u001b[1;32m    169\u001b[0m ops \u001b[38;5;241m=\u001b[39m ops1[\u001b[38;5;241m0\u001b[39m]\n\u001b[1;32m    170\u001b[0m \u001b[38;5;66;03m# try tiff readers\u001b[39;00m\n",
      "File \u001b[0;32m~/anaconda3/envs/s2p/lib/python3.9/site-packages/suite2p/io/utils.py:320\u001b[0m, in \u001b[0;36mfind_files_open_binaries\u001b[0;34m(ops1, ish5)\u001b[0m\n\u001b[1;32m    317\u001b[0m     \u001b[38;5;28mprint\u001b[39m(\u001b[38;5;124m\"\u001b[39m\u001b[38;5;130;01m\\n\u001b[39;00m\u001b[38;5;124m\"\u001b[39m\u001b[38;5;241m.\u001b[39mjoin(fs))\n\u001b[1;32m    318\u001b[0m \u001b[38;5;28;01melse\u001b[39;00m:\n\u001b[1;32m    319\u001b[0m     \u001b[38;5;66;03m# find tiffs\u001b[39;00m\n\u001b[0;32m--> 320\u001b[0m     fs, ops2 \u001b[38;5;241m=\u001b[39m \u001b[43mget_tif_list\u001b[49m\u001b[43m(\u001b[49m\u001b[43mops1\u001b[49m\u001b[43m[\u001b[49m\u001b[38;5;241;43m0\u001b[39;49m\u001b[43m]\u001b[49m\u001b[43m)\u001b[49m\n\u001b[1;32m    321\u001b[0m     \u001b[38;5;28;01mfor\u001b[39;00m ops \u001b[38;5;129;01min\u001b[39;00m ops1:\n\u001b[1;32m    322\u001b[0m         ops[\u001b[38;5;124m\"\u001b[39m\u001b[38;5;124mfirst_tiffs\u001b[39m\u001b[38;5;124m\"\u001b[39m] \u001b[38;5;241m=\u001b[39m ops2[\u001b[38;5;124m\"\u001b[39m\u001b[38;5;124mfirst_tiffs\u001b[39m\u001b[38;5;124m\"\u001b[39m]\n",
      "File \u001b[0;32m~/anaconda3/envs/s2p/lib/python3.9/site-packages/suite2p/io/utils.py:201\u001b[0m, in \u001b[0;36mget_tif_list\u001b[0;34m(ops)\u001b[0m\n\u001b[1;32m    199\u001b[0m \u001b[38;5;28;01mif\u001b[39;00m \u001b[38;5;28mlen\u001b[39m(fsall) \u001b[38;5;241m==\u001b[39m \u001b[38;5;241m0\u001b[39m:\n\u001b[1;32m    200\u001b[0m     \u001b[38;5;28mprint\u001b[39m(\u001b[38;5;124m\"\u001b[39m\u001b[38;5;124mCould not find any tiffs\u001b[39m\u001b[38;5;124m\"\u001b[39m)\n\u001b[0;32m--> 201\u001b[0m     \u001b[38;5;28;01mraise\u001b[39;00m \u001b[38;5;167;01mException\u001b[39;00m(\u001b[38;5;124m\"\u001b[39m\u001b[38;5;124mno tiffs\u001b[39m\u001b[38;5;124m\"\u001b[39m)\n\u001b[1;32m    202\u001b[0m \u001b[38;5;28;01melse\u001b[39;00m:\n\u001b[1;32m    203\u001b[0m     ops[\u001b[38;5;124m\"\u001b[39m\u001b[38;5;124mfirst_tiffs\u001b[39m\u001b[38;5;124m\"\u001b[39m] \u001b[38;5;241m=\u001b[39m np\u001b[38;5;241m.\u001b[39marray(first_tiffs)\u001b[38;5;241m.\u001b[39mastype(\u001b[38;5;124m\"\u001b[39m\u001b[38;5;124mbool\u001b[39m\u001b[38;5;124m\"\u001b[39m)\n",
      "\u001b[0;31mException\u001b[0m: no tiffs"
     ]
    }
   ],
   "source": [
    "%%time\n",
    "output_ops = suite2p.run_s2p(ops=ops)"
   ]
  },
  {
   "cell_type": "code",
   "execution_count": null,
   "id": "4d009980-1f23-4e98-ad95-c887799cd34e",
   "metadata": {},
   "outputs": [],
   "source": []
  }
 ],
 "metadata": {
  "kernelspec": {
   "display_name": "Python [conda env:s2p]",
   "language": "python",
   "name": "conda-env-s2p-py"
  },
  "language_info": {
   "codemirror_mode": {
    "name": "ipython",
    "version": 3
   },
   "file_extension": ".py",
   "mimetype": "text/x-python",
   "name": "python",
   "nbconvert_exporter": "python",
   "pygments_lexer": "ipython3",
   "version": "3.9.20"
  }
 },
 "nbformat": 4,
 "nbformat_minor": 5
}
