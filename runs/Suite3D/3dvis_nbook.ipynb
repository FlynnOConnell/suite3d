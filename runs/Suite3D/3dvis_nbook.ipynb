{
 "cells": [
  {
   "cell_type": "code",
   "execution_count": 3,
   "id": "e9f9827c-9d19-458b-8894-f609f94781e9",
   "metadata": {},
   "outputs": [],
   "source": [
    "%load_ext autoreload\n",
    "%autoreload \n",
    "\n",
    "import os \n",
    "import shutil\n",
    "import numpy as n\n",
    "from datetime import date\n",
    "from matplotlib import pyplot as plt\n",
    "import time\n",
    "import napari"
   ]
  },
  {
   "cell_type": "code",
   "execution_count": 4,
   "id": "d2b9f0dc-9b7b-47c4-b336-06031c2a0d29",
   "metadata": {},
   "outputs": [
    {
     "name": "stderr",
     "output_type": "stream",
     "text": [
      "/home/ali/anaconda3/envs/suite3d-gpu/lib/python3.8/site-packages/paramiko/pkey.py:100: CryptographyDeprecationWarning: TripleDES has been moved to cryptography.hazmat.decrepit.ciphers.algorithms.TripleDES and will be removed from this module in 48.0.0.\n",
      "  \"cipher\": algorithms.TripleDES,\n",
      "/home/ali/anaconda3/envs/suite3d-gpu/lib/python3.8/site-packages/paramiko/transport.py:258: CryptographyDeprecationWarning: TripleDES has been moved to cryptography.hazmat.decrepit.ciphers.algorithms.TripleDES and will be removed from this module in 48.0.0.\n",
      "  \"class\": algorithms.TripleDES,\n"
     ]
    }
   ],
   "source": [
    "os.chdir('/home/ali/packages/s2p-lbm/')\n",
    "\n",
    "from suite3d.job import Job\n",
    "from suite3d import lbmio, utils, ui, nbtools\n",
    "from suite3d.io import get_tif_tag\n",
    "from suite3d import tiff_utils as tfu\n",
    "from suite3d import file_utils as flu"
   ]
  },
  {
   "cell_type": "code",
   "execution_count": 5,
   "id": "720ee13a-7253-4a3b-8253-c1168bdffb28",
   "metadata": {},
   "outputs": [],
   "source": [
    "subjects_dir =   '/mnt/zortex-subjects/'\n",
    "expt_info = { \n",
    "    'subject':         'SS003',\n",
    "    'date' :          '2024-08-15',\n",
    "    'expnum' :         [1,2,3,4],}\n",
    "\n",
    "tifs, si_params, exp_str = flu.find_exp(subjects_dir, **expt_info, verbose=False, get_si_params=False)\n",
    "vol_rate = get_tif_tag(tifs[0],'SI.hRoiManager.scanVolumeRate')"
   ]
  },
  {
   "cell_type": "code",
   "execution_count": 6,
   "id": "4caaaf1d-ac54-4b0c-8252-165f7f932ff3",
   "metadata": {},
   "outputs": [
    {
     "name": "stdout",
     "output_type": "stream",
     "text": [
      "   Found and loaded params from /mnt/md0/runs/s3d-SS003_2024-08-15_1-2-3-4/params.npy\n"
     ]
    },
    {
     "name": "stderr",
     "output_type": "stream",
     "text": [
      "/tmp/ipykernel_240409/756748267.py:9: DeprecationWarning: Function get_tif_paths is deprecated. Refactor: use the one in suite3d.io.tiff_utils instead.\n",
      "  tifs = n.concatenate([tfu.get_tif_paths(os.path.join(fixed_tif_dir,str(dir))) for dir in expt_info['expnum']])\n"
     ]
    }
   ],
   "source": [
    "subjects_dir =   '/mnt/zortex-subjects/'\n",
    "expt_info = { \n",
    "    'subject':         'SS003',\n",
    "    'date' :          '2024-08-15',\n",
    "    'expnum' :         [1,2,3,4],}\n",
    "\n",
    "original_tifs, si_params, exp_str = flu.find_exp(subjects_dir, **expt_info, verbose=False, get_si_params=False)\n",
    "fixed_tif_dir = '/mnt/md0/runs/s3d-SS003_2024-08-15_1-2-3-4/raw'\n",
    "tifs = n.concatenate([tfu.get_tif_paths(os.path.join(fixed_tif_dir,str(dir))) for dir in expt_info['expnum']])\n",
    "vol_rate = get_tif_tag(original_tifs[0],'SI.hRoiManager.scanVolumeRate')\n",
    "\n",
    "job_params = {    \n",
    "    # number of channels recorded in the tiff file, typically 30\n",
    "    'n_ch_tif' : 7,\n",
    "    # convert from the Scanimage channel ordering to deep-to-shallow ordering\n",
    "    # in our case, ScanImage channel numbers are in temporal order. \n",
    "    'planes' : n.array([ 0, 1,2,3,4,5,6]),\n",
    "    # number of files to use for the initial pass\n",
    "    'n_init_files' :   1,\n",
    "\n",
    "    # volume rate in acquisition\n",
    "    'fs' : vol_rate,\n",
    "    'lbm' : False,\n",
    "    'subtract_crosstalk' : False,\n",
    "    'fuse_strips' : False,\n",
    "    \n",
    "    # 3D GPU registration - fast! \n",
    "    # for now, 3D + GPU are well-tested, other options might have minor bugs\n",
    "    # if you run into them, let us know! we'll fix them\n",
    "    '3d_reg' : False,\n",
    "    'gpu_reg' : True,\n",
    "}\n",
    "\n",
    "\n",
    "savedir = os.path.join('/mnt/md0/runs', expt_info['subject'], expt_info['date'])\n",
    "os.makedirs(savedir, exist_ok=True)\n",
    "\n",
    "# Create the job\n",
    "job = Job('/mnt/md0/runs',exp_str, tifs = tifs,\n",
    "          params=job_params, create=False, overwrite=False, verbosity = 3)"
   ]
  },
  {
   "cell_type": "code",
   "execution_count": 7,
   "id": "f890f970-84cc-4a5b-ab8a-af192febba02",
   "metadata": {},
   "outputs": [],
   "source": [
    "img3d = job.load_summary()['ref_img_3d']"
   ]
  },
  {
   "cell_type": "code",
   "execution_count": 11,
   "id": "ea759686-118a-4ace-807d-1dc467305f25",
   "metadata": {},
   "outputs": [],
   "source": [
    "corr_map = job.load_corr_map_results()['vmap']"
   ]
  },
  {
   "cell_type": "code",
   "execution_count": 8,
   "id": "5e52d471-5d31-472a-bcfb-99f70cf5b25f",
   "metadata": {},
   "outputs": [],
   "source": [
    "import k3d"
   ]
  },
  {
   "cell_type": "code",
   "execution_count": 13,
   "id": "87d51cf3-9f77-49de-88f0-87dd3ea1a5c3",
   "metadata": {},
   "outputs": [],
   "source": [
    "from k3d.colormaps import matplotlib_color_maps"
   ]
  },
  {
   "cell_type": "code",
   "execution_count": 18,
   "id": "ee6aa492-35db-43a6-abf9-f5b1dfad9259",
   "metadata": {},
   "outputs": [
    {
     "name": "stdout",
     "output_type": "stream",
     "text": [
      "      Loading from /mnt/md0/runs/s3d-SS003_2024-08-15_1-2-3-4/rois/info.npy\n",
      "      Loading from /mnt/md0/runs/s3d-SS003_2024-08-15_1-2-3-4/rois/stats.npy\n",
      "      Loading from /mnt/md0/runs/s3d-SS003_2024-08-15_1-2-3-4/rois/iscell.npy\n"
     ]
    }
   ],
   "source": [
    "seg = job.load_segmentation_results()\n",
    "shape = seg['info']['vmap'].shape\n",
    "cell_id_vol, rgb_vol = ui.make_label_vols(seg['stats'], shape, lam_max=0.25, cmap='Set1',)"
   ]
  },
  {
   "cell_type": "code",
   "execution_count": 28,
   "id": "9e3225d8-a098-4b11-bdac-ec933d9a3851",
   "metadata": {},
   "outputs": [
    {
     "data": {
      "application/vnd.jupyter.widget-view+json": {
       "model_id": "e7d866ca03434c78a2b943c4f54be970",
       "version_major": 2,
       "version_minor": 0
      },
      "text/plain": [
       "Output()"
      ]
     },
     "metadata": {},
     "output_type": "display_data"
    }
   ],
   "source": [
    "plot = k3d.plot()\n",
    "plt_corrmap = k3d.marching_cubes(rgb_vol[1:, :,:,3], level = 0.5, color=0xe31b23)\n",
    "plt_mip = k3d.mip(corr_map[1:, 200:400, 200:400], color_map = matplotlib_color_maps.Greys, color_range = [0,5],)\n",
    "plot += plt_corrmap\n",
    "plot += plt_mip\n",
    "plot.display()"
   ]
  },
  {
   "cell_type": "code",
   "execution_count": 16,
   "id": "5a7be894-5222-4f3d-b5aa-02ca3214b8de",
   "metadata": {},
   "outputs": [
    {
     "data": {
      "application/vnd.jupyter.widget-view+json": {
       "model_id": "3b84b30f78a5439a9ffb53a65efab3f7",
       "version_major": 2,
       "version_minor": 0
      },
      "text/plain": [
       "Output()"
      ]
     },
     "metadata": {},
     "output_type": "display_data"
    }
   ],
   "source": [
    "# plt_mip = k3d.mip(corr_map[1:, 200:400, 200:400], color_map = matplotlib_color_maps.Greys, color_range = [0,5],)\n",
    "# plot = k3d.plot()\n",
    "# plot += plt_mip\n",
    "# plot.display()"
   ]
  },
  {
   "cell_type": "code",
   "execution_count": null,
   "id": "98795807-ef71-4384-9df0-1361098f39bd",
   "metadata": {},
   "outputs": [],
   "source": []
  },
  {
   "cell_type": "code",
   "execution_count": null,
   "id": "ae6a4e96-ca9d-4df4-bb47-d1027ceb36be",
   "metadata": {},
   "outputs": [],
   "source": []
  }
 ],
 "metadata": {
  "kernelspec": {
   "display_name": "Python [conda env:suite3d-gpu]",
   "language": "python",
   "name": "conda-env-suite3d-gpu-py"
  },
  "language_info": {
   "codemirror_mode": {
    "name": "ipython",
    "version": 3
   },
   "file_extension": ".py",
   "mimetype": "text/x-python",
   "name": "python",
   "nbconvert_exporter": "python",
   "pygments_lexer": "ipython3",
   "version": "3.8.20"
  }
 },
 "nbformat": 4,
 "nbformat_minor": 5
}
