{
 "cells": [
  {
   "cell_type": "code",
   "execution_count": 1,
   "id": "f57652f9",
   "metadata": {},
   "outputs": [],
   "source": [
    "%load_ext autoreload\n",
    "%autoreload 2\n",
    "\n",
    "import os \n",
    "import shutil\n",
    "import numpy as n\n",
    "from datetime import date\n",
    "from matplotlib import pyplot as plt\n",
    "import time\n",
    "import napari"
   ]
  },
  {
   "cell_type": "code",
   "execution_count": 2,
   "id": "1d4aca1f",
   "metadata": {},
   "outputs": [
    {
     "name": "stderr",
     "output_type": "stream",
     "text": [
      "/home/ali/anaconda3/envs/suite3d-gpu/lib/python3.8/site-packages/paramiko/pkey.py:100: CryptographyDeprecationWarning: TripleDES has been moved to cryptography.hazmat.decrepit.ciphers.algorithms.TripleDES and will be removed from this module in 48.0.0.\n",
      "  \"cipher\": algorithms.TripleDES,\n",
      "/home/ali/anaconda3/envs/suite3d-gpu/lib/python3.8/site-packages/paramiko/transport.py:258: CryptographyDeprecationWarning: TripleDES has been moved to cryptography.hazmat.decrepit.ciphers.algorithms.TripleDES and will be removed from this module in 48.0.0.\n",
      "  \"class\": algorithms.TripleDES,\n"
     ]
    }
   ],
   "source": [
    "os.chdir('/home/ali/packages/s2p-lbm/')\n",
    "\n",
    "from suite3d.job import Job\n",
    "from suite3d import lbmio, utils, ui\n",
    "from suite3d import tiff_utils as tfu\n",
    "from suite3d import file_utils as flu"
   ]
  },
  {
   "cell_type": "code",
   "execution_count": 27,
   "id": "b49daef7-1c10-45df-a9c6-0ee17b03a01a",
   "metadata": {},
   "outputs": [],
   "source": [
    "subjects_dir =   '/mnt/zortex-subjects/'\n",
    "expt_info = { \n",
    "    'subject':         'CR031',\n",
    "    'date' :          '2024-12-06',\n",
    "    'expnum' :         [1],}\n",
    "\n",
    "tifs, si_params, exp_str = flu.find_exp(subjects_dir, **expt_info, verbose=False)\n",
    "\n",
    "job_params = {    \n",
    "    # number of channels recorded in the tiff file, typically 30\n",
    "    'n_ch_tif' : 26,\n",
    "    # number of planes in the deeper cavity, typically 15\n",
    "    'cavity_size' : 13,\n",
    "    # convert from the Scanimage channel ordering to deep-to-shallow ordering\n",
    "    # in our case, ScanImage channel numbers are in temporal order. \n",
    "    'planes' : n.array([ 0,  2,  4,  6,  8, 10, 12, 14,\n",
    "                        16, 18, 20, 22]),\n",
    "    # number of files to use for the initial pass\n",
    "    'n_init_files' :   4,\n",
    "    \n",
    "    # number of pixels to fuse between the ROI strips\n",
    "    # the auto-detection doesn't always work well, recommend \n",
    "    # manually tuning it to reduce the stitching artifacts\n",
    "    'fuse_shift_override' : 6,\n",
    "    \n",
    "    # will try to automatically estimate crosstalk using \n",
    "    # the shallowest crosstalk_n_planes planes. if you want to override,\n",
    "    # set override_crosstalk = float between 0 and 1\n",
    "    'subtract_crosstalk' : False,\n",
    "    \n",
    "    # volume rate in acquisition\n",
    "    'fs' : flu.get_si_params(tifs[0])['vol_rate'],\n",
    "    \n",
    "    # 3D GPU registration - fast! \n",
    "    # for now, 3D + GPU are well-tested, other options might have minor bugs\n",
    "    # if you run into them, let us know! we'll fix them\n",
    "    '3d_reg' : True,\n",
    "    'gpu_reg' : True,\n",
    "}\n"
   ]
  },
  {
   "cell_type": "code",
   "execution_count": 28,
   "id": "756185f0-759d-4ec3-8463-7e9b11c56b55",
   "metadata": {},
   "outputs": [
    {
     "name": "stdout",
     "output_type": "stream",
     "text": [
      "Loading job directory for CR031_2024-12-06_1 in /mnt/md0/runs\n",
      "      Created dir /mnt/md0/runs/s3d-CR031_2024-12-06_1/registered_fused_data\n",
      "      Created dir /mnt/md0/runs/s3d-CR031_2024-12-06_1/summary\n",
      "      Created dir /mnt/md0/runs/s3d-CR031_2024-12-06_1/iters\n",
      "   Loading default params\n",
      "      Updating param n_ch_tif\n",
      "      Updating param cavity_size\n",
      "      Updating param planes\n",
      "      Updating param n_init_files\n",
      "      Updating param fuse_shift_override\n",
      "      Updating param subtract_crosstalk\n",
      "      Updating param fs\n",
      "      Updating param 3d_reg\n",
      "      Updating param gpu_reg\n",
      "   Updated main params file\n"
     ]
    }
   ],
   "source": [
    "\n",
    "job_params['fs'] = si_params['vol_rate']\n",
    "\n",
    "savedir = os.path.join('/mnt/md0/runs', expt_info['subject'], expt_info['date'])\n",
    "os.makedirs(savedir, exist_ok=True)\n",
    "\n",
    "# Create the job\n",
    "job = Job('/mnt/md0/runs',exp_str, tifs = tifs,\n",
    "          params=job_params, create=True, overwrite=True, verbosity = 3)"
   ]
  },
  {
   "cell_type": "code",
   "execution_count": 29,
   "id": "4969f94e",
   "metadata": {},
   "outputs": [],
   "source": [
    "# optional parameters for initialization\n",
    "# load 1 file to initialize, and select 200 frames randomly to do initalization on\n",
    "job.params['n_init_files'] = 4\n",
    "job.params['init_n_frames'] = None\n",
    "job.params['init_file_sample_method'] = 'even'\n",
    "job.params['voxel_size_um'] = (20, 2.5, 2.5)\n",
    "job.params['fix_shallow_plane_shift_estimates'] = False"
   ]
  },
  {
   "cell_type": "code",
   "execution_count": 42,
   "id": "c5310b6e",
   "metadata": {},
   "outputs": [],
   "source": [
    "# %%time\n",
    "# summary = job.run_init_pass()"
   ]
  },
  {
   "cell_type": "code",
   "execution_count": null,
   "id": "8a036bc9-e99e-46fe-9d03-7c129020fb01",
   "metadata": {},
   "outputs": [],
   "source": [
    "summary = job.load_summary()\n",
    "img = summary['ref_img_3d']"
   ]
  },
  {
   "cell_type": "code",
   "execution_count": 43,
   "id": "1a695d55-d495-45a9-b1f6-153a192ec2a7",
   "metadata": {},
   "outputs": [
    {
     "data": {
      "application/vnd.jupyter.widget-view+json": {
       "model_id": "ba6ffd46003a479b9238069321198d8f",
       "version_major": 2,
       "version_minor": 0
      },
      "text/plain": [
       "interactive(children=(RadioButtons(description='Slice plane selection:', options=('x-y', 'y-z', 'z-x'), style=…"
      ]
     },
     "metadata": {},
     "output_type": "display_data"
    },
    {
     "data": {
      "text/plain": [
       "<suite3d.nbtools.ImageSliceViewer3D at 0x7f4d24c0e610>"
      ]
     },
     "execution_count": 43,
     "metadata": {},
     "output_type": "execute_result"
    }
   ],
   "source": [
    "nbui.ImageSliceViewer3D(img)"
   ]
  },
  {
   "cell_type": "code",
   "execution_count": 44,
   "id": "d45d99a0",
   "metadata": {},
   "outputs": [],
   "source": [
    "# split the large tiffs into files of size 100 after registration\n",
    "job.params['split_tif_size'] = 100"
   ]
  },
  {
   "cell_type": "code",
   "execution_count": 45,
   "id": "e465e68a",
   "metadata": {
    "scrolled": true
   },
   "outputs": [
    {
     "name": "stdout",
     "output_type": "stream",
     "text": [
      "      Found dir /mnt/md0/runs/s3d-CR031_2024-12-06_1/registered_fused_data\n",
      "      Updating self.dirs tag registered_fused_data\n",
      "   Saved a copy of params at /mnt/md0/runs/s3d-CR031_2024-12-06_1/registered_fused_data\n",
      "   Updated main params file\n",
      "   Starting registration: 3D: True, GPU: True\n",
      "   Overriding fuse shift value to 6\n",
      "   Not clipping frames for registration\n",
      "Will analyze 55 tifs in 55 batches\n",
      "   Enforcing positivity\n",
      "   Launching IO thread\n",
      "         Memory at batch 0.  Total Used: 129.358 GB, Virtual Available: 376.754 GB, Virtual Used: 126.442 GB, Swap Used: 002.916 GB\n",
      "Loading Batch 0 of 54\n",
      "      Loading /mnt/zortex-subjects/CR031/2024-12-06/1/2024-12-06_1_CR031_2P_00001_00001.tif\n",
      "    Loaded file into shared memory in 1.84 sec\n"
     ]
    },
    {
     "name": "stderr",
     "output_type": "stream",
     "text": [
      "Numba: Attempted to fork from a non-main thread, the TBB library may be in an invalid state in the child process.\n",
      "Numba: Attempted to fork from a non-main thread, the TBB library may be in an invalid state in the child process.\n",
      "Numba: Attempted to fork from a non-main thread, the TBB library may be in an invalid state in the child process.\n",
      "Numba: Attempted to fork from a non-main thread, the TBB library may be in an invalid state in the child process.\n",
      "Numba: Attempted to fork from a non-main thread, the TBB library may be in an invalid state in the child process.\n",
      "Numba: Attempted to fork from a non-main thread, the TBB library may be in an invalid state in the child process.\n",
      "Numba: Attempted to fork from a non-main thread, the TBB library may be in an invalid state in the child process.\n",
      "Numba: Attempted to fork from a non-main thread, the TBB library may be in an invalid state in the child process.\n",
      "Numba: Attempted to fork from a non-main thread, the TBB library may be in an invalid state in the child process.\n",
      "Numba: Attempted to fork from a non-main thread, the TBB library may be in an invalid state in the child process.\n",
      "Numba: Attempted to fork from a non-main thread, the TBB library may be in an invalid state in the child process.\n",
      "Numba: Attempted to fork from a non-main thread, the TBB library may be in an invalid state in the child process.\n",
      "Numba: Attempted to fork from a non-main thread, the TBB library may be in an invalid state in the child process.\n",
      "Numba: Attempted to fork from a non-main thread, the TBB library may be in an invalid state in the child process.\n",
      "Numba: Attempted to fork from a non-main thread, the TBB library may be in an invalid state in the child process.\n",
      "Numba: Attempted to fork from a non-main thread, the TBB library may be in an invalid state in the child process.\n"
     ]
    },
    {
     "name": "stdout",
     "output_type": "stream",
     "text": [
      "    Workers completed in 0.98 sec\n",
      "    Total time: 2.82 sec\n",
      "   Loaded 1 files, total 0.32 GB\n",
      "   Batch 0 IO thread joined\n",
      "         Memory after IO thread joinTotal Used: 129.704 GB, Virtual Available: 376.408 GB, Virtual Used: 126.788 GB, Swap Used: 002.916 GB\n",
      "         Memory after movie copied from threadTotal Used: 130.020 GB, Virtual Available: 376.091 GB, Virtual Used: 127.105 GB, Swap Used: 002.916 GB\n",
      "         Memory after thread memory clearedTotal Used: 129.699 GB, Virtual Available: 376.412 GB, Virtual Used: 126.783 GB, Swap Used: 002.916 GB\n",
      "   Launching IO thread for next batch\n",
      "         After IO thread launch:Total Used: 129.699 GB, Virtual Available: 376.412 GB, Virtual Used: 126.783 GB, Swap Used: 002.916 GB\n",
      "      Loaded batch of size (12, 50, 500, 576)\n",
      "      Loading /mnt/zortex-subjects/CR031/2024-12-06/1/2024-12-06_1_CR031_2P_00001_00002.tif\n",
      "   Completed rigid reg on batch in :0.998887300491333s\n",
      "   Shifted the mov in: 0.30773377418518066s\n",
      "         After all GPU Batches:Total Used: 131.296 GB, Virtual Available: 374.815 GB, Virtual Used: 128.380 GB, Swap Used: 002.916 GB\n",
      "      Saving fused, registered file of shape (12, 50, 587, 676) to /mnt/md0/runs/s3d-CR031_2024-12-06_1/registered_fused_data/fused_reg_data0000.npy\n",
      "         Saved in 0.39 sec\n",
      "      Computing quality metrics and saving\n"
     ]
    },
    {
     "name": "stderr",
     "output_type": "stream",
     "text": [
      "/home/ali/packages/s2p-lbm/suite3d/quality_metrics.py:22: RuntimeWarning: divide by zero encountered in divide\n",
      "  'signal_to_background_ratio' : sig / bg,\n"
     ]
    },
    {
     "name": "stdout",
     "output_type": "stream",
     "text": [
      "         After full batch saving:Total Used: 132.759 GB, Virtual Available: 373.353 GB, Virtual Used: 129.843 GB, Swap Used: 002.916 GB\n",
      "         Memory at batch 1.  Total Used: 132.760 GB, Virtual Available: 373.352 GB, Virtual Used: 129.844 GB, Swap Used: 002.916 GB\n",
      "Loading Batch 1 of 54\n",
      "    Loaded file into shared memory in 2.06 sec\n"
     ]
    },
    {
     "name": "stderr",
     "output_type": "stream",
     "text": [
      "Numba: Attempted to fork from a non-main thread, the TBB library may be in an invalid state in the child process.\n",
      "Numba: Attempted to fork from a non-main thread, the TBB library may be in an invalid state in the child process.\n",
      "Numba: Attempted to fork from a non-main thread, the TBB library may be in an invalid state in the child process.\n",
      "Numba: Attempted to fork from a non-main thread, the TBB library may be in an invalid state in the child process.\n",
      "Numba: Attempted to fork from a non-main thread, the TBB library may be in an invalid state in the child process.\n",
      "Numba: Attempted to fork from a non-main thread, the TBB library may be in an invalid state in the child process.\n",
      "Numba: Attempted to fork from a non-main thread, the TBB library may be in an invalid state in the child process.\n",
      "Numba: Attempted to fork from a non-main thread, the TBB library may be in an invalid state in the child process.\n",
      "Numba: Attempted to fork from a non-main thread, the TBB library may be in an invalid state in the child process.\n",
      "Numba: Attempted to fork from a non-main thread, the TBB library may be in an invalid state in the child process.\n",
      "Numba: Attempted to fork from a non-main thread, the TBB library may be in an invalid state in the child process.\n",
      "Numba: Attempted to fork from a non-main thread, the TBB library may be in an invalid state in the child process.\n",
      "Numba: Attempted to fork from a non-main thread, the TBB library may be in an invalid state in the child process.\n",
      "Numba: Attempted to fork from a non-main thread, the TBB library may be in an invalid state in the child process.\n",
      "Numba: Attempted to fork from a non-main thread, the TBB library may be in an invalid state in the child process.\n",
      "Numba: Attempted to fork from a non-main thread, the TBB library may be in an invalid state in the child process.\n"
     ]
    },
    {
     "name": "stdout",
     "output_type": "stream",
     "text": [
      "    Workers completed in 1.34 sec\n",
      "    Total time: 3.40 sec\n",
      "   Loaded 1 files, total 0.32 GB\n",
      "   Batch 1 IO thread joined\n",
      "         Memory after IO thread joinTotal Used: 131.609 GB, Virtual Available: 374.502 GB, Virtual Used: 128.693 GB, Swap Used: 002.916 GB\n",
      "         Memory after movie copied from threadTotal Used: 131.043 GB, Virtual Available: 375.068 GB, Virtual Used: 128.128 GB, Swap Used: 002.916 GB\n",
      "         Memory after thread memory clearedTotal Used: 130.689 GB, Virtual Available: 375.423 GB, Virtual Used: 127.773 GB, Swap Used: 002.916 GB\n",
      "   Launching IO thread for next batch\n",
      "         After IO thread launch:Total Used: 130.689 GB, Virtual Available: 375.423 GB, Virtual Used: 127.773 GB, Swap Used: 002.916 GB\n",
      "      Loaded batch of size (12, 50, 500, 576)\n",
      "      Loading /mnt/zortex-subjects/CR031/2024-12-06/1/2024-12-06_1_CR031_2P_00001_00003.tif\n",
      "   Completed rigid reg on batch in :0.9975316524505615s\n",
      "   Shifted the mov in: 0.3131229877471924s\n",
      "         After all GPU Batches:Total Used: 132.297 GB, Virtual Available: 373.814 GB, Virtual Used: 129.381 GB, Swap Used: 002.916 GB\n",
      "      Saving fused, registered file of shape (12, 50, 587, 676) to /mnt/md0/runs/s3d-CR031_2024-12-06_1/registered_fused_data/fused_reg_data0001.npy\n",
      "         Saved in 0.39 sec\n",
      "      Computing quality metrics and saving\n",
      "    Loaded file into shared memory in 2.05 sec\n"
     ]
    },
    {
     "name": "stderr",
     "output_type": "stream",
     "text": [
      "Numba: Attempted to fork from a non-main thread, the TBB library may be in an invalid state in the child process.\n",
      "Numba: Attempted to fork from a non-main thread, the TBB library may be in an invalid state in the child process.\n",
      "Numba: Attempted to fork from a non-main thread, the TBB library may be in an invalid state in the child process.\n",
      "Numba: Attempted to fork from a non-main thread, the TBB library may be in an invalid state in the child process.\n",
      "Numba: Attempted to fork from a non-main thread, the TBB library may be in an invalid state in the child process.\n",
      "Numba: Attempted to fork from a non-main thread, the TBB library may be in an invalid state in the child process.\n",
      "Numba: Attempted to fork from a non-main thread, the TBB library may be in an invalid state in the child process.\n",
      "Numba: Attempted to fork from a non-main thread, the TBB library may be in an invalid state in the child process.\n"
     ]
    },
    {
     "name": "stdout",
     "output_type": "stream",
     "text": [
      "         After full batch saving:Total Used: 134.024 GB, Virtual Available: 372.087 GB, Virtual Used: 131.108 GB, Swap Used: 002.916 GB\n",
      "         Memory at batch 2.  Total Used: 134.029 GB, Virtual Available: 372.083 GB, Virtual Used: 131.113 GB, Swap Used: 002.916 GB\n",
      "Loading Batch 2 of 54\n"
     ]
    },
    {
     "name": "stderr",
     "output_type": "stream",
     "text": [
      "Numba: Attempted to fork from a non-main thread, the TBB library may be in an invalid state in the child process.\n",
      "Numba: Attempted to fork from a non-main thread, the TBB library may be in an invalid state in the child process.\n",
      "Numba: Attempted to fork from a non-main thread, the TBB library may be in an invalid state in the child process.\n",
      "Numba: Attempted to fork from a non-main thread, the TBB library may be in an invalid state in the child process.\n",
      "Numba: Attempted to fork from a non-main thread, the TBB library may be in an invalid state in the child process.\n",
      "Numba: Attempted to fork from a non-main thread, the TBB library may be in an invalid state in the child process.\n",
      "Numba: Attempted to fork from a non-main thread, the TBB library may be in an invalid state in the child process.\n",
      "Numba: Attempted to fork from a non-main thread, the TBB library may be in an invalid state in the child process.\n"
     ]
    },
    {
     "name": "stdout",
     "output_type": "stream",
     "text": [
      "    Workers completed in 1.06 sec\n",
      "    Total time: 3.11 sec\n",
      "   Loaded 1 files, total 0.32 GB\n",
      "   Batch 2 IO thread joined\n",
      "         Memory after IO thread joinTotal Used: 131.572 GB, Virtual Available: 374.540 GB, Virtual Used: 128.656 GB, Swap Used: 002.916 GB\n",
      "         Memory after movie copied from threadTotal Used: 131.005 GB, Virtual Available: 375.107 GB, Virtual Used: 128.089 GB, Swap Used: 002.916 GB\n",
      "         Memory after thread memory clearedTotal Used: 130.682 GB, Virtual Available: 375.430 GB, Virtual Used: 127.766 GB, Swap Used: 002.916 GB\n",
      "   Launching IO thread for next batch\n",
      "         After IO thread launch:Total Used: 130.682 GB, Virtual Available: 375.430 GB, Virtual Used: 127.766 GB, Swap Used: 002.916 GB\n",
      "      Loaded batch of size (12, 50, 500, 576)\n",
      "      Loading /mnt/zortex-subjects/CR031/2024-12-06/1/2024-12-06_1_CR031_2P_00001_00004.tif\n",
      "   Completed rigid reg on batch in :1.008253574371338s\n",
      "   Shifted the mov in: 0.29028868675231934s\n",
      "         After all GPU Batches:Total Used: 132.137 GB, Virtual Available: 373.975 GB, Virtual Used: 129.221 GB, Swap Used: 002.916 GB\n",
      "      Saving fused, registered file of shape (12, 50, 587, 676) to /mnt/md0/runs/s3d-CR031_2024-12-06_1/registered_fused_data/fused_reg_data0002.npy\n",
      "         Saved in 0.39 sec\n",
      "      Computing quality metrics and saving\n",
      "         After full batch saving:Total Used: 132.715 GB, Virtual Available: 373.397 GB, Virtual Used: 129.799 GB, Swap Used: 002.916 GB\n",
      "         Memory at batch 3.  Total Used: 132.715 GB, Virtual Available: 373.396 GB, Virtual Used: 129.799 GB, Swap Used: 002.916 GB\n",
      "Loading Batch 3 of 54\n",
      "    Loaded file into shared memory in 2.10 sec\n"
     ]
    },
    {
     "name": "stderr",
     "output_type": "stream",
     "text": [
      "Numba: Attempted to fork from a non-main thread, the TBB library may be in an invalid state in the child process.\n",
      "Numba: Attempted to fork from a non-main thread, the TBB library may be in an invalid state in the child process.\n",
      "Numba: Attempted to fork from a non-main thread, the TBB library may be in an invalid state in the child process.\n",
      "Numba: Attempted to fork from a non-main thread, the TBB library may be in an invalid state in the child process.\n",
      "Numba: Attempted to fork from a non-main thread, the TBB library may be in an invalid state in the child process.\n",
      "Numba: Attempted to fork from a non-main thread, the TBB library may be in an invalid state in the child process.\n",
      "Numba: Attempted to fork from a non-main thread, the TBB library may be in an invalid state in the child process.\n",
      "Numba: Attempted to fork from a non-main thread, the TBB library may be in an invalid state in the child process.\n",
      "Numba: Attempted to fork from a non-main thread, the TBB library may be in an invalid state in the child process.\n",
      "Numba: Attempted to fork from a non-main thread, the TBB library may be in an invalid state in the child process.\n",
      "Numba: Attempted to fork from a non-main thread, the TBB library may be in an invalid state in the child process.\n",
      "Numba: Attempted to fork from a non-main thread, the TBB library may be in an invalid state in the child process.\n",
      "Numba: Attempted to fork from a non-main thread, the TBB library may be in an invalid state in the child process.\n",
      "Numba: Attempted to fork from a non-main thread, the TBB library may be in an invalid state in the child process.\n",
      "Numba: Attempted to fork from a non-main thread, the TBB library may be in an invalid state in the child process.\n",
      "Numba: Attempted to fork from a non-main thread, the TBB library may be in an invalid state in the child process.\n"
     ]
    },
    {
     "name": "stdout",
     "output_type": "stream",
     "text": [
      "    Workers completed in 0.98 sec\n",
      "    Total time: 3.09 sec\n",
      "   Loaded 1 files, total 0.32 GB\n",
      "   Batch 3 IO thread joined\n",
      "         Memory after IO thread joinTotal Used: 131.555 GB, Virtual Available: 374.556 GB, Virtual Used: 128.640 GB, Swap Used: 002.916 GB\n",
      "         Memory after movie copied from threadTotal Used: 130.989 GB, Virtual Available: 375.123 GB, Virtual Used: 128.073 GB, Swap Used: 002.916 GB\n",
      "         Memory after thread memory clearedTotal Used: 130.669 GB, Virtual Available: 375.443 GB, Virtual Used: 127.753 GB, Swap Used: 002.916 GB\n",
      "   Launching IO thread for next batch\n",
      "         After IO thread launch:Total Used: 130.669 GB, Virtual Available: 375.443 GB, Virtual Used: 127.753 GB, Swap Used: 002.916 GB\n",
      "      Loaded batch of size (12, 50, 500, 576)\n",
      "      Loading /mnt/zortex-subjects/CR031/2024-12-06/1/2024-12-06_1_CR031_2P_00001_00005.tif\n",
      "   Completed rigid reg on batch in :1.0096185207366943s\n",
      "   Shifted the mov in: 0.3146967887878418s\n",
      "         After all GPU Batches:Total Used: 132.313 GB, Virtual Available: 373.798 GB, Virtual Used: 129.397 GB, Swap Used: 002.916 GB\n",
      "      Saving fused, registered file of shape (12, 50, 587, 676) to /mnt/md0/runs/s3d-CR031_2024-12-06_1/registered_fused_data/fused_reg_data0003.npy\n",
      "         Saved in 0.38 sec\n",
      "      Computing quality metrics and saving\n",
      "    Loaded file into shared memory in 2.03 sec\n"
     ]
    },
    {
     "name": "stderr",
     "output_type": "stream",
     "text": [
      "Numba: Attempted to fork from a non-main thread, the TBB library may be in an invalid state in the child process.\n",
      "Numba: Attempted to fork from a non-main thread, the TBB library may be in an invalid state in the child process.\n",
      "Numba: Attempted to fork from a non-main thread, the TBB library may be in an invalid state in the child process.\n",
      "Numba: Attempted to fork from a non-main thread, the TBB library may be in an invalid state in the child process.\n",
      "Numba: Attempted to fork from a non-main thread, the TBB library may be in an invalid state in the child process.\n",
      "Numba: Attempted to fork from a non-main thread, the TBB library may be in an invalid state in the child process.\n",
      "Numba: Attempted to fork from a non-main thread, the TBB library may be in an invalid state in the child process.\n",
      "Numba: Attempted to fork from a non-main thread, the TBB library may be in an invalid state in the child process.\n",
      "Numba: Attempted to fork from a non-main thread, the TBB library may be in an invalid state in the child process.\n",
      "Numba: Attempted to fork from a non-main thread, the TBB library may be in an invalid state in the child process.\n",
      "Numba: Attempted to fork from a non-main thread, the TBB library may be in an invalid state in the child process.\n",
      "Numba: Attempted to fork from a non-main thread, the TBB library may be in an invalid state in the child process.\n",
      "Numba: Attempted to fork from a non-main thread, the TBB library may be in an invalid state in the child process.\n",
      "Numba: Attempted to fork from a non-main thread, the TBB library may be in an invalid state in the child process.\n",
      "Numba: Attempted to fork from a non-main thread, the TBB library may be in an invalid state in the child process.\n",
      "Numba: Attempted to fork from a non-main thread, the TBB library may be in an invalid state in the child process.\n"
     ]
    },
    {
     "name": "stdout",
     "output_type": "stream",
     "text": [
      "         After full batch saving:Total Used: 136.575 GB, Virtual Available: 369.536 GB, Virtual Used: 133.659 GB, Swap Used: 002.916 GB\n",
      "         Memory at batch 4.  Total Used: 136.578 GB, Virtual Available: 369.533 GB, Virtual Used: 133.663 GB, Swap Used: 002.916 GB\n",
      "Loading Batch 4 of 54\n",
      "    Workers completed in 1.01 sec\n",
      "    Total time: 3.04 sec\n",
      "   Loaded 1 files, total 0.32 GB\n",
      "   Batch 4 IO thread joined\n",
      "         Memory after IO thread joinTotal Used: 131.561 GB, Virtual Available: 374.551 GB, Virtual Used: 128.645 GB, Swap Used: 002.916 GB\n",
      "         Memory after movie copied from threadTotal Used: 130.994 GB, Virtual Available: 375.117 GB, Virtual Used: 128.078 GB, Swap Used: 002.916 GB\n",
      "         Memory after thread memory clearedTotal Used: 130.672 GB, Virtual Available: 375.439 GB, Virtual Used: 127.756 GB, Swap Used: 002.916 GB\n",
      "   Launching IO thread for next batch\n",
      "         After IO thread launch:Total Used: 130.672 GB, Virtual Available: 375.439 GB, Virtual Used: 127.756 GB, Swap Used: 002.916 GB\n",
      "      Loaded batch of size (12, 50, 500, 576)\n",
      "      Loading /mnt/zortex-subjects/CR031/2024-12-06/1/2024-12-06_1_CR031_2P_00001_00006.tif\n",
      "   Completed rigid reg on batch in :1.004469394683838s\n",
      "   Shifted the mov in: 0.28747105598449707s\n",
      "         After all GPU Batches:Total Used: 132.132 GB, Virtual Available: 373.980 GB, Virtual Used: 129.216 GB, Swap Used: 002.916 GB\n",
      "      Saving fused, registered file of shape (12, 50, 587, 676) to /mnt/md0/runs/s3d-CR031_2024-12-06_1/registered_fused_data/fused_reg_data0004.npy\n",
      "         Saved in 0.39 sec\n",
      "      Computing quality metrics and saving\n",
      "         After full batch saving:Total Used: 132.703 GB, Virtual Available: 373.408 GB, Virtual Used: 129.787 GB, Swap Used: 002.916 GB\n",
      "         Memory at batch 5.  Total Used: 132.704 GB, Virtual Available: 373.408 GB, Virtual Used: 129.788 GB, Swap Used: 002.916 GB\n",
      "Loading Batch 5 of 54\n",
      "    Loaded file into shared memory in 2.08 sec\n"
     ]
    },
    {
     "name": "stderr",
     "output_type": "stream",
     "text": [
      "Numba: Attempted to fork from a non-main thread, the TBB library may be in an invalid state in the child process.\n",
      "Numba: Attempted to fork from a non-main thread, the TBB library may be in an invalid state in the child process.\n",
      "Numba: Attempted to fork from a non-main thread, the TBB library may be in an invalid state in the child process.\n",
      "Numba: Attempted to fork from a non-main thread, the TBB library may be in an invalid state in the child process.\n",
      "Numba: Attempted to fork from a non-main thread, the TBB library may be in an invalid state in the child process.\n",
      "Numba: Attempted to fork from a non-main thread, the TBB library may be in an invalid state in the child process.\n",
      "Numba: Attempted to fork from a non-main thread, the TBB library may be in an invalid state in the child process.\n",
      "Numba: Attempted to fork from a non-main thread, the TBB library may be in an invalid state in the child process.\n",
      "Numba: Attempted to fork from a non-main thread, the TBB library may be in an invalid state in the child process.\n",
      "Numba: Attempted to fork from a non-main thread, the TBB library may be in an invalid state in the child process.\n",
      "Numba: Attempted to fork from a non-main thread, the TBB library may be in an invalid state in the child process.\n",
      "Numba: Attempted to fork from a non-main thread, the TBB library may be in an invalid state in the child process.\n",
      "Numba: Attempted to fork from a non-main thread, the TBB library may be in an invalid state in the child process.\n",
      "Numba: Attempted to fork from a non-main thread, the TBB library may be in an invalid state in the child process.\n",
      "Numba: Attempted to fork from a non-main thread, the TBB library may be in an invalid state in the child process.\n",
      "Numba: Attempted to fork from a non-main thread, the TBB library may be in an invalid state in the child process.\n"
     ]
    },
    {
     "name": "stdout",
     "output_type": "stream",
     "text": [
      "    Workers completed in 0.97 sec\n",
      "    Total time: 3.06 sec\n",
      "   Loaded 1 files, total 0.32 GB\n",
      "   Batch 5 IO thread joined\n",
      "         Memory after IO thread joinTotal Used: 131.574 GB, Virtual Available: 374.537 GB, Virtual Used: 128.658 GB, Swap Used: 002.916 GB\n",
      "         Memory after movie copied from threadTotal Used: 131.006 GB, Virtual Available: 375.105 GB, Virtual Used: 128.090 GB, Swap Used: 002.916 GB\n",
      "         Memory after thread memory clearedTotal Used: 130.684 GB, Virtual Available: 375.427 GB, Virtual Used: 127.768 GB, Swap Used: 002.916 GB\n",
      "   Launching IO thread for next batch\n",
      "         After IO thread launch:Total Used: 130.684 GB, Virtual Available: 375.427 GB, Virtual Used: 127.768 GB, Swap Used: 002.916 GB\n",
      "      Loaded batch of size (12, 50, 500, 576)\n",
      "      Loading /mnt/zortex-subjects/CR031/2024-12-06/1/2024-12-06_1_CR031_2P_00001_00007.tif\n",
      "   Completed rigid reg on batch in :0.9878482818603516s\n",
      "   Shifted the mov in: 0.29172658920288086s\n",
      "         After all GPU Batches:Total Used: 132.127 GB, Virtual Available: 373.984 GB, Virtual Used: 129.212 GB, Swap Used: 002.916 GB\n",
      "      Saving fused, registered file of shape (12, 50, 587, 676) to /mnt/md0/runs/s3d-CR031_2024-12-06_1/registered_fused_data/fused_reg_data0005.npy\n",
      "         Saved in 0.38 sec\n",
      "      Computing quality metrics and saving\n",
      "         After full batch saving:Total Used: 132.626 GB, Virtual Available: 373.486 GB, Virtual Used: 129.710 GB, Swap Used: 002.916 GB\n",
      "         Memory at batch 6.  Total Used: 132.626 GB, Virtual Available: 373.485 GB, Virtual Used: 129.711 GB, Swap Used: 002.916 GB\n",
      "Loading Batch 6 of 54\n",
      "    Loaded file into shared memory in 2.11 sec\n"
     ]
    },
    {
     "name": "stderr",
     "output_type": "stream",
     "text": [
      "Numba: Attempted to fork from a non-main thread, the TBB library may be in an invalid state in the child process.\n",
      "Numba: Attempted to fork from a non-main thread, the TBB library may be in an invalid state in the child process.\n",
      "Numba: Attempted to fork from a non-main thread, the TBB library may be in an invalid state in the child process.\n",
      "Numba: Attempted to fork from a non-main thread, the TBB library may be in an invalid state in the child process.\n",
      "Numba: Attempted to fork from a non-main thread, the TBB library may be in an invalid state in the child process.\n",
      "Numba: Attempted to fork from a non-main thread, the TBB library may be in an invalid state in the child process.\n",
      "Numba: Attempted to fork from a non-main thread, the TBB library may be in an invalid state in the child process.\n",
      "Numba: Attempted to fork from a non-main thread, the TBB library may be in an invalid state in the child process.\n",
      "Numba: Attempted to fork from a non-main thread, the TBB library may be in an invalid state in the child process.\n",
      "Numba: Attempted to fork from a non-main thread, the TBB library may be in an invalid state in the child process.\n",
      "Numba: Attempted to fork from a non-main thread, the TBB library may be in an invalid state in the child process.\n",
      "Numba: Attempted to fork from a non-main thread, the TBB library may be in an invalid state in the child process.\n",
      "Numba: Attempted to fork from a non-main thread, the TBB library may be in an invalid state in the child process.\n",
      "Numba: Attempted to fork from a non-main thread, the TBB library may be in an invalid state in the child process.\n",
      "Numba: Attempted to fork from a non-main thread, the TBB library may be in an invalid state in the child process.\n",
      "Numba: Attempted to fork from a non-main thread, the TBB library may be in an invalid state in the child process.\n"
     ]
    },
    {
     "name": "stdout",
     "output_type": "stream",
     "text": [
      "    Workers completed in 0.95 sec\n",
      "    Total time: 3.06 sec\n",
      "   Loaded 1 files, total 0.32 GB\n",
      "   Batch 6 IO thread joined\n",
      "         Memory after IO thread joinTotal Used: 131.564 GB, Virtual Available: 374.547 GB, Virtual Used: 128.648 GB, Swap Used: 002.916 GB\n",
      "         Memory after movie copied from threadTotal Used: 130.998 GB, Virtual Available: 375.113 GB, Virtual Used: 128.082 GB, Swap Used: 002.916 GB\n",
      "         Memory after thread memory clearedTotal Used: 130.675 GB, Virtual Available: 375.437 GB, Virtual Used: 127.759 GB, Swap Used: 002.916 GB\n",
      "   Launching IO thread for next batch\n",
      "         After IO thread launch:Total Used: 130.675 GB, Virtual Available: 375.437 GB, Virtual Used: 127.759 GB, Swap Used: 002.916 GB\n",
      "      Loaded batch of size (12, 50, 500, 576)\n",
      "      Loading /mnt/zortex-subjects/CR031/2024-12-06/1/2024-12-06_1_CR031_2P_00001_00008.tif\n",
      "   Completed rigid reg on batch in :1.0076768398284912s\n",
      "   Shifted the mov in: 0.28083014488220215s\n",
      "         After all GPU Batches:Total Used: 132.135 GB, Virtual Available: 373.977 GB, Virtual Used: 129.219 GB, Swap Used: 002.916 GB\n",
      "      Saving fused, registered file of shape (12, 50, 587, 676) to /mnt/md0/runs/s3d-CR031_2024-12-06_1/registered_fused_data/fused_reg_data0006.npy\n",
      "         Saved in 0.38 sec\n",
      "      Computing quality metrics and saving\n",
      "         After full batch saving:Total Used: 132.411 GB, Virtual Available: 373.700 GB, Virtual Used: 129.495 GB, Swap Used: 002.916 GB\n",
      "         Memory at batch 7.  Total Used: 132.412 GB, Virtual Available: 373.700 GB, Virtual Used: 129.496 GB, Swap Used: 002.916 GB\n",
      "Loading Batch 7 of 54\n",
      "    Loaded file into shared memory in 2.23 sec\n"
     ]
    },
    {
     "name": "stderr",
     "output_type": "stream",
     "text": [
      "Numba: Attempted to fork from a non-main thread, the TBB library may be in an invalid state in the child process.\n",
      "Numba: Attempted to fork from a non-main thread, the TBB library may be in an invalid state in the child process.\n",
      "Numba: Attempted to fork from a non-main thread, the TBB library may be in an invalid state in the child process.\n",
      "Numba: Attempted to fork from a non-main thread, the TBB library may be in an invalid state in the child process.\n",
      "Numba: Attempted to fork from a non-main thread, the TBB library may be in an invalid state in the child process.\n",
      "Numba: Attempted to fork from a non-main thread, the TBB library may be in an invalid state in the child process.\n",
      "Numba: Attempted to fork from a non-main thread, the TBB library may be in an invalid state in the child process.\n",
      "Numba: Attempted to fork from a non-main thread, the TBB library may be in an invalid state in the child process.\n",
      "Numba: Attempted to fork from a non-main thread, the TBB library may be in an invalid state in the child process.\n",
      "Numba: Attempted to fork from a non-main thread, the TBB library may be in an invalid state in the child process.\n",
      "Numba: Attempted to fork from a non-main thread, the TBB library may be in an invalid state in the child process.\n",
      "Numba: Attempted to fork from a non-main thread, the TBB library may be in an invalid state in the child process.\n",
      "Numba: Attempted to fork from a non-main thread, the TBB library may be in an invalid state in the child process.\n",
      "Numba: Attempted to fork from a non-main thread, the TBB library may be in an invalid state in the child process.\n",
      "Numba: Attempted to fork from a non-main thread, the TBB library may be in an invalid state in the child process.\n",
      "Numba: Attempted to fork from a non-main thread, the TBB library may be in an invalid state in the child process.\n"
     ]
    },
    {
     "name": "stdout",
     "output_type": "stream",
     "text": [
      "    Workers completed in 0.90 sec\n",
      "    Total time: 3.13 sec\n",
      "   Loaded 1 files, total 0.32 GB\n",
      "   Batch 7 IO thread joined\n",
      "         Memory after IO thread joinTotal Used: 131.590 GB, Virtual Available: 374.521 GB, Virtual Used: 128.674 GB, Swap Used: 002.916 GB\n",
      "         Memory after movie copied from threadTotal Used: 131.024 GB, Virtual Available: 375.088 GB, Virtual Used: 128.108 GB, Swap Used: 002.916 GB\n",
      "         Memory after thread memory clearedTotal Used: 130.706 GB, Virtual Available: 375.406 GB, Virtual Used: 127.790 GB, Swap Used: 002.916 GB\n",
      "   Launching IO thread for next batch\n",
      "         After IO thread launch:Total Used: 130.706 GB, Virtual Available: 375.406 GB, Virtual Used: 127.790 GB, Swap Used: 002.916 GB\n",
      "      Loaded batch of size (12, 50, 500, 576)\n",
      "      Loading /mnt/zortex-subjects/CR031/2024-12-06/1/2024-12-06_1_CR031_2P_00001_00009.tif\n",
      "   Completed rigid reg on batch in :1.0041048526763916s\n",
      "   Shifted the mov in: 0.30968141555786133s\n",
      "         After all GPU Batches:Total Used: 132.376 GB, Virtual Available: 373.736 GB, Virtual Used: 129.460 GB, Swap Used: 002.916 GB\n",
      "      Saving fused, registered file of shape (12, 50, 587, 676) to /mnt/md0/runs/s3d-CR031_2024-12-06_1/registered_fused_data/fused_reg_data0007.npy\n",
      "         Saved in 0.38 sec\n",
      "      Computing quality metrics and saving\n",
      "    Loaded file into shared memory in 2.00 sec\n"
     ]
    },
    {
     "name": "stderr",
     "output_type": "stream",
     "text": [
      "Numba: Attempted to fork from a non-main thread, the TBB library may be in an invalid state in the child process.\n",
      "Numba: Attempted to fork from a non-main thread, the TBB library may be in an invalid state in the child process.\n",
      "Numba: Attempted to fork from a non-main thread, the TBB library may be in an invalid state in the child process.\n",
      "Numba: Attempted to fork from a non-main thread, the TBB library may be in an invalid state in the child process.\n",
      "Numba: Attempted to fork from a non-main thread, the TBB library may be in an invalid state in the child process.\n",
      "Numba: Attempted to fork from a non-main thread, the TBB library may be in an invalid state in the child process.\n",
      "Numba: Attempted to fork from a non-main thread, the TBB library may be in an invalid state in the child process.\n",
      "Numba: Attempted to fork from a non-main thread, the TBB library may be in an invalid state in the child process.\n",
      "Numba: Attempted to fork from a non-main thread, the TBB library may be in an invalid state in the child process.\n",
      "Numba: Attempted to fork from a non-main thread, the TBB library may be in an invalid state in the child process.\n",
      "Numba: Attempted to fork from a non-main thread, the TBB library may be in an invalid state in the child process.\n",
      "Numba: Attempted to fork from a non-main thread, the TBB library may be in an invalid state in the child process.\n",
      "Numba: Attempted to fork from a non-main thread, the TBB library may be in an invalid state in the child process.\n",
      "Numba: Attempted to fork from a non-main thread, the TBB library may be in an invalid state in the child process.\n",
      "Numba: Attempted to fork from a non-main thread, the TBB library may be in an invalid state in the child process.\n",
      "Numba: Attempted to fork from a non-main thread, the TBB library may be in an invalid state in the child process.\n"
     ]
    },
    {
     "name": "stdout",
     "output_type": "stream",
     "text": [
      "         After full batch saving:Total Used: 136.867 GB, Virtual Available: 369.244 GB, Virtual Used: 133.951 GB, Swap Used: 002.916 GB\n",
      "         Memory at batch 8.  Total Used: 136.874 GB, Virtual Available: 369.237 GB, Virtual Used: 133.958 GB, Swap Used: 002.916 GB\n",
      "Loading Batch 8 of 54\n",
      "    Workers completed in 0.97 sec\n",
      "    Total time: 2.98 sec\n",
      "   Loaded 1 files, total 0.32 GB\n",
      "   Batch 8 IO thread joined\n",
      "         Memory after IO thread joinTotal Used: 131.588 GB, Virtual Available: 374.523 GB, Virtual Used: 128.673 GB, Swap Used: 002.916 GB\n",
      "         Memory after movie copied from threadTotal Used: 131.022 GB, Virtual Available: 375.089 GB, Virtual Used: 128.106 GB, Swap Used: 002.916 GB\n",
      "         Memory after thread memory clearedTotal Used: 130.705 GB, Virtual Available: 375.407 GB, Virtual Used: 127.789 GB, Swap Used: 002.916 GB\n",
      "   Launching IO thread for next batch\n",
      "         After IO thread launch:Total Used: 130.705 GB, Virtual Available: 375.407 GB, Virtual Used: 127.789 GB, Swap Used: 002.916 GB\n",
      "      Loaded batch of size (12, 50, 500, 576)\n",
      "      Loading /mnt/zortex-subjects/CR031/2024-12-06/1/2024-12-06_1_CR031_2P_00001_00010.tif\n",
      "   Completed rigid reg on batch in :1.0069804191589355s\n",
      "   Shifted the mov in: 0.29865097999572754s\n",
      "         After all GPU Batches:Total Used: 132.321 GB, Virtual Available: 373.790 GB, Virtual Used: 129.405 GB, Swap Used: 002.916 GB\n",
      "      Saving fused, registered file of shape (12, 50, 587, 676) to /mnt/md0/runs/s3d-CR031_2024-12-06_1/registered_fused_data/fused_reg_data0008.npy\n",
      "         Saved in 0.43 sec\n",
      "      Computing quality metrics and saving\n",
      "    Loaded file into shared memory in 2.12 sec\n"
     ]
    },
    {
     "name": "stderr",
     "output_type": "stream",
     "text": [
      "Numba: Attempted to fork from a non-main thread, the TBB library may be in an invalid state in the child process.\n",
      "Numba: Attempted to fork from a non-main thread, the TBB library may be in an invalid state in the child process.\n",
      "Numba: Attempted to fork from a non-main thread, the TBB library may be in an invalid state in the child process.\n",
      "Numba: Attempted to fork from a non-main thread, the TBB library may be in an invalid state in the child process.\n",
      "Numba: Attempted to fork from a non-main thread, the TBB library may be in an invalid state in the child process.\n",
      "Numba: Attempted to fork from a non-main thread, the TBB library may be in an invalid state in the child process.\n",
      "Numba: Attempted to fork from a non-main thread, the TBB library may be in an invalid state in the child process.\n",
      "Numba: Attempted to fork from a non-main thread, the TBB library may be in an invalid state in the child process.\n",
      "Numba: Attempted to fork from a non-main thread, the TBB library may be in an invalid state in the child process.\n",
      "Numba: Attempted to fork from a non-main thread, the TBB library may be in an invalid state in the child process.\n",
      "Numba: Attempted to fork from a non-main thread, the TBB library may be in an invalid state in the child process.\n",
      "Numba: Attempted to fork from a non-main thread, the TBB library may be in an invalid state in the child process.\n",
      "Numba: Attempted to fork from a non-main thread, the TBB library may be in an invalid state in the child process.\n",
      "Numba: Attempted to fork from a non-main thread, the TBB library may be in an invalid state in the child process.\n",
      "Numba: Attempted to fork from a non-main thread, the TBB library may be in an invalid state in the child process.\n",
      "Numba: Attempted to fork from a non-main thread, the TBB library may be in an invalid state in the child process.\n"
     ]
    },
    {
     "name": "stdout",
     "output_type": "stream",
     "text": [
      "         After full batch saving:Total Used: 136.629 GB, Virtual Available: 369.483 GB, Virtual Used: 133.713 GB, Swap Used: 002.916 GB\n",
      "         Memory at batch 9.  Total Used: 136.635 GB, Virtual Available: 369.477 GB, Virtual Used: 133.719 GB, Swap Used: 002.916 GB\n",
      "Loading Batch 9 of 54\n",
      "    Workers completed in 0.98 sec\n",
      "    Total time: 3.10 sec\n",
      "   Loaded 1 files, total 0.32 GB\n",
      "   Batch 9 IO thread joined\n",
      "         Memory after IO thread joinTotal Used: 131.732 GB, Virtual Available: 374.387 GB, Virtual Used: 128.809 GB, Swap Used: 002.923 GB\n",
      "         Memory after movie copied from threadTotal Used: 131.176 GB, Virtual Available: 374.943 GB, Virtual Used: 128.253 GB, Swap Used: 002.923 GB\n",
      "         Memory after thread memory clearedTotal Used: 130.907 GB, Virtual Available: 375.212 GB, Virtual Used: 127.983 GB, Swap Used: 002.923 GB\n",
      "   Launching IO thread for next batch\n",
      "         After IO thread launch:Total Used: 130.907 GB, Virtual Available: 375.212 GB, Virtual Used: 127.983 GB, Swap Used: 002.923 GB\n",
      "      Loading /mnt/zortex-subjects/CR031/2024-12-06/1/2024-12-06_1_CR031_2P_00001_00011.tif\n",
      "      Loaded batch of size (12, 50, 500, 576)\n",
      "   Completed rigid reg on batch in :0.990633487701416s\n",
      "   Shifted the mov in: 0.2986774444580078s\n",
      "         After all GPU Batches:Total Used: 132.398 GB, Virtual Available: 373.721 GB, Virtual Used: 129.475 GB, Swap Used: 002.923 GB\n",
      "      Saving fused, registered file of shape (12, 50, 587, 676) to /mnt/md0/runs/s3d-CR031_2024-12-06_1/registered_fused_data/fused_reg_data0009.npy\n",
      "         Saved in 0.38 sec\n",
      "      Computing quality metrics and saving\n",
      "    Loaded file into shared memory in 2.03 sec\n"
     ]
    },
    {
     "name": "stderr",
     "output_type": "stream",
     "text": [
      "Numba: Attempted to fork from a non-main thread, the TBB library may be in an invalid state in the child process.\n"
     ]
    },
    {
     "name": "stdout",
     "output_type": "stream",
     "text": [
      "         After full batch saving:Total Used: 132.980 GB, Virtual Available: 373.139 GB, Virtual Used: 130.057 GB, Swap Used: 002.923 GB\n"
     ]
    },
    {
     "name": "stderr",
     "output_type": "stream",
     "text": [
      "Numba: Attempted to fork from a non-main thread, the TBB library may be in an invalid state in the child process.\n"
     ]
    },
    {
     "name": "stdout",
     "output_type": "stream",
     "text": [
      "         Memory at batch 10. Total Used: 133.092 GB, Virtual Available: 373.027 GB, Virtual Used: 130.169 GB, Swap Used: 002.923 GB\n",
      "Loading Batch 10 of 54\n"
     ]
    },
    {
     "name": "stderr",
     "output_type": "stream",
     "text": [
      "Numba: Attempted to fork from a non-main thread, the TBB library may be in an invalid state in the child process.\n",
      "Numba: Attempted to fork from a non-main thread, the TBB library may be in an invalid state in the child process.\n",
      "Numba: Attempted to fork from a non-main thread, the TBB library may be in an invalid state in the child process.\n",
      "Numba: Attempted to fork from a non-main thread, the TBB library may be in an invalid state in the child process.\n",
      "Numba: Attempted to fork from a non-main thread, the TBB library may be in an invalid state in the child process.\n",
      "Numba: Attempted to fork from a non-main thread, the TBB library may be in an invalid state in the child process.\n",
      "Numba: Attempted to fork from a non-main thread, the TBB library may be in an invalid state in the child process.\n",
      "Numba: Attempted to fork from a non-main thread, the TBB library may be in an invalid state in the child process.\n",
      "Numba: Attempted to fork from a non-main thread, the TBB library may be in an invalid state in the child process.\n",
      "Numba: Attempted to fork from a non-main thread, the TBB library may be in an invalid state in the child process.\n",
      "Numba: Attempted to fork from a non-main thread, the TBB library may be in an invalid state in the child process.\n",
      "Numba: Attempted to fork from a non-main thread, the TBB library may be in an invalid state in the child process.\n",
      "Numba: Attempted to fork from a non-main thread, the TBB library may be in an invalid state in the child process.\n",
      "Numba: Attempted to fork from a non-main thread, the TBB library may be in an invalid state in the child process.\n"
     ]
    },
    {
     "name": "stdout",
     "output_type": "stream",
     "text": [
      "    Workers completed in 1.07 sec\n",
      "    Total time: 3.10 sec\n",
      "   Loaded 1 files, total 0.32 GB\n",
      "   Batch 10 IO thread joined\n",
      "         Memory after IO thread joinTotal Used: 132.441 GB, Virtual Available: 373.768 GB, Virtual Used: 129.428 GB, Swap Used: 003.013 GB\n",
      "         Memory after movie copied from threadTotal Used: 131.875 GB, Virtual Available: 374.334 GB, Virtual Used: 128.862 GB, Swap Used: 003.013 GB\n",
      "         Memory after thread memory clearedTotal Used: 131.553 GB, Virtual Available: 374.655 GB, Virtual Used: 128.540 GB, Swap Used: 003.013 GB\n",
      "   Launching IO thread for next batch\n",
      "         After IO thread launch:Total Used: 131.553 GB, Virtual Available: 374.655 GB, Virtual Used: 128.540 GB, Swap Used: 003.013 GB\n",
      "      Loaded batch of size (12, 50, 500, 576)\n",
      "      Loading /mnt/zortex-subjects/CR031/2024-12-06/1/2024-12-06_1_CR031_2P_00001_00012.tif\n",
      "   Completed rigid reg on batch in :1.0285158157348633s\n",
      "   Shifted the mov in: 0.33536815643310547s\n",
      "         After all GPU Batches:Total Used: 133.261 GB, Virtual Available: 372.948 GB, Virtual Used: 130.247 GB, Swap Used: 003.013 GB\n",
      "      Saving fused, registered file of shape (12, 50, 587, 676) to /mnt/md0/runs/s3d-CR031_2024-12-06_1/registered_fused_data/fused_reg_data0010.npy\n",
      "         Saved in 0.38 sec\n",
      "      Computing quality metrics and saving\n",
      "    Loaded file into shared memory in 2.06 sec\n"
     ]
    },
    {
     "name": "stderr",
     "output_type": "stream",
     "text": [
      "Numba: Attempted to fork from a non-main thread, the TBB library may be in an invalid state in the child process.\n",
      "Numba: Attempted to fork from a non-main thread, the TBB library may be in an invalid state in the child process.\n",
      "Numba: Attempted to fork from a non-main thread, the TBB library may be in an invalid state in the child process.\n",
      "Numba: Attempted to fork from a non-main thread, the TBB library may be in an invalid state in the child process.\n",
      "Numba: Attempted to fork from a non-main thread, the TBB library may be in an invalid state in the child process.\n",
      "Numba: Attempted to fork from a non-main thread, the TBB library may be in an invalid state in the child process.\n",
      "Numba: Attempted to fork from a non-main thread, the TBB library may be in an invalid state in the child process.\n",
      "Numba: Attempted to fork from a non-main thread, the TBB library may be in an invalid state in the child process.\n",
      "Numba: Attempted to fork from a non-main thread, the TBB library may be in an invalid state in the child process.\n",
      "Numba: Attempted to fork from a non-main thread, the TBB library may be in an invalid state in the child process.\n",
      "Numba: Attempted to fork from a non-main thread, the TBB library may be in an invalid state in the child process.\n",
      "Numba: Attempted to fork from a non-main thread, the TBB library may be in an invalid state in the child process.\n",
      "Numba: Attempted to fork from a non-main thread, the TBB library may be in an invalid state in the child process.\n",
      "Numba: Attempted to fork from a non-main thread, the TBB library may be in an invalid state in the child process.\n",
      "Numba: Attempted to fork from a non-main thread, the TBB library may be in an invalid state in the child process.\n",
      "Numba: Attempted to fork from a non-main thread, the TBB library may be in an invalid state in the child process.\n"
     ]
    },
    {
     "name": "stdout",
     "output_type": "stream",
     "text": [
      "         After full batch saving:Total Used: 137.864 GB, Virtual Available: 368.362 GB, Virtual Used: 134.833 GB, Swap Used: 003.030 GB\n",
      "         Memory at batch 11. Total Used: 137.876 GB, Virtual Available: 368.350 GB, Virtual Used: 134.846 GB, Swap Used: 003.030 GB\n",
      "Loading Batch 11 of 54\n",
      "    Workers completed in 1.25 sec\n",
      "    Total time: 3.31 sec\n",
      "   Loaded 1 files, total 0.32 GB\n",
      "   Batch 11 IO thread joined\n",
      "         Memory after IO thread joinTotal Used: 131.834 GB, Virtual Available: 374.392 GB, Virtual Used: 128.804 GB, Swap Used: 003.030 GB\n",
      "         Memory after movie copied from threadTotal Used: 131.267 GB, Virtual Available: 374.959 GB, Virtual Used: 128.237 GB, Swap Used: 003.030 GB\n",
      "         Memory after thread memory clearedTotal Used: 130.948 GB, Virtual Available: 375.278 GB, Virtual Used: 127.918 GB, Swap Used: 003.030 GB\n",
      "   Launching IO thread for next batch\n",
      "         After IO thread launch:Total Used: 130.948 GB, Virtual Available: 375.278 GB, Virtual Used: 127.918 GB, Swap Used: 003.030 GB\n",
      "      Loaded batch of size (12, 50, 500, 576)\n",
      "      Loading /mnt/zortex-subjects/CR031/2024-12-06/1/2024-12-06_1_CR031_2P_00001_00013.tif\n",
      "   Completed rigid reg on batch in :1.0274450778961182s\n",
      "   Shifted the mov in: 0.296889066696167s\n",
      "         After all GPU Batches:Total Used: 132.535 GB, Virtual Available: 373.691 GB, Virtual Used: 129.505 GB, Swap Used: 003.030 GB\n",
      "      Saving fused, registered file of shape (12, 50, 587, 676) to /mnt/md0/runs/s3d-CR031_2024-12-06_1/registered_fused_data/fused_reg_data0011.npy\n",
      "         Saved in 0.40 sec\n",
      "      Computing quality metrics and saving\n",
      "    Loaded file into shared memory in 2.11 sec\n"
     ]
    },
    {
     "name": "stderr",
     "output_type": "stream",
     "text": [
      "Numba: Attempted to fork from a non-main thread, the TBB library may be in an invalid state in the child process.\n"
     ]
    },
    {
     "name": "stdout",
     "output_type": "stream",
     "text": [
      "         After full batch saving:Total Used: 133.095 GB, Virtual Available: 373.131 GB, Virtual Used: 130.065 GB, Swap Used: 003.030 GB\n"
     ]
    },
    {
     "name": "stderr",
     "output_type": "stream",
     "text": [
      "Numba: Attempted to fork from a non-main thread, the TBB library may be in an invalid state in the child process.\n"
     ]
    },
    {
     "name": "stdout",
     "output_type": "stream",
     "text": [
      "         Memory at batch 12. Total Used: 133.230 GB, Virtual Available: 372.996 GB, Virtual Used: 130.200 GB, Swap Used: 003.030 GB\n",
      "Loading Batch 12 of 54\n"
     ]
    },
    {
     "name": "stderr",
     "output_type": "stream",
     "text": [
      "Numba: Attempted to fork from a non-main thread, the TBB library may be in an invalid state in the child process.\n",
      "Numba: Attempted to fork from a non-main thread, the TBB library may be in an invalid state in the child process.\n",
      "Numba: Attempted to fork from a non-main thread, the TBB library may be in an invalid state in the child process.\n",
      "Numba: Attempted to fork from a non-main thread, the TBB library may be in an invalid state in the child process.\n",
      "Numba: Attempted to fork from a non-main thread, the TBB library may be in an invalid state in the child process.\n",
      "Numba: Attempted to fork from a non-main thread, the TBB library may be in an invalid state in the child process.\n",
      "Numba: Attempted to fork from a non-main thread, the TBB library may be in an invalid state in the child process.\n",
      "Numba: Attempted to fork from a non-main thread, the TBB library may be in an invalid state in the child process.\n",
      "Numba: Attempted to fork from a non-main thread, the TBB library may be in an invalid state in the child process.\n",
      "Numba: Attempted to fork from a non-main thread, the TBB library may be in an invalid state in the child process.\n",
      "Numba: Attempted to fork from a non-main thread, the TBB library may be in an invalid state in the child process.\n",
      "Numba: Attempted to fork from a non-main thread, the TBB library may be in an invalid state in the child process.\n",
      "Numba: Attempted to fork from a non-main thread, the TBB library may be in an invalid state in the child process.\n",
      "Numba: Attempted to fork from a non-main thread, the TBB library may be in an invalid state in the child process.\n"
     ]
    },
    {
     "name": "stdout",
     "output_type": "stream",
     "text": [
      "    Workers completed in 1.25 sec\n",
      "    Total time: 3.36 sec\n",
      "   Loaded 1 files, total 0.32 GB\n",
      "   Batch 12 IO thread joined\n",
      "         Memory after IO thread joinTotal Used: 132.451 GB, Virtual Available: 373.775 GB, Virtual Used: 129.421 GB, Swap Used: 003.030 GB\n",
      "         Memory after movie copied from threadTotal Used: 131.910 GB, Virtual Available: 374.316 GB, Virtual Used: 128.880 GB, Swap Used: 003.030 GB\n",
      "         Memory after thread memory clearedTotal Used: 131.620 GB, Virtual Available: 374.606 GB, Virtual Used: 128.589 GB, Swap Used: 003.030 GB\n",
      "   Launching IO thread for next batch\n",
      "         After IO thread launch:Total Used: 131.620 GB, Virtual Available: 374.606 GB, Virtual Used: 128.589 GB, Swap Used: 003.030 GB\n",
      "      Loaded batch of size (12, 50, 500, 576)\n",
      "      Loading /mnt/zortex-subjects/CR031/2024-12-06/1/2024-12-06_1_CR031_2P_00001_00014.tif\n",
      "   Completed rigid reg on batch in :1.039294719696045s\n",
      "   Shifted the mov in: 0.31181931495666504s\n",
      "         After all GPU Batches:Total Used: 133.492 GB, Virtual Available: 372.734 GB, Virtual Used: 130.461 GB, Swap Used: 003.030 GB\n",
      "      Saving fused, registered file of shape (12, 50, 587, 676) to /mnt/md0/runs/s3d-CR031_2024-12-06_1/registered_fused_data/fused_reg_data0012.npy\n",
      "         Saved in 0.39 sec\n",
      "      Computing quality metrics and saving\n",
      "    Loaded file into shared memory in 2.05 sec\n"
     ]
    },
    {
     "name": "stderr",
     "output_type": "stream",
     "text": [
      "Numba: Attempted to fork from a non-main thread, the TBB library may be in an invalid state in the child process.\n",
      "Numba: Attempted to fork from a non-main thread, the TBB library may be in an invalid state in the child process.\n",
      "Numba: Attempted to fork from a non-main thread, the TBB library may be in an invalid state in the child process.\n",
      "Numba: Attempted to fork from a non-main thread, the TBB library may be in an invalid state in the child process.\n",
      "Numba: Attempted to fork from a non-main thread, the TBB library may be in an invalid state in the child process.\n",
      "Numba: Attempted to fork from a non-main thread, the TBB library may be in an invalid state in the child process.\n",
      "Numba: Attempted to fork from a non-main thread, the TBB library may be in an invalid state in the child process.\n",
      "Numba: Attempted to fork from a non-main thread, the TBB library may be in an invalid state in the child process.\n",
      "Numba: Attempted to fork from a non-main thread, the TBB library may be in an invalid state in the child process.\n",
      "Numba: Attempted to fork from a non-main thread, the TBB library may be in an invalid state in the child process.\n",
      "Numba: Attempted to fork from a non-main thread, the TBB library may be in an invalid state in the child process.\n",
      "Numba: Attempted to fork from a non-main thread, the TBB library may be in an invalid state in the child process.\n",
      "Numba: Attempted to fork from a non-main thread, the TBB library may be in an invalid state in the child process.\n",
      "Numba: Attempted to fork from a non-main thread, the TBB library may be in an invalid state in the child process.\n",
      "Numba: Attempted to fork from a non-main thread, the TBB library may be in an invalid state in the child process.\n",
      "Numba: Attempted to fork from a non-main thread, the TBB library may be in an invalid state in the child process.\n"
     ]
    },
    {
     "name": "stdout",
     "output_type": "stream",
     "text": [
      "         After full batch saving:Total Used: 138.165 GB, Virtual Available: 368.062 GB, Virtual Used: 135.134 GB, Swap Used: 003.031 GB\n",
      "         Memory at batch 13. Total Used: 138.173 GB, Virtual Available: 368.053 GB, Virtual Used: 135.142 GB, Swap Used: 003.031 GB\n",
      "Loading Batch 13 of 54\n",
      "    Workers completed in 1.26 sec\n",
      "    Total time: 3.31 sec\n",
      "   Loaded 1 files, total 0.32 GB\n",
      "   Batch 13 IO thread joined\n",
      "         Memory after IO thread joinTotal Used: 132.305 GB, Virtual Available: 373.922 GB, Virtual Used: 129.274 GB, Swap Used: 003.031 GB\n",
      "         Memory after movie copied from threadTotal Used: 131.736 GB, Virtual Available: 374.491 GB, Virtual Used: 128.705 GB, Swap Used: 003.031 GB\n",
      "         Memory after thread memory clearedTotal Used: 131.416 GB, Virtual Available: 374.810 GB, Virtual Used: 128.385 GB, Swap Used: 003.031 GB\n",
      "   Launching IO thread for next batch\n",
      "         After IO thread launch:Total Used: 131.416 GB, Virtual Available: 374.810 GB, Virtual Used: 128.385 GB, Swap Used: 003.031 GB\n",
      "      Loaded batch of size (12, 50, 500, 576)\n",
      "      Loading /mnt/zortex-subjects/CR031/2024-12-06/1/2024-12-06_1_CR031_2P_00001_00015.tif\n",
      "   Completed rigid reg on batch in :1.031660556793213s\n",
      "   Shifted the mov in: 0.30874180793762207s\n",
      "         After all GPU Batches:Total Used: 133.091 GB, Virtual Available: 373.136 GB, Virtual Used: 130.060 GB, Swap Used: 003.031 GB\n",
      "      Saving fused, registered file of shape (12, 50, 587, 676) to /mnt/md0/runs/s3d-CR031_2024-12-06_1/registered_fused_data/fused_reg_data0013.npy\n",
      "         Saved in 0.39 sec\n",
      "      Computing quality metrics and saving\n",
      "    Loaded file into shared memory in 2.05 sec\n"
     ]
    },
    {
     "name": "stderr",
     "output_type": "stream",
     "text": [
      "Numba: Attempted to fork from a non-main thread, the TBB library may be in an invalid state in the child process.\n",
      "Numba: Attempted to fork from a non-main thread, the TBB library may be in an invalid state in the child process.\n",
      "Numba: Attempted to fork from a non-main thread, the TBB library may be in an invalid state in the child process.\n",
      "Numba: Attempted to fork from a non-main thread, the TBB library may be in an invalid state in the child process.\n",
      "Numba: Attempted to fork from a non-main thread, the TBB library may be in an invalid state in the child process.\n",
      "Numba: Attempted to fork from a non-main thread, the TBB library may be in an invalid state in the child process.\n",
      "Numba: Attempted to fork from a non-main thread, the TBB library may be in an invalid state in the child process.\n",
      "Numba: Attempted to fork from a non-main thread, the TBB library may be in an invalid state in the child process.\n",
      "Numba: Attempted to fork from a non-main thread, the TBB library may be in an invalid state in the child process.\n",
      "Numba: Attempted to fork from a non-main thread, the TBB library may be in an invalid state in the child process.\n",
      "Numba: Attempted to fork from a non-main thread, the TBB library may be in an invalid state in the child process.\n",
      "Numba: Attempted to fork from a non-main thread, the TBB library may be in an invalid state in the child process.\n",
      "Numba: Attempted to fork from a non-main thread, the TBB library may be in an invalid state in the child process.\n",
      "Numba: Attempted to fork from a non-main thread, the TBB library may be in an invalid state in the child process.\n",
      "Numba: Attempted to fork from a non-main thread, the TBB library may be in an invalid state in the child process.\n",
      "Numba: Attempted to fork from a non-main thread, the TBB library may be in an invalid state in the child process.\n"
     ]
    },
    {
     "name": "stdout",
     "output_type": "stream",
     "text": [
      "         After full batch saving:Total Used: 138.126 GB, Virtual Available: 368.101 GB, Virtual Used: 135.095 GB, Swap Used: 003.031 GB\n",
      "         Memory at batch 14. Total Used: 138.135 GB, Virtual Available: 368.092 GB, Virtual Used: 135.104 GB, Swap Used: 003.031 GB\n",
      "Loading Batch 14 of 54\n",
      "    Workers completed in 1.22 sec\n",
      "    Total time: 3.27 sec\n",
      "   Loaded 1 files, total 0.32 GB\n",
      "   Batch 14 IO thread joined\n",
      "         Memory after IO thread joinTotal Used: 132.599 GB, Virtual Available: 373.628 GB, Virtual Used: 129.568 GB, Swap Used: 003.031 GB\n",
      "         Memory after movie copied from threadTotal Used: 132.033 GB, Virtual Available: 374.194 GB, Virtual Used: 129.001 GB, Swap Used: 003.031 GB\n",
      "         Memory after thread memory clearedTotal Used: 131.711 GB, Virtual Available: 374.516 GB, Virtual Used: 128.680 GB, Swap Used: 003.031 GB\n",
      "   Launching IO thread for next batch\n",
      "         After IO thread launch:Total Used: 131.711 GB, Virtual Available: 374.516 GB, Virtual Used: 128.680 GB, Swap Used: 003.031 GB\n",
      "      Loaded batch of size (12, 50, 500, 576)\n",
      "      Loading /mnt/zortex-subjects/CR031/2024-12-06/1/2024-12-06_1_CR031_2P_00001_00016.tif\n",
      "   Completed rigid reg on batch in :1.090787649154663s\n",
      "   Shifted the mov in: 0.32041025161743164s\n",
      "         After all GPU Batches:Total Used: 133.469 GB, Virtual Available: 372.757 GB, Virtual Used: 130.438 GB, Swap Used: 003.031 GB\n",
      "      Saving fused, registered file of shape (12, 50, 587, 676) to /mnt/md0/runs/s3d-CR031_2024-12-06_1/registered_fused_data/fused_reg_data0014.npy\n",
      "         Saved in 0.39 sec\n",
      "      Computing quality metrics and saving\n",
      "    Loaded file into shared memory in 2.10 sec\n"
     ]
    },
    {
     "name": "stderr",
     "output_type": "stream",
     "text": [
      "Numba: Attempted to fork from a non-main thread, the TBB library may be in an invalid state in the child process.\n",
      "Numba: Attempted to fork from a non-main thread, the TBB library may be in an invalid state in the child process.\n",
      "Numba: Attempted to fork from a non-main thread, the TBB library may be in an invalid state in the child process.\n",
      "Numba: Attempted to fork from a non-main thread, the TBB library may be in an invalid state in the child process.\n",
      "Numba: Attempted to fork from a non-main thread, the TBB library may be in an invalid state in the child process.\n",
      "Numba: Attempted to fork from a non-main thread, the TBB library may be in an invalid state in the child process.\n",
      "Numba: Attempted to fork from a non-main thread, the TBB library may be in an invalid state in the child process.\n",
      "Numba: Attempted to fork from a non-main thread, the TBB library may be in an invalid state in the child process.\n",
      "Numba: Attempted to fork from a non-main thread, the TBB library may be in an invalid state in the child process.\n",
      "Numba: Attempted to fork from a non-main thread, the TBB library may be in an invalid state in the child process.\n",
      "Numba: Attempted to fork from a non-main thread, the TBB library may be in an invalid state in the child process.\n",
      "Numba: Attempted to fork from a non-main thread, the TBB library may be in an invalid state in the child process.\n",
      "Numba: Attempted to fork from a non-main thread, the TBB library may be in an invalid state in the child process.\n",
      "Numba: Attempted to fork from a non-main thread, the TBB library may be in an invalid state in the child process.\n",
      "Numba: Attempted to fork from a non-main thread, the TBB library may be in an invalid state in the child process.\n",
      "Numba: Attempted to fork from a non-main thread, the TBB library may be in an invalid state in the child process.\n"
     ]
    },
    {
     "name": "stdout",
     "output_type": "stream",
     "text": [
      "         After full batch saving:Total Used: 138.293 GB, Virtual Available: 367.933 GB, Virtual Used: 135.262 GB, Swap Used: 003.031 GB\n",
      "         Memory at batch 15. Total Used: 138.300 GB, Virtual Available: 367.927 GB, Virtual Used: 135.269 GB, Swap Used: 003.031 GB\n",
      "Loading Batch 15 of 54\n",
      "    Workers completed in 1.15 sec\n",
      "    Total time: 3.25 sec\n",
      "   Loaded 1 files, total 0.32 GB\n",
      "   Batch 15 IO thread joined\n",
      "         Memory after IO thread joinTotal Used: 132.342 GB, Virtual Available: 373.885 GB, Virtual Used: 129.311 GB, Swap Used: 003.031 GB\n",
      "         Memory after movie copied from threadTotal Used: 131.770 GB, Virtual Available: 374.457 GB, Virtual Used: 128.739 GB, Swap Used: 003.031 GB\n",
      "         Memory after thread memory clearedTotal Used: 131.453 GB, Virtual Available: 374.773 GB, Virtual Used: 128.422 GB, Swap Used: 003.031 GB\n",
      "   Launching IO thread for next batch\n",
      "         After IO thread launch:Total Used: 131.447 GB, Virtual Available: 374.780 GB, Virtual Used: 128.415 GB, Swap Used: 003.031 GB\n",
      "      Loaded batch of size (12, 50, 500, 576)\n",
      "      Loading /mnt/zortex-subjects/CR031/2024-12-06/1/2024-12-06_1_CR031_2P_00001_00017.tif\n",
      "   Completed rigid reg on batch in :1.1015305519104004s\n",
      "   Shifted the mov in: 0.3021512031555176s\n",
      "         After all GPU Batches:Total Used: 133.263 GB, Virtual Available: 372.964 GB, Virtual Used: 130.232 GB, Swap Used: 003.031 GB\n",
      "      Saving fused, registered file of shape (12, 50, 587, 676) to /mnt/md0/runs/s3d-CR031_2024-12-06_1/registered_fused_data/fused_reg_data0015.npy\n",
      "         Saved in 0.39 sec\n",
      "      Computing quality metrics and saving\n",
      "    Loaded file into shared memory in 2.04 sec\n"
     ]
    },
    {
     "name": "stderr",
     "output_type": "stream",
     "text": [
      "Numba: Attempted to fork from a non-main thread, the TBB library may be in an invalid state in the child process.\n",
      "Numba: Attempted to fork from a non-main thread, the TBB library may be in an invalid state in the child process.\n",
      "Numba: Attempted to fork from a non-main thread, the TBB library may be in an invalid state in the child process.\n",
      "Numba: Attempted to fork from a non-main thread, the TBB library may be in an invalid state in the child process.\n",
      "Numba: Attempted to fork from a non-main thread, the TBB library may be in an invalid state in the child process.\n",
      "Numba: Attempted to fork from a non-main thread, the TBB library may be in an invalid state in the child process.\n",
      "Numba: Attempted to fork from a non-main thread, the TBB library may be in an invalid state in the child process.\n",
      "Numba: Attempted to fork from a non-main thread, the TBB library may be in an invalid state in the child process.\n",
      "Numba: Attempted to fork from a non-main thread, the TBB library may be in an invalid state in the child process.\n",
      "Numba: Attempted to fork from a non-main thread, the TBB library may be in an invalid state in the child process.\n",
      "Numba: Attempted to fork from a non-main thread, the TBB library may be in an invalid state in the child process.\n",
      "Numba: Attempted to fork from a non-main thread, the TBB library may be in an invalid state in the child process.\n",
      "Numba: Attempted to fork from a non-main thread, the TBB library may be in an invalid state in the child process.\n",
      "Numba: Attempted to fork from a non-main thread, the TBB library may be in an invalid state in the child process.\n",
      "Numba: Attempted to fork from a non-main thread, the TBB library may be in an invalid state in the child process.\n",
      "Numba: Attempted to fork from a non-main thread, the TBB library may be in an invalid state in the child process.\n"
     ]
    },
    {
     "name": "stdout",
     "output_type": "stream",
     "text": [
      "         After full batch saving:Total Used: 137.384 GB, Virtual Available: 368.842 GB, Virtual Used: 134.353 GB, Swap Used: 003.031 GB\n",
      "         Memory at batch 16. Total Used: 137.385 GB, Virtual Available: 368.841 GB, Virtual Used: 134.354 GB, Swap Used: 003.031 GB\n",
      "Loading Batch 16 of 54\n",
      "    Workers completed in 1.10 sec\n",
      "    Total time: 3.15 sec\n",
      "   Loaded 1 files, total 0.32 GB\n",
      "   Batch 16 IO thread joined\n",
      "         Memory after IO thread joinTotal Used: 132.496 GB, Virtual Available: 373.731 GB, Virtual Used: 129.465 GB, Swap Used: 003.031 GB\n",
      "         Memory after movie copied from threadTotal Used: 131.931 GB, Virtual Available: 374.295 GB, Virtual Used: 128.900 GB, Swap Used: 003.031 GB\n",
      "         Memory after thread memory clearedTotal Used: 131.614 GB, Virtual Available: 374.612 GB, Virtual Used: 128.583 GB, Swap Used: 003.031 GB\n",
      "   Launching IO thread for next batch\n",
      "         After IO thread launch:Total Used: 131.615 GB, Virtual Available: 374.612 GB, Virtual Used: 128.584 GB, Swap Used: 003.031 GB\n",
      "      Loading /mnt/zortex-subjects/CR031/2024-12-06/1/2024-12-06_1_CR031_2P_00001_00018.tif\n",
      "      Loaded batch of size (12, 50, 500, 576)\n",
      "   Completed rigid reg on batch in :1.154935359954834s\n",
      "   Shifted the mov in: 0.28528690338134766s\n",
      "         After all GPU Batches:Total Used: 132.769 GB, Virtual Available: 373.458 GB, Virtual Used: 129.738 GB, Swap Used: 003.031 GB\n",
      "      Saving fused, registered file of shape (12, 50, 587, 676) to /mnt/md0/runs/s3d-CR031_2024-12-06_1/registered_fused_data/fused_reg_data0016.npy\n",
      "         Saved in 0.39 sec\n",
      "      Computing quality metrics and saving\n",
      "         After full batch saving:Total Used: 133.357 GB, Virtual Available: 372.870 GB, Virtual Used: 130.326 GB, Swap Used: 003.031 GB\n",
      "         Memory at batch 17. Total Used: 133.358 GB, Virtual Available: 372.869 GB, Virtual Used: 130.326 GB, Swap Used: 003.031 GB\n",
      "Loading Batch 17 of 54\n",
      "    Loaded file into shared memory in 2.25 sec\n"
     ]
    },
    {
     "name": "stderr",
     "output_type": "stream",
     "text": [
      "Numba: Attempted to fork from a non-main thread, the TBB library may be in an invalid state in the child process.\n",
      "Numba: Attempted to fork from a non-main thread, the TBB library may be in an invalid state in the child process.\n",
      "Numba: Attempted to fork from a non-main thread, the TBB library may be in an invalid state in the child process.\n",
      "Numba: Attempted to fork from a non-main thread, the TBB library may be in an invalid state in the child process.\n",
      "Numba: Attempted to fork from a non-main thread, the TBB library may be in an invalid state in the child process.\n",
      "Numba: Attempted to fork from a non-main thread, the TBB library may be in an invalid state in the child process.\n",
      "Numba: Attempted to fork from a non-main thread, the TBB library may be in an invalid state in the child process.\n",
      "Numba: Attempted to fork from a non-main thread, the TBB library may be in an invalid state in the child process.\n",
      "Numba: Attempted to fork from a non-main thread, the TBB library may be in an invalid state in the child process.\n",
      "Numba: Attempted to fork from a non-main thread, the TBB library may be in an invalid state in the child process.\n",
      "Numba: Attempted to fork from a non-main thread, the TBB library may be in an invalid state in the child process.\n",
      "Numba: Attempted to fork from a non-main thread, the TBB library may be in an invalid state in the child process.\n",
      "Numba: Attempted to fork from a non-main thread, the TBB library may be in an invalid state in the child process.\n",
      "Numba: Attempted to fork from a non-main thread, the TBB library may be in an invalid state in the child process.\n",
      "Numba: Attempted to fork from a non-main thread, the TBB library may be in an invalid state in the child process.\n",
      "Numba: Attempted to fork from a non-main thread, the TBB library may be in an invalid state in the child process.\n"
     ]
    },
    {
     "name": "stdout",
     "output_type": "stream",
     "text": [
      "    Workers completed in 1.12 sec\n",
      "    Total time: 3.37 sec\n",
      "   Loaded 1 files, total 0.32 GB\n",
      "   Batch 17 IO thread joined\n",
      "         Memory after IO thread joinTotal Used: 132.314 GB, Virtual Available: 373.913 GB, Virtual Used: 129.283 GB, Swap Used: 003.031 GB\n",
      "         Memory after movie copied from threadTotal Used: 131.753 GB, Virtual Available: 374.474 GB, Virtual Used: 128.722 GB, Swap Used: 003.031 GB\n",
      "         Memory after thread memory clearedTotal Used: 131.435 GB, Virtual Available: 374.792 GB, Virtual Used: 128.404 GB, Swap Used: 003.031 GB\n",
      "   Launching IO thread for next batch\n",
      "         After IO thread launch:Total Used: 131.436 GB, Virtual Available: 374.791 GB, Virtual Used: 128.405 GB, Swap Used: 003.031 GB\n",
      "      Loaded batch of size (12, 50, 500, 576)\n",
      "      Loading /mnt/zortex-subjects/CR031/2024-12-06/1/2024-12-06_1_CR031_2P_00001_00019.tif\n",
      "   Completed rigid reg on batch in :1.1078736782073975s\n",
      "   Shifted the mov in: 0.49642157554626465s\n",
      "         After all GPU Batches:Total Used: 133.217 GB, Virtual Available: 373.010 GB, Virtual Used: 130.186 GB, Swap Used: 003.031 GB\n",
      "      Saving fused, registered file of shape (12, 50, 587, 676) to /mnt/md0/runs/s3d-CR031_2024-12-06_1/registered_fused_data/fused_reg_data0017.npy\n",
      "         Saved in 0.39 sec\n",
      "      Computing quality metrics and saving\n",
      "    Loaded file into shared memory in 2.28 sec\n"
     ]
    },
    {
     "name": "stderr",
     "output_type": "stream",
     "text": [
      "Numba: Attempted to fork from a non-main thread, the TBB library may be in an invalid state in the child process.\n",
      "Numba: Attempted to fork from a non-main thread, the TBB library may be in an invalid state in the child process.\n",
      "Numba: Attempted to fork from a non-main thread, the TBB library may be in an invalid state in the child process.\n",
      "Numba: Attempted to fork from a non-main thread, the TBB library may be in an invalid state in the child process.\n",
      "Numba: Attempted to fork from a non-main thread, the TBB library may be in an invalid state in the child process.\n",
      "Numba: Attempted to fork from a non-main thread, the TBB library may be in an invalid state in the child process.\n",
      "Numba: Attempted to fork from a non-main thread, the TBB library may be in an invalid state in the child process.\n",
      "Numba: Attempted to fork from a non-main thread, the TBB library may be in an invalid state in the child process.\n",
      "Numba: Attempted to fork from a non-main thread, the TBB library may be in an invalid state in the child process.\n",
      "Numba: Attempted to fork from a non-main thread, the TBB library may be in an invalid state in the child process.\n",
      "Numba: Attempted to fork from a non-main thread, the TBB library may be in an invalid state in the child process.\n",
      "Numba: Attempted to fork from a non-main thread, the TBB library may be in an invalid state in the child process.\n",
      "Numba: Attempted to fork from a non-main thread, the TBB library may be in an invalid state in the child process.\n",
      "Numba: Attempted to fork from a non-main thread, the TBB library may be in an invalid state in the child process.\n",
      "Numba: Attempted to fork from a non-main thread, the TBB library may be in an invalid state in the child process.\n",
      "Numba: Attempted to fork from a non-main thread, the TBB library may be in an invalid state in the child process.\n"
     ]
    },
    {
     "name": "stdout",
     "output_type": "stream",
     "text": [
      "         After full batch saving:Total Used: 138.016 GB, Virtual Available: 368.211 GB, Virtual Used: 134.985 GB, Swap Used: 003.031 GB\n",
      "         Memory at batch 18. Total Used: 138.021 GB, Virtual Available: 368.206 GB, Virtual Used: 134.990 GB, Swap Used: 003.031 GB\n",
      "Loading Batch 18 of 54\n",
      "    Workers completed in 1.16 sec\n",
      "    Total time: 3.44 sec\n",
      "   Loaded 1 files, total 0.32 GB\n",
      "   Batch 18 IO thread joined\n",
      "         Memory after IO thread joinTotal Used: 132.260 GB, Virtual Available: 373.967 GB, Virtual Used: 129.229 GB, Swap Used: 003.031 GB\n",
      "         Memory after movie copied from threadTotal Used: 131.613 GB, Virtual Available: 374.613 GB, Virtual Used: 128.582 GB, Swap Used: 003.031 GB\n",
      "         Memory after thread memory clearedTotal Used: 131.296 GB, Virtual Available: 374.931 GB, Virtual Used: 128.264 GB, Swap Used: 003.031 GB\n",
      "   Launching IO thread for next batch\n",
      "         After IO thread launch:Total Used: 131.297 GB, Virtual Available: 374.930 GB, Virtual Used: 128.266 GB, Swap Used: 003.031 GB\n",
      "      Loaded batch of size (12, 50, 500, 576)\n",
      "      Loading /mnt/zortex-subjects/CR031/2024-12-06/1/2024-12-06_1_CR031_2P_00001_00020.tif\n",
      "   Completed rigid reg on batch in :1.1426703929901123s\n",
      "   Shifted the mov in: 0.28906679153442383s\n",
      "         After all GPU Batches:Total Used: 132.745 GB, Virtual Available: 373.482 GB, Virtual Used: 129.714 GB, Swap Used: 003.031 GB\n",
      "      Saving fused, registered file of shape (12, 50, 587, 676) to /mnt/md0/runs/s3d-CR031_2024-12-06_1/registered_fused_data/fused_reg_data0018.npy\n",
      "         Saved in 0.39 sec\n",
      "      Computing quality metrics and saving\n",
      "         After full batch saving:Total Used: 133.342 GB, Virtual Available: 372.885 GB, Virtual Used: 130.310 GB, Swap Used: 003.031 GB\n",
      "         Memory at batch 19. Total Used: 133.342 GB, Virtual Available: 372.885 GB, Virtual Used: 130.311 GB, Swap Used: 003.031 GB\n",
      "Loading Batch 19 of 54\n",
      "    Loaded file into shared memory in 2.24 sec\n"
     ]
    },
    {
     "name": "stderr",
     "output_type": "stream",
     "text": [
      "Numba: Attempted to fork from a non-main thread, the TBB library may be in an invalid state in the child process.\n",
      "Numba: Attempted to fork from a non-main thread, the TBB library may be in an invalid state in the child process.\n",
      "Numba: Attempted to fork from a non-main thread, the TBB library may be in an invalid state in the child process.\n",
      "Numba: Attempted to fork from a non-main thread, the TBB library may be in an invalid state in the child process.\n",
      "Numba: Attempted to fork from a non-main thread, the TBB library may be in an invalid state in the child process.\n",
      "Numba: Attempted to fork from a non-main thread, the TBB library may be in an invalid state in the child process.\n",
      "Numba: Attempted to fork from a non-main thread, the TBB library may be in an invalid state in the child process.\n",
      "Numba: Attempted to fork from a non-main thread, the TBB library may be in an invalid state in the child process.\n",
      "Numba: Attempted to fork from a non-main thread, the TBB library may be in an invalid state in the child process.\n",
      "Numba: Attempted to fork from a non-main thread, the TBB library may be in an invalid state in the child process.\n",
      "Numba: Attempted to fork from a non-main thread, the TBB library may be in an invalid state in the child process.\n",
      "Numba: Attempted to fork from a non-main thread, the TBB library may be in an invalid state in the child process.\n",
      "Numba: Attempted to fork from a non-main thread, the TBB library may be in an invalid state in the child process.\n",
      "Numba: Attempted to fork from a non-main thread, the TBB library may be in an invalid state in the child process.\n",
      "Numba: Attempted to fork from a non-main thread, the TBB library may be in an invalid state in the child process.\n",
      "Numba: Attempted to fork from a non-main thread, the TBB library may be in an invalid state in the child process.\n"
     ]
    },
    {
     "name": "stdout",
     "output_type": "stream",
     "text": [
      "    Workers completed in 1.13 sec\n",
      "    Total time: 3.37 sec\n",
      "   Loaded 1 files, total 0.32 GB\n",
      "   Batch 19 IO thread joined\n",
      "         Memory after IO thread joinTotal Used: 131.832 GB, Virtual Available: 374.395 GB, Virtual Used: 128.801 GB, Swap Used: 003.031 GB\n",
      "         Memory after movie copied from threadTotal Used: 131.260 GB, Virtual Available: 374.967 GB, Virtual Used: 128.229 GB, Swap Used: 003.031 GB\n",
      "         Memory after thread memory clearedTotal Used: 130.938 GB, Virtual Available: 375.288 GB, Virtual Used: 127.907 GB, Swap Used: 003.031 GB\n",
      "   Launching IO thread for next batch\n",
      "         After IO thread launch:Total Used: 130.939 GB, Virtual Available: 375.288 GB, Virtual Used: 127.908 GB, Swap Used: 003.031 GB\n",
      "      Loaded batch of size (12, 50, 500, 576)\n",
      "      Loading /mnt/zortex-subjects/CR031/2024-12-06/1/2024-12-06_1_CR031_2P_00001_00021.tif\n",
      "    Loaded file into shared memory in 2.52 sec\n"
     ]
    },
    {
     "name": "stderr",
     "output_type": "stream",
     "text": [
      "Numba: Attempted to fork from a non-main thread, the TBB library may be in an invalid state in the child process.\n",
      "Numba: Attempted to fork from a non-main thread, the TBB library may be in an invalid state in the child process.\n",
      "Numba: Attempted to fork from a non-main thread, the TBB library may be in an invalid state in the child process.\n",
      "Numba: Attempted to fork from a non-main thread, the TBB library may be in an invalid state in the child process.\n",
      "Numba: Attempted to fork from a non-main thread, the TBB library may be in an invalid state in the child process.\n",
      "Numba: Attempted to fork from a non-main thread, the TBB library may be in an invalid state in the child process.\n",
      "Numba: Attempted to fork from a non-main thread, the TBB library may be in an invalid state in the child process.\n",
      "Numba: Attempted to fork from a non-main thread, the TBB library may be in an invalid state in the child process.\n",
      "Numba: Attempted to fork from a non-main thread, the TBB library may be in an invalid state in the child process.\n",
      "Numba: Attempted to fork from a non-main thread, the TBB library may be in an invalid state in the child process.\n",
      "Numba: Attempted to fork from a non-main thread, the TBB library may be in an invalid state in the child process.\n",
      "Numba: Attempted to fork from a non-main thread, the TBB library may be in an invalid state in the child process.\n",
      "Numba: Attempted to fork from a non-main thread, the TBB library may be in an invalid state in the child process.\n",
      "Numba: Attempted to fork from a non-main thread, the TBB library may be in an invalid state in the child process.\n",
      "Numba: Attempted to fork from a non-main thread, the TBB library may be in an invalid state in the child process.\n",
      "Numba: Attempted to fork from a non-main thread, the TBB library may be in an invalid state in the child process.\n"
     ]
    },
    {
     "name": "stdout",
     "output_type": "stream",
     "text": [
      "    Workers completed in 1.09 sec\n",
      "    Total time: 3.61 sec\n",
      "   Completed rigid reg on batch in :3.930727005004883s\n",
      "   Loaded 1 files, total 0.32 GB\n",
      "   Shifted the mov in: 0.30893445014953613s\n",
      "         After all GPU Batches:Total Used: 132.792 GB, Virtual Available: 373.435 GB, Virtual Used: 129.761 GB, Swap Used: 003.031 GB\n",
      "      Saving fused, registered file of shape (12, 50, 587, 676) to /mnt/md0/runs/s3d-CR031_2024-12-06_1/registered_fused_data/fused_reg_data0019.npy\n",
      "         Saved in 0.37 sec\n",
      "      Computing quality metrics and saving\n",
      "         After full batch saving:Total Used: 131.904 GB, Virtual Available: 374.323 GB, Virtual Used: 128.873 GB, Swap Used: 003.031 GB\n",
      "         Memory at batch 20. Total Used: 131.904 GB, Virtual Available: 374.323 GB, Virtual Used: 128.873 GB, Swap Used: 003.031 GB\n",
      "Loading Batch 20 of 54\n",
      "   Batch 20 IO thread joined\n",
      "         Memory after IO thread joinTotal Used: 131.904 GB, Virtual Available: 374.323 GB, Virtual Used: 128.873 GB, Swap Used: 003.031 GB\n",
      "         Memory after movie copied from threadTotal Used: 131.260 GB, Virtual Available: 374.967 GB, Virtual Used: 128.229 GB, Swap Used: 003.031 GB\n",
      "         Memory after thread memory clearedTotal Used: 130.943 GB, Virtual Available: 375.284 GB, Virtual Used: 127.912 GB, Swap Used: 003.031 GB\n",
      "   Launching IO thread for next batch\n",
      "         After IO thread launch:Total Used: 130.943 GB, Virtual Available: 375.284 GB, Virtual Used: 127.912 GB, Swap Used: 003.031 GB\n",
      "      Loaded batch of size (12, 50, 500, 576)\n",
      "      Loading /mnt/zortex-subjects/CR031/2024-12-06/1/2024-12-06_1_CR031_2P_00001_00022.tif\n",
      "   Completed rigid reg on batch in :1.174999475479126s\n",
      "   Shifted the mov in: 0.3229358196258545s\n",
      "         After all GPU Batches:Total Used: 132.940 GB, Virtual Available: 373.286 GB, Virtual Used: 129.909 GB, Swap Used: 003.031 GB\n",
      "      Saving fused, registered file of shape (12, 50, 587, 676) to /mnt/md0/runs/s3d-CR031_2024-12-06_1/registered_fused_data/fused_reg_data0020.npy\n",
      "         Saved in 0.39 sec\n",
      "      Computing quality metrics and saving\n",
      "    Loaded file into shared memory in 2.07 sec\n"
     ]
    },
    {
     "name": "stderr",
     "output_type": "stream",
     "text": [
      "Numba: Attempted to fork from a non-main thread, the TBB library may be in an invalid state in the child process.\n",
      "Numba: Attempted to fork from a non-main thread, the TBB library may be in an invalid state in the child process.\n",
      "Numba: Attempted to fork from a non-main thread, the TBB library may be in an invalid state in the child process.\n",
      "Numba: Attempted to fork from a non-main thread, the TBB library may be in an invalid state in the child process.\n",
      "Numba: Attempted to fork from a non-main thread, the TBB library may be in an invalid state in the child process.\n",
      "Numba: Attempted to fork from a non-main thread, the TBB library may be in an invalid state in the child process.\n",
      "Numba: Attempted to fork from a non-main thread, the TBB library may be in an invalid state in the child process.\n",
      "Numba: Attempted to fork from a non-main thread, the TBB library may be in an invalid state in the child process.\n",
      "Numba: Attempted to fork from a non-main thread, the TBB library may be in an invalid state in the child process.\n",
      "Numba: Attempted to fork from a non-main thread, the TBB library may be in an invalid state in the child process.\n",
      "Numba: Attempted to fork from a non-main thread, the TBB library may be in an invalid state in the child process.\n",
      "Numba: Attempted to fork from a non-main thread, the TBB library may be in an invalid state in the child process.\n",
      "Numba: Attempted to fork from a non-main thread, the TBB library may be in an invalid state in the child process.\n",
      "Numba: Attempted to fork from a non-main thread, the TBB library may be in an invalid state in the child process.\n",
      "Numba: Attempted to fork from a non-main thread, the TBB library may be in an invalid state in the child process.\n",
      "Numba: Attempted to fork from a non-main thread, the TBB library may be in an invalid state in the child process.\n",
      "/home/ali/packages/s2p-lbm/suite3d/quality_metrics.py:41: RuntimeWarning: invalid value encountered in divide\n",
      "  dff = df / fs.mean(axis=1,keepdims=True)\n",
      "/home/ali/anaconda3/envs/suite3d-gpu/lib/python3.8/site-packages/numpy/lib/nanfunctions.py:1217: RuntimeWarning: All-NaN slice encountered\n",
      "  return function_base._ureduce(a, func=_nanmedian, keepdims=keepdims,\n"
     ]
    },
    {
     "name": "stdout",
     "output_type": "stream",
     "text": [
      "    Workers completed in 1.14 sec\n",
      "    Total time: 3.21 sec\n",
      "         After full batch saving:Total Used: 136.411 GB, Virtual Available: 369.815 GB, Virtual Used: 133.380 GB, Swap Used: 003.031 GB\n",
      "         Memory at batch 21. Total Used: 136.412 GB, Virtual Available: 369.815 GB, Virtual Used: 133.381 GB, Swap Used: 003.031 GB\n",
      "Loading Batch 21 of 54\n",
      "   Loaded 1 files, total 0.32 GB\n",
      "   Batch 21 IO thread joined\n",
      "         Memory after IO thread joinTotal Used: 132.519 GB, Virtual Available: 373.708 GB, Virtual Used: 129.488 GB, Swap Used: 003.031 GB\n",
      "         Memory after movie copied from threadTotal Used: 131.947 GB, Virtual Available: 374.280 GB, Virtual Used: 128.916 GB, Swap Used: 003.031 GB\n",
      "         Memory after thread memory clearedTotal Used: 131.626 GB, Virtual Available: 374.600 GB, Virtual Used: 128.595 GB, Swap Used: 003.031 GB\n",
      "   Launching IO thread for next batch\n",
      "         After IO thread launch:Total Used: 131.626 GB, Virtual Available: 374.600 GB, Virtual Used: 128.595 GB, Swap Used: 003.031 GB\n",
      "      Loading /mnt/zortex-subjects/CR031/2024-12-06/1/2024-12-06_1_CR031_2P_00001_00023.tif\n",
      "      Loaded batch of size (12, 50, 500, 576)\n",
      "   Completed rigid reg on batch in :1.4694151878356934s\n",
      "   Shifted the mov in: 0.3222320079803467s\n",
      "         After all GPU Batches:Total Used: 134.211 GB, Virtual Available: 372.016 GB, Virtual Used: 131.180 GB, Swap Used: 003.031 GB\n",
      "      Saving fused, registered file of shape (12, 50, 587, 676) to /mnt/md0/runs/s3d-CR031_2024-12-06_1/registered_fused_data/fused_reg_data0021.npy\n",
      "    Loaded file into shared memory in 2.04 sec\n"
     ]
    },
    {
     "name": "stderr",
     "output_type": "stream",
     "text": [
      "Numba: Attempted to fork from a non-main thread, the TBB library may be in an invalid state in the child process.\n",
      "Numba: Attempted to fork from a non-main thread, the TBB library may be in an invalid state in the child process.\n"
     ]
    },
    {
     "name": "stdout",
     "output_type": "stream",
     "text": [
      "         Saved in 0.40 sec\n"
     ]
    },
    {
     "name": "stderr",
     "output_type": "stream",
     "text": [
      "Numba: Attempted to fork from a non-main thread, the TBB library may be in an invalid state in the child process.\n"
     ]
    },
    {
     "name": "stdout",
     "output_type": "stream",
     "text": [
      "      Computing quality metrics and saving\n"
     ]
    },
    {
     "name": "stderr",
     "output_type": "stream",
     "text": [
      "Numba: Attempted to fork from a non-main thread, the TBB library may be in an invalid state in the child process.\n",
      "Numba: Attempted to fork from a non-main thread, the TBB library may be in an invalid state in the child process.\n",
      "Numba: Attempted to fork from a non-main thread, the TBB library may be in an invalid state in the child process.\n",
      "Numba: Attempted to fork from a non-main thread, the TBB library may be in an invalid state in the child process.\n",
      "Numba: Attempted to fork from a non-main thread, the TBB library may be in an invalid state in the child process.\n",
      "Numba: Attempted to fork from a non-main thread, the TBB library may be in an invalid state in the child process.\n",
      "Numba: Attempted to fork from a non-main thread, the TBB library may be in an invalid state in the child process.\n",
      "Numba: Attempted to fork from a non-main thread, the TBB library may be in an invalid state in the child process.\n",
      "Numba: Attempted to fork from a non-main thread, the TBB library may be in an invalid state in the child process.\n",
      "Numba: Attempted to fork from a non-main thread, the TBB library may be in an invalid state in the child process.\n",
      "Numba: Attempted to fork from a non-main thread, the TBB library may be in an invalid state in the child process.\n",
      "Numba: Attempted to fork from a non-main thread, the TBB library may be in an invalid state in the child process.\n",
      "Numba: Attempted to fork from a non-main thread, the TBB library may be in an invalid state in the child process.\n"
     ]
    },
    {
     "name": "stdout",
     "output_type": "stream",
     "text": [
      "    Workers completed in 1.22 sec\n",
      "    Total time: 3.25 sec\n",
      "         After full batch saving:Total Used: 133.451 GB, Virtual Available: 372.776 GB, Virtual Used: 130.420 GB, Swap Used: 003.031 GB\n",
      "         Memory at batch 22. Total Used: 133.451 GB, Virtual Available: 372.776 GB, Virtual Used: 130.420 GB, Swap Used: 003.031 GB\n",
      "Loading Batch 22 of 54\n",
      "   Loaded 1 files, total 0.32 GB\n",
      "   Batch 22 IO thread joined\n",
      "         Memory after IO thread joinTotal Used: 132.571 GB, Virtual Available: 373.656 GB, Virtual Used: 129.540 GB, Swap Used: 003.031 GB\n",
      "         Memory after movie copied from threadTotal Used: 132.008 GB, Virtual Available: 374.218 GB, Virtual Used: 128.977 GB, Swap Used: 003.031 GB\n",
      "         Memory after thread memory clearedTotal Used: 131.691 GB, Virtual Available: 374.536 GB, Virtual Used: 128.660 GB, Swap Used: 003.031 GB\n",
      "   Launching IO thread for next batch\n",
      "         After IO thread launch:Total Used: 131.691 GB, Virtual Available: 374.536 GB, Virtual Used: 128.660 GB, Swap Used: 003.031 GB\n",
      "      Loaded batch of size (12, 50, 500, 576)\n",
      "      Loading /mnt/zortex-subjects/CR031/2024-12-06/1/2024-12-06_1_CR031_2P_00001_00024.tif\n",
      "    Loaded file into shared memory in 2.57 sec\n"
     ]
    },
    {
     "name": "stderr",
     "output_type": "stream",
     "text": [
      "Numba: Attempted to fork from a non-main thread, the TBB library may be in an invalid state in the child process.\n",
      "Numba: Attempted to fork from a non-main thread, the TBB library may be in an invalid state in the child process.\n",
      "Numba: Attempted to fork from a non-main thread, the TBB library may be in an invalid state in the child process.\n",
      "Numba: Attempted to fork from a non-main thread, the TBB library may be in an invalid state in the child process.\n",
      "Numba: Attempted to fork from a non-main thread, the TBB library may be in an invalid state in the child process.\n",
      "Numba: Attempted to fork from a non-main thread, the TBB library may be in an invalid state in the child process.\n",
      "Numba: Attempted to fork from a non-main thread, the TBB library may be in an invalid state in the child process.\n",
      "Numba: Attempted to fork from a non-main thread, the TBB library may be in an invalid state in the child process.\n",
      "Numba: Attempted to fork from a non-main thread, the TBB library may be in an invalid state in the child process.\n",
      "Numba: Attempted to fork from a non-main thread, the TBB library may be in an invalid state in the child process.\n",
      "Numba: Attempted to fork from a non-main thread, the TBB library may be in an invalid state in the child process.\n",
      "Numba: Attempted to fork from a non-main thread, the TBB library may be in an invalid state in the child process.\n",
      "Numba: Attempted to fork from a non-main thread, the TBB library may be in an invalid state in the child process.\n",
      "Numba: Attempted to fork from a non-main thread, the TBB library may be in an invalid state in the child process.\n",
      "Numba: Attempted to fork from a non-main thread, the TBB library may be in an invalid state in the child process.\n",
      "Numba: Attempted to fork from a non-main thread, the TBB library may be in an invalid state in the child process.\n"
     ]
    },
    {
     "name": "stdout",
     "output_type": "stream",
     "text": [
      "    Workers completed in 1.12 sec\n",
      "    Total time: 3.69 sec\n",
      "   Completed rigid reg on batch in :3.828092575073242s\n",
      "   Shifted the mov in: 0.36461710929870605s\n",
      "         After all GPU Batches:Total Used: 133.705 GB, Virtual Available: 372.521 GB, Virtual Used: 130.674 GB, Swap Used: 003.031 GB\n",
      "   Loaded 1 files, total 0.32 GB\n",
      "      Saving fused, registered file of shape (12, 50, 587, 676) to /mnt/md0/runs/s3d-CR031_2024-12-06_1/registered_fused_data/fused_reg_data0022.npy\n",
      "         Saved in 0.41 sec\n",
      "      Computing quality metrics and saving\n",
      "         After full batch saving:Total Used: 132.575 GB, Virtual Available: 373.652 GB, Virtual Used: 129.544 GB, Swap Used: 003.031 GB\n",
      "         Memory at batch 23. Total Used: 132.575 GB, Virtual Available: 373.652 GB, Virtual Used: 129.544 GB, Swap Used: 003.031 GB\n",
      "Loading Batch 23 of 54\n",
      "   Batch 23 IO thread joined\n",
      "         Memory after IO thread joinTotal Used: 132.575 GB, Virtual Available: 373.652 GB, Virtual Used: 129.544 GB, Swap Used: 003.031 GB\n",
      "         Memory after movie copied from threadTotal Used: 132.009 GB, Virtual Available: 374.218 GB, Virtual Used: 128.978 GB, Swap Used: 003.031 GB\n",
      "         Memory after thread memory clearedTotal Used: 131.693 GB, Virtual Available: 374.533 GB, Virtual Used: 128.662 GB, Swap Used: 003.031 GB\n",
      "   Launching IO thread for next batch\n",
      "         After IO thread launch:Total Used: 131.693 GB, Virtual Available: 374.533 GB, Virtual Used: 128.662 GB, Swap Used: 003.031 GB\n",
      "      Loaded batch of size (12, 50, 500, 576)\n",
      "      Loading /mnt/zortex-subjects/CR031/2024-12-06/1/2024-12-06_1_CR031_2P_00001_00025.tif\n",
      "   Completed rigid reg on batch in :2.241454839706421s\n",
      "    Loaded file into shared memory in 2.49 sec\n"
     ]
    },
    {
     "name": "stderr",
     "output_type": "stream",
     "text": [
      "Numba: Attempted to fork from a non-main thread, the TBB library may be in an invalid state in the child process.\n",
      "Numba: Attempted to fork from a non-main thread, the TBB library may be in an invalid state in the child process.\n",
      "Numba: Attempted to fork from a non-main thread, the TBB library may be in an invalid state in the child process.\n",
      "Numba: Attempted to fork from a non-main thread, the TBB library may be in an invalid state in the child process.\n",
      "Numba: Attempted to fork from a non-main thread, the TBB library may be in an invalid state in the child process.\n",
      "Numba: Attempted to fork from a non-main thread, the TBB library may be in an invalid state in the child process.\n",
      "Numba: Attempted to fork from a non-main thread, the TBB library may be in an invalid state in the child process.\n",
      "Numba: Attempted to fork from a non-main thread, the TBB library may be in an invalid state in the child process.\n",
      "Numba: Attempted to fork from a non-main thread, the TBB library may be in an invalid state in the child process.\n",
      "Numba: Attempted to fork from a non-main thread, the TBB library may be in an invalid state in the child process.\n",
      "Numba: Attempted to fork from a non-main thread, the TBB library may be in an invalid state in the child process.\n",
      "Numba: Attempted to fork from a non-main thread, the TBB library may be in an invalid state in the child process.\n",
      "Numba: Attempted to fork from a non-main thread, the TBB library may be in an invalid state in the child process.\n",
      "Numba: Attempted to fork from a non-main thread, the TBB library may be in an invalid state in the child process.\n",
      "Numba: Attempted to fork from a non-main thread, the TBB library may be in an invalid state in the child process.\n",
      "Numba: Attempted to fork from a non-main thread, the TBB library may be in an invalid state in the child process.\n"
     ]
    },
    {
     "name": "stdout",
     "output_type": "stream",
     "text": [
      "    Workers completed in 1.25 sec\n",
      "    Total time: 3.74 sec\n",
      "   Shifted the mov in: 2.0544819831848145s\n",
      "         After all GPU Batches:Total Used: 133.846 GB, Virtual Available: 372.381 GB, Virtual Used: 130.815 GB, Swap Used: 003.031 GB\n",
      "      Saving fused, registered file of shape (12, 50, 587, 676) to /mnt/md0/runs/s3d-CR031_2024-12-06_1/registered_fused_data/fused_reg_data0023.npy\n",
      "         Saved in 0.42 sec\n",
      "      Computing quality metrics and saving\n",
      "   Loaded 1 files, total 0.32 GB\n",
      "         After full batch saving:Total Used: 131.916 GB, Virtual Available: 374.310 GB, Virtual Used: 128.885 GB, Swap Used: 003.031 GB\n",
      "         Memory at batch 24. Total Used: 131.917 GB, Virtual Available: 374.310 GB, Virtual Used: 128.886 GB, Swap Used: 003.031 GB\n",
      "Loading Batch 24 of 54\n",
      "   Batch 24 IO thread joined\n",
      "         Memory after IO thread joinTotal Used: 131.917 GB, Virtual Available: 374.309 GB, Virtual Used: 128.886 GB, Swap Used: 003.031 GB\n",
      "         Memory after movie copied from threadTotal Used: 131.341 GB, Virtual Available: 374.886 GB, Virtual Used: 128.310 GB, Swap Used: 003.031 GB\n",
      "         Memory after thread memory clearedTotal Used: 131.023 GB, Virtual Available: 375.203 GB, Virtual Used: 127.992 GB, Swap Used: 003.031 GB\n",
      "   Launching IO thread for next batch\n",
      "         After IO thread launch:Total Used: 131.023 GB, Virtual Available: 375.203 GB, Virtual Used: 127.992 GB, Swap Used: 003.031 GB\n",
      "      Loaded batch of size (12, 50, 500, 576)\n",
      "      Loading /mnt/zortex-subjects/CR031/2024-12-06/1/2024-12-06_1_CR031_2P_00001_00026.tif\n",
      "    Loaded file into shared memory in 2.40 sec\n"
     ]
    },
    {
     "name": "stderr",
     "output_type": "stream",
     "text": [
      "Numba: Attempted to fork from a non-main thread, the TBB library may be in an invalid state in the child process.\n",
      "Numba: Attempted to fork from a non-main thread, the TBB library may be in an invalid state in the child process.\n",
      "Numba: Attempted to fork from a non-main thread, the TBB library may be in an invalid state in the child process.\n",
      "Numba: Attempted to fork from a non-main thread, the TBB library may be in an invalid state in the child process.\n",
      "Numba: Attempted to fork from a non-main thread, the TBB library may be in an invalid state in the child process.\n",
      "Numba: Attempted to fork from a non-main thread, the TBB library may be in an invalid state in the child process.\n",
      "Numba: Attempted to fork from a non-main thread, the TBB library may be in an invalid state in the child process.\n",
      "Numba: Attempted to fork from a non-main thread, the TBB library may be in an invalid state in the child process.\n",
      "Numba: Attempted to fork from a non-main thread, the TBB library may be in an invalid state in the child process.\n",
      "Numba: Attempted to fork from a non-main thread, the TBB library may be in an invalid state in the child process.\n",
      "Numba: Attempted to fork from a non-main thread, the TBB library may be in an invalid state in the child process.\n",
      "Numba: Attempted to fork from a non-main thread, the TBB library may be in an invalid state in the child process.\n",
      "Numba: Attempted to fork from a non-main thread, the TBB library may be in an invalid state in the child process.\n",
      "Numba: Attempted to fork from a non-main thread, the TBB library may be in an invalid state in the child process.\n",
      "Numba: Attempted to fork from a non-main thread, the TBB library may be in an invalid state in the child process.\n",
      "Numba: Attempted to fork from a non-main thread, the TBB library may be in an invalid state in the child process.\n"
     ]
    },
    {
     "name": "stdout",
     "output_type": "stream",
     "text": [
      "   Completed rigid reg on batch in :3.4598002433776855s\n",
      "    Workers completed in 1.10 sec\n",
      "    Total time: 3.50 sec\n",
      "   Shifted the mov in: 0.3794724941253662s\n",
      "         After all GPU Batches:Total Used: 133.872 GB, Virtual Available: 372.355 GB, Virtual Used: 130.841 GB, Swap Used: 003.031 GB\n",
      "      Saving fused, registered file of shape (12, 50, 587, 676) to /mnt/md0/runs/s3d-CR031_2024-12-06_1/registered_fused_data/fused_reg_data0024.npy\n",
      "   Loaded 1 files, total 0.32 GB\n",
      "         Saved in 0.40 sec\n",
      "      Computing quality metrics and saving\n",
      "         After full batch saving:Total Used: 131.973 GB, Virtual Available: 374.254 GB, Virtual Used: 128.942 GB, Swap Used: 003.031 GB\n",
      "         Memory at batch 25. Total Used: 131.973 GB, Virtual Available: 374.254 GB, Virtual Used: 128.942 GB, Swap Used: 003.031 GB\n",
      "Loading Batch 25 of 54\n",
      "   Batch 25 IO thread joined\n",
      "         Memory after IO thread joinTotal Used: 131.973 GB, Virtual Available: 374.254 GB, Virtual Used: 128.942 GB, Swap Used: 003.031 GB\n",
      "         Memory after movie copied from threadTotal Used: 131.341 GB, Virtual Available: 374.886 GB, Virtual Used: 128.310 GB, Swap Used: 003.031 GB\n",
      "         Memory after thread memory clearedTotal Used: 131.026 GB, Virtual Available: 375.201 GB, Virtual Used: 127.995 GB, Swap Used: 003.031 GB\n",
      "   Launching IO thread for next batch\n",
      "         After IO thread launch:Total Used: 131.026 GB, Virtual Available: 375.201 GB, Virtual Used: 127.995 GB, Swap Used: 003.031 GB\n",
      "      Loaded batch of size (12, 50, 500, 576)\n",
      "      Loading /mnt/zortex-subjects/CR031/2024-12-06/1/2024-12-06_1_CR031_2P_00001_00027.tif\n",
      "   Completed rigid reg on batch in :1.4959783554077148s\n",
      "   Shifted the mov in: 0.3159909248352051s\n",
      "         After all GPU Batches:Total Used: 133.503 GB, Virtual Available: 372.723 GB, Virtual Used: 130.472 GB, Swap Used: 003.031 GB\n",
      "      Saving fused, registered file of shape (12, 50, 587, 676) to /mnt/md0/runs/s3d-CR031_2024-12-06_1/registered_fused_data/fused_reg_data0025.npy\n",
      "    Loaded file into shared memory in 2.10 sec\n"
     ]
    },
    {
     "name": "stderr",
     "output_type": "stream",
     "text": [
      "Numba: Attempted to fork from a non-main thread, the TBB library may be in an invalid state in the child process.\n",
      "Numba: Attempted to fork from a non-main thread, the TBB library may be in an invalid state in the child process.\n"
     ]
    },
    {
     "name": "stdout",
     "output_type": "stream",
     "text": [
      "         Saved in 0.41 sec"
     ]
    },
    {
     "name": "stderr",
     "output_type": "stream",
     "text": [
      "Numba: Attempted to fork from a non-main thread, the TBB library may be in an invalid state in the child process.\n"
     ]
    },
    {
     "name": "stdout",
     "output_type": "stream",
     "text": [
      "\n",
      "      Computing quality metrics and saving\n"
     ]
    },
    {
     "name": "stderr",
     "output_type": "stream",
     "text": [
      "Numba: Attempted to fork from a non-main thread, the TBB library may be in an invalid state in the child process.\n",
      "Numba: Attempted to fork from a non-main thread, the TBB library may be in an invalid state in the child process.\n",
      "Numba: Attempted to fork from a non-main thread, the TBB library may be in an invalid state in the child process.\n",
      "Numba: Attempted to fork from a non-main thread, the TBB library may be in an invalid state in the child process.\n",
      "Numba: Attempted to fork from a non-main thread, the TBB library may be in an invalid state in the child process.\n",
      "Numba: Attempted to fork from a non-main thread, the TBB library may be in an invalid state in the child process.\n",
      "Numba: Attempted to fork from a non-main thread, the TBB library may be in an invalid state in the child process.\n",
      "Numba: Attempted to fork from a non-main thread, the TBB library may be in an invalid state in the child process.\n",
      "Numba: Attempted to fork from a non-main thread, the TBB library may be in an invalid state in the child process.\n",
      "Numba: Attempted to fork from a non-main thread, the TBB library may be in an invalid state in the child process.\n",
      "Numba: Attempted to fork from a non-main thread, the TBB library may be in an invalid state in the child process.\n",
      "Numba: Attempted to fork from a non-main thread, the TBB library may be in an invalid state in the child process.\n",
      "Numba: Attempted to fork from a non-main thread, the TBB library may be in an invalid state in the child process.\n"
     ]
    },
    {
     "name": "stdout",
     "output_type": "stream",
     "text": [
      "    Workers completed in 1.05 sec\n",
      "    Total time: 3.15 sec\n",
      "         After full batch saving:Total Used: 132.868 GB, Virtual Available: 373.358 GB, Virtual Used: 129.837 GB, Swap Used: 003.031 GB\n",
      "         Memory at batch 26. Total Used: 132.869 GB, Virtual Available: 373.358 GB, Virtual Used: 129.838 GB, Swap Used: 003.031 GB\n",
      "Loading Batch 26 of 54\n",
      "   Loaded 1 files, total 0.32 GB\n",
      "   Batch 26 IO thread joined\n",
      "         Memory after IO thread joinTotal Used: 131.912 GB, Virtual Available: 374.315 GB, Virtual Used: 128.881 GB, Swap Used: 003.031 GB\n",
      "         Memory after movie copied from threadTotal Used: 131.344 GB, Virtual Available: 374.883 GB, Virtual Used: 128.313 GB, Swap Used: 003.031 GB\n",
      "         Memory after thread memory clearedTotal Used: 131.023 GB, Virtual Available: 375.203 GB, Virtual Used: 127.992 GB, Swap Used: 003.031 GB\n",
      "   Launching IO thread for next batch\n",
      "         After IO thread launch:Total Used: 131.023 GB, Virtual Available: 375.203 GB, Virtual Used: 127.992 GB, Swap Used: 003.031 GB\n",
      "      Loaded batch of size (12, 50, 500, 576)\n",
      "      Loading /mnt/zortex-subjects/CR031/2024-12-06/1/2024-12-06_1_CR031_2P_00001_00028.tif\n",
      "   Completed rigid reg on batch in :1.3445117473602295s\n",
      "   Shifted the mov in: 0.32830214500427246s\n",
      "         After all GPU Batches:Total Used: 133.277 GB, Virtual Available: 372.950 GB, Virtual Used: 130.246 GB, Swap Used: 003.031 GB\n",
      "      Saving fused, registered file of shape (12, 50, 587, 676) to /mnt/md0/runs/s3d-CR031_2024-12-06_1/registered_fused_data/fused_reg_data0026.npy\n",
      "         Saved in 0.39 sec\n",
      "      Computing quality metrics and saving\n",
      "    Loaded file into shared memory in 2.14 sec\n"
     ]
    },
    {
     "name": "stderr",
     "output_type": "stream",
     "text": [
      "Numba: Attempted to fork from a non-main thread, the TBB library may be in an invalid state in the child process.\n",
      "Numba: Attempted to fork from a non-main thread, the TBB library may be in an invalid state in the child process.\n",
      "Numba: Attempted to fork from a non-main thread, the TBB library may be in an invalid state in the child process.\n",
      "Numba: Attempted to fork from a non-main thread, the TBB library may be in an invalid state in the child process.\n",
      "Numba: Attempted to fork from a non-main thread, the TBB library may be in an invalid state in the child process.\n",
      "Numba: Attempted to fork from a non-main thread, the TBB library may be in an invalid state in the child process.\n",
      "Numba: Attempted to fork from a non-main thread, the TBB library may be in an invalid state in the child process.\n",
      "Numba: Attempted to fork from a non-main thread, the TBB library may be in an invalid state in the child process.\n",
      "Numba: Attempted to fork from a non-main thread, the TBB library may be in an invalid state in the child process.\n",
      "Numba: Attempted to fork from a non-main thread, the TBB library may be in an invalid state in the child process.\n",
      "Numba: Attempted to fork from a non-main thread, the TBB library may be in an invalid state in the child process.\n",
      "Numba: Attempted to fork from a non-main thread, the TBB library may be in an invalid state in the child process.\n",
      "Numba: Attempted to fork from a non-main thread, the TBB library may be in an invalid state in the child process.\n",
      "Numba: Attempted to fork from a non-main thread, the TBB library may be in an invalid state in the child process.\n",
      "Numba: Attempted to fork from a non-main thread, the TBB library may be in an invalid state in the child process.\n",
      "Numba: Attempted to fork from a non-main thread, the TBB library may be in an invalid state in the child process.\n"
     ]
    },
    {
     "name": "stdout",
     "output_type": "stream",
     "text": [
      "    Workers completed in 1.10 sec\n",
      "    Total time: 3.25 sec\n",
      "         After full batch saving:Total Used: 134.065 GB, Virtual Available: 372.162 GB, Virtual Used: 131.033 GB, Swap Used: 003.031 GB\n",
      "         Memory at batch 27. Total Used: 134.063 GB, Virtual Available: 372.164 GB, Virtual Used: 131.032 GB, Swap Used: 003.031 GB\n",
      "Loading Batch 27 of 54\n",
      "   Loaded 1 files, total 0.32 GB\n",
      "   Batch 27 IO thread joined\n",
      "         Memory after IO thread joinTotal Used: 132.550 GB, Virtual Available: 373.677 GB, Virtual Used: 129.518 GB, Swap Used: 003.031 GB\n",
      "         Memory after movie copied from threadTotal Used: 131.978 GB, Virtual Available: 374.249 GB, Virtual Used: 128.947 GB, Swap Used: 003.031 GB\n",
      "         Memory after thread memory clearedTotal Used: 131.661 GB, Virtual Available: 374.566 GB, Virtual Used: 128.630 GB, Swap Used: 003.031 GB\n",
      "   Launching IO thread for next batch\n",
      "         After IO thread launch:Total Used: 131.661 GB, Virtual Available: 374.566 GB, Virtual Used: 128.630 GB, Swap Used: 003.031 GB\n",
      "      Loading /mnt/zortex-subjects/CR031/2024-12-06/1/2024-12-06_1_CR031_2P_00001_00029.tif\n",
      "      Loaded batch of size (12, 50, 500, 576)\n",
      "    Loaded file into shared memory in 2.81 sec\n"
     ]
    },
    {
     "name": "stderr",
     "output_type": "stream",
     "text": [
      "Numba: Attempted to fork from a non-main thread, the TBB library may be in an invalid state in the child process.\n",
      "Numba: Attempted to fork from a non-main thread, the TBB library may be in an invalid state in the child process.\n",
      "Numba: Attempted to fork from a non-main thread, the TBB library may be in an invalid state in the child process.\n",
      "Numba: Attempted to fork from a non-main thread, the TBB library may be in an invalid state in the child process.\n",
      "Numba: Attempted to fork from a non-main thread, the TBB library may be in an invalid state in the child process.\n",
      "Numba: Attempted to fork from a non-main thread, the TBB library may be in an invalid state in the child process.\n",
      "Numba: Attempted to fork from a non-main thread, the TBB library may be in an invalid state in the child process.\n",
      "Numba: Attempted to fork from a non-main thread, the TBB library may be in an invalid state in the child process.\n",
      "Numba: Attempted to fork from a non-main thread, the TBB library may be in an invalid state in the child process.\n",
      "Numba: Attempted to fork from a non-main thread, the TBB library may be in an invalid state in the child process.\n",
      "Numba: Attempted to fork from a non-main thread, the TBB library may be in an invalid state in the child process.\n",
      "Numba: Attempted to fork from a non-main thread, the TBB library may be in an invalid state in the child process.\n",
      "Numba: Attempted to fork from a non-main thread, the TBB library may be in an invalid state in the child process.\n",
      "Numba: Attempted to fork from a non-main thread, the TBB library may be in an invalid state in the child process.\n",
      "Numba: Attempted to fork from a non-main thread, the TBB library may be in an invalid state in the child process.\n",
      "Numba: Attempted to fork from a non-main thread, the TBB library may be in an invalid state in the child process.\n"
     ]
    },
    {
     "name": "stdout",
     "output_type": "stream",
     "text": [
      "    Workers completed in 1.24 sec\n",
      "    Total time: 4.04 sec\n",
      "   Completed rigid reg on batch in :5.536312818527222s\n",
      "   Shifted the mov in: 0.5407958030700684s\n",
      "         After all GPU Batches:Total Used: 133.722 GB, Virtual Available: 372.505 GB, Virtual Used: 130.691 GB, Swap Used: 003.031 GB\n",
      "      Saving fused, registered file of shape (12, 50, 587, 676) to /mnt/md0/runs/s3d-CR031_2024-12-06_1/registered_fused_data/fused_reg_data0027.npy\n",
      "         Saved in 0.79 sec\n",
      "      Computing quality metrics and saving\n",
      "   Loaded 1 files, total 0.32 GB\n",
      "         After full batch saving:Total Used: 132.552 GB, Virtual Available: 373.675 GB, Virtual Used: 129.520 GB, Swap Used: 003.031 GB\n",
      "         Memory at batch 28. Total Used: 132.552 GB, Virtual Available: 373.675 GB, Virtual Used: 129.520 GB, Swap Used: 003.031 GB\n",
      "Loading Batch 28 of 54\n",
      "   Batch 28 IO thread joined\n",
      "         Memory after IO thread joinTotal Used: 132.552 GB, Virtual Available: 373.675 GB, Virtual Used: 129.520 GB, Swap Used: 003.031 GB\n",
      "         Memory after movie copied from threadTotal Used: 131.977 GB, Virtual Available: 374.250 GB, Virtual Used: 128.946 GB, Swap Used: 003.031 GB\n",
      "         Memory after thread memory clearedTotal Used: 131.713 GB, Virtual Available: 374.514 GB, Virtual Used: 128.682 GB, Swap Used: 003.031 GB\n",
      "   Launching IO thread for next batch\n",
      "         After IO thread launch:Total Used: 131.713 GB, Virtual Available: 374.514 GB, Virtual Used: 128.682 GB, Swap Used: 003.031 GB\n",
      "      Loaded batch of size (12, 50, 500, 576)\n",
      "      Loading /mnt/zortex-subjects/CR031/2024-12-06/1/2024-12-06_1_CR031_2P_00001_00030.tif\n",
      "    Loaded file into shared memory in 2.53 sec\n"
     ]
    },
    {
     "name": "stderr",
     "output_type": "stream",
     "text": [
      "Numba: Attempted to fork from a non-main thread, the TBB library may be in an invalid state in the child process.\n",
      "Numba: Attempted to fork from a non-main thread, the TBB library may be in an invalid state in the child process.\n",
      "Numba: Attempted to fork from a non-main thread, the TBB library may be in an invalid state in the child process.\n",
      "Numba: Attempted to fork from a non-main thread, the TBB library may be in an invalid state in the child process.\n",
      "Numba: Attempted to fork from a non-main thread, the TBB library may be in an invalid state in the child process.\n",
      "Numba: Attempted to fork from a non-main thread, the TBB library may be in an invalid state in the child process.\n",
      "Numba: Attempted to fork from a non-main thread, the TBB library may be in an invalid state in the child process.\n",
      "Numba: Attempted to fork from a non-main thread, the TBB library may be in an invalid state in the child process.\n",
      "Numba: Attempted to fork from a non-main thread, the TBB library may be in an invalid state in the child process.\n",
      "Numba: Attempted to fork from a non-main thread, the TBB library may be in an invalid state in the child process.\n",
      "Numba: Attempted to fork from a non-main thread, the TBB library may be in an invalid state in the child process.\n",
      "Numba: Attempted to fork from a non-main thread, the TBB library may be in an invalid state in the child process.\n",
      "Numba: Attempted to fork from a non-main thread, the TBB library may be in an invalid state in the child process.\n",
      "Numba: Attempted to fork from a non-main thread, the TBB library may be in an invalid state in the child process.\n",
      "Numba: Attempted to fork from a non-main thread, the TBB library may be in an invalid state in the child process.\n",
      "Numba: Attempted to fork from a non-main thread, the TBB library may be in an invalid state in the child process.\n"
     ]
    },
    {
     "name": "stdout",
     "output_type": "stream",
     "text": [
      "    Workers completed in 1.83 sec\n",
      "    Total time: 4.36 sec\n",
      "   Completed rigid reg on batch in :4.959941148757935s\n",
      "   Loaded 1 files, total 0.32 GB\n",
      "   Shifted the mov in: 0.32816052436828613s\n",
      "         After all GPU Batches:Total Used: 133.491 GB, Virtual Available: 372.736 GB, Virtual Used: 130.460 GB, Swap Used: 003.032 GB\n",
      "      Saving fused, registered file of shape (12, 50, 587, 676) to /mnt/md0/runs/s3d-CR031_2024-12-06_1/registered_fused_data/fused_reg_data0028.npy\n",
      "         Saved in 0.40 sec\n",
      "      Computing quality metrics and saving\n",
      "         After full batch saving:Total Used: 132.604 GB, Virtual Available: 373.623 GB, Virtual Used: 129.573 GB, Swap Used: 003.032 GB\n",
      "         Memory at batch 29. Total Used: 132.604 GB, Virtual Available: 373.623 GB, Virtual Used: 129.573 GB, Swap Used: 003.032 GB\n",
      "Loading Batch 29 of 54\n",
      "   Batch 29 IO thread joined\n",
      "         Memory after IO thread joinTotal Used: 132.604 GB, Virtual Available: 373.623 GB, Virtual Used: 129.573 GB, Swap Used: 003.032 GB\n",
      "         Memory after movie copied from threadTotal Used: 132.044 GB, Virtual Available: 374.183 GB, Virtual Used: 129.013 GB, Swap Used: 003.032 GB\n",
      "         Memory after thread memory clearedTotal Used: 131.728 GB, Virtual Available: 374.499 GB, Virtual Used: 128.697 GB, Swap Used: 003.032 GB\n",
      "   Launching IO thread for next batch\n",
      "         After IO thread launch:Total Used: 131.728 GB, Virtual Available: 374.499 GB, Virtual Used: 128.697 GB, Swap Used: 003.032 GB\n",
      "      Loaded batch of size (12, 50, 500, 576)\n",
      "      Loading /mnt/zortex-subjects/CR031/2024-12-06/1/2024-12-06_1_CR031_2P_00001_00031.tif\n",
      "   Completed rigid reg on batch in :1.8086693286895752s\n",
      "   Shifted the mov in: 0.3141899108886719s\n",
      "         After all GPU Batches:Total Used: 134.440 GB, Virtual Available: 371.787 GB, Virtual Used: 131.408 GB, Swap Used: 003.032 GB\n",
      "      Saving fused, registered file of shape (12, 50, 587, 676) to /mnt/md0/runs/s3d-CR031_2024-12-06_1/registered_fused_data/fused_reg_data0029.npy\n",
      "    Loaded file into shared memory in 2.30 sec\n"
     ]
    },
    {
     "name": "stderr",
     "output_type": "stream",
     "text": [
      "Numba: Attempted to fork from a non-main thread, the TBB library may be in an invalid state in the child process.\n",
      "Numba: Attempted to fork from a non-main thread, the TBB library may be in an invalid state in the child process.\n",
      "Numba: Attempted to fork from a non-main thread, the TBB library may be in an invalid state in the child process.\n",
      "Numba: Attempted to fork from a non-main thread, the TBB library may be in an invalid state in the child process.\n",
      "Numba: Attempted to fork from a non-main thread, the TBB library may be in an invalid state in the child process.\n",
      "Numba: Attempted to fork from a non-main thread, the TBB library may be in an invalid state in the child process.\n"
     ]
    },
    {
     "name": "stdout",
     "output_type": "stream",
     "text": [
      "         Saved in 0.45 sec\n",
      "      Computing quality metrics and saving\n"
     ]
    },
    {
     "name": "stderr",
     "output_type": "stream",
     "text": [
      "Numba: Attempted to fork from a non-main thread, the TBB library may be in an invalid state in the child process.\n",
      "Numba: Attempted to fork from a non-main thread, the TBB library may be in an invalid state in the child process.\n",
      "Numba: Attempted to fork from a non-main thread, the TBB library may be in an invalid state in the child process.\n",
      "Numba: Attempted to fork from a non-main thread, the TBB library may be in an invalid state in the child process.\n",
      "Numba: Attempted to fork from a non-main thread, the TBB library may be in an invalid state in the child process.\n",
      "Numba: Attempted to fork from a non-main thread, the TBB library may be in an invalid state in the child process.\n",
      "Numba: Attempted to fork from a non-main thread, the TBB library may be in an invalid state in the child process.\n",
      "Numba: Attempted to fork from a non-main thread, the TBB library may be in an invalid state in the child process.\n",
      "Numba: Attempted to fork from a non-main thread, the TBB library may be in an invalid state in the child process.\n",
      "Numba: Attempted to fork from a non-main thread, the TBB library may be in an invalid state in the child process.\n"
     ]
    },
    {
     "name": "stdout",
     "output_type": "stream",
     "text": [
      "    Workers completed in 1.10 sec\n",
      "    Total time: 3.39 sec\n",
      "         After full batch saving:Total Used: 133.536 GB, Virtual Available: 372.691 GB, Virtual Used: 130.505 GB, Swap Used: 003.032 GB\n",
      "         Memory at batch 30. Total Used: 133.537 GB, Virtual Available: 372.690 GB, Virtual Used: 130.505 GB, Swap Used: 003.032 GB\n",
      "Loading Batch 30 of 54\n",
      "   Loaded 1 files, total 0.32 GB\n",
      "   Batch 30 IO thread joined\n",
      "         Memory after IO thread joinTotal Used: 132.672 GB, Virtual Available: 373.555 GB, Virtual Used: 129.641 GB, Swap Used: 003.032 GB\n",
      "         Memory after movie copied from threadTotal Used: 132.043 GB, Virtual Available: 374.185 GB, Virtual Used: 129.011 GB, Swap Used: 003.032 GB\n",
      "         Memory after thread memory clearedTotal Used: 131.721 GB, Virtual Available: 374.506 GB, Virtual Used: 128.689 GB, Swap Used: 003.032 GB\n",
      "   Launching IO thread for next batch\n",
      "         After IO thread launch:Total Used: 131.721 GB, Virtual Available: 374.506 GB, Virtual Used: 128.689 GB, Swap Used: 003.032 GB\n",
      "      Loaded batch of size (12, 50, 500, 576)\n",
      "      Loading /mnt/zortex-subjects/CR031/2024-12-06/1/2024-12-06_1_CR031_2P_00001_00032.tif\n",
      "   Completed rigid reg on batch in :1.2346854209899902s\n",
      "   Shifted the mov in: 0.3220081329345703s\n",
      "         After all GPU Batches:Total Used: 133.613 GB, Virtual Available: 372.614 GB, Virtual Used: 130.581 GB, Swap Used: 003.032 GB\n",
      "      Saving fused, registered file of shape (12, 50, 587, 676) to /mnt/md0/runs/s3d-CR031_2024-12-06_1/registered_fused_data/fused_reg_data0030.npy\n",
      "         Saved in 0.39 sec\n",
      "      Computing quality metrics and saving\n",
      "    Loaded file into shared memory in 2.16 sec\n"
     ]
    },
    {
     "name": "stderr",
     "output_type": "stream",
     "text": [
      "Numba: Attempted to fork from a non-main thread, the TBB library may be in an invalid state in the child process.\n",
      "Numba: Attempted to fork from a non-main thread, the TBB library may be in an invalid state in the child process.\n",
      "Numba: Attempted to fork from a non-main thread, the TBB library may be in an invalid state in the child process.\n",
      "Numba: Attempted to fork from a non-main thread, the TBB library may be in an invalid state in the child process.\n",
      "Numba: Attempted to fork from a non-main thread, the TBB library may be in an invalid state in the child process.\n",
      "Numba: Attempted to fork from a non-main thread, the TBB library may be in an invalid state in the child process.\n",
      "Numba: Attempted to fork from a non-main thread, the TBB library may be in an invalid state in the child process.\n",
      "Numba: Attempted to fork from a non-main thread, the TBB library may be in an invalid state in the child process.\n",
      "Numba: Attempted to fork from a non-main thread, the TBB library may be in an invalid state in the child process.\n",
      "Numba: Attempted to fork from a non-main thread, the TBB library may be in an invalid state in the child process.\n",
      "Numba: Attempted to fork from a non-main thread, the TBB library may be in an invalid state in the child process.\n",
      "Numba: Attempted to fork from a non-main thread, the TBB library may be in an invalid state in the child process.\n",
      "Numba: Attempted to fork from a non-main thread, the TBB library may be in an invalid state in the child process.\n",
      "Numba: Attempted to fork from a non-main thread, the TBB library may be in an invalid state in the child process.\n",
      "Numba: Attempted to fork from a non-main thread, the TBB library may be in an invalid state in the child process.\n",
      "Numba: Attempted to fork from a non-main thread, the TBB library may be in an invalid state in the child process.\n"
     ]
    },
    {
     "name": "stdout",
     "output_type": "stream",
     "text": [
      "    Workers completed in 1.06 sec\n",
      "    Total time: 3.22 sec\n",
      "         After full batch saving:Total Used: 136.505 GB, Virtual Available: 369.723 GB, Virtual Used: 133.473 GB, Swap Used: 003.032 GB\n",
      "         Memory at batch 31. Total Used: 136.505 GB, Virtual Available: 369.723 GB, Virtual Used: 133.473 GB, Swap Used: 003.032 GB\n",
      "Loading Batch 31 of 54\n",
      "   Loaded 1 files, total 0.32 GB\n",
      "   Batch 31 IO thread joined\n",
      "         Memory after IO thread joinTotal Used: 132.671 GB, Virtual Available: 373.557 GB, Virtual Used: 129.639 GB, Swap Used: 003.032 GB\n",
      "         Memory after movie copied from threadTotal Used: 132.001 GB, Virtual Available: 374.227 GB, Virtual Used: 128.969 GB, Swap Used: 003.032 GB\n",
      "         Memory after thread memory clearedTotal Used: 131.679 GB, Virtual Available: 374.548 GB, Virtual Used: 128.648 GB, Swap Used: 003.032 GB\n",
      "   Launching IO thread for next batch\n",
      "         After IO thread launch:Total Used: 131.679 GB, Virtual Available: 374.548 GB, Virtual Used: 128.648 GB, Swap Used: 003.032 GB\n",
      "      Loaded batch of size (12, 50, 500, 576)\n",
      "      Loading /mnt/zortex-subjects/CR031/2024-12-06/1/2024-12-06_1_CR031_2P_00001_00033.tif\n",
      "   Completed rigid reg on batch in :1.2252540588378906s\n",
      "   Shifted the mov in: 0.33106088638305664s\n",
      "         After all GPU Batches:Total Used: 133.827 GB, Virtual Available: 372.401 GB, Virtual Used: 130.795 GB, Swap Used: 003.032 GB\n",
      "      Saving fused, registered file of shape (12, 50, 587, 676) to /mnt/md0/runs/s3d-CR031_2024-12-06_1/registered_fused_data/fused_reg_data0031.npy\n",
      "         Saved in 0.39 sec\n",
      "      Computing quality metrics and saving\n",
      "    Loaded file into shared memory in 2.06 sec\n"
     ]
    },
    {
     "name": "stderr",
     "output_type": "stream",
     "text": [
      "Numba: Attempted to fork from a non-main thread, the TBB library may be in an invalid state in the child process.\n",
      "Numba: Attempted to fork from a non-main thread, the TBB library may be in an invalid state in the child process.\n",
      "Numba: Attempted to fork from a non-main thread, the TBB library may be in an invalid state in the child process.\n",
      "Numba: Attempted to fork from a non-main thread, the TBB library may be in an invalid state in the child process.\n",
      "Numba: Attempted to fork from a non-main thread, the TBB library may be in an invalid state in the child process.\n",
      "Numba: Attempted to fork from a non-main thread, the TBB library may be in an invalid state in the child process.\n",
      "Numba: Attempted to fork from a non-main thread, the TBB library may be in an invalid state in the child process.\n",
      "Numba: Attempted to fork from a non-main thread, the TBB library may be in an invalid state in the child process.\n",
      "Numba: Attempted to fork from a non-main thread, the TBB library may be in an invalid state in the child process.\n",
      "Numba: Attempted to fork from a non-main thread, the TBB library may be in an invalid state in the child process.\n",
      "Numba: Attempted to fork from a non-main thread, the TBB library may be in an invalid state in the child process.\n",
      "Numba: Attempted to fork from a non-main thread, the TBB library may be in an invalid state in the child process.\n",
      "Numba: Attempted to fork from a non-main thread, the TBB library may be in an invalid state in the child process.\n",
      "Numba: Attempted to fork from a non-main thread, the TBB library may be in an invalid state in the child process.\n",
      "Numba: Attempted to fork from a non-main thread, the TBB library may be in an invalid state in the child process.\n",
      "Numba: Attempted to fork from a non-main thread, the TBB library may be in an invalid state in the child process.\n"
     ]
    },
    {
     "name": "stdout",
     "output_type": "stream",
     "text": [
      "    Workers completed in 1.09 sec\n",
      "    Total time: 3.15 sec\n",
      "         After full batch saving:Total Used: 133.105 GB, Virtual Available: 373.122 GB, Virtual Used: 130.074 GB, Swap Used: 003.032 GB\n",
      "         Memory at batch 32. Total Used: 133.097 GB, Virtual Available: 373.130 GB, Virtual Used: 130.066 GB, Swap Used: 003.032 GB\n",
      "Loading Batch 32 of 54\n",
      "   Loaded 1 files, total 0.32 GB\n",
      "   Batch 32 IO thread joined\n",
      "         Memory after IO thread joinTotal Used: 131.794 GB, Virtual Available: 374.433 GB, Virtual Used: 128.763 GB, Swap Used: 003.032 GB\n",
      "         Memory after movie copied from threadTotal Used: 131.147 GB, Virtual Available: 375.080 GB, Virtual Used: 128.115 GB, Swap Used: 003.032 GB\n",
      "         Memory after thread memory clearedTotal Used: 130.832 GB, Virtual Available: 375.395 GB, Virtual Used: 127.800 GB, Swap Used: 003.032 GB\n",
      "   Launching IO thread for next batch\n",
      "         After IO thread launch:Total Used: 130.832 GB, Virtual Available: 375.395 GB, Virtual Used: 127.800 GB, Swap Used: 003.032 GB\n",
      "      Loading /mnt/zortex-subjects/CR031/2024-12-06/1/2024-12-06_1_CR031_2P_00001_00034.tif\n",
      "      Loaded batch of size (12, 50, 500, 576)\n",
      "    Loaded file into shared memory in 3.21 sec\n"
     ]
    },
    {
     "name": "stderr",
     "output_type": "stream",
     "text": [
      "Numba: Attempted to fork from a non-main thread, the TBB library may be in an invalid state in the child process.\n",
      "Numba: Attempted to fork from a non-main thread, the TBB library may be in an invalid state in the child process.\n",
      "Numba: Attempted to fork from a non-main thread, the TBB library may be in an invalid state in the child process.\n",
      "Numba: Attempted to fork from a non-main thread, the TBB library may be in an invalid state in the child process.\n",
      "Numba: Attempted to fork from a non-main thread, the TBB library may be in an invalid state in the child process.\n",
      "Numba: Attempted to fork from a non-main thread, the TBB library may be in an invalid state in the child process.\n",
      "Numba: Attempted to fork from a non-main thread, the TBB library may be in an invalid state in the child process.\n",
      "Numba: Attempted to fork from a non-main thread, the TBB library may be in an invalid state in the child process.\n",
      "Numba: Attempted to fork from a non-main thread, the TBB library may be in an invalid state in the child process.\n",
      "Numba: Attempted to fork from a non-main thread, the TBB library may be in an invalid state in the child process.\n",
      "Numba: Attempted to fork from a non-main thread, the TBB library may be in an invalid state in the child process.\n",
      "Numba: Attempted to fork from a non-main thread, the TBB library may be in an invalid state in the child process.\n",
      "Numba: Attempted to fork from a non-main thread, the TBB library may be in an invalid state in the child process.\n",
      "Numba: Attempted to fork from a non-main thread, the TBB library may be in an invalid state in the child process.\n",
      "Numba: Attempted to fork from a non-main thread, the TBB library may be in an invalid state in the child process.\n",
      "Numba: Attempted to fork from a non-main thread, the TBB library may be in an invalid state in the child process.\n"
     ]
    },
    {
     "name": "stdout",
     "output_type": "stream",
     "text": [
      "    Workers completed in 1.40 sec\n",
      "    Total time: 4.61 sec\n",
      "   Loaded 1 files, total 0.32 GB\n",
      "   Completed rigid reg on batch in :8.437783241271973s\n",
      "   Shifted the mov in: 0.3645949363708496s\n",
      "         After all GPU Batches:Total Used: 132.604 GB, Virtual Available: 373.623 GB, Virtual Used: 129.573 GB, Swap Used: 003.032 GB\n",
      "      Saving fused, registered file of shape (12, 50, 587, 676) to /mnt/md0/runs/s3d-CR031_2024-12-06_1/registered_fused_data/fused_reg_data0032.npy\n",
      "         Saved in 0.40 sec\n",
      "      Computing quality metrics and saving\n",
      "         After full batch saving:Total Used: 131.715 GB, Virtual Available: 374.513 GB, Virtual Used: 128.683 GB, Swap Used: 003.032 GB\n",
      "         Memory at batch 33. Total Used: 131.715 GB, Virtual Available: 374.513 GB, Virtual Used: 128.683 GB, Swap Used: 003.032 GB\n",
      "Loading Batch 33 of 54\n",
      "   Batch 33 IO thread joined\n",
      "         Memory after IO thread joinTotal Used: 131.715 GB, Virtual Available: 374.513 GB, Virtual Used: 128.683 GB, Swap Used: 003.032 GB\n",
      "         Memory after movie copied from threadTotal Used: 131.147 GB, Virtual Available: 375.080 GB, Virtual Used: 128.115 GB, Swap Used: 003.032 GB\n",
      "         Memory after thread memory clearedTotal Used: 130.826 GB, Virtual Available: 375.401 GB, Virtual Used: 127.794 GB, Swap Used: 003.032 GB\n",
      "   Launching IO thread for next batch\n",
      "         After IO thread launch:Total Used: 130.826 GB, Virtual Available: 375.401 GB, Virtual Used: 127.794 GB, Swap Used: 003.032 GB\n",
      "      Loaded batch of size (12, 50, 500, 576)\n",
      "      Loading /mnt/zortex-subjects/CR031/2024-12-06/1/2024-12-06_1_CR031_2P_00001_00035.tif\n",
      "    Loaded file into shared memory in 3.18 sec\n"
     ]
    },
    {
     "name": "stderr",
     "output_type": "stream",
     "text": [
      "Numba: Attempted to fork from a non-main thread, the TBB library may be in an invalid state in the child process.\n",
      "Numba: Attempted to fork from a non-main thread, the TBB library may be in an invalid state in the child process.\n",
      "Numba: Attempted to fork from a non-main thread, the TBB library may be in an invalid state in the child process.\n",
      "Numba: Attempted to fork from a non-main thread, the TBB library may be in an invalid state in the child process.\n",
      "Numba: Attempted to fork from a non-main thread, the TBB library may be in an invalid state in the child process.\n",
      "Numba: Attempted to fork from a non-main thread, the TBB library may be in an invalid state in the child process.\n",
      "Numba: Attempted to fork from a non-main thread, the TBB library may be in an invalid state in the child process.\n",
      "Numba: Attempted to fork from a non-main thread, the TBB library may be in an invalid state in the child process.\n",
      "Numba: Attempted to fork from a non-main thread, the TBB library may be in an invalid state in the child process.\n",
      "Numba: Attempted to fork from a non-main thread, the TBB library may be in an invalid state in the child process.\n",
      "Numba: Attempted to fork from a non-main thread, the TBB library may be in an invalid state in the child process.\n",
      "Numba: Attempted to fork from a non-main thread, the TBB library may be in an invalid state in the child process.\n",
      "Numba: Attempted to fork from a non-main thread, the TBB library may be in an invalid state in the child process.\n",
      "Numba: Attempted to fork from a non-main thread, the TBB library may be in an invalid state in the child process.\n",
      "Numba: Attempted to fork from a non-main thread, the TBB library may be in an invalid state in the child process.\n",
      "Numba: Attempted to fork from a non-main thread, the TBB library may be in an invalid state in the child process.\n"
     ]
    },
    {
     "name": "stdout",
     "output_type": "stream",
     "text": [
      "    Workers completed in 1.25 sec\n",
      "    Total time: 4.43 sec\n",
      "   Loaded 1 files, total 0.32 GB\n",
      "   Completed rigid reg on batch in :11.343809604644775s\n",
      "   Shifted the mov in: 0.3656654357910156s\n",
      "         After all GPU Batches:Total Used: 132.606 GB, Virtual Available: 373.621 GB, Virtual Used: 129.574 GB, Swap Used: 003.032 GB\n",
      "      Saving fused, registered file of shape (12, 50, 587, 676) to /mnt/md0/runs/s3d-CR031_2024-12-06_1/registered_fused_data/fused_reg_data0033.npy\n",
      "         Saved in 0.41 sec\n",
      "      Computing quality metrics and saving\n",
      "         After full batch saving:Total Used: 131.717 GB, Virtual Available: 374.510 GB, Virtual Used: 128.685 GB, Swap Used: 003.032 GB\n",
      "         Memory at batch 34. Total Used: 131.717 GB, Virtual Available: 374.510 GB, Virtual Used: 128.685 GB, Swap Used: 003.032 GB\n",
      "Loading Batch 34 of 54\n",
      "   Batch 34 IO thread joined\n",
      "         Memory after IO thread joinTotal Used: 131.717 GB, Virtual Available: 374.510 GB, Virtual Used: 128.685 GB, Swap Used: 003.032 GB\n",
      "         Memory after movie copied from threadTotal Used: 131.151 GB, Virtual Available: 375.076 GB, Virtual Used: 128.119 GB, Swap Used: 003.032 GB\n",
      "         Memory after thread memory clearedTotal Used: 130.829 GB, Virtual Available: 375.398 GB, Virtual Used: 127.797 GB, Swap Used: 003.032 GB\n",
      "   Launching IO thread for next batch\n",
      "         After IO thread launch:Total Used: 130.829 GB, Virtual Available: 375.398 GB, Virtual Used: 127.797 GB, Swap Used: 003.032 GB\n",
      "      Loaded batch of size (12, 50, 500, 576)\n",
      "      Loading /mnt/zortex-subjects/CR031/2024-12-06/1/2024-12-06_1_CR031_2P_00001_00036.tif\n",
      "   Completed rigid reg on batch in :1.1127057075500488s\n",
      "   Shifted the mov in: 0.29938459396362305s\n",
      "         After all GPU Batches:Total Used: 132.606 GB, Virtual Available: 373.622 GB, Virtual Used: 129.574 GB, Swap Used: 003.032 GB\n",
      "      Saving fused, registered file of shape (12, 50, 587, 676) to /mnt/md0/runs/s3d-CR031_2024-12-06_1/registered_fused_data/fused_reg_data0034.npy\n",
      "         Saved in 0.39 sec\n",
      "      Computing quality metrics and saving\n",
      "    Loaded file into shared memory in 2.08 sec\n"
     ]
    },
    {
     "name": "stderr",
     "output_type": "stream",
     "text": [
      "Numba: Attempted to fork from a non-main thread, the TBB library may be in an invalid state in the child process.\n",
      "Numba: Attempted to fork from a non-main thread, the TBB library may be in an invalid state in the child process.\n",
      "Numba: Attempted to fork from a non-main thread, the TBB library may be in an invalid state in the child process.\n",
      "Numba: Attempted to fork from a non-main thread, the TBB library may be in an invalid state in the child process.\n",
      "Numba: Attempted to fork from a non-main thread, the TBB library may be in an invalid state in the child process.\n",
      "Numba: Attempted to fork from a non-main thread, the TBB library may be in an invalid state in the child process.\n",
      "Numba: Attempted to fork from a non-main thread, the TBB library may be in an invalid state in the child process.\n",
      "Numba: Attempted to fork from a non-main thread, the TBB library may be in an invalid state in the child process.\n",
      "Numba: Attempted to fork from a non-main thread, the TBB library may be in an invalid state in the child process.\n",
      "Numba: Attempted to fork from a non-main thread, the TBB library may be in an invalid state in the child process.\n",
      "Numba: Attempted to fork from a non-main thread, the TBB library may be in an invalid state in the child process.\n",
      "Numba: Attempted to fork from a non-main thread, the TBB library may be in an invalid state in the child process.\n",
      "Numba: Attempted to fork from a non-main thread, the TBB library may be in an invalid state in the child process.\n",
      "Numba: Attempted to fork from a non-main thread, the TBB library may be in an invalid state in the child process.\n",
      "Numba: Attempted to fork from a non-main thread, the TBB library may be in an invalid state in the child process.\n",
      "Numba: Attempted to fork from a non-main thread, the TBB library may be in an invalid state in the child process.\n"
     ]
    },
    {
     "name": "stdout",
     "output_type": "stream",
     "text": [
      "         After full batch saving:Total Used: 136.415 GB, Virtual Available: 369.812 GB, Virtual Used: 133.384 GB, Swap Used: 003.032 GB\n",
      "         Memory at batch 35. Total Used: 136.416 GB, Virtual Available: 369.811 GB, Virtual Used: 133.385 GB, Swap Used: 003.032 GB\n",
      "Loading Batch 35 of 54\n",
      "    Workers completed in 1.11 sec\n",
      "    Total time: 3.19 sec\n",
      "   Loaded 1 files, total 0.32 GB\n",
      "   Batch 35 IO thread joined\n",
      "         Memory after IO thread joinTotal Used: 131.780 GB, Virtual Available: 374.447 GB, Virtual Used: 128.748 GB, Swap Used: 003.032 GB\n",
      "         Memory after movie copied from threadTotal Used: 131.215 GB, Virtual Available: 375.012 GB, Virtual Used: 128.183 GB, Swap Used: 003.032 GB\n",
      "         Memory after thread memory clearedTotal Used: 130.941 GB, Virtual Available: 375.286 GB, Virtual Used: 127.910 GB, Swap Used: 003.032 GB\n",
      "   Launching IO thread for next batch\n",
      "         After IO thread launch:Total Used: 130.942 GB, Virtual Available: 375.285 GB, Virtual Used: 127.910 GB, Swap Used: 003.032 GB\n",
      "      Loaded batch of size (12, 50, 500, 576)\n",
      "      Loading /mnt/zortex-subjects/CR031/2024-12-06/1/2024-12-06_1_CR031_2P_00001_00037.tif\n",
      "   Completed rigid reg on batch in :1.0165057182312012s\n",
      "   Shifted the mov in: 0.2991981506347656s\n",
      "         After all GPU Batches:Total Used: 132.586 GB, Virtual Available: 373.641 GB, Virtual Used: 129.554 GB, Swap Used: 003.032 GB\n",
      "      Saving fused, registered file of shape (12, 50, 587, 676) to /mnt/md0/runs/s3d-CR031_2024-12-06_1/registered_fused_data/fused_reg_data0035.npy\n",
      "         Saved in 0.39 sec\n",
      "      Computing quality metrics and saving\n",
      "    Loaded file into shared memory in 2.01 sec\n"
     ]
    },
    {
     "name": "stderr",
     "output_type": "stream",
     "text": [
      "Numba: Attempted to fork from a non-main thread, the TBB library may be in an invalid state in the child process.\n",
      "Numba: Attempted to fork from a non-main thread, the TBB library may be in an invalid state in the child process.\n",
      "Numba: Attempted to fork from a non-main thread, the TBB library may be in an invalid state in the child process.\n",
      "Numba: Attempted to fork from a non-main thread, the TBB library may be in an invalid state in the child process.\n",
      "Numba: Attempted to fork from a non-main thread, the TBB library may be in an invalid state in the child process.\n",
      "Numba: Attempted to fork from a non-main thread, the TBB library may be in an invalid state in the child process.\n",
      "Numba: Attempted to fork from a non-main thread, the TBB library may be in an invalid state in the child process.\n",
      "Numba: Attempted to fork from a non-main thread, the TBB library may be in an invalid state in the child process.\n",
      "Numba: Attempted to fork from a non-main thread, the TBB library may be in an invalid state in the child process.\n",
      "Numba: Attempted to fork from a non-main thread, the TBB library may be in an invalid state in the child process.\n",
      "Numba: Attempted to fork from a non-main thread, the TBB library may be in an invalid state in the child process.\n",
      "Numba: Attempted to fork from a non-main thread, the TBB library may be in an invalid state in the child process.\n",
      "Numba: Attempted to fork from a non-main thread, the TBB library may be in an invalid state in the child process.\n",
      "Numba: Attempted to fork from a non-main thread, the TBB library may be in an invalid state in the child process.\n",
      "Numba: Attempted to fork from a non-main thread, the TBB library may be in an invalid state in the child process.\n",
      "Numba: Attempted to fork from a non-main thread, the TBB library may be in an invalid state in the child process.\n"
     ]
    },
    {
     "name": "stdout",
     "output_type": "stream",
     "text": [
      "         After full batch saving:Total Used: 137.459 GB, Virtual Available: 368.768 GB, Virtual Used: 134.427 GB, Swap Used: 003.032 GB\n",
      "         Memory at batch 36. Total Used: 137.522 GB, Virtual Available: 368.706 GB, Virtual Used: 134.490 GB, Swap Used: 003.032 GB\n",
      "Loading Batch 36 of 54\n",
      "    Workers completed in 1.07 sec\n",
      "    Total time: 3.08 sec\n",
      "   Loaded 1 files, total 0.32 GB\n",
      "   Batch 36 IO thread joined\n",
      "         Memory after IO thread joinTotal Used: 132.074 GB, Virtual Available: 374.153 GB, Virtual Used: 129.042 GB, Swap Used: 003.032 GB\n",
      "         Memory after movie copied from threadTotal Used: 131.501 GB, Virtual Available: 374.726 GB, Virtual Used: 128.470 GB, Swap Used: 003.032 GB\n",
      "         Memory after thread memory clearedTotal Used: 131.183 GB, Virtual Available: 375.044 GB, Virtual Used: 128.152 GB, Swap Used: 003.032 GB\n",
      "   Launching IO thread for next batch\n",
      "         After IO thread launch:Total Used: 131.183 GB, Virtual Available: 375.044 GB, Virtual Used: 128.152 GB, Swap Used: 003.032 GB\n",
      "      Loaded batch of size (12, 50, 500, 576)\n",
      "      Loading /mnt/zortex-subjects/CR031/2024-12-06/1/2024-12-06_1_CR031_2P_00001_00038.tif\n",
      "    Loaded file into shared memory in 2.59 sec\n"
     ]
    },
    {
     "name": "stderr",
     "output_type": "stream",
     "text": [
      "Numba: Attempted to fork from a non-main thread, the TBB library may be in an invalid state in the child process.\n",
      "Numba: Attempted to fork from a non-main thread, the TBB library may be in an invalid state in the child process.\n",
      "Numba: Attempted to fork from a non-main thread, the TBB library may be in an invalid state in the child process.\n",
      "Numba: Attempted to fork from a non-main thread, the TBB library may be in an invalid state in the child process.\n",
      "Numba: Attempted to fork from a non-main thread, the TBB library may be in an invalid state in the child process.\n",
      "Numba: Attempted to fork from a non-main thread, the TBB library may be in an invalid state in the child process.\n",
      "Numba: Attempted to fork from a non-main thread, the TBB library may be in an invalid state in the child process.\n",
      "Numba: Attempted to fork from a non-main thread, the TBB library may be in an invalid state in the child process.\n",
      "Numba: Attempted to fork from a non-main thread, the TBB library may be in an invalid state in the child process.\n",
      "Numba: Attempted to fork from a non-main thread, the TBB library may be in an invalid state in the child process.\n",
      "Numba: Attempted to fork from a non-main thread, the TBB library may be in an invalid state in the child process.\n",
      "Numba: Attempted to fork from a non-main thread, the TBB library may be in an invalid state in the child process.\n",
      "Numba: Attempted to fork from a non-main thread, the TBB library may be in an invalid state in the child process.\n",
      "Numba: Attempted to fork from a non-main thread, the TBB library may be in an invalid state in the child process.\n",
      "Numba: Attempted to fork from a non-main thread, the TBB library may be in an invalid state in the child process.\n",
      "Numba: Attempted to fork from a non-main thread, the TBB library may be in an invalid state in the child process.\n"
     ]
    },
    {
     "name": "stdout",
     "output_type": "stream",
     "text": [
      "    Workers completed in 2.05 sec\n",
      "    Total time: 4.63 sec\n",
      "   Completed rigid reg on batch in :5.769740343093872s\n",
      "   Loaded 1 files, total 0.32 GB\n",
      "   Shifted the mov in: 0.4046797752380371s\n",
      "         After all GPU Batches:Total Used: 132.961 GB, Virtual Available: 373.266 GB, Virtual Used: 129.930 GB, Swap Used: 003.032 GB\n",
      "      Saving fused, registered file of shape (12, 50, 587, 676) to /mnt/md0/runs/s3d-CR031_2024-12-06_1/registered_fused_data/fused_reg_data0036.npy\n",
      "         Saved in 0.38 sec\n",
      "      Computing quality metrics and saving\n",
      "         After full batch saving:Total Used: 132.074 GB, Virtual Available: 374.153 GB, Virtual Used: 129.043 GB, Swap Used: 003.032 GB\n",
      "         Memory at batch 37. Total Used: 132.074 GB, Virtual Available: 374.153 GB, Virtual Used: 129.043 GB, Swap Used: 003.032 GB\n",
      "Loading Batch 37 of 54\n",
      "   Batch 37 IO thread joined\n",
      "         Memory after IO thread joinTotal Used: 132.074 GB, Virtual Available: 374.153 GB, Virtual Used: 129.043 GB, Swap Used: 003.032 GB\n",
      "         Memory after movie copied from threadTotal Used: 131.498 GB, Virtual Available: 374.729 GB, Virtual Used: 128.466 GB, Swap Used: 003.032 GB\n",
      "         Memory after thread memory clearedTotal Used: 131.179 GB, Virtual Available: 375.048 GB, Virtual Used: 128.148 GB, Swap Used: 003.032 GB\n",
      "   Launching IO thread for next batch\n",
      "         After IO thread launch:Total Used: 131.179 GB, Virtual Available: 375.048 GB, Virtual Used: 128.148 GB, Swap Used: 003.032 GB\n",
      "      Loaded batch of size (12, 50, 500, 576)\n",
      "      Loading /mnt/zortex-subjects/CR031/2024-12-06/1/2024-12-06_1_CR031_2P_00001_00039.tif\n",
      "    Loaded file into shared memory in 2.32 sec\n"
     ]
    },
    {
     "name": "stderr",
     "output_type": "stream",
     "text": [
      "Numba: Attempted to fork from a non-main thread, the TBB library may be in an invalid state in the child process.\n",
      "Numba: Attempted to fork from a non-main thread, the TBB library may be in an invalid state in the child process.\n",
      "Numba: Attempted to fork from a non-main thread, the TBB library may be in an invalid state in the child process.\n",
      "Numba: Attempted to fork from a non-main thread, the TBB library may be in an invalid state in the child process.\n",
      "Numba: Attempted to fork from a non-main thread, the TBB library may be in an invalid state in the child process.\n",
      "Numba: Attempted to fork from a non-main thread, the TBB library may be in an invalid state in the child process.\n",
      "Numba: Attempted to fork from a non-main thread, the TBB library may be in an invalid state in the child process.\n",
      "Numba: Attempted to fork from a non-main thread, the TBB library may be in an invalid state in the child process.\n",
      "Numba: Attempted to fork from a non-main thread, the TBB library may be in an invalid state in the child process.\n",
      "Numba: Attempted to fork from a non-main thread, the TBB library may be in an invalid state in the child process.\n",
      "Numba: Attempted to fork from a non-main thread, the TBB library may be in an invalid state in the child process.\n",
      "Numba: Attempted to fork from a non-main thread, the TBB library may be in an invalid state in the child process.\n",
      "Numba: Attempted to fork from a non-main thread, the TBB library may be in an invalid state in the child process.\n",
      "Numba: Attempted to fork from a non-main thread, the TBB library may be in an invalid state in the child process.\n",
      "Numba: Attempted to fork from a non-main thread, the TBB library may be in an invalid state in the child process.\n",
      "Numba: Attempted to fork from a non-main thread, the TBB library may be in an invalid state in the child process.\n"
     ]
    },
    {
     "name": "stdout",
     "output_type": "stream",
     "text": [
      "    Workers completed in 1.18 sec\n",
      "    Total time: 3.50 sec\n",
      "   Completed rigid reg on batch in :4.703505992889404s\n",
      "   Loaded 1 files, total 0.32 GB\n",
      "   Shifted the mov in: 0.3580598831176758s\n",
      "         After all GPU Batches:Total Used: 133.005 GB, Virtual Available: 373.222 GB, Virtual Used: 129.974 GB, Swap Used: 003.032 GB\n",
      "      Saving fused, registered file of shape (12, 50, 587, 676) to /mnt/md0/runs/s3d-CR031_2024-12-06_1/registered_fused_data/fused_reg_data0037.npy\n",
      "         Saved in 0.39 sec\n",
      "      Computing quality metrics and saving\n",
      "         After full batch saving:Total Used: 132.117 GB, Virtual Available: 374.110 GB, Virtual Used: 129.085 GB, Swap Used: 003.032 GB\n",
      "         Memory at batch 38. Total Used: 132.117 GB, Virtual Available: 374.110 GB, Virtual Used: 129.085 GB, Swap Used: 003.032 GB\n",
      "Loading Batch 38 of 54\n",
      "   Batch 38 IO thread joined\n",
      "         Memory after IO thread joinTotal Used: 132.117 GB, Virtual Available: 374.110 GB, Virtual Used: 129.085 GB, Swap Used: 003.032 GB\n",
      "         Memory after movie copied from threadTotal Used: 131.512 GB, Virtual Available: 374.715 GB, Virtual Used: 128.480 GB, Swap Used: 003.032 GB\n",
      "         Memory after thread memory clearedTotal Used: 131.191 GB, Virtual Available: 375.036 GB, Virtual Used: 128.160 GB, Swap Used: 003.032 GB\n",
      "   Launching IO thread for next batch\n",
      "         After IO thread launch:Total Used: 131.191 GB, Virtual Available: 375.036 GB, Virtual Used: 128.160 GB, Swap Used: 003.032 GB\n",
      "      Loaded batch of size (12, 50, 500, 576)\n",
      "      Loading /mnt/zortex-subjects/CR031/2024-12-06/1/2024-12-06_1_CR031_2P_00001_00040.tif\n",
      "   Completed rigid reg on batch in :1.2858467102050781s\n",
      "   Shifted the mov in: 0.3138115406036377s\n",
      "         After all GPU Batches:Total Used: 133.337 GB, Virtual Available: 372.890 GB, Virtual Used: 130.305 GB, Swap Used: 003.032 GB\n",
      "      Saving fused, registered file of shape (12, 50, 587, 676) to /mnt/md0/runs/s3d-CR031_2024-12-06_1/registered_fused_data/fused_reg_data0038.npy\n",
      "         Saved in 0.40 sec\n",
      "      Computing quality metrics and saving\n",
      "    Loaded file into shared memory in 2.12 sec\n"
     ]
    },
    {
     "name": "stderr",
     "output_type": "stream",
     "text": [
      "Numba: Attempted to fork from a non-main thread, the TBB library may be in an invalid state in the child process.\n",
      "Numba: Attempted to fork from a non-main thread, the TBB library may be in an invalid state in the child process.\n",
      "Numba: Attempted to fork from a non-main thread, the TBB library may be in an invalid state in the child process.\n",
      "Numba: Attempted to fork from a non-main thread, the TBB library may be in an invalid state in the child process.\n",
      "Numba: Attempted to fork from a non-main thread, the TBB library may be in an invalid state in the child process.\n",
      "Numba: Attempted to fork from a non-main thread, the TBB library may be in an invalid state in the child process.\n",
      "Numba: Attempted to fork from a non-main thread, the TBB library may be in an invalid state in the child process.\n",
      "Numba: Attempted to fork from a non-main thread, the TBB library may be in an invalid state in the child process.\n",
      "Numba: Attempted to fork from a non-main thread, the TBB library may be in an invalid state in the child process.\n",
      "Numba: Attempted to fork from a non-main thread, the TBB library may be in an invalid state in the child process.\n",
      "Numba: Attempted to fork from a non-main thread, the TBB library may be in an invalid state in the child process.\n",
      "Numba: Attempted to fork from a non-main thread, the TBB library may be in an invalid state in the child process.\n",
      "Numba: Attempted to fork from a non-main thread, the TBB library may be in an invalid state in the child process.\n",
      "Numba: Attempted to fork from a non-main thread, the TBB library may be in an invalid state in the child process.\n",
      "Numba: Attempted to fork from a non-main thread, the TBB library may be in an invalid state in the child process.\n",
      "Numba: Attempted to fork from a non-main thread, the TBB library may be in an invalid state in the child process.\n"
     ]
    },
    {
     "name": "stdout",
     "output_type": "stream",
     "text": [
      "    Workers completed in 1.12 sec\n",
      "    Total time: 3.24 sec\n",
      "         After full batch saving:Total Used: 133.313 GB, Virtual Available: 372.915 GB, Virtual Used: 130.281 GB, Swap Used: 003.032 GB\n",
      "         Memory at batch 39. Total Used: 133.304 GB, Virtual Available: 372.923 GB, Virtual Used: 130.273 GB, Swap Used: 003.032 GB\n",
      "Loading Batch 39 of 54\n",
      "   Loaded 1 files, total 0.32 GB\n",
      "   Batch 39 IO thread joined\n",
      "         Memory after IO thread joinTotal Used: 132.152 GB, Virtual Available: 374.075 GB, Virtual Used: 129.120 GB, Swap Used: 003.032 GB\n",
      "         Memory after movie copied from threadTotal Used: 131.994 GB, Virtual Available: 374.234 GB, Virtual Used: 128.962 GB, Swap Used: 003.032 GB\n",
      "         Memory after thread memory clearedTotal Used: 131.673 GB, Virtual Available: 374.554 GB, Virtual Used: 128.642 GB, Swap Used: 003.032 GB\n",
      "   Launching IO thread for next batch\n",
      "         After IO thread launch:Total Used: 131.673 GB, Virtual Available: 374.554 GB, Virtual Used: 128.642 GB, Swap Used: 003.032 GB\n",
      "      Loading /mnt/zortex-subjects/CR031/2024-12-06/1/2024-12-06_1_CR031_2P_00001_00041.tif\n",
      "      Loaded batch of size (12, 50, 500, 576)\n",
      "   Completed rigid reg on batch in :1.290592908859253s\n",
      "   Shifted the mov in: 0.32431697845458984s\n",
      "         After all GPU Batches:Total Used: 133.883 GB, Virtual Available: 372.344 GB, Virtual Used: 130.851 GB, Swap Used: 003.032 GB\n",
      "      Saving fused, registered file of shape (12, 50, 587, 676) to /mnt/md0/runs/s3d-CR031_2024-12-06_1/registered_fused_data/fused_reg_data0039.npy\n",
      "         Saved in 0.40 sec\n",
      "      Computing quality metrics and saving\n",
      "    Loaded file into shared memory in 2.08 sec\n"
     ]
    },
    {
     "name": "stderr",
     "output_type": "stream",
     "text": [
      "Numba: Attempted to fork from a non-main thread, the TBB library may be in an invalid state in the child process.\n",
      "Numba: Attempted to fork from a non-main thread, the TBB library may be in an invalid state in the child process.\n",
      "Numba: Attempted to fork from a non-main thread, the TBB library may be in an invalid state in the child process.\n",
      "Numba: Attempted to fork from a non-main thread, the TBB library may be in an invalid state in the child process.\n",
      "Numba: Attempted to fork from a non-main thread, the TBB library may be in an invalid state in the child process.\n",
      "Numba: Attempted to fork from a non-main thread, the TBB library may be in an invalid state in the child process.\n",
      "Numba: Attempted to fork from a non-main thread, the TBB library may be in an invalid state in the child process.\n",
      "Numba: Attempted to fork from a non-main thread, the TBB library may be in an invalid state in the child process.\n",
      "Numba: Attempted to fork from a non-main thread, the TBB library may be in an invalid state in the child process.\n",
      "Numba: Attempted to fork from a non-main thread, the TBB library may be in an invalid state in the child process.\n",
      "Numba: Attempted to fork from a non-main thread, the TBB library may be in an invalid state in the child process.\n",
      "Numba: Attempted to fork from a non-main thread, the TBB library may be in an invalid state in the child process.\n",
      "Numba: Attempted to fork from a non-main thread, the TBB library may be in an invalid state in the child process.\n",
      "Numba: Attempted to fork from a non-main thread, the TBB library may be in an invalid state in the child process.\n",
      "Numba: Attempted to fork from a non-main thread, the TBB library may be in an invalid state in the child process.\n",
      "Numba: Attempted to fork from a non-main thread, the TBB library may be in an invalid state in the child process.\n"
     ]
    },
    {
     "name": "stdout",
     "output_type": "stream",
     "text": [
      "    Workers completed in 1.10 sec\n",
      "    Total time: 3.18 sec\n",
      "         After full batch saving:Total Used: 134.352 GB, Virtual Available: 371.875 GB, Virtual Used: 131.320 GB, Swap Used: 003.032 GB\n",
      "         Memory at batch 40. Total Used: 134.344 GB, Virtual Available: 371.883 GB, Virtual Used: 131.313 GB, Swap Used: 003.032 GB\n",
      "Loading Batch 40 of 54\n",
      "   Loaded 1 files, total 0.32 GB\n",
      "   Batch 40 IO thread joined\n",
      "         Memory after IO thread joinTotal Used: 132.901 GB, Virtual Available: 373.326 GB, Virtual Used: 129.869 GB, Swap Used: 003.032 GB\n",
      "         Memory after movie copied from threadTotal Used: 132.322 GB, Virtual Available: 373.905 GB, Virtual Used: 129.290 GB, Swap Used: 003.032 GB\n",
      "         Memory after thread memory clearedTotal Used: 132.004 GB, Virtual Available: 374.224 GB, Virtual Used: 128.972 GB, Swap Used: 003.032 GB\n",
      "   Launching IO thread for next batch\n",
      "         After IO thread launch:Total Used: 132.004 GB, Virtual Available: 374.224 GB, Virtual Used: 128.972 GB, Swap Used: 003.032 GB\n",
      "      Loaded batch of size (12, 50, 500, 576)\n",
      "      Loading /mnt/zortex-subjects/CR031/2024-12-06/1/2024-12-06_1_CR031_2P_00001_00042.tif\n",
      "   Completed rigid reg on batch in :1.7711482048034668s\n",
      "   Shifted the mov in: 0.3111729621887207s\n",
      "         After all GPU Batches:Total Used: 134.860 GB, Virtual Available: 371.368 GB, Virtual Used: 131.828 GB, Swap Used: 003.032 GB\n",
      "      Saving fused, registered file of shape (12, 50, 587, 676) to /mnt/md0/runs/s3d-CR031_2024-12-06_1/registered_fused_data/fused_reg_data0040.npy\n",
      "    Loaded file into shared memory in 2.17 sec\n"
     ]
    },
    {
     "name": "stderr",
     "output_type": "stream",
     "text": [
      "Numba: Attempted to fork from a non-main thread, the TBB library may be in an invalid state in the child process.\n",
      "Numba: Attempted to fork from a non-main thread, the TBB library may be in an invalid state in the child process.\n",
      "Numba: Attempted to fork from a non-main thread, the TBB library may be in an invalid state in the child process.\n",
      "Numba: Attempted to fork from a non-main thread, the TBB library may be in an invalid state in the child process.\n",
      "Numba: Attempted to fork from a non-main thread, the TBB library may be in an invalid state in the child process.\n",
      "Numba: Attempted to fork from a non-main thread, the TBB library may be in an invalid state in the child process.\n"
     ]
    },
    {
     "name": "stdout",
     "output_type": "stream",
     "text": [
      "         Saved in 0.46 sec\n",
      "      Computing quality metrics and saving\n"
     ]
    },
    {
     "name": "stderr",
     "output_type": "stream",
     "text": [
      "Numba: Attempted to fork from a non-main thread, the TBB library may be in an invalid state in the child process.\n",
      "Numba: Attempted to fork from a non-main thread, the TBB library may be in an invalid state in the child process.\n",
      "Numba: Attempted to fork from a non-main thread, the TBB library may be in an invalid state in the child process.\n",
      "Numba: Attempted to fork from a non-main thread, the TBB library may be in an invalid state in the child process.\n",
      "Numba: Attempted to fork from a non-main thread, the TBB library may be in an invalid state in the child process.\n",
      "Numba: Attempted to fork from a non-main thread, the TBB library may be in an invalid state in the child process.\n",
      "Numba: Attempted to fork from a non-main thread, the TBB library may be in an invalid state in the child process.\n",
      "Numba: Attempted to fork from a non-main thread, the TBB library may be in an invalid state in the child process.\n",
      "Numba: Attempted to fork from a non-main thread, the TBB library may be in an invalid state in the child process.\n",
      "Numba: Attempted to fork from a non-main thread, the TBB library may be in an invalid state in the child process.\n"
     ]
    },
    {
     "name": "stdout",
     "output_type": "stream",
     "text": [
      "    Workers completed in 1.10 sec\n",
      "    Total time: 3.27 sec\n",
      "         After full batch saving:Total Used: 133.191 GB, Virtual Available: 373.036 GB, Virtual Used: 130.159 GB, Swap Used: 003.032 GB\n",
      "         Memory at batch 41. Total Used: 133.192 GB, Virtual Available: 373.035 GB, Virtual Used: 130.160 GB, Swap Used: 003.032 GB\n",
      "Loading Batch 41 of 54\n",
      "   Loaded 1 files, total 0.32 GB\n",
      "   Batch 41 IO thread joined\n",
      "         Memory after IO thread joinTotal Used: 132.222 GB, Virtual Available: 374.006 GB, Virtual Used: 129.190 GB, Swap Used: 003.032 GB\n",
      "         Memory after movie copied from threadTotal Used: 131.650 GB, Virtual Available: 374.577 GB, Virtual Used: 128.619 GB, Swap Used: 003.032 GB\n",
      "         Memory after thread memory clearedTotal Used: 131.332 GB, Virtual Available: 374.895 GB, Virtual Used: 128.300 GB, Swap Used: 003.032 GB\n",
      "   Launching IO thread for next batch\n",
      "         After IO thread launch:Total Used: 131.332 GB, Virtual Available: 374.895 GB, Virtual Used: 128.300 GB, Swap Used: 003.032 GB\n",
      "      Loaded batch of size (12, 50, 500, 576)\n",
      "      Loading /mnt/zortex-subjects/CR031/2024-12-06/1/2024-12-06_1_CR031_2P_00001_00043.tif\n",
      "    Loaded file into shared memory in 2.25 sec\n"
     ]
    },
    {
     "name": "stderr",
     "output_type": "stream",
     "text": [
      "Numba: Attempted to fork from a non-main thread, the TBB library may be in an invalid state in the child process.\n",
      "Numba: Attempted to fork from a non-main thread, the TBB library may be in an invalid state in the child process.\n",
      "Numba: Attempted to fork from a non-main thread, the TBB library may be in an invalid state in the child process.\n",
      "Numba: Attempted to fork from a non-main thread, the TBB library may be in an invalid state in the child process.\n",
      "Numba: Attempted to fork from a non-main thread, the TBB library may be in an invalid state in the child process.\n",
      "Numba: Attempted to fork from a non-main thread, the TBB library may be in an invalid state in the child process.\n",
      "Numba: Attempted to fork from a non-main thread, the TBB library may be in an invalid state in the child process.\n",
      "Numba: Attempted to fork from a non-main thread, the TBB library may be in an invalid state in the child process.\n",
      "Numba: Attempted to fork from a non-main thread, the TBB library may be in an invalid state in the child process.\n",
      "Numba: Attempted to fork from a non-main thread, the TBB library may be in an invalid state in the child process.\n",
      "Numba: Attempted to fork from a non-main thread, the TBB library may be in an invalid state in the child process.\n",
      "Numba: Attempted to fork from a non-main thread, the TBB library may be in an invalid state in the child process.\n",
      "Numba: Attempted to fork from a non-main thread, the TBB library may be in an invalid state in the child process.\n",
      "Numba: Attempted to fork from a non-main thread, the TBB library may be in an invalid state in the child process.\n",
      "Numba: Attempted to fork from a non-main thread, the TBB library may be in an invalid state in the child process.\n",
      "Numba: Attempted to fork from a non-main thread, the TBB library may be in an invalid state in the child process.\n"
     ]
    },
    {
     "name": "stdout",
     "output_type": "stream",
     "text": [
      "   Completed rigid reg on batch in :3.369720935821533s\n",
      "    Workers completed in 1.16 sec\n",
      "    Total time: 3.41 sec\n",
      "   Shifted the mov in: 0.38582634925842285s\n",
      "         After all GPU Batches:Total Used: 134.154 GB, Virtual Available: 372.074 GB, Virtual Used: 131.122 GB, Swap Used: 003.032 GB\n",
      "      Saving fused, registered file of shape (12, 50, 587, 676) to /mnt/md0/runs/s3d-CR031_2024-12-06_1/registered_fused_data/fused_reg_data0041.npy\n",
      "         Saved in 0.44 sec\n",
      "      Computing quality metrics and saving\n",
      "   Loaded 1 files, total 0.32 GB\n",
      "         After full batch saving:Total Used: 132.253 GB, Virtual Available: 373.974 GB, Virtual Used: 129.222 GB, Swap Used: 003.032 GB\n",
      "         Memory at batch 42. Total Used: 132.253 GB, Virtual Available: 373.974 GB, Virtual Used: 129.222 GB, Swap Used: 003.032 GB\n",
      "Loading Batch 42 of 54\n",
      "   Batch 42 IO thread joined\n",
      "         Memory after IO thread joinTotal Used: 132.253 GB, Virtual Available: 373.974 GB, Virtual Used: 129.222 GB, Swap Used: 003.032 GB\n",
      "         Memory after movie copied from threadTotal Used: 131.651 GB, Virtual Available: 374.576 GB, Virtual Used: 128.620 GB, Swap Used: 003.032 GB\n",
      "         Memory after thread memory clearedTotal Used: 131.328 GB, Virtual Available: 374.899 GB, Virtual Used: 128.297 GB, Swap Used: 003.032 GB\n",
      "   Launching IO thread for next batch\n",
      "         After IO thread launch:Total Used: 131.328 GB, Virtual Available: 374.899 GB, Virtual Used: 128.297 GB, Swap Used: 003.032 GB\n",
      "      Loaded batch of size (12, 50, 500, 576)\n",
      "      Loading /mnt/zortex-subjects/CR031/2024-12-06/1/2024-12-06_1_CR031_2P_00001_00044.tif\n",
      "   Completed rigid reg on batch in :3.2008156776428223s\n",
      "    Loaded file into shared memory in 3.27 sec\n"
     ]
    },
    {
     "name": "stderr",
     "output_type": "stream",
     "text": [
      "Numba: Attempted to fork from a non-main thread, the TBB library may be in an invalid state in the child process.\n",
      "Numba: Attempted to fork from a non-main thread, the TBB library may be in an invalid state in the child process.\n",
      "Numba: Attempted to fork from a non-main thread, the TBB library may be in an invalid state in the child process.\n",
      "Numba: Attempted to fork from a non-main thread, the TBB library may be in an invalid state in the child process.\n",
      "Numba: Attempted to fork from a non-main thread, the TBB library may be in an invalid state in the child process.\n",
      "Numba: Attempted to fork from a non-main thread, the TBB library may be in an invalid state in the child process.\n",
      "Numba: Attempted to fork from a non-main thread, the TBB library may be in an invalid state in the child process.\n",
      "Numba: Attempted to fork from a non-main thread, the TBB library may be in an invalid state in the child process.\n",
      "Numba: Attempted to fork from a non-main thread, the TBB library may be in an invalid state in the child process.\n",
      "Numba: Attempted to fork from a non-main thread, the TBB library may be in an invalid state in the child process.\n",
      "Numba: Attempted to fork from a non-main thread, the TBB library may be in an invalid state in the child process.\n",
      "Numba: Attempted to fork from a non-main thread, the TBB library may be in an invalid state in the child process.\n",
      "Numba: Attempted to fork from a non-main thread, the TBB library may be in an invalid state in the child process.\n",
      "Numba: Attempted to fork from a non-main thread, the TBB library may be in an invalid state in the child process.\n",
      "Numba: Attempted to fork from a non-main thread, the TBB library may be in an invalid state in the child process.\n",
      "Numba: Attempted to fork from a non-main thread, the TBB library may be in an invalid state in the child process.\n"
     ]
    },
    {
     "name": "stdout",
     "output_type": "stream",
     "text": [
      "    Workers completed in 1.22 sec\n",
      "    Total time: 4.49 sec\n",
      "   Shifted the mov in: 1.8298518657684326s\n",
      "         After all GPU Batches:Total Used: 134.217 GB, Virtual Available: 372.010 GB, Virtual Used: 131.185 GB, Swap Used: 003.032 GB\n",
      "      Saving fused, registered file of shape (12, 50, 587, 676) to /mnt/md0/runs/s3d-CR031_2024-12-06_1/registered_fused_data/fused_reg_data0042.npy\n",
      "         Saved in 0.44 sec\n",
      "      Computing quality metrics and saving\n",
      "   Loaded 1 files, total 0.32 GB\n",
      "         After full batch saving:Total Used: 132.222 GB, Virtual Available: 374.005 GB, Virtual Used: 129.191 GB, Swap Used: 003.032 GB\n",
      "         Memory at batch 43. Total Used: 132.222 GB, Virtual Available: 374.005 GB, Virtual Used: 129.191 GB, Swap Used: 003.032 GB\n",
      "Loading Batch 43 of 54\n",
      "   Batch 43 IO thread joined\n",
      "         Memory after IO thread joinTotal Used: 132.222 GB, Virtual Available: 374.005 GB, Virtual Used: 129.191 GB, Swap Used: 003.032 GB\n",
      "         Memory after movie copied from threadTotal Used: 131.650 GB, Virtual Available: 374.578 GB, Virtual Used: 128.618 GB, Swap Used: 003.032 GB\n",
      "         Memory after thread memory clearedTotal Used: 131.327 GB, Virtual Available: 374.900 GB, Virtual Used: 128.295 GB, Swap Used: 003.032 GB\n",
      "   Launching IO thread for next batch\n",
      "         After IO thread launch:Total Used: 131.327 GB, Virtual Available: 374.900 GB, Virtual Used: 128.295 GB, Swap Used: 003.032 GB\n",
      "      Loaded batch of size (12, 50, 500, 576)\n",
      "      Loading /mnt/zortex-subjects/CR031/2024-12-06/1/2024-12-06_1_CR031_2P_00001_00045.tif\n",
      "    Loaded file into shared memory in 2.39 sec\n"
     ]
    },
    {
     "name": "stderr",
     "output_type": "stream",
     "text": [
      "Numba: Attempted to fork from a non-main thread, the TBB library may be in an invalid state in the child process.\n",
      "Numba: Attempted to fork from a non-main thread, the TBB library may be in an invalid state in the child process.\n",
      "Numba: Attempted to fork from a non-main thread, the TBB library may be in an invalid state in the child process.\n",
      "Numba: Attempted to fork from a non-main thread, the TBB library may be in an invalid state in the child process.\n",
      "Numba: Attempted to fork from a non-main thread, the TBB library may be in an invalid state in the child process.\n",
      "Numba: Attempted to fork from a non-main thread, the TBB library may be in an invalid state in the child process.\n",
      "Numba: Attempted to fork from a non-main thread, the TBB library may be in an invalid state in the child process.\n",
      "Numba: Attempted to fork from a non-main thread, the TBB library may be in an invalid state in the child process.\n",
      "Numba: Attempted to fork from a non-main thread, the TBB library may be in an invalid state in the child process.\n",
      "Numba: Attempted to fork from a non-main thread, the TBB library may be in an invalid state in the child process.\n",
      "Numba: Attempted to fork from a non-main thread, the TBB library may be in an invalid state in the child process.\n",
      "Numba: Attempted to fork from a non-main thread, the TBB library may be in an invalid state in the child process.\n",
      "Numba: Attempted to fork from a non-main thread, the TBB library may be in an invalid state in the child process.\n",
      "Numba: Attempted to fork from a non-main thread, the TBB library may be in an invalid state in the child process.\n",
      "Numba: Attempted to fork from a non-main thread, the TBB library may be in an invalid state in the child process.\n",
      "Numba: Attempted to fork from a non-main thread, the TBB library may be in an invalid state in the child process.\n"
     ]
    },
    {
     "name": "stdout",
     "output_type": "stream",
     "text": [
      "    Workers completed in 1.27 sec\n",
      "    Total time: 3.67 sec\n",
      "   Completed rigid reg on batch in :5.228264808654785s\n",
      "   Loaded 1 files, total 0.32 GB\n",
      "   Shifted the mov in: 0.38768720626831055s\n",
      "         After all GPU Batches:Total Used: 133.119 GB, Virtual Available: 373.108 GB, Virtual Used: 130.087 GB, Swap Used: 003.032 GB\n",
      "      Saving fused, registered file of shape (12, 50, 587, 676) to /mnt/md0/runs/s3d-CR031_2024-12-06_1/registered_fused_data/fused_reg_data0043.npy\n",
      "         Saved in 0.39 sec\n",
      "      Computing quality metrics and saving\n",
      "         After full batch saving:Total Used: 132.231 GB, Virtual Available: 373.996 GB, Virtual Used: 129.200 GB, Swap Used: 003.032 GB\n",
      "         Memory at batch 44. Total Used: 132.231 GB, Virtual Available: 373.996 GB, Virtual Used: 129.200 GB, Swap Used: 003.032 GB\n",
      "Loading Batch 44 of 54\n",
      "   Batch 44 IO thread joined\n",
      "         Memory after IO thread joinTotal Used: 132.231 GB, Virtual Available: 373.996 GB, Virtual Used: 129.200 GB, Swap Used: 003.032 GB\n",
      "         Memory after movie copied from threadTotal Used: 131.657 GB, Virtual Available: 374.570 GB, Virtual Used: 128.626 GB, Swap Used: 003.032 GB\n",
      "         Memory after thread memory clearedTotal Used: 131.337 GB, Virtual Available: 374.891 GB, Virtual Used: 128.305 GB, Swap Used: 003.032 GB\n",
      "   Launching IO thread for next batch\n",
      "         After IO thread launch:Total Used: 131.337 GB, Virtual Available: 374.891 GB, Virtual Used: 128.305 GB, Swap Used: 003.032 GB\n",
      "      Loaded batch of size (12, 50, 500, 576)\n",
      "      Loading /mnt/zortex-subjects/CR031/2024-12-06/1/2024-12-06_1_CR031_2P_00001_00046.tif\n",
      "    Loaded file into shared memory in 2.75 sec\n"
     ]
    },
    {
     "name": "stderr",
     "output_type": "stream",
     "text": [
      "Numba: Attempted to fork from a non-main thread, the TBB library may be in an invalid state in the child process.\n",
      "Numba: Attempted to fork from a non-main thread, the TBB library may be in an invalid state in the child process.\n",
      "Numba: Attempted to fork from a non-main thread, the TBB library may be in an invalid state in the child process.\n",
      "Numba: Attempted to fork from a non-main thread, the TBB library may be in an invalid state in the child process.\n",
      "Numba: Attempted to fork from a non-main thread, the TBB library may be in an invalid state in the child process.\n",
      "Numba: Attempted to fork from a non-main thread, the TBB library may be in an invalid state in the child process.\n",
      "Numba: Attempted to fork from a non-main thread, the TBB library may be in an invalid state in the child process.\n",
      "Numba: Attempted to fork from a non-main thread, the TBB library may be in an invalid state in the child process.\n",
      "Numba: Attempted to fork from a non-main thread, the TBB library may be in an invalid state in the child process.\n",
      "Numba: Attempted to fork from a non-main thread, the TBB library may be in an invalid state in the child process.\n",
      "Numba: Attempted to fork from a non-main thread, the TBB library may be in an invalid state in the child process.\n",
      "Numba: Attempted to fork from a non-main thread, the TBB library may be in an invalid state in the child process.\n",
      "Numba: Attempted to fork from a non-main thread, the TBB library may be in an invalid state in the child process.\n",
      "Numba: Attempted to fork from a non-main thread, the TBB library may be in an invalid state in the child process.\n",
      "Numba: Attempted to fork from a non-main thread, the TBB library may be in an invalid state in the child process.\n",
      "Numba: Attempted to fork from a non-main thread, the TBB library may be in an invalid state in the child process.\n"
     ]
    },
    {
     "name": "stdout",
     "output_type": "stream",
     "text": [
      "    Workers completed in 1.15 sec\n",
      "    Total time: 3.89 sec\n",
      "   Completed rigid reg on batch in :4.044927358627319s\n",
      "   Shifted the mov in: 0.33586549758911133s\n",
      "         After all GPU Batches:Total Used: 133.435 GB, Virtual Available: 372.792 GB, Virtual Used: 130.404 GB, Swap Used: 003.032 GB\n",
      "   Loaded 1 files, total 0.32 GB\n",
      "      Saving fused, registered file of shape (12, 50, 587, 676) to /mnt/md0/runs/s3d-CR031_2024-12-06_1/registered_fused_data/fused_reg_data0044.npy\n",
      "         Saved in 0.42 sec\n",
      "      Computing quality metrics and saving\n",
      "         After full batch saving:Total Used: 132.317 GB, Virtual Available: 373.910 GB, Virtual Used: 129.286 GB, Swap Used: 003.032 GB\n",
      "         Memory at batch 45. Total Used: 132.317 GB, Virtual Available: 373.910 GB, Virtual Used: 129.286 GB, Swap Used: 003.032 GB\n",
      "Loading Batch 45 of 54\n",
      "   Batch 45 IO thread joined\n",
      "         Memory after IO thread joinTotal Used: 132.317 GB, Virtual Available: 373.910 GB, Virtual Used: 129.286 GB, Swap Used: 003.032 GB\n",
      "         Memory after movie copied from threadTotal Used: 131.658 GB, Virtual Available: 374.569 GB, Virtual Used: 128.627 GB, Swap Used: 003.032 GB\n",
      "         Memory after thread memory clearedTotal Used: 131.344 GB, Virtual Available: 374.883 GB, Virtual Used: 128.312 GB, Swap Used: 003.032 GB\n",
      "   Launching IO thread for next batch\n",
      "         After IO thread launch:Total Used: 131.344 GB, Virtual Available: 374.883 GB, Virtual Used: 128.312 GB, Swap Used: 003.032 GB\n",
      "      Loaded batch of size (12, 50, 500, 576)\n",
      "      Loading /mnt/zortex-subjects/CR031/2024-12-06/1/2024-12-06_1_CR031_2P_00001_00047.tif\n",
      "   Completed rigid reg on batch in :1.3127620220184326s\n",
      "   Shifted the mov in: 0.3108980655670166s\n",
      "         After all GPU Batches:Total Used: 133.570 GB, Virtual Available: 372.657 GB, Virtual Used: 130.538 GB, Swap Used: 003.032 GB\n",
      "      Saving fused, registered file of shape (12, 50, 587, 676) to /mnt/md0/runs/s3d-CR031_2024-12-06_1/registered_fused_data/fused_reg_data0045.npy\n",
      "         Saved in 0.40 sec\n",
      "      Computing quality metrics and saving\n",
      "    Loaded file into shared memory in 2.09 sec\n"
     ]
    },
    {
     "name": "stderr",
     "output_type": "stream",
     "text": [
      "Numba: Attempted to fork from a non-main thread, the TBB library may be in an invalid state in the child process.\n",
      "Numba: Attempted to fork from a non-main thread, the TBB library may be in an invalid state in the child process.\n",
      "Numba: Attempted to fork from a non-main thread, the TBB library may be in an invalid state in the child process.\n",
      "Numba: Attempted to fork from a non-main thread, the TBB library may be in an invalid state in the child process.\n",
      "Numba: Attempted to fork from a non-main thread, the TBB library may be in an invalid state in the child process.\n",
      "Numba: Attempted to fork from a non-main thread, the TBB library may be in an invalid state in the child process.\n",
      "Numba: Attempted to fork from a non-main thread, the TBB library may be in an invalid state in the child process.\n",
      "Numba: Attempted to fork from a non-main thread, the TBB library may be in an invalid state in the child process.\n",
      "Numba: Attempted to fork from a non-main thread, the TBB library may be in an invalid state in the child process.\n",
      "Numba: Attempted to fork from a non-main thread, the TBB library may be in an invalid state in the child process.\n",
      "Numba: Attempted to fork from a non-main thread, the TBB library may be in an invalid state in the child process.\n",
      "Numba: Attempted to fork from a non-main thread, the TBB library may be in an invalid state in the child process.\n",
      "Numba: Attempted to fork from a non-main thread, the TBB library may be in an invalid state in the child process.\n",
      "Numba: Attempted to fork from a non-main thread, the TBB library may be in an invalid state in the child process.\n",
      "Numba: Attempted to fork from a non-main thread, the TBB library may be in an invalid state in the child process.\n",
      "Numba: Attempted to fork from a non-main thread, the TBB library may be in an invalid state in the child process.\n"
     ]
    },
    {
     "name": "stdout",
     "output_type": "stream",
     "text": [
      "    Workers completed in 1.09 sec\n",
      "    Total time: 3.18 sec\n",
      "         After full batch saving:Total Used: 133.665 GB, Virtual Available: 372.563 GB, Virtual Used: 130.633 GB, Swap Used: 003.032 GB\n",
      "         Memory at batch 46. Total Used: 133.657 GB, Virtual Available: 372.570 GB, Virtual Used: 130.625 GB, Swap Used: 003.032 GB\n",
      "Loading Batch 46 of 54\n",
      "   Loaded 1 files, total 0.32 GB\n",
      "   Batch 46 IO thread joined\n",
      "         Memory after IO thread joinTotal Used: 132.292 GB, Virtual Available: 373.935 GB, Virtual Used: 129.261 GB, Swap Used: 003.032 GB\n",
      "         Memory after movie copied from threadTotal Used: 131.659 GB, Virtual Available: 374.569 GB, Virtual Used: 128.627 GB, Swap Used: 003.032 GB\n",
      "         Memory after thread memory clearedTotal Used: 131.342 GB, Virtual Available: 374.886 GB, Virtual Used: 128.310 GB, Swap Used: 003.032 GB\n",
      "   Launching IO thread for next batch\n",
      "         After IO thread launch:Total Used: 131.342 GB, Virtual Available: 374.886 GB, Virtual Used: 128.310 GB, Swap Used: 003.032 GB\n",
      "      Loaded batch of size (12, 50, 500, 576)\n",
      "      Loading /mnt/zortex-subjects/CR031/2024-12-06/1/2024-12-06_1_CR031_2P_00001_00048.tif\n",
      "   Completed rigid reg on batch in :2.314338207244873s\n",
      "    Loaded file into shared memory in 2.57 sec\n"
     ]
    },
    {
     "name": "stderr",
     "output_type": "stream",
     "text": [
      "Numba: Attempted to fork from a non-main thread, the TBB library may be in an invalid state in the child process.\n",
      "Numba: Attempted to fork from a non-main thread, the TBB library may be in an invalid state in the child process.\n",
      "Numba: Attempted to fork from a non-main thread, the TBB library may be in an invalid state in the child process.\n",
      "Numba: Attempted to fork from a non-main thread, the TBB library may be in an invalid state in the child process.\n",
      "Numba: Attempted to fork from a non-main thread, the TBB library may be in an invalid state in the child process.\n",
      "Numba: Attempted to fork from a non-main thread, the TBB library may be in an invalid state in the child process.\n",
      "Numba: Attempted to fork from a non-main thread, the TBB library may be in an invalid state in the child process.\n",
      "Numba: Attempted to fork from a non-main thread, the TBB library may be in an invalid state in the child process.\n",
      "Numba: Attempted to fork from a non-main thread, the TBB library may be in an invalid state in the child process.\n",
      "Numba: Attempted to fork from a non-main thread, the TBB library may be in an invalid state in the child process.\n",
      "Numba: Attempted to fork from a non-main thread, the TBB library may be in an invalid state in the child process.\n",
      "Numba: Attempted to fork from a non-main thread, the TBB library may be in an invalid state in the child process.\n",
      "Numba: Attempted to fork from a non-main thread, the TBB library may be in an invalid state in the child process.\n",
      "Numba: Attempted to fork from a non-main thread, the TBB library may be in an invalid state in the child process.\n",
      "Numba: Attempted to fork from a non-main thread, the TBB library may be in an invalid state in the child process.\n",
      "Numba: Attempted to fork from a non-main thread, the TBB library may be in an invalid state in the child process.\n"
     ]
    },
    {
     "name": "stdout",
     "output_type": "stream",
     "text": [
      "    Workers completed in 1.41 sec\n",
      "    Total time: 3.99 sec\n",
      "   Shifted the mov in: 2.5502700805664062s\n",
      "         After all GPU Batches:Total Used: 134.269 GB, Virtual Available: 371.958 GB, Virtual Used: 131.238 GB, Swap Used: 003.032 GB\n",
      "      Saving fused, registered file of shape (12, 50, 587, 676) to /mnt/md0/runs/s3d-CR031_2024-12-06_1/registered_fused_data/fused_reg_data0046.npy\n",
      "   Loaded 1 files, total 0.32 GB\n",
      "         Saved in 0.49 sec\n",
      "      Computing quality metrics and saving\n",
      "         After full batch saving:Total Used: 133.246 GB, Virtual Available: 372.981 GB, Virtual Used: 130.214 GB, Swap Used: 003.032 GB\n",
      "         Memory at batch 47. Total Used: 133.247 GB, Virtual Available: 372.980 GB, Virtual Used: 130.216 GB, Swap Used: 003.032 GB\n",
      "Loading Batch 47 of 54\n",
      "   Batch 47 IO thread joined\n",
      "         Memory after IO thread joinTotal Used: 133.249 GB, Virtual Available: 372.979 GB, Virtual Used: 130.217 GB, Swap Used: 003.032 GB\n",
      "         Memory after movie copied from threadTotal Used: 132.606 GB, Virtual Available: 373.622 GB, Virtual Used: 129.574 GB, Swap Used: 003.032 GB\n",
      "         Memory after thread memory clearedTotal Used: 132.291 GB, Virtual Available: 373.936 GB, Virtual Used: 129.259 GB, Swap Used: 003.032 GB\n",
      "   Launching IO thread for next batch\n",
      "         After IO thread launch:Total Used: 132.291 GB, Virtual Available: 373.936 GB, Virtual Used: 129.259 GB, Swap Used: 003.032 GB\n",
      "      Loaded batch of size (12, 50, 500, 576)\n",
      "      Loading /mnt/zortex-subjects/CR031/2024-12-06/1/2024-12-06_1_CR031_2P_00001_00049.tif\n",
      "   Completed rigid reg on batch in :1.6111466884613037s\n",
      "   Shifted the mov in: 0.3160419464111328s\n",
      "         After all GPU Batches:Total Used: 134.923 GB, Virtual Available: 371.304 GB, Virtual Used: 131.891 GB, Swap Used: 003.032 GB\n",
      "      Saving fused, registered file of shape (12, 50, 587, 676) to /mnt/md0/runs/s3d-CR031_2024-12-06_1/registered_fused_data/fused_reg_data0047.npy\n",
      "    Loaded file into shared memory in 2.13 sec\n"
     ]
    },
    {
     "name": "stderr",
     "output_type": "stream",
     "text": [
      "Numba: Attempted to fork from a non-main thread, the TBB library may be in an invalid state in the child process.\n",
      "Numba: Attempted to fork from a non-main thread, the TBB library may be in an invalid state in the child process.\n",
      "Numba: Attempted to fork from a non-main thread, the TBB library may be in an invalid state in the child process.\n",
      "Numba: Attempted to fork from a non-main thread, the TBB library may be in an invalid state in the child process.\n"
     ]
    },
    {
     "name": "stdout",
     "output_type": "stream",
     "text": [
      "         Saved in 0.42 sec\n"
     ]
    },
    {
     "name": "stderr",
     "output_type": "stream",
     "text": [
      "Numba: Attempted to fork from a non-main thread, the TBB library may be in an invalid state in the child process.\n"
     ]
    },
    {
     "name": "stdout",
     "output_type": "stream",
     "text": [
      "      Computing quality metrics and saving\n"
     ]
    },
    {
     "name": "stderr",
     "output_type": "stream",
     "text": [
      "Numba: Attempted to fork from a non-main thread, the TBB library may be in an invalid state in the child process.\n",
      "Numba: Attempted to fork from a non-main thread, the TBB library may be in an invalid state in the child process.\n",
      "Numba: Attempted to fork from a non-main thread, the TBB library may be in an invalid state in the child process.\n",
      "Numba: Attempted to fork from a non-main thread, the TBB library may be in an invalid state in the child process.\n",
      "Numba: Attempted to fork from a non-main thread, the TBB library may be in an invalid state in the child process.\n",
      "Numba: Attempted to fork from a non-main thread, the TBB library may be in an invalid state in the child process.\n",
      "Numba: Attempted to fork from a non-main thread, the TBB library may be in an invalid state in the child process.\n",
      "Numba: Attempted to fork from a non-main thread, the TBB library may be in an invalid state in the child process.\n",
      "Numba: Attempted to fork from a non-main thread, the TBB library may be in an invalid state in the child process.\n",
      "Numba: Attempted to fork from a non-main thread, the TBB library may be in an invalid state in the child process.\n",
      "Numba: Attempted to fork from a non-main thread, the TBB library may be in an invalid state in the child process.\n"
     ]
    },
    {
     "name": "stdout",
     "output_type": "stream",
     "text": [
      "    Workers completed in 1.04 sec\n",
      "    Total time: 3.17 sec\n",
      "         After full batch saving:Total Used: 133.162 GB, Virtual Available: 373.065 GB, Virtual Used: 130.130 GB, Swap Used: 003.032 GB\n",
      "         Memory at batch 48. Total Used: 133.163 GB, Virtual Available: 373.064 GB, Virtual Used: 130.131 GB, Swap Used: 003.032 GB\n",
      "Loading Batch 48 of 54\n",
      "   Loaded 1 files, total 0.32 GB\n",
      "   Batch 48 IO thread joined\n",
      "         Memory after IO thread joinTotal Used: 132.327 GB, Virtual Available: 373.901 GB, Virtual Used: 129.295 GB, Swap Used: 003.032 GB\n",
      "         Memory after movie copied from threadTotal Used: 131.661 GB, Virtual Available: 374.566 GB, Virtual Used: 128.629 GB, Swap Used: 003.032 GB\n",
      "         Memory after thread memory clearedTotal Used: 131.344 GB, Virtual Available: 374.883 GB, Virtual Used: 128.313 GB, Swap Used: 003.032 GB\n",
      "   Launching IO thread for next batch\n",
      "         After IO thread launch:Total Used: 131.344 GB, Virtual Available: 374.883 GB, Virtual Used: 128.313 GB, Swap Used: 003.032 GB\n",
      "      Loaded batch of size (12, 50, 500, 576)\n",
      "      Loading /mnt/zortex-subjects/CR031/2024-12-06/1/2024-12-06_1_CR031_2P_00001_00050.tif\n",
      "   Completed rigid reg on batch in :1.1667289733886719s\n",
      "   Shifted the mov in: 0.30852842330932617s\n",
      "         After all GPU Batches:Total Used: 133.147 GB, Virtual Available: 373.080 GB, Virtual Used: 130.116 GB, Swap Used: 003.032 GB\n",
      "      Saving fused, registered file of shape (12, 50, 587, 676) to /mnt/md0/runs/s3d-CR031_2024-12-06_1/registered_fused_data/fused_reg_data0048.npy\n",
      "         Saved in 0.40 sec\n",
      "      Computing quality metrics and saving\n",
      "    Loaded file into shared memory in 2.12 sec\n"
     ]
    },
    {
     "name": "stderr",
     "output_type": "stream",
     "text": [
      "Numba: Attempted to fork from a non-main thread, the TBB library may be in an invalid state in the child process.\n",
      "Numba: Attempted to fork from a non-main thread, the TBB library may be in an invalid state in the child process.\n",
      "Numba: Attempted to fork from a non-main thread, the TBB library may be in an invalid state in the child process.\n",
      "Numba: Attempted to fork from a non-main thread, the TBB library may be in an invalid state in the child process.\n",
      "Numba: Attempted to fork from a non-main thread, the TBB library may be in an invalid state in the child process.\n",
      "Numba: Attempted to fork from a non-main thread, the TBB library may be in an invalid state in the child process.\n",
      "Numba: Attempted to fork from a non-main thread, the TBB library may be in an invalid state in the child process.\n",
      "Numba: Attempted to fork from a non-main thread, the TBB library may be in an invalid state in the child process.\n",
      "Numba: Attempted to fork from a non-main thread, the TBB library may be in an invalid state in the child process.\n",
      "Numba: Attempted to fork from a non-main thread, the TBB library may be in an invalid state in the child process.\n",
      "Numba: Attempted to fork from a non-main thread, the TBB library may be in an invalid state in the child process.\n",
      "Numba: Attempted to fork from a non-main thread, the TBB library may be in an invalid state in the child process.\n",
      "Numba: Attempted to fork from a non-main thread, the TBB library may be in an invalid state in the child process.\n",
      "Numba: Attempted to fork from a non-main thread, the TBB library may be in an invalid state in the child process.\n",
      "Numba: Attempted to fork from a non-main thread, the TBB library may be in an invalid state in the child process.\n",
      "Numba: Attempted to fork from a non-main thread, the TBB library may be in an invalid state in the child process.\n"
     ]
    },
    {
     "name": "stdout",
     "output_type": "stream",
     "text": [
      "         After full batch saving:Total Used: 137.700 GB, Virtual Available: 368.527 GB, Virtual Used: 134.669 GB, Swap Used: 003.032 GB\n",
      "         Memory at batch 49. Total Used: 137.677 GB, Virtual Available: 368.550 GB, Virtual Used: 134.646 GB, Swap Used: 003.032 GB\n",
      "Loading Batch 49 of 54\n",
      "    Workers completed in 1.09 sec\n",
      "    Total time: 3.21 sec\n",
      "   Loaded 1 files, total 0.32 GB\n",
      "   Batch 49 IO thread joined\n",
      "         Memory after IO thread joinTotal Used: 133.228 GB, Virtual Available: 372.999 GB, Virtual Used: 130.196 GB, Swap Used: 003.032 GB\n",
      "         Memory after movie copied from threadTotal Used: 132.568 GB, Virtual Available: 373.659 GB, Virtual Used: 129.537 GB, Swap Used: 003.032 GB\n",
      "         Memory after thread memory clearedTotal Used: 132.247 GB, Virtual Available: 373.980 GB, Virtual Used: 129.216 GB, Swap Used: 003.032 GB\n",
      "   Launching IO thread for next batch\n",
      "         After IO thread launch:Total Used: 132.247 GB, Virtual Available: 373.980 GB, Virtual Used: 129.216 GB, Swap Used: 003.032 GB\n",
      "      Loaded batch of size (12, 50, 500, 576)\n",
      "      Loading /mnt/zortex-subjects/CR031/2024-12-06/1/2024-12-06_1_CR031_2P_00001_00051.tif\n",
      "   Completed rigid reg on batch in :1.732471227645874s\n",
      "   Shifted the mov in: 0.30811214447021484s\n",
      "         After all GPU Batches:Total Used: 134.942 GB, Virtual Available: 371.285 GB, Virtual Used: 131.910 GB, Swap Used: 003.032 GB\n",
      "      Saving fused, registered file of shape (12, 50, 587, 676) to /mnt/md0/runs/s3d-CR031_2024-12-06_1/registered_fused_data/fused_reg_data0049.npy\n",
      "    Loaded file into shared memory in 2.21 sec\n"
     ]
    },
    {
     "name": "stderr",
     "output_type": "stream",
     "text": [
      "Numba: Attempted to fork from a non-main thread, the TBB library may be in an invalid state in the child process.\n",
      "Numba: Attempted to fork from a non-main thread, the TBB library may be in an invalid state in the child process.\n",
      "Numba: Attempted to fork from a non-main thread, the TBB library may be in an invalid state in the child process.\n",
      "Numba: Attempted to fork from a non-main thread, the TBB library may be in an invalid state in the child process.\n",
      "Numba: Attempted to fork from a non-main thread, the TBB library may be in an invalid state in the child process.\n"
     ]
    },
    {
     "name": "stdout",
     "output_type": "stream",
     "text": [
      "         Saved in 0.41 sec\n",
      "      Computing quality metrics and saving\n"
     ]
    },
    {
     "name": "stderr",
     "output_type": "stream",
     "text": [
      "Numba: Attempted to fork from a non-main thread, the TBB library may be in an invalid state in the child process.\n",
      "Numba: Attempted to fork from a non-main thread, the TBB library may be in an invalid state in the child process.\n",
      "Numba: Attempted to fork from a non-main thread, the TBB library may be in an invalid state in the child process.\n",
      "Numba: Attempted to fork from a non-main thread, the TBB library may be in an invalid state in the child process.\n",
      "Numba: Attempted to fork from a non-main thread, the TBB library may be in an invalid state in the child process.\n",
      "Numba: Attempted to fork from a non-main thread, the TBB library may be in an invalid state in the child process.\n",
      "Numba: Attempted to fork from a non-main thread, the TBB library may be in an invalid state in the child process.\n",
      "Numba: Attempted to fork from a non-main thread, the TBB library may be in an invalid state in the child process.\n",
      "Numba: Attempted to fork from a non-main thread, the TBB library may be in an invalid state in the child process.\n",
      "Numba: Attempted to fork from a non-main thread, the TBB library may be in an invalid state in the child process.\n",
      "Numba: Attempted to fork from a non-main thread, the TBB library may be in an invalid state in the child process.\n"
     ]
    },
    {
     "name": "stdout",
     "output_type": "stream",
     "text": [
      "    Workers completed in 1.11 sec\n",
      "    Total time: 3.32 sec\n",
      "         After full batch saving:Total Used: 133.276 GB, Virtual Available: 372.952 GB, Virtual Used: 130.244 GB, Swap Used: 003.032 GB\n",
      "         Memory at batch 50. Total Used: 133.277 GB, Virtual Available: 372.951 GB, Virtual Used: 130.245 GB, Swap Used: 003.032 GB\n",
      "Loading Batch 50 of 54\n",
      "   Loaded 1 files, total 0.32 GB\n",
      "   Batch 50 IO thread joined\n",
      "         Memory after IO thread joinTotal Used: 132.475 GB, Virtual Available: 373.752 GB, Virtual Used: 129.444 GB, Swap Used: 003.032 GB\n",
      "         Memory after movie copied from threadTotal Used: 131.829 GB, Virtual Available: 374.398 GB, Virtual Used: 128.798 GB, Swap Used: 003.032 GB\n",
      "         Memory after thread memory clearedTotal Used: 131.513 GB, Virtual Available: 374.714 GB, Virtual Used: 128.482 GB, Swap Used: 003.032 GB\n",
      "   Launching IO thread for next batch\n",
      "         After IO thread launch:Total Used: 131.513 GB, Virtual Available: 374.714 GB, Virtual Used: 128.482 GB, Swap Used: 003.032 GB\n",
      "      Loaded batch of size (12, 50, 500, 576)\n",
      "      Loading /mnt/zortex-subjects/CR031/2024-12-06/1/2024-12-06_1_CR031_2P_00001_00052.tif\n",
      "   Completed rigid reg on batch in :1.092026948928833s\n",
      "   Shifted the mov in: 0.28722476959228516s\n",
      "         After all GPU Batches:Total Used: 132.976 GB, Virtual Available: 373.251 GB, Virtual Used: 129.945 GB, Swap Used: 003.032 GB\n",
      "      Saving fused, registered file of shape (12, 50, 587, 676) to /mnt/md0/runs/s3d-CR031_2024-12-06_1/registered_fused_data/fused_reg_data0050.npy\n",
      "         Saved in 0.40 sec\n",
      "      Computing quality metrics and saving\n",
      "         After full batch saving:Total Used: 133.210 GB, Virtual Available: 373.017 GB, Virtual Used: 130.178 GB, Swap Used: 003.032 GB\n",
      "         Memory at batch 51. Total Used: 133.211 GB, Virtual Available: 373.016 GB, Virtual Used: 130.179 GB, Swap Used: 003.032 GB\n",
      "Loading Batch 51 of 54\n",
      "    Loaded file into shared memory in 2.37 sec\n"
     ]
    },
    {
     "name": "stderr",
     "output_type": "stream",
     "text": [
      "Numba: Attempted to fork from a non-main thread, the TBB library may be in an invalid state in the child process.\n",
      "Numba: Attempted to fork from a non-main thread, the TBB library may be in an invalid state in the child process.\n",
      "Numba: Attempted to fork from a non-main thread, the TBB library may be in an invalid state in the child process.\n",
      "Numba: Attempted to fork from a non-main thread, the TBB library may be in an invalid state in the child process.\n",
      "Numba: Attempted to fork from a non-main thread, the TBB library may be in an invalid state in the child process.\n",
      "Numba: Attempted to fork from a non-main thread, the TBB library may be in an invalid state in the child process.\n",
      "Numba: Attempted to fork from a non-main thread, the TBB library may be in an invalid state in the child process.\n",
      "Numba: Attempted to fork from a non-main thread, the TBB library may be in an invalid state in the child process.\n",
      "Numba: Attempted to fork from a non-main thread, the TBB library may be in an invalid state in the child process.\n",
      "Numba: Attempted to fork from a non-main thread, the TBB library may be in an invalid state in the child process.\n",
      "Numba: Attempted to fork from a non-main thread, the TBB library may be in an invalid state in the child process.\n",
      "Numba: Attempted to fork from a non-main thread, the TBB library may be in an invalid state in the child process.\n",
      "Numba: Attempted to fork from a non-main thread, the TBB library may be in an invalid state in the child process.\n",
      "Numba: Attempted to fork from a non-main thread, the TBB library may be in an invalid state in the child process.\n",
      "Numba: Attempted to fork from a non-main thread, the TBB library may be in an invalid state in the child process.\n",
      "Numba: Attempted to fork from a non-main thread, the TBB library may be in an invalid state in the child process.\n"
     ]
    },
    {
     "name": "stdout",
     "output_type": "stream",
     "text": [
      "    Workers completed in 1.13 sec\n",
      "    Total time: 3.50 sec\n",
      "   Loaded 1 files, total 0.32 GB\n",
      "   Batch 51 IO thread joined\n",
      "         Memory after IO thread joinTotal Used: 133.086 GB, Virtual Available: 373.141 GB, Virtual Used: 130.055 GB, Swap Used: 003.032 GB\n",
      "         Memory after movie copied from threadTotal Used: 132.520 GB, Virtual Available: 373.708 GB, Virtual Used: 129.488 GB, Swap Used: 003.032 GB\n",
      "         Memory after thread memory clearedTotal Used: 132.212 GB, Virtual Available: 374.016 GB, Virtual Used: 129.180 GB, Swap Used: 003.032 GB\n",
      "   Launching IO thread for next batch\n",
      "         After IO thread launch:Total Used: 132.211 GB, Virtual Available: 374.016 GB, Virtual Used: 129.180 GB, Swap Used: 003.032 GB\n",
      "      Loaded batch of size (12, 50, 500, 576)\n",
      "      Loading /mnt/zortex-subjects/CR031/2024-12-06/1/2024-12-06_1_CR031_2P_00001_00053.tif\n",
      "   Completed rigid reg on batch in :1.2218623161315918s\n",
      "   Shifted the mov in: 0.2895979881286621s\n",
      "         After all GPU Batches:Total Used: 133.571 GB, Virtual Available: 372.657 GB, Virtual Used: 130.539 GB, Swap Used: 003.032 GB\n",
      "      Saving fused, registered file of shape (12, 50, 587, 676) to /mnt/md0/runs/s3d-CR031_2024-12-06_1/registered_fused_data/fused_reg_data0051.npy\n",
      "         Saved in 0.39 sec\n",
      "      Computing quality metrics and saving\n",
      "         After full batch saving:Total Used: 134.189 GB, Virtual Available: 372.039 GB, Virtual Used: 131.157 GB, Swap Used: 003.032 GB\n",
      "         Memory at batch 52. Total Used: 134.189 GB, Virtual Available: 372.038 GB, Virtual Used: 131.158 GB, Swap Used: 003.032 GB\n",
      "Loading Batch 52 of 54\n",
      "    Loaded file into shared memory in 2.32 sec\n"
     ]
    },
    {
     "name": "stderr",
     "output_type": "stream",
     "text": [
      "Numba: Attempted to fork from a non-main thread, the TBB library may be in an invalid state in the child process.\n",
      "Numba: Attempted to fork from a non-main thread, the TBB library may be in an invalid state in the child process.\n",
      "Numba: Attempted to fork from a non-main thread, the TBB library may be in an invalid state in the child process.\n",
      "Numba: Attempted to fork from a non-main thread, the TBB library may be in an invalid state in the child process.\n",
      "Numba: Attempted to fork from a non-main thread, the TBB library may be in an invalid state in the child process.\n",
      "Numba: Attempted to fork from a non-main thread, the TBB library may be in an invalid state in the child process.\n",
      "Numba: Attempted to fork from a non-main thread, the TBB library may be in an invalid state in the child process.\n",
      "Numba: Attempted to fork from a non-main thread, the TBB library may be in an invalid state in the child process.\n",
      "Numba: Attempted to fork from a non-main thread, the TBB library may be in an invalid state in the child process.\n",
      "Numba: Attempted to fork from a non-main thread, the TBB library may be in an invalid state in the child process.\n",
      "Numba: Attempted to fork from a non-main thread, the TBB library may be in an invalid state in the child process.\n",
      "Numba: Attempted to fork from a non-main thread, the TBB library may be in an invalid state in the child process.\n",
      "Numba: Attempted to fork from a non-main thread, the TBB library may be in an invalid state in the child process.\n",
      "Numba: Attempted to fork from a non-main thread, the TBB library may be in an invalid state in the child process.\n",
      "Numba: Attempted to fork from a non-main thread, the TBB library may be in an invalid state in the child process.\n",
      "Numba: Attempted to fork from a non-main thread, the TBB library may be in an invalid state in the child process.\n"
     ]
    },
    {
     "name": "stdout",
     "output_type": "stream",
     "text": [
      "    Workers completed in 1.16 sec\n",
      "    Total time: 3.48 sec\n",
      "   Loaded 1 files, total 0.32 GB\n",
      "   Batch 52 IO thread joined\n",
      "         Memory after IO thread joinTotal Used: 132.612 GB, Virtual Available: 373.615 GB, Virtual Used: 129.580 GB, Swap Used: 003.032 GB\n",
      "         Memory after movie copied from threadTotal Used: 132.046 GB, Virtual Available: 374.181 GB, Virtual Used: 129.014 GB, Swap Used: 003.032 GB\n",
      "         Memory after thread memory clearedTotal Used: 131.724 GB, Virtual Available: 374.503 GB, Virtual Used: 128.693 GB, Swap Used: 003.032 GB\n",
      "   Launching IO thread for next batch\n",
      "         After IO thread launch:Total Used: 131.724 GB, Virtual Available: 374.503 GB, Virtual Used: 128.693 GB, Swap Used: 003.032 GB\n",
      "      Loaded batch of size (12, 50, 500, 576)\n",
      "      Loading /mnt/zortex-subjects/CR031/2024-12-06/1/2024-12-06_1_CR031_2P_00001_00054.tif\n",
      "   Completed rigid reg on batch in :1.087695837020874s\n",
      "   Shifted the mov in: 0.3132362365722656s\n",
      "         After all GPU Batches:Total Used: 133.258 GB, Virtual Available: 372.969 GB, Virtual Used: 130.226 GB, Swap Used: 003.032 GB\n",
      "      Saving fused, registered file of shape (12, 50, 587, 676) to /mnt/md0/runs/s3d-CR031_2024-12-06_1/registered_fused_data/fused_reg_data0052.npy\n",
      "         Saved in 0.39 sec\n",
      "      Computing quality metrics and saving\n",
      "    Loaded file into shared memory in 2.16 sec\n"
     ]
    },
    {
     "name": "stderr",
     "output_type": "stream",
     "text": [
      "Numba: Attempted to fork from a non-main thread, the TBB library may be in an invalid state in the child process.\n",
      "Numba: Attempted to fork from a non-main thread, the TBB library may be in an invalid state in the child process.\n",
      "Numba: Attempted to fork from a non-main thread, the TBB library may be in an invalid state in the child process.\n",
      "Numba: Attempted to fork from a non-main thread, the TBB library may be in an invalid state in the child process.\n"
     ]
    },
    {
     "name": "stdout",
     "output_type": "stream",
     "text": [
      "         After full batch saving:Total Used: 134.176 GB, Virtual Available: 372.051 GB, Virtual Used: 131.144 GB, Swap Used: 003.032 GB\n",
      "         Memory at batch 53. Total Used: 134.346 GB, Virtual Available: 371.881 GB, Virtual Used: 131.315 GB, Swap Used: 003.032 GB\n",
      "Loading Batch 53 of 54\n"
     ]
    },
    {
     "name": "stderr",
     "output_type": "stream",
     "text": [
      "Numba: Attempted to fork from a non-main thread, the TBB library may be in an invalid state in the child process.\n",
      "Numba: Attempted to fork from a non-main thread, the TBB library may be in an invalid state in the child process.\n",
      "Numba: Attempted to fork from a non-main thread, the TBB library may be in an invalid state in the child process.\n",
      "Numba: Attempted to fork from a non-main thread, the TBB library may be in an invalid state in the child process.\n",
      "Numba: Attempted to fork from a non-main thread, the TBB library may be in an invalid state in the child process.\n",
      "Numba: Attempted to fork from a non-main thread, the TBB library may be in an invalid state in the child process.\n",
      "Numba: Attempted to fork from a non-main thread, the TBB library may be in an invalid state in the child process.\n",
      "Numba: Attempted to fork from a non-main thread, the TBB library may be in an invalid state in the child process.\n",
      "Numba: Attempted to fork from a non-main thread, the TBB library may be in an invalid state in the child process.\n",
      "Numba: Attempted to fork from a non-main thread, the TBB library may be in an invalid state in the child process.\n",
      "Numba: Attempted to fork from a non-main thread, the TBB library may be in an invalid state in the child process.\n",
      "Numba: Attempted to fork from a non-main thread, the TBB library may be in an invalid state in the child process.\n"
     ]
    },
    {
     "name": "stdout",
     "output_type": "stream",
     "text": [
      "    Workers completed in 1.27 sec\n",
      "    Total time: 3.43 sec\n",
      "   Loaded 1 files, total 0.32 GB\n",
      "   Batch 53 IO thread joined\n",
      "         Memory after IO thread joinTotal Used: 133.105 GB, Virtual Available: 373.122 GB, Virtual Used: 130.074 GB, Swap Used: 003.032 GB\n",
      "         Memory after movie copied from threadTotal Used: 132.434 GB, Virtual Available: 373.793 GB, Virtual Used: 129.402 GB, Swap Used: 003.032 GB\n",
      "         Memory after thread memory clearedTotal Used: 132.118 GB, Virtual Available: 374.109 GB, Virtual Used: 129.086 GB, Swap Used: 003.032 GB\n",
      "   Launching IO thread for next batch\n",
      "         After IO thread launch:Total Used: 132.111 GB, Virtual Available: 374.116 GB, Virtual Used: 129.079 GB, Swap Used: 003.032 GB\n",
      "      Loaded batch of size (12, 50, 500, 576)\n",
      "      Loading /mnt/zortex-subjects/CR031/2024-12-06/1/2024-12-06_1_CR031_2P_00001_00055.tif\n"
     ]
    },
    {
     "name": "stderr",
     "output_type": "stream",
     "text": [
      "Exception in thread Thread-306:\n",
      "Traceback (most recent call last):\n",
      "  File \"/home/ali/anaconda3/envs/suite3d-gpu/lib/python3.8/threading.py\", line 932, in _bootstrap_inner\n",
      "    self.run()\n",
      "  File \"/home/ali/anaconda3/envs/suite3d-gpu/lib/python3.8/site-packages/ipykernel/ipkernel.py\", line 766, in run_closure\n",
      "    _threading_Thread_run(self)\n",
      "  File \"/home/ali/anaconda3/envs/suite3d-gpu/lib/python3.8/threading.py\", line 870, in run\n",
      "    self._target(*self._args, **self._kwargs)\n",
      "  File \"/home/ali/packages/s2p-lbm/suite3d/iter_step.py\", line 1366, in io_thread_loader\n",
      "    loaded_mov = jobio.load_data(tifs)\n",
      "  File \"/home/ali/packages/s2p-lbm/suite3d/io/s3dio.py\", line 78, in load_data\n",
      "    mov_list = _dataloader(paths, params, verbose=verbose, debug=debug)\n",
      "  File \"/home/ali/packages/s2p-lbm/suite3d/developer.py\", line 56, in wrapper\n",
      "    return func(*args, **kwargs)\n",
      "  File \"/home/ali/packages/s2p-lbm/suite3d/io/s3dio.py\", line 241, in _load_lbm_tifs\n",
      "    im = load_and_stitch_full_tif_mp(\n",
      "  File \"/home/ali/packages/s2p-lbm/suite3d/developer.py\", line 56, in wrapper\n",
      "    return func(*args, **kwargs)\n",
      "  File \"/home/ali/packages/s2p-lbm/suite3d/io/lbmio.py\", line 42, in load_and_stitch_full_tif_mp\n",
      "    tiffile = tiffile.reshape(int(n_t_ch / n_ch_tif), n_ch_tif, n1, n2)\n",
      "ValueError: cannot reshape array of size 303649632 into shape (36,26,2222,144)\n"
     ]
    },
    {
     "name": "stdout",
     "output_type": "stream",
     "text": [
      "   Completed rigid reg on batch in :1.9074885845184326s\n",
      "   Shifted the mov in: 0.2706291675567627s\n",
      "         After all GPU Batches:Total Used: 133.557 GB, Virtual Available: 372.670 GB, Virtual Used: 130.526 GB, Swap Used: 003.032 GB\n",
      "      Saving fused, registered file of shape (12, 50, 587, 676) to /mnt/md0/runs/s3d-CR031_2024-12-06_1/registered_fused_data/fused_reg_data0053.npy\n",
      "         Saved in 0.39 sec\n",
      "      Computing quality metrics and saving\n",
      "         After full batch saving:Total Used: 132.671 GB, Virtual Available: 373.556 GB, Virtual Used: 129.639 GB, Swap Used: 003.032 GB\n",
      "         Memory at batch 54. Total Used: 132.671 GB, Virtual Available: 373.556 GB, Virtual Used: 129.639 GB, Swap Used: 003.032 GB\n",
      "Loading Batch 54 of 54\n",
      "   Batch 54 IO thread joined\n",
      "         Memory after IO thread joinTotal Used: 132.671 GB, Virtual Available: 373.556 GB, Virtual Used: 129.639 GB, Swap Used: 003.032 GB\n",
      "         Memory after movie copied from threadTotal Used: 131.783 GB, Virtual Available: 374.444 GB, Virtual Used: 128.752 GB, Swap Used: 003.032 GB\n",
      "         Memory after thread memory clearedTotal Used: 131.783 GB, Virtual Available: 374.444 GB, Virtual Used: 128.752 GB, Swap Used: 003.032 GB\n"
     ]
    },
    {
     "ename": "IndexError",
     "evalue": "tuple index out of range",
     "output_type": "error",
     "traceback": [
      "\u001b[0;31m---------------------------------------------------------------------------\u001b[0m",
      "\u001b[0;31mIndexError\u001b[0m                                Traceback (most recent call last)",
      "File \u001b[0;32m<timed eval>:1\u001b[0m\n",
      "File \u001b[0;32m~/packages/s2p-lbm/suite3d/job.py:519\u001b[0m, in \u001b[0;36mJob.register\u001b[0;34m(self, tifs)\u001b[0m\n\u001b[1;32m    517\u001b[0m \u001b[38;5;28;01mif\u001b[39;00m do_3d_reg:\n\u001b[1;32m    518\u001b[0m     \u001b[38;5;28;01mif\u001b[39;00m do_gpu_reg:\n\u001b[0;32m--> 519\u001b[0m         \u001b[43mregister_dataset_gpu_3d\u001b[49m\u001b[43m(\u001b[49m\u001b[38;5;28;43mself\u001b[39;49m\u001b[43m,\u001b[49m\u001b[43m \u001b[49m\u001b[43mtifs\u001b[49m\u001b[43m,\u001b[49m\u001b[43m \u001b[49m\u001b[43mparams\u001b[49m\u001b[43m,\u001b[49m\u001b[43m \u001b[49m\u001b[38;5;28;43mself\u001b[39;49m\u001b[38;5;241;43m.\u001b[39;49m\u001b[43mdirs\u001b[49m\u001b[43m,\u001b[49m\u001b[43m \u001b[49m\u001b[43msummary\u001b[49m\u001b[43m,\u001b[49m\u001b[43m \u001b[49m\u001b[38;5;28;43mself\u001b[39;49m\u001b[38;5;241;43m.\u001b[39;49m\u001b[43mlog\u001b[49m\u001b[43m)\u001b[49m\n\u001b[1;32m    520\u001b[0m     \u001b[38;5;28;01melse\u001b[39;00m:\n\u001b[1;32m    521\u001b[0m         \u001b[38;5;28;01mpass\u001b[39;00m\n",
      "File \u001b[0;32m~/packages/s2p-lbm/suite3d/iter_step.py:1405\u001b[0m, in \u001b[0;36mregister_dataset_gpu_3d\u001b[0;34m(job, tifs, params, dirs, summary, log_cb, max_gpu_batches)\u001b[0m\n\u001b[1;32m   1403\u001b[0m     io_thread\u001b[38;5;241m.\u001b[39mstart()\n\u001b[1;32m   1404\u001b[0m     log_cb(\u001b[38;5;124m\"\u001b[39m\u001b[38;5;124mAfter IO thread launch:\u001b[39m\u001b[38;5;124m\"\u001b[39m, level\u001b[38;5;241m=\u001b[39m\u001b[38;5;241m3\u001b[39m, log_mem_usage\u001b[38;5;241m=\u001b[39m\u001b[38;5;28;01mTrue\u001b[39;00m)\n\u001b[0;32m-> 1405\u001b[0m nt \u001b[38;5;241m=\u001b[39m \u001b[43mmov_cpu\u001b[49m\u001b[38;5;241;43m.\u001b[39;49m\u001b[43mshape\u001b[49m\u001b[43m[\u001b[49m\u001b[38;5;241;43m1\u001b[39;49m\u001b[43m]\u001b[49m\n\u001b[1;32m   1406\u001b[0m \u001b[38;5;66;03m# Change to new kept info\u001b[39;00m\n\u001b[1;32m   1407\u001b[0m mov_shifted \u001b[38;5;241m=\u001b[39m []\n",
      "\u001b[0;31mIndexError\u001b[0m: tuple index out of range"
     ]
    }
   ],
   "source": [
    "%%time\n",
    "job.register()"
   ]
  },
  {
   "cell_type": "code",
   "execution_count": null,
   "id": "1729a0af",
   "metadata": {},
   "outputs": [],
   "source": [
    "mov_full = job.get_registered_movie('registered_fused_data', 'fused')\n",
    "im_full = mov_full[:,:200].mean(axis=1).compute()"
   ]
  },
  {
   "cell_type": "code",
   "execution_count": null,
   "id": "1ab501eb",
   "metadata": {},
   "outputs": [],
   "source": [
    "tfu.show_tif(im_full[0])"
   ]
  },
  {
   "cell_type": "code",
   "execution_count": null,
   "id": "4c43035a-2535-4430-bd73-d218122f43d2",
   "metadata": {},
   "outputs": [],
   "source": [
    "job.params['cell_filt_type'] = 'gaussian'\n",
    "\n",
    "job.params['voxel_size_um'] = (20, 3.33, 3.33)\n",
    "job.params['npil_filt_xy_um'] = 70\n",
    "job.params['cell_filt_xy_um'] = 5\n",
    "job.params['sdnorm_exp'] = 0.80\n",
    "\n",
    "params_to_sweep = {\n",
    "    'cell_filt_xy_um' : (5,10),\n",
    "    'npil_filt_xy_um' : (40, 70, 100),\n",
    "    'sdnorm_exp' : (0.8,1.0),\n",
    "}\n",
    "job.sweep_corrmap(params_to_sweep, iter_limit=1)"
   ]
  },
  {
   "cell_type": "code",
   "execution_count": null,
   "id": "23fb44ed",
   "metadata": {},
   "outputs": [],
   "source": [
    "%%time\n",
    "corr_map = job.calculate_corr_map()"
   ]
  },
  {
   "cell_type": "code",
   "execution_count": null,
   "id": "d04d9e95-db86-4730-8218-6a0568b27fdf",
   "metadata": {},
   "outputs": [],
   "source": [
    "res = job.load_corr_map_results()\n",
    "vmap = res['vmap']"
   ]
  },
  {
   "cell_type": "code",
   "execution_count": null,
   "id": "de2a4d55-7f7a-499a-9d52-eee03cfb4c49",
   "metadata": {},
   "outputs": [],
   "source": [
    "vmap = res['vmap']\n",
    "pct50s = n.percentile(vmap, 50, axis=(1,2))\n",
    "pct99p9s = n.percentile(vmap, 99.9, axis=(1,2))\n",
    "vmap[0] -= (pct50s[0] - pct50s[1])"
   ]
  },
  {
   "cell_type": "code",
   "execution_count": null,
   "id": "c2646a2e-ba21-4c28-92fc-dd0fe0968dc6",
   "metadata": {
    "scrolled": true
   },
   "outputs": [],
   "source": [
    "# most important parameter - any value of the corrmap\n",
    "# above this will be considered a peak for a possible ROI,\n",
    "# and will be used as a \"seed\" to grow an ROI around it\n",
    "# bigger number: fewer ROIs, only bright ones\n",
    "# smaller number: many ROIs, increasingly worse quality\n",
    "job.params['peak_thresh'] = 2.9\n",
    "\n",
    "# optionally, bin the movie in time to speed up detection\n",
    "# probably a good idea if you have high framerate (>5 Hz?)\n",
    "job.params['detection_timebin'] = 1 \n",
    "\n",
    "# when extending an ROI, compare its activity to its neighboring pixels\n",
    "# in frames where the fluorescence is above this percentile\n",
    "job.params['percentile'] = 99.5\n",
    "\n",
    "\n",
    "job.segment_rois()"
   ]
  },
  {
   "cell_type": "code",
   "execution_count": null,
   "id": "61d2f6e1-1bf4-4f09-b03f-93f559c71162",
   "metadata": {
    "scrolled": true
   },
   "outputs": [],
   "source": [
    "# rois_dir_path = job.combine_patches(n.arange(80), job.dirs['rois'], deduplicate=False,\n",
    "#                                     parent_dir_name='segmentation', info_use_idx=None)"
   ]
  },
  {
   "cell_type": "code",
   "execution_count": null,
   "id": "5ad19f4d-7079-4144-b96b-8e5681b095b0",
   "metadata": {},
   "outputs": [],
   "source": [
    "job.compute_npil_masks(stats_dir = job.dirs['rois'])\n"
   ]
  },
  {
   "cell_type": "code",
   "execution_count": null,
   "id": "21019aa2-cf5c-42e1-b1ed-00df75f1a51e",
   "metadata": {},
   "outputs": [],
   "source": [
    "\n",
    "traces = job.extract_and_deconvolve(stats_dir=job.dirs['rois'],iscell=iscell)"
   ]
  },
  {
   "cell_type": "code",
   "execution_count": null,
   "id": "9245ee46-ed1c-4f1a-9bba-9a4cd17c5f8f",
   "metadata": {},
   "outputs": [],
   "source": [
    "job.export_results('/mnt/zeytin-f1/s3d-results/',result_dir_name='rois')"
   ]
  },
  {
   "cell_type": "code",
   "execution_count": null,
   "id": "fd52a189-3940-413e-b05f-098f3ceec876",
   "metadata": {},
   "outputs": [],
   "source": []
  },
  {
   "cell_type": "code",
   "execution_count": null,
   "id": "7f4c53c3-72de-4467-bc09-b661eae17241",
   "metadata": {},
   "outputs": [],
   "source": []
  },
  {
   "cell_type": "code",
   "execution_count": null,
   "id": "7c542bd9-df48-4a2a-9555-5819dd1e0937",
   "metadata": {},
   "outputs": [],
   "source": []
  },
  {
   "cell_type": "code",
   "execution_count": null,
   "id": "6856591e-7e42-47f8-af65-8dcc877bc53a",
   "metadata": {},
   "outputs": [],
   "source": []
  },
  {
   "cell_type": "code",
   "execution_count": null,
   "id": "3355910c-8124-403c-a9bb-85e712b0754f",
   "metadata": {},
   "outputs": [],
   "source": []
  },
  {
   "cell_type": "code",
   "execution_count": null,
   "id": "b53d9a69-52ca-468b-a79b-4b7c2b2d5053",
   "metadata": {},
   "outputs": [],
   "source": []
  },
  {
   "cell_type": "code",
   "execution_count": null,
   "id": "cb0c047e",
   "metadata": {},
   "outputs": [],
   "source": []
  }
 ],
 "metadata": {
  "kernelspec": {
   "display_name": "Python [conda env:suite3d-gpu]",
   "language": "python",
   "name": "conda-env-suite3d-gpu-py"
  },
  "language_info": {
   "codemirror_mode": {
    "name": "ipython",
    "version": 3
   },
   "file_extension": ".py",
   "mimetype": "text/x-python",
   "name": "python",
   "nbconvert_exporter": "python",
   "pygments_lexer": "ipython3",
   "version": "3.8.20"
  }
 },
 "nbformat": 4,
 "nbformat_minor": 5
}
