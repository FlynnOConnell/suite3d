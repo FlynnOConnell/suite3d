{
 "cells": [
  {
   "cell_type": "code",
   "execution_count": 1,
   "id": "f57652f9",
   "metadata": {},
   "outputs": [],
   "source": [
    "%load_ext autoreload\n",
    "%autoreload 2\n",
    "\n",
    "import os \n",
    "import shutil\n",
    "import numpy as n\n",
    "from datetime import date\n",
    "from matplotlib import pyplot as plt\n",
    "import time\n",
    "import napari"
   ]
  },
  {
   "cell_type": "code",
   "execution_count": 2,
   "id": "1d4aca1f",
   "metadata": {},
   "outputs": [],
   "source": [
    "os.chdir('/home/ali/packages/s2p-lbm/')\n",
    "\n",
    "from suite3d.job import Job\n",
    "from suite3d import lbmio, utils, ui\n",
    "from suite3d import tiff_utils as tfu\n",
    "from suite3d import file_utils as flu"
   ]
  },
  {
   "cell_type": "code",
   "execution_count": 3,
   "id": "5f9f1d50",
   "metadata": {},
   "outputs": [],
   "source": [
    "subjects_dir =   '/mnt/zaru-subjects/'\n",
    "expt_info = { \n",
    "    'subject':         'AH010',\n",
    "    'date' :          '2024-01-17',\n",
    "    'expnum' :         'Structural',}"
   ]
  },
  {
   "cell_type": "code",
   "execution_count": 7,
   "id": "0dc16c80-6061-4384-9bfa-6ac002f3d24c",
   "metadata": {},
   "outputs": [],
   "source": [
    "tifs, si_params, exp_str = flu.find_exp(subjects_dir, **expt_info, verbose=False)"
   ]
  },
  {
   "cell_type": "code",
   "execution_count": 26,
   "id": "2c5c45ea-058c-4a75-9beb-a08e6d3d2288",
   "metadata": {},
   "outputs": [],
   "source": [
    "rois = lbmio.get_meso_rois(tifs[0])"
   ]
  },
  {
   "cell_type": "code",
   "execution_count": 27,
   "id": "11238a22-1ef0-4327-9c02-8138fe6ec732",
   "metadata": {},
   "outputs": [],
   "source": [
    "centers = n.array([r['center'] for r in rois])\n",
    "sizes = n.array([r['sizeXY'] for r in rois])"
   ]
  },
  {
   "cell_type": "code",
   "execution_count": 71,
   "id": "6b387c32-a7dc-4b0f-9b54-f7ac7fda4b53",
   "metadata": {},
   "outputs": [],
   "source": [
    "import tifffile\n",
    "import json"
   ]
  },
  {
   "cell_type": "code",
   "execution_count": 72,
   "id": "0b2a4afc-96e8-4ad7-896e-5376e8dc666c",
   "metadata": {},
   "outputs": [],
   "source": [
    "tif_path = tifs[0]\n",
    "tf = tifffile.TiffFile(tif_path)\n",
    "artists_json = tf.pages[0].tags[\"Artist\"].value\n",
    "si_rois = json.loads(artists_json)['RoiGroups']['imagingRoiGroup']['rois']"
   ]
  },
  {
   "cell_type": "code",
   "execution_count": null,
   "id": "3d33f645-ecf1-4bab-953b-3be853eedf10",
   "metadata": {
    "scrolled": true
   },
   "outputs": [
    {
     "name": "stdout",
     "output_type": "stream",
     "text": [
      "Less than 30 channels specified, not converting plane ids to channel ids\n",
      "Loading /mnt/zaru-subjects/AH010/2024-01-17/Structural/laser_60p_structural_0p5umpix_00001_00001.tif\n",
      "ROI 6 x does not fit perfectly into image, corner is -1.0151 but closest available is -1.0204\n",
      "ROI 6 x does not fit perfectly into image, corner is -1.0151 but closest available is -1.0204ROI 6 x does not fit perfectly into image, corner is -1.0151 but closest available is -1.0204ROI 6 x does not fit perfectly into image, corner is -1.0151 but closest available is -1.0204ROI 6 x does not fit perfectly into image, corner is -1.0151 but closest available is -1.0204ROI 6 x does not fit perfectly into image, corner is -1.0151 but closest available is -1.0204ROI 6 x does not fit perfectly into image, corner is -1.0151 but closest available is -1.0204ROI 6 x does not fit perfectly into image, corner is -1.0151 but closest available is -1.0204ROI 6 x does not fit perfectly into image, corner is -1.0151 but closest available is -1.0204ROI 6 x does not fit perfectly into image, corner is -1.0151 but closest available is -1.0204\n",
      "\n",
      "\n",
      "\n",
      "\n",
      "\n",
      "\n",
      "\n",
      "\n",
      "ROI 6 x does not fit perfectly into image, corner is -1.0151 but closest available is -1.0204ROI 6 x does not fit perfectly into image, corner is -1.0151 but closest available is -1.0204ROI 6 x does not fit perfectly into image, corner is -1.0151 but closest available is -1.0204ROI 6 x does not fit perfectly into image, corner is -1.0151 but closest available is -1.0204ROI 6 x does not fit perfectly into image, corner is -1.0151 but closest available is -1.0204ROI 6 x does not fit perfectly into image, corner is -1.0151 but closest available is -1.0204\n",
      "\n",
      "\n",
      "\n",
      "\n",
      "\n",
      "Loading /mnt/zaru-subjects/AH010/2024-01-17/Structural/laser_60p_structural_0p5umpix_00001_00002.tif\n",
      "ROI 6 x does not fit perfectly into image, corner is -1.0151 but closest available is -1.0204\n"
     ]
    },
    {
     "name": "stderr",
     "output_type": "stream",
     "text": [
      "Process ForkPoolWorker-130:\n",
      "Process ForkPoolWorker-126:\n",
      "Exception ignored in: <function _releaseLock at 0x7f3ad7985940>\n",
      "Traceback (most recent call last):\n",
      "  File \"/home/ali/anaconda3/envs/suite3d-gpu/lib/python3.8/logging/__init__.py\", line 227, in _releaseLock\n",
      "    def _releaseLock():\n",
      "KeyboardInterrupt: \n",
      "Process ForkPoolWorker-128:\n",
      "Process ForkPoolWorker-132:\n",
      "Process ForkPoolWorker-131:\n",
      "Process ForkPoolWorker-127:\n",
      "Process ForkPoolWorker-129:\n",
      "Exception ignored in: <function _releaseLock at 0x7f3ad7985940>\n",
      "Traceback (most recent call last):\n",
      "  File \"/home/ali/anaconda3/envs/suite3d-gpu/lib/python3.8/logging/__init__.py\", line 227, in _releaseLock\n",
      "    def _releaseLock():\n",
      "KeyboardInterrupt: \n",
      "Traceback (most recent call last):\n",
      "Traceback (most recent call last):\n",
      "Traceback (most recent call last):\n",
      "Traceback (most recent call last):\n",
      "Traceback (most recent call last):\n",
      "Traceback (most recent call last):\n",
      "Exception ignored in: <function _releaseLock at 0x7f3ad7985940>\n",
      "Traceback (most recent call last):\n",
      "  File \"/home/ali/anaconda3/envs/suite3d-gpu/lib/python3.8/logging/__init__.py\", line 227, in _releaseLock\n",
      "    def _releaseLock():\n",
      "KeyboardInterrupt: \n",
      "Traceback (most recent call last):\n",
      "  File \"/home/ali/anaconda3/envs/suite3d-gpu/lib/python3.8/multiprocessing/process.py\", line 315, in _bootstrap\n",
      "    self.run()\n",
      "  File \"/home/ali/anaconda3/envs/suite3d-gpu/lib/python3.8/multiprocessing/process.py\", line 315, in _bootstrap\n",
      "    self.run()\n",
      "  File \"/home/ali/anaconda3/envs/suite3d-gpu/lib/python3.8/multiprocessing/process.py\", line 315, in _bootstrap\n",
      "    self.run()\n",
      "  File \"/home/ali/anaconda3/envs/suite3d-gpu/lib/python3.8/multiprocessing/process.py\", line 315, in _bootstrap\n",
      "    self.run()\n",
      "  File \"/home/ali/anaconda3/envs/suite3d-gpu/lib/python3.8/multiprocessing/process.py\", line 315, in _bootstrap\n",
      "    self.run()\n",
      "Exception ignored in: <function _releaseLock at 0x7f3ad7985940>\n",
      "Traceback (most recent call last):\n",
      "  File \"/home/ali/anaconda3/envs/suite3d-gpu/lib/python3.8/logging/__init__.py\", line 227, in _releaseLock\n",
      "    def _releaseLock():\n",
      "KeyboardInterrupt: \n",
      "  File \"/home/ali/anaconda3/envs/suite3d-gpu/lib/python3.8/multiprocessing/process.py\", line 315, in _bootstrap\n",
      "    self.run()\n",
      "  File \"/home/ali/anaconda3/envs/suite3d-gpu/lib/python3.8/multiprocessing/process.py\", line 315, in _bootstrap\n",
      "    self.run()\n",
      "  File \"/home/ali/anaconda3/envs/suite3d-gpu/lib/python3.8/multiprocessing/process.py\", line 108, in run\n",
      "    self._target(*self._args, **self._kwargs)\n",
      "  File \"/home/ali/anaconda3/envs/suite3d-gpu/lib/python3.8/multiprocessing/process.py\", line 108, in run\n",
      "    self._target(*self._args, **self._kwargs)\n",
      "  File \"/home/ali/anaconda3/envs/suite3d-gpu/lib/python3.8/multiprocessing/process.py\", line 108, in run\n",
      "    self._target(*self._args, **self._kwargs)\n",
      "  File \"/home/ali/anaconda3/envs/suite3d-gpu/lib/python3.8/multiprocessing/process.py\", line 108, in run\n",
      "    self._target(*self._args, **self._kwargs)\n",
      "Exception ignored in: <function _releaseLock at 0x7f3ad7985940>\n",
      "Traceback (most recent call last):\n",
      "  File \"/home/ali/anaconda3/envs/suite3d-gpu/lib/python3.8/logging/__init__.py\", line 227, in _releaseLock\n",
      "    def _releaseLock():\n",
      "KeyboardInterrupt: \n",
      "  File \"/home/ali/anaconda3/envs/suite3d-gpu/lib/python3.8/multiprocessing/process.py\", line 108, in run\n",
      "    self._target(*self._args, **self._kwargs)\n",
      "  File \"/home/ali/anaconda3/envs/suite3d-gpu/lib/python3.8/multiprocessing/process.py\", line 108, in run\n",
      "    self._target(*self._args, **self._kwargs)\n",
      "Process ForkPoolWorker-133:\n",
      "Traceback (most recent call last):\n",
      "  File \"/home/ali/anaconda3/envs/suite3d-gpu/lib/python3.8/multiprocessing/process.py\", line 315, in _bootstrap\n",
      "    self.run()\n",
      "Process ForkPoolWorker-135:\n",
      "Traceback (most recent call last):\n",
      "Process ForkPoolWorker-136:\n",
      "Traceback (most recent call last):\n",
      "  File \"/home/ali/anaconda3/envs/suite3d-gpu/lib/python3.8/multiprocessing/process.py\", line 315, in _bootstrap\n",
      "    self.run()\n",
      "  File \"/home/ali/anaconda3/envs/suite3d-gpu/lib/python3.8/multiprocessing/process.py\", line 108, in run\n",
      "    self._target(*self._args, **self._kwargs)\n",
      "  File \"/home/ali/anaconda3/envs/suite3d-gpu/lib/python3.8/multiprocessing/pool.py\", line 114, in worker\n",
      "    task = get()\n",
      "  File \"/home/ali/anaconda3/envs/suite3d-gpu/lib/python3.8/multiprocessing/queues.py\", line 355, in get\n",
      "    with self._rlock:\n",
      "  File \"/home/ali/anaconda3/envs/suite3d-gpu/lib/python3.8/multiprocessing/synchronize.py\", line 95, in __enter__\n",
      "    return self._semlock.__enter__()\n",
      "KeyboardInterrupt\n"
     ]
    }
   ],
   "source": [
    "mov = lbmio.load_and_stitch_tifs(tifs, planes = n.arange(15), n_ch=15, fix_fastZ=True)"
   ]
  },
  {
   "cell_type": "code",
   "execution_count": null,
   "id": "7ad2a1fa-51f0-4e5d-b204-68a54664523a",
   "metadata": {},
   "outputs": [],
   "source": [
    "im = mov.mean(axis=1)"
   ]
  },
  {
   "cell_type": "code",
   "execution_count": null,
   "id": "9c1199a1-be7d-42d4-8487-ac00975c08df",
   "metadata": {},
   "outputs": [],
   "source": [
    "tfu.show_tif(im[10], vminmax_percentile=(0,95))"
   ]
  },
  {
   "cell_type": "code",
   "execution_count": null,
   "id": "23fb44ed",
   "metadata": {},
   "outputs": [],
   "source": []
  },
  {
   "cell_type": "code",
   "execution_count": null,
   "id": "cb0c047e",
   "metadata": {},
   "outputs": [],
   "source": []
  }
 ],
 "metadata": {
  "kernelspec": {
   "display_name": "Python [conda env:suite3d-gpu]",
   "language": "python",
   "name": "conda-env-suite3d-gpu-py"
  },
  "language_info": {
   "codemirror_mode": {
    "name": "ipython",
    "version": 3
   },
   "file_extension": ".py",
   "mimetype": "text/x-python",
   "name": "python",
   "nbconvert_exporter": "python",
   "pygments_lexer": "ipython3",
   "version": "3.8.18"
  }
 },
 "nbformat": 4,
 "nbformat_minor": 5
}
