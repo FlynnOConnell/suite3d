{
 "cells": [
  {
   "cell_type": "code",
   "execution_count": 9,
   "id": "f57652f9",
   "metadata": {},
   "outputs": [],
   "source": [
    "import os \n",
    "from datetime import date\n",
    "from matplotlib import pyplot as plt\n",
    "import numpy as np\n",
    "\n",
    "# we need to set the current path to the directory\n",
    "# containing the suite3d repository, this hack should\n",
    "# do the trick\n",
    "os.chdir(os.path.dirname(os.path.abspath(\"\")))\n",
    "\n",
    "from suite3d.job import Job\n",
    "from suite3d import io\n",
    "from suite3d import plot_utils as plot"
   ]
  },
  {
   "cell_type": "code",
   "execution_count": 5,
   "id": "99f62945-d127-47c0-82e4-b564e054d4d5",
   "metadata": {},
   "outputs": [
    {
     "name": "stdout",
     "output_type": "stream",
     "text": [
      "/mnt/md0/data/demo/lbm/2024-08-10_2_AH012_2P_00001_00001.tif\n",
      "/mnt/md0/data/demo/lbm/2024-08-10_2_AH012_2P_00001_00002.tif\n",
      "/mnt/md0/data/demo/lbm/2024-08-10_2_AH012_2P_00001_00003.tif\n",
      "/mnt/md0/data/demo/lbm/2024-08-10_2_AH012_2P_00001_00004.tif\n",
      "/mnt/md0/data/demo/lbm/2024-08-10_2_AH012_2P_00001_00005.tif\n",
      "/mnt/md0/data/demo/lbm/2024-08-10_2_AH012_2P_00001_00006.tif\n",
      "/mnt/md0/data/demo/lbm/2024-08-10_2_AH012_2P_00001_00007.tif\n",
      "/mnt/md0/data/demo/lbm/2024-08-10_2_AH012_2P_00001_00008.tif\n",
      "/mnt/md0/data/demo/lbm/2024-08-10_2_AH012_2P_00001_00009.tif\n",
      "/mnt/md0/data/demo/lbm/2024-08-10_2_AH012_2P_00001_00010.tif\n"
     ]
    }
   ],
   "source": [
    "# update this to point to the demo data! \n",
    "tifs = io.get_tif_paths('/mnt/md0/data/demo/lbm')[:10]\n",
    "for tif in tifs: print(tif)"
   ]
  },
  {
   "cell_type": "code",
   "execution_count": 6,
   "id": "b49daef7-1c10-45df-a9c6-0ee17b03a01a",
   "metadata": {},
   "outputs": [],
   "source": [
    "job_params = {    \n",
    "    # number of channels recorded in the tiff file, typically 30\n",
    "    'n_ch_tif' : 26,\n",
    "    \n",
    "    # number of planes in the deeper cavity, typically 15\n",
    "    'cavity_size' : 13,\n",
    "\n",
    "    # convert from the Scanimage channel ordering to deep-to-shallow ordering\n",
    "    # in our case, ScanImage channel numbers are in temporal order. \n",
    "    'planes' : np.array([ 0,  2,  4,  6,  8, 10, 12, 14,\n",
    "                        16, 18, 20, 22, 24, 1,  3, 5,  7,9,11, 13, 15,17]),\n",
    "\n",
    "    # voxel size in z,y,x in microns\n",
    "    'voxel_size_um' : (20, 2.5, 2.5),\n",
    "\n",
    "    # number of files to use for the initial pass\n",
    "    # usually, ~500 frames is a good rule of thumb\n",
    "    # we will just use 200 here for speed\n",
    "    'n_init_files' :  2,\n",
    "    \n",
    "    # number of pixels to fuse between the ROI strips\n",
    "    'fuse_shift_override' : 7,   \n",
    "    # will try to automatically estimate crosstalk using \n",
    "    # the shallowest crosstalk_n_planes planes. if you want to override,\n",
    "    # set override_crosstalk = float between 0 and 1\n",
    "    'subtract_crosstalk' : True,\n",
    "    \n",
    "    # volume rate in acquisition\n",
    "    'fs' : io.get_si_params(tifs[0])['vol_rate'],\n",
    "\n",
    "    'tau' : 1.3, # approx half-life of GCamP6s\n",
    "    \n",
    "    # 3D GPU registration - fast! \n",
    "    '3d_reg' : True,\n",
    "    'gpu_reg' : True,\n",
    "    # note : 3D CPU is not supported yet\n",
    "}"
   ]
  },
  {
   "cell_type": "code",
   "execution_count": 7,
   "id": "e02910a1",
   "metadata": {},
   "outputs": [
    {
     "name": "stdout",
     "output_type": "stream",
     "text": [
      "Job directory /mnt/md0/runs/s3d-demo already exists\n",
      "Loading job directory for demo in /mnt/md0/runs\n",
      "   Loading dirs \n",
      "   Loading default params\n",
      "   Updated main params file\n"
     ]
    }
   ],
   "source": [
    "# Create the job\n",
    "job = Job('/mnt/md0/runs','demo', tifs = tifs,\n",
    "          params=job_params, create=True, overwrite=True, verbosity = 1)"
   ]
  },
  {
   "cell_type": "code",
   "execution_count": 6,
   "id": "c5310b6e",
   "metadata": {},
   "outputs": [],
   "source": [
    "job.run_init_pass()"
   ]
  },
  {
   "cell_type": "code",
   "execution_count": 50,
   "id": "f85ac7af-f177-475b-a9b6-58fdb807630c",
   "metadata": {},
   "outputs": [],
   "source": [
    "# OPTIONAL: load and take a look at the reference image\n",
    "summary = job.load_summary()\n",
    "ref_img = summary['ref_img_3d']\n",
    "\n",
    "# view 1 plane at a time\n",
    "# plot.show_img(ref_img[5], figsize=(3,4))\n",
    "\n",
    "# interactive 3D viewer\n",
    "# plot.VolumeViewer(ref_img)\n"
   ]
  },
  {
   "cell_type": "code",
   "execution_count": 81,
   "id": "e465e68a",
   "metadata": {
    "scrolled": true
   },
   "outputs": [],
   "source": [
    "job.register()"
   ]
  },
  {
   "cell_type": "code",
   "execution_count": 83,
   "id": "b028e669-e732-453d-b46c-f7939fdee180",
   "metadata": {},
   "outputs": [],
   "source": [
    "corr_map = job.calculate_corr_map()"
   ]
  },
  {
   "cell_type": "code",
   "execution_count": 53,
   "id": "fa761873-9cd1-46ee-8337-a19ac2c411c8",
   "metadata": {},
   "outputs": [],
   "source": [
    "# you can load the vmap and visualize it at this stage, using the same plot.___ functions as above\n",
    "# res = job.load_corr_map_results()\n",
    "# vmap = res['vmap']"
   ]
  },
  {
   "cell_type": "code",
   "execution_count": 84,
   "id": "0407ddb9-2a20-4e1d-88a0-bd311596de6e",
   "metadata": {
    "scrolled": true
   },
   "outputs": [],
   "source": [
    "# since we have a short movie, we can fit a larger patch into memory\n",
    "# so we increase this from (150,150) to (250,250)\n",
    "job.params['patch_size_xy'] = (250, 250)\n",
    "# for speed, only segment a single patch\n",
    "job.segment_rois(patches_to_segment = (5,))"
   ]
  },
  {
   "cell_type": "code",
   "execution_count": null,
   "id": "5ad19f4d-7079-4144-b96b-8e5681b095b0",
   "metadata": {},
   "outputs": [],
   "source": []
  },
  {
   "cell_type": "code",
   "execution_count": 8,
   "id": "929d8361-45b9-483b-8a7e-f98326e0046a",
   "metadata": {},
   "outputs": [
    {
     "name": "stdout",
     "output_type": "stream",
     "text": [
      "   Updated main params file\n",
      "   Movie shape: (22, 1000, 1041, 737)\n",
      "790\n",
      "   Extracting 790 valid cells, and saving cell flags to /mnt/md0/runs/s3d-demo/rois/iscell_extracted.npy\n",
      "   Extracting activity\n",
      "   Saving intermediate results to /mnt/md0/runs/s3d-demo/rois\n",
      "   Deconvolving\n",
      "   Saving to /mnt/md0/runs/s3d-demo/rois\n"
     ]
    }
   ],
   "source": [
    "job.compute_npil_masks()\n",
    "traces = job.extract_and_deconvolve()"
   ]
  },
  {
   "cell_type": "code",
   "execution_count": null,
   "id": "9245ee46-ed1c-4f1a-9bba-9a4cd17c5f8f",
   "metadata": {},
   "outputs": [],
   "source": [
    "job.export_results('path/to/output',result_dir_name='rois')"
   ]
  },
  {
   "cell_type": "markdown",
   "id": "fb14c07a-0265-4bc7-916f-5ae30839e3b8",
   "metadata": {},
   "source": [
    "To take a look at the outputs in napari, navigate to the suite3d directory in a command shell and run the following:\n",
    "```\n",
    "python curation.py curation --output_dir /path/to/output/rois\n",
    "```"
   ]
  },
  {
   "cell_type": "code",
   "execution_count": null,
   "id": "7f4c53c3-72de-4467-bc09-b661eae17241",
   "metadata": {},
   "outputs": [],
   "source": []
  },
  {
   "cell_type": "code",
   "execution_count": null,
   "id": "7c542bd9-df48-4a2a-9555-5819dd1e0937",
   "metadata": {},
   "outputs": [],
   "source": []
  },
  {
   "cell_type": "code",
   "execution_count": null,
   "id": "6856591e-7e42-47f8-af65-8dcc877bc53a",
   "metadata": {},
   "outputs": [],
   "source": []
  },
  {
   "cell_type": "code",
   "execution_count": null,
   "id": "3355910c-8124-403c-a9bb-85e712b0754f",
   "metadata": {},
   "outputs": [],
   "source": []
  },
  {
   "cell_type": "code",
   "execution_count": null,
   "id": "b53d9a69-52ca-468b-a79b-4b7c2b2d5053",
   "metadata": {},
   "outputs": [],
   "source": []
  },
  {
   "cell_type": "code",
   "execution_count": null,
   "id": "cb0c047e",
   "metadata": {},
   "outputs": [],
   "source": []
  }
 ],
 "metadata": {
  "kernelspec": {
   "display_name": "Python [conda env:suite3d-gpu]",
   "language": "python",
   "name": "conda-env-suite3d-gpu-py"
  },
  "language_info": {
   "codemirror_mode": {
    "name": "ipython",
    "version": 3
   },
   "file_extension": ".py",
   "mimetype": "text/x-python",
   "name": "python",
   "nbconvert_exporter": "python",
   "pygments_lexer": "ipython3",
   "version": "3.8.20"
  }
 },
 "nbformat": 4,
 "nbformat_minor": 5
}
