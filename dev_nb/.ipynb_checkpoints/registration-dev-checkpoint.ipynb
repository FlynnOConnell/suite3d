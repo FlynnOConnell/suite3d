{
 "cells": [
  {
   "cell_type": "code",
   "execution_count": 1,
   "id": "dff51d5e",
   "metadata": {},
   "outputs": [],
   "source": [
    "%load_ext autoreload\n",
    "%autoreload 2\n",
    "\n",
    "import os \n",
    "import shutil\n",
    "import numpy as n\n",
    "from datetime import date\n",
    "from matplotlib import pyplot as plt\n",
    "import time\n",
    "import napari"
   ]
  },
  {
   "cell_type": "code",
   "execution_count": 2,
   "id": "51d1964f",
   "metadata": {},
   "outputs": [],
   "source": [
    "## !! CHANGE ME !! ##\n",
    "from suite2p.io import lbm as lbmio\n",
    "from suite2p.suite3d import utils\n",
    "from suite2p.suite3d.job import Job\n",
    "from suite2p.suite3d import ui\n",
    "\n",
    "os.chdir('/home/ali/packages/s2p-lbm/')\n",
    "from utils import tiff_utils as tfu\n",
    "from utils import file_utils as flu"
   ]
  },
  {
   "cell_type": "code",
   "execution_count": 14,
   "id": "0936d036",
   "metadata": {},
   "outputs": [],
   "source": [
    "from mkl_fft import fftn, ifftn\n",
    "import cupy as cp\n",
    "import cupyx.scipy.fft as cufft\n",
    "import scipy.fft"
   ]
  },
  {
   "cell_type": "code",
   "execution_count": 3,
   "id": "9a79590f",
   "metadata": {},
   "outputs": [
    {
     "name": "stdout",
     "output_type": "stream",
     "text": [
      "   Found and loaded params from /mnt/md0/runs/s3d-AH007_2022-03-28_2-4-5/params.npy\n"
     ]
    }
   ],
   "source": [
    "# Create the job\n",
    "job = Job('/mnt/md0/runs','AH007_2022-03-28_2-4-5', create=False, overwrite=False, verbosity = 10)"
   ]
  },
  {
   "cell_type": "code",
   "execution_count": 4,
   "id": "5055e88f",
   "metadata": {},
   "outputs": [
    {
     "name": "stdout",
     "output_type": "stream",
     "text": [
      "SI ROI pix count in x is 182, which is impossible, setting it to 145\n"
     ]
    }
   ],
   "source": [
    "tifs, si_params, exp_str = flu.find_exp(job.params['subjects_dir'], job.params['subject'],\n",
    "                                        job.params['date'], job.params['expnum'])"
   ]
  },
  {
   "cell_type": "code",
   "execution_count": 5,
   "id": "4bc36dce",
   "metadata": {},
   "outputs": [],
   "source": [
    "exp_dir = flu.find_expt_file((job.params['subject'], job.params['date'], job.params['expnum'][0]),\n",
    "                         'root', dirs=[job.params['subjects_dir']])"
   ]
  },
  {
   "cell_type": "code",
   "execution_count": 6,
   "id": "0dd12998",
   "metadata": {},
   "outputs": [],
   "source": [
    "offset_files = job.get_registered_files('registered_data', 'offset')"
   ]
  },
  {
   "cell_type": "code",
   "execution_count": 7,
   "id": "22626584",
   "metadata": {},
   "outputs": [],
   "source": [
    "cz = (0,20)\n",
    "ct = (0, 10)\n",
    "cy = (None,None)\n",
    "cx = (None,None)"
   ]
  },
  {
   "cell_type": "code",
   "execution_count": 8,
   "id": "09bc76fa",
   "metadata": {},
   "outputs": [],
   "source": [
    "mov_reg = job.get_registered_movie()[cz[0]:cz[1],ct[0]:ct[1], cy[0]:cy[1], cx[0]:cx[1]].compute()"
   ]
  },
  {
   "cell_type": "code",
   "execution_count": 9,
   "id": "bbaa17b9",
   "metadata": {},
   "outputs": [
    {
     "name": "stdout",
     "output_type": "stream",
     "text": [
      "Loading /mnt/a2/AH007/2022-03-28/2/AH007_ROI3p33um_NOSCREEN_-400um_00001_00001.tif\n",
      "Loading /mnt/a2/AH007/2022-03-28/2/AH007_ROI3p33um_NOSCREEN_-400um_00002_00001.tif\n",
      "Loaded 2 files, total 5.73 GB\n"
     ]
    }
   ],
   "source": [
    "mov_raw = lbmio.load_and_stitch_tifs(job.tifs[:2], planes = n.arange(cz[0],cz[1]))[:,:,cy[0]:cy[1], cx[0]:cx[1]]\n",
    "mov_raw = mov_raw[:,ct[0]:ct[1]]"
   ]
  },
  {
   "cell_type": "code",
   "execution_count": 10,
   "id": "ddbe2bd4",
   "metadata": {},
   "outputs": [],
   "source": [
    "offsets = [n.load(f,allow_pickle=True).item() for f in offset_files]\n",
    "offset = offsets[0]\n",
    "for k,v in offset.items():\n",
    "    offset[k] = n.array(n.concatenate([o[k] for o in offsets],axis=1) )\n",
    "    offset[k] = offset[k][cz[0]:cz[1], ct[0]:ct[1]]\n",
    "dx = (offset['xms'] - n.floor(offset['xms'].mean(axis=1,keepdims=True)))[cz[0]:cz[1]]\n",
    "dy = (offset['yms'] - n.floor(offset['yms'].mean(axis=1,keepdims=True)))[cz[0]:cz[1]]"
   ]
  },
  {
   "cell_type": "code",
   "execution_count": 41,
   "id": "d993999c",
   "metadata": {},
   "outputs": [],
   "source": [
    "summary = job.load_summary()\n",
    "refs_and_masks = summary['refs_and_masks']\n",
    "mask_mul, mask_offset, ref_2ds = n.stack([r[:3] for r in refs_and_masks],axis=1)[:,cz[0]:cz[1], cy[0]:cy[1], cx[0]:cx[1]]\n",
    "mask_mul_nr, mask_offset_nr, ref_nr = n.stack([r[3:] for r in refs_and_masks],axis=1)[:,cz[0]:cz[1], cy[0]:cy[1], cx[0]:cx[1]]"
   ]
  },
  {
   "cell_type": "code",
   "execution_count": 46,
   "id": "d9758bcc",
   "metadata": {},
   "outputs": [
    {
     "data": {
      "text/plain": [
       "(30, 1202, 1015)"
      ]
     },
     "execution_count": 46,
     "metadata": {},
     "output_type": "execute_result"
    }
   ],
   "source": [
    "ref_real.shape"
   ]
  },
  {
   "cell_type": "code",
   "execution_count": 58,
   "id": "063d4a4f",
   "metadata": {},
   "outputs": [],
   "source": [
    "ref_real = summary['ref_img_3d'][cz[0]:cz[1]]"
   ]
  },
  {
   "cell_type": "code",
   "execution_count": 59,
   "id": "54be2ce7",
   "metadata": {},
   "outputs": [],
   "source": [
    "all_ops = summary['all_ops']\n",
    "ops = all_ops[0]\n",
    "\n",
    "max_shift_xy = 50\n",
    "max_shift_z = 5"
   ]
  },
  {
   "cell_type": "code",
   "execution_count": 60,
   "id": "009782b0",
   "metadata": {},
   "outputs": [],
   "source": [
    "mov = mov_raw.copy().swapaxes(0,1).astype(n.float32)"
   ]
  },
  {
   "cell_type": "code",
   "execution_count": 89,
   "id": "0ebea5d9",
   "metadata": {},
   "outputs": [],
   "source": [
    "nt = mov.shape[0]"
   ]
  },
  {
   "cell_type": "code",
   "execution_count": 61,
   "id": "fc0cdd9f",
   "metadata": {},
   "outputs": [],
   "source": [
    "mempool = cp.get_default_memory_pool()\n",
    "mempool.free_all_blocks()"
   ]
  },
  {
   "cell_type": "code",
   "execution_count": 62,
   "id": "ef7c37e8",
   "metadata": {},
   "outputs": [
    {
     "name": "stdout",
     "output_type": "stream",
     "text": [
      "CPU times: user 287 ms, sys: 159 ms, total: 446 ms\n",
      "Wall time: 446 ms\n"
     ]
    }
   ],
   "source": [
    "%%time\n",
    "mov_gpu = cp.asarray(mov, dtype=n.float32)\n",
    "mul_mask_gpu = cp.asarray(mask_mul.real)\n",
    "off_mask_gpu = cp.asarray(mask_offset.real)\n",
    "ref_gpu = cp.asarray(ref_real)"
   ]
  },
  {
   "cell_type": "code",
   "execution_count": 63,
   "id": "78a98d57",
   "metadata": {},
   "outputs": [],
   "source": [
    "ref_gpu_2d_f = cp.conj(cufft.fftn(ref_gpu, axes=(1,2)))\n",
    "ref_gpu_2d_f /= cp.abs(ref_gpu_2d_f)\n",
    "\n",
    "ref_gpu_f = cp.conj(cufft.fftn(ref_gpu, axes=(0,1,2)))\n",
    "ref_gpu_f /= cp.abs(ref_gpu_f)"
   ]
  },
  {
   "cell_type": "code",
   "execution_count": 93,
   "id": "98406b38",
   "metadata": {},
   "outputs": [
    {
     "name": "stdout",
     "output_type": "stream",
     "text": [
      "CPU times: user 5.68 ms, sys: 10.7 ms, total: 16.3 ms\n",
      "Wall time: 16.1 ms\n"
     ]
    }
   ],
   "source": [
    "%%time\n",
    "for zidx in range(*cz):\n",
    "    mov_gpu[:,zidx] = cp.clip(mov_gpu[:,zidx], (all_ops[zidx]['rmin']), (all_ops[zidx]['rmax']))\n",
    "mov_gpu *= mul_mask_gpu[cp.newaxis] \n",
    "mov_gpu += off_mask_gpu[cp.newaxis]\n",
    "mov_gpu_f = cufft.fftn(mov_gpu, axes=(1,2,3))"
   ]
  },
  {
   "cell_type": "code",
   "execution_count": 94,
   "id": "f0b0afd7",
   "metadata": {},
   "outputs": [
    {
     "name": "stdout",
     "output_type": "stream",
     "text": [
      "CPU times: user 184 µs, sys: 117 µs, total: 301 µs\n",
      "Wall time: 288 µs\n"
     ]
    }
   ],
   "source": [
    "%%time\n",
    "mov_gpu_f /= (cp.complex64(1e-5) + cp.abs(mov_gpu_f))\n",
    "mov_gpu_f *= ref_gpu_f[cp.newaxis]\n",
    "mov_gpu_f = mov_gpu_f.real"
   ]
  },
  {
   "cell_type": "code",
   "execution_count": 104,
   "id": "73d2f3d8",
   "metadata": {},
   "outputs": [
    {
     "name": "stdout",
     "output_type": "stream",
     "text": [
      "CPU times: user 214 µs, sys: 136 µs, total: 350 µs\n",
      "Wall time: 335 µs\n"
     ]
    }
   ],
   "source": [
    "%%time\n",
    "mov_gpu_f_concat = n.concatenate((mov_gpu_f[:,:,-max_shift_xy:], mov_gpu_f[:,:,:max_shift_xy+1]), axis=2)\n",
    "mov_gpu_f_concat = n.concatenate((mov_gpu_f_concat[:,:,:,-max_shift_xy:], mov_gpu_f_concat[:,:,:,:max_shift_xy+1]), axis=3)\n",
    "mov_gpu_f_concat = n.concatenate((mov_gpu_f_concat[:,-max_shift_z:], mov_gpu_f_concat[:,:max_shift_z+1]), axis=1)"
   ]
  },
  {
   "cell_type": "code",
   "execution_count": 106,
   "id": "e4a443fc",
   "metadata": {},
   "outputs": [
    {
     "name": "stdout",
     "output_type": "stream",
     "text": [
      "CPU times: user 243 µs, sys: 155 µs, total: 398 µs\n",
      "Wall time: 385 µs\n"
     ]
    }
   ],
   "source": [
    "%%time\n",
    "mov_gpu_f_concat = mov_gpu_f_concat.reshape(nt, -1)\n",
    "argmaxs = mov_gpu_f_concat.argmax(axis=1).get()"
   ]
  },
  {
   "cell_type": "code",
   "execution_count": 122,
   "id": "49f1c526",
   "metadata": {},
   "outputs": [
    {
     "data": {
      "text/plain": [
       "(10, 112211)"
      ]
     },
     "execution_count": 122,
     "metadata": {},
     "output_type": "execute_result"
    }
   ],
   "source": [
    "mov_gpu_f_concat.shape"
   ]
  },
  {
   "cell_type": "code",
   "execution_count": 121,
   "id": "b3721f3d",
   "metadata": {},
   "outputs": [
    {
     "data": {
      "text/plain": [
       "array([  8184,  16190,  14172,  16447,  13577,   1377,   6769,   6107,\n",
       "        59130, 107611], dtype=int64)"
      ]
     },
     "execution_count": 121,
     "metadata": {},
     "output_type": "execute_result"
    }
   ],
   "source": [
    "argmaxs"
   ]
  },
  {
   "cell_type": "code",
   "execution_count": 120,
   "id": "f0e77852",
   "metadata": {},
   "outputs": [
    {
     "data": {
      "text/plain": [
       "16190"
      ]
     },
     "execution_count": 120,
     "metadata": {},
     "output_type": "execute_result"
    }
   ],
   "source": [
    "argmax"
   ]
  },
  {
   "cell_type": "code",
   "execution_count": 119,
   "id": "0b4e3c0c",
   "metadata": {},
   "outputs": [
    {
     "ename": "ValueError",
     "evalue": "index 16190 is out of bounds for array with size 12500",
     "output_type": "error",
     "traceback": [
      "\u001b[0;31m---------------------------------------------------------------------------\u001b[0m",
      "\u001b[0;31mValueError\u001b[0m                                Traceback (most recent call last)",
      "Cell \u001b[0;32mIn[119], line 3\u001b[0m\n\u001b[1;32m      1\u001b[0m zmaxs, ymaxs, xmaxs \u001b[38;5;241m=\u001b[39m n\u001b[38;5;241m.\u001b[39mzeros(nt, n\u001b[38;5;241m.\u001b[39mint32), n\u001b[38;5;241m.\u001b[39mzeros(nt, n\u001b[38;5;241m.\u001b[39mint32), n\u001b[38;5;241m.\u001b[39mzeros(nt, n\u001b[38;5;241m.\u001b[39mint32)\n\u001b[1;32m      2\u001b[0m \u001b[38;5;28;01mfor\u001b[39;00m tidx, argmax \u001b[38;5;129;01min\u001b[39;00m \u001b[38;5;28menumerate\u001b[39m(argmaxs): \n\u001b[0;32m----> 3\u001b[0m     zmaxs[tidx], ymaxs[tidx], xmaxs[tidx] \u001b[38;5;241m=\u001b[39m \u001b[43mn\u001b[49m\u001b[38;5;241;43m.\u001b[39;49m\u001b[43munravel_index\u001b[49m\u001b[43m(\u001b[49m\u001b[43margmax\u001b[49m\u001b[43m,\u001b[49m\u001b[43m \u001b[49m\u001b[43m(\u001b[49m\u001b[43mmax_shift_z\u001b[49m\u001b[43m,\u001b[49m\u001b[43mmax_shift_xy\u001b[49m\u001b[43m,\u001b[49m\u001b[43m \u001b[49m\u001b[43mmax_shift_xy\u001b[49m\u001b[43m)\u001b[49m\u001b[43m)\u001b[49m\n",
      "File \u001b[0;32m<__array_function__ internals>:200\u001b[0m, in \u001b[0;36munravel_index\u001b[0;34m(*args, **kwargs)\u001b[0m\n",
      "\u001b[0;31mValueError\u001b[0m: index 16190 is out of bounds for array with size 12500"
     ]
    }
   ],
   "source": [
    "zmaxs, ymaxs, xmaxs = n.zeros(nt, n.int32), n.zeros(nt, n.int32), n.zeros(nt, n.int32)\n",
    "for tidx, argmax in enumerate(argmaxs): \n",
    "    zmaxs[tidx], ymaxs[tidx], xmaxs[tidx] = n.unravel_index(argmax, (max_shift_z,max_shift_xy, max_shift_xy))"
   ]
  },
  {
   "cell_type": "code",
   "execution_count": 118,
   "id": "896406ef",
   "metadata": {},
   "outputs": [
    {
     "data": {
      "text/plain": [
       "array([34, 34, 34, 34, 34, 34, 34, 34, 34, 34], dtype=int32)"
      ]
     },
     "execution_count": 118,
     "metadata": {},
     "output_type": "execute_result"
    }
   ],
   "source": [
    "xmaxs"
   ]
  },
  {
   "cell_type": "code",
   "execution_count": 117,
   "id": "bd81cbb8",
   "metadata": {},
   "outputs": [
    {
     "data": {
      "text/plain": [
       "array([13, 13, 13, 13, 13, 13, 13, 13, 13, 13], dtype=int32)"
      ]
     },
     "execution_count": 117,
     "metadata": {},
     "output_type": "execute_result"
    }
   ],
   "source": [
    "ymaxs"
   ]
  },
  {
   "cell_type": "code",
   "execution_count": 116,
   "id": "4aa21203",
   "metadata": {},
   "outputs": [
    {
     "data": {
      "text/plain": [
       "array([3, 3, 3, 3, 3, 3, 3, 3, 3, 3], dtype=int32)"
      ]
     },
     "execution_count": 116,
     "metadata": {},
     "output_type": "execute_result"
    }
   ],
   "source": [
    "zmaxs"
   ]
  },
  {
   "cell_type": "code",
   "execution_count": null,
   "id": "35d249e1",
   "metadata": {},
   "outputs": [],
   "source": []
  },
  {
   "cell_type": "code",
   "execution_count": null,
   "id": "1f6c234b",
   "metadata": {},
   "outputs": [],
   "source": []
  },
  {
   "cell_type": "code",
   "execution_count": null,
   "id": "811c43c2",
   "metadata": {},
   "outputs": [],
   "source": []
  },
  {
   "cell_type": "code",
   "execution_count": 99,
   "id": "8588313f",
   "metadata": {},
   "outputs": [
    {
     "data": {
      "text/plain": [
       "<CUDA Device 0>"
      ]
     },
     "execution_count": 99,
     "metadata": {},
     "output_type": "execute_result"
    }
   ],
   "source": []
  },
  {
   "cell_type": "code",
   "execution_count": 67,
   "id": "d553c038",
   "metadata": {},
   "outputs": [],
   "source": [
    "ph_corr_gpu = mov_gpu_f_concat.get()\n",
    "# ph_corr_gpu_real = ph_corr_gpu.real"
   ]
  },
  {
   "cell_type": "code",
   "execution_count": 88,
   "id": "46892f23",
   "metadata": {},
   "outputs": [
    {
     "name": "stdout",
     "output_type": "stream",
     "text": [
      "CPU times: user 361 µs, sys: 230 µs, total: 591 µs\n",
      "Wall time: 390 µs\n"
     ]
    },
    {
     "data": {
      "text/plain": [
       "array([ 49599,  28931,  73283,  20826,  88768,  14666,   7380,  34505,\n",
       "       109989,  19236])"
      ]
     },
     "execution_count": 88,
     "metadata": {},
     "output_type": "execute_result"
    }
   ],
   "source": [
    "%%time\n",
    "ph_corr_gpu.reshape(10,-1).argmax(axis=1)"
   ]
  },
  {
   "cell_type": "code",
   "execution_count": 86,
   "id": "f78a39f1",
   "metadata": {},
   "outputs": [
    {
     "data": {
      "text/plain": [
       "(10, 11, 101, 101)"
      ]
     },
     "execution_count": 86,
     "metadata": {},
     "output_type": "execute_result"
    }
   ],
   "source": [
    "ph_corr_gpu.shape"
   ]
  },
  {
   "cell_type": "code",
   "execution_count": null,
   "id": "85679451",
   "metadata": {},
   "outputs": [],
   "source": []
  },
  {
   "cell_type": "code",
   "execution_count": null,
   "id": "0ce3c3c2",
   "metadata": {},
   "outputs": [],
   "source": []
  },
  {
   "cell_type": "code",
   "execution_count": 68,
   "id": "f0384f8e",
   "metadata": {},
   "outputs": [
    {
     "data": {
      "text/plain": [
       "(10, 11, 101, 101)"
      ]
     },
     "execution_count": 68,
     "metadata": {},
     "output_type": "execute_result"
    }
   ],
   "source": [
    "ph_corr_gpu.shape"
   ]
  },
  {
   "cell_type": "code",
   "execution_count": 28,
   "id": "72417f44",
   "metadata": {},
   "outputs": [],
   "source": [
    "mov_cpu = mov.copy()"
   ]
  },
  {
   "cell_type": "code",
   "execution_count": 33,
   "id": "ac6727f4",
   "metadata": {},
   "outputs": [
    {
     "name": "stdout",
     "output_type": "stream",
     "text": [
      "CPU times: user 26.8 s, sys: 1.19 s, total: 28 s\n",
      "Wall time: 2.62 s\n"
     ]
    }
   ],
   "source": [
    "%%time\n",
    "for zidx in range(*cz):\n",
    "    mov_cpu[:,zidx] = n.clip(mov_cpu[:,zidx], all_ops[zidx]['rmin'], all_ops[zidx]['rmax'])\n",
    "mov_cpu_mask = (mov_cpu.astype(n.complex64)) * mask_mul[n.newaxis] + mask_offset[n.newaxis]\n",
    "mov_mask_cpu_f = fftn(mov_cpu_mask, axes=(2,3))"
   ]
  },
  {
   "cell_type": "code",
   "execution_count": 34,
   "id": "a42b0e9e",
   "metadata": {},
   "outputs": [],
   "source": [
    "from suite2p.registration import utils as rgu"
   ]
  },
  {
   "cell_type": "code",
   "execution_count": 35,
   "id": "7a76fcf0",
   "metadata": {},
   "outputs": [
    {
     "name": "stdout",
     "output_type": "stream",
     "text": [
      "CPU times: user 3.9 s, sys: 1.16 s, total: 5.06 s\n",
      "Wall time: 75.9 ms\n"
     ]
    }
   ],
   "source": [
    "%%time\n",
    "ph_corr_cpu = rgu.apply_dotnorm(mov_mask_cpu_f, ref)\n",
    "ph_corr_cpu_real = ph_corr_cpu.real"
   ]
  },
  {
   "cell_type": "code",
   "execution_count": 36,
   "id": "1805a881",
   "metadata": {},
   "outputs": [
    {
     "data": {
      "text/plain": [
       "(10, 20, 1202, 1015)"
      ]
     },
     "execution_count": 36,
     "metadata": {},
     "output_type": "execute_result"
    }
   ],
   "source": [
    "ph_corr_cpu.shape"
   ]
  },
  {
   "cell_type": "code",
   "execution_count": null,
   "id": "99ebe28a",
   "metadata": {},
   "outputs": [],
   "source": []
  },
  {
   "cell_type": "code",
   "execution_count": null,
   "id": "3f481cca",
   "metadata": {},
   "outputs": [],
   "source": []
  },
  {
   "cell_type": "code",
   "execution_count": null,
   "id": "549805b5",
   "metadata": {},
   "outputs": [],
   "source": []
  },
  {
   "cell_type": "code",
   "execution_count": 60,
   "id": "6fe130da",
   "metadata": {},
   "outputs": [],
   "source": [
    "close = n.isclose(ph_corr_cpu_real, ph_corr_gpu_real)"
   ]
  },
  {
   "cell_type": "code",
   "execution_count": 64,
   "id": "58247abc",
   "metadata": {},
   "outputs": [
    {
     "data": {
      "text/plain": [
       "0.03864850536462218"
      ]
     },
     "execution_count": 64,
     "metadata": {},
     "output_type": "execute_result"
    }
   ],
   "source": [
    "close.sum() / close.size"
   ]
  },
  {
   "cell_type": "code",
   "execution_count": 66,
   "id": "c29a396e",
   "metadata": {},
   "outputs": [
    {
     "data": {
      "text/plain": [
       "(25, 20, 1202, 1015)"
      ]
     },
     "execution_count": 66,
     "metadata": {},
     "output_type": "execute_result"
    }
   ],
   "source": [
    "ph_corr_gpu.shape"
   ]
  },
  {
   "cell_type": "code",
   "execution_count": 77,
   "id": "71d5a8c4",
   "metadata": {},
   "outputs": [
    {
     "data": {
      "text/plain": [
       "<matplotlib.collections.PathCollection at 0x7f7ae47159a0>"
      ]
     },
     "execution_count": 77,
     "metadata": {},
     "output_type": "execute_result"
    },
    {
     "data": {
      "image/png": "[encoded data removed]",
      "text/plain": [
       "<Figure size 640x480 with 1 Axes>"
      ]
     },
     "metadata": {},
     "output_type": "display_data"
    }
   ],
   "source": [
    "tidx = 0\n",
    "zidx = -1\n",
    "plt.scatter(ph_corr_cpu_real[tidx,zidx, :100, :100].flatten(),ph_corr_gpu_real[tidx,zidx, :100, :100].flatten())"
   ]
  },
  {
   "cell_type": "code",
   "execution_count": 53,
   "id": "e0afe5d8",
   "metadata": {},
   "outputs": [
    {
     "ename": "KeyboardInterrupt",
     "evalue": "",
     "output_type": "error",
     "traceback": [
      "\u001b[0;31m---------------------------------------------------------------------------\u001b[0m",
      "\u001b[0;31mKeyboardInterrupt\u001b[0m                         Traceback (most recent call last)",
      "Cell \u001b[0;32mIn[53], line 1\u001b[0m\n\u001b[0;32m----> 1\u001b[0m \u001b[43mplt\u001b[49m\u001b[38;5;241;43m.\u001b[39;49m\u001b[43mscatter\u001b[49m\u001b[43m(\u001b[49m\u001b[43mph_corr_cpu_real\u001b[49m\u001b[38;5;241;43m.\u001b[39;49m\u001b[43mflatten\u001b[49m\u001b[43m(\u001b[49m\u001b[43m)\u001b[49m\u001b[43m,\u001b[49m\u001b[43m \u001b[49m\u001b[43mph_corr_gpu_real\u001b[49m\u001b[38;5;241;43m.\u001b[39;49m\u001b[43mflatten\u001b[49m\u001b[43m(\u001b[49m\u001b[43m)\u001b[49m\u001b[43m)\u001b[49m\n",
      "File \u001b[0;32m~/anaconda3/envs/s2p-lbm/lib/python3.8/site-packages/matplotlib/pyplot.py:2862\u001b[0m, in \u001b[0;36mscatter\u001b[0;34m(x, y, s, c, marker, cmap, norm, vmin, vmax, alpha, linewidths, edgecolors, plotnonfinite, data, **kwargs)\u001b[0m\n\u001b[1;32m   2857\u001b[0m \u001b[38;5;129m@_copy_docstring_and_deprecators\u001b[39m(Axes\u001b[38;5;241m.\u001b[39mscatter)\n\u001b[1;32m   2858\u001b[0m \u001b[38;5;28;01mdef\u001b[39;00m \u001b[38;5;21mscatter\u001b[39m(\n\u001b[1;32m   2859\u001b[0m         x, y, s\u001b[38;5;241m=\u001b[39m\u001b[38;5;28;01mNone\u001b[39;00m, c\u001b[38;5;241m=\u001b[39m\u001b[38;5;28;01mNone\u001b[39;00m, marker\u001b[38;5;241m=\u001b[39m\u001b[38;5;28;01mNone\u001b[39;00m, cmap\u001b[38;5;241m=\u001b[39m\u001b[38;5;28;01mNone\u001b[39;00m, norm\u001b[38;5;241m=\u001b[39m\u001b[38;5;28;01mNone\u001b[39;00m,\n\u001b[1;32m   2860\u001b[0m         vmin\u001b[38;5;241m=\u001b[39m\u001b[38;5;28;01mNone\u001b[39;00m, vmax\u001b[38;5;241m=\u001b[39m\u001b[38;5;28;01mNone\u001b[39;00m, alpha\u001b[38;5;241m=\u001b[39m\u001b[38;5;28;01mNone\u001b[39;00m, linewidths\u001b[38;5;241m=\u001b[39m\u001b[38;5;28;01mNone\u001b[39;00m, \u001b[38;5;241m*\u001b[39m,\n\u001b[1;32m   2861\u001b[0m         edgecolors\u001b[38;5;241m=\u001b[39m\u001b[38;5;28;01mNone\u001b[39;00m, plotnonfinite\u001b[38;5;241m=\u001b[39m\u001b[38;5;28;01mFalse\u001b[39;00m, data\u001b[38;5;241m=\u001b[39m\u001b[38;5;28;01mNone\u001b[39;00m, \u001b[38;5;241m*\u001b[39m\u001b[38;5;241m*\u001b[39mkwargs):\n\u001b[0;32m-> 2862\u001b[0m     __ret \u001b[38;5;241m=\u001b[39m \u001b[43mgca\u001b[49m\u001b[43m(\u001b[49m\u001b[43m)\u001b[49m\u001b[38;5;241;43m.\u001b[39;49m\u001b[43mscatter\u001b[49m\u001b[43m(\u001b[49m\n\u001b[1;32m   2863\u001b[0m \u001b[43m        \u001b[49m\u001b[43mx\u001b[49m\u001b[43m,\u001b[49m\u001b[43m \u001b[49m\u001b[43my\u001b[49m\u001b[43m,\u001b[49m\u001b[43m \u001b[49m\u001b[43ms\u001b[49m\u001b[38;5;241;43m=\u001b[39;49m\u001b[43ms\u001b[49m\u001b[43m,\u001b[49m\u001b[43m \u001b[49m\u001b[43mc\u001b[49m\u001b[38;5;241;43m=\u001b[39;49m\u001b[43mc\u001b[49m\u001b[43m,\u001b[49m\u001b[43m \u001b[49m\u001b[43mmarker\u001b[49m\u001b[38;5;241;43m=\u001b[39;49m\u001b[43mmarker\u001b[49m\u001b[43m,\u001b[49m\u001b[43m \u001b[49m\u001b[43mcmap\u001b[49m\u001b[38;5;241;43m=\u001b[39;49m\u001b[43mcmap\u001b[49m\u001b[43m,\u001b[49m\u001b[43m \u001b[49m\u001b[43mnorm\u001b[49m\u001b[38;5;241;43m=\u001b[39;49m\u001b[43mnorm\u001b[49m\u001b[43m,\u001b[49m\n\u001b[1;32m   2864\u001b[0m \u001b[43m        \u001b[49m\u001b[43mvmin\u001b[49m\u001b[38;5;241;43m=\u001b[39;49m\u001b[43mvmin\u001b[49m\u001b[43m,\u001b[49m\u001b[43m \u001b[49m\u001b[43mvmax\u001b[49m\u001b[38;5;241;43m=\u001b[39;49m\u001b[43mvmax\u001b[49m\u001b[43m,\u001b[49m\u001b[43m \u001b[49m\u001b[43malpha\u001b[49m\u001b[38;5;241;43m=\u001b[39;49m\u001b[43malpha\u001b[49m\u001b[43m,\u001b[49m\u001b[43m \u001b[49m\u001b[43mlinewidths\u001b[49m\u001b[38;5;241;43m=\u001b[39;49m\u001b[43mlinewidths\u001b[49m\u001b[43m,\u001b[49m\n\u001b[1;32m   2865\u001b[0m \u001b[43m        \u001b[49m\u001b[43medgecolors\u001b[49m\u001b[38;5;241;43m=\u001b[39;49m\u001b[43medgecolors\u001b[49m\u001b[43m,\u001b[49m\u001b[43m \u001b[49m\u001b[43mplotnonfinite\u001b[49m\u001b[38;5;241;43m=\u001b[39;49m\u001b[43mplotnonfinite\u001b[49m\u001b[43m,\u001b[49m\n\u001b[1;32m   2866\u001b[0m \u001b[43m        \u001b[49m\u001b[38;5;241;43m*\u001b[39;49m\u001b[38;5;241;43m*\u001b[39;49m\u001b[43m(\u001b[49m\u001b[43m{\u001b[49m\u001b[38;5;124;43m\"\u001b[39;49m\u001b[38;5;124;43mdata\u001b[39;49m\u001b[38;5;124;43m\"\u001b[39;49m\u001b[43m:\u001b[49m\u001b[43m \u001b[49m\u001b[43mdata\u001b[49m\u001b[43m}\u001b[49m\u001b[43m \u001b[49m\u001b[38;5;28;43;01mif\u001b[39;49;00m\u001b[43m \u001b[49m\u001b[43mdata\u001b[49m\u001b[43m \u001b[49m\u001b[38;5;129;43;01mis\u001b[39;49;00m\u001b[43m \u001b[49m\u001b[38;5;129;43;01mnot\u001b[39;49;00m\u001b[43m \u001b[49m\u001b[38;5;28;43;01mNone\u001b[39;49;00m\u001b[43m \u001b[49m\u001b[38;5;28;43;01melse\u001b[39;49;00m\u001b[43m \u001b[49m\u001b[43m{\u001b[49m\u001b[43m}\u001b[49m\u001b[43m)\u001b[49m\u001b[43m,\u001b[49m\u001b[43m \u001b[49m\u001b[38;5;241;43m*\u001b[39;49m\u001b[38;5;241;43m*\u001b[39;49m\u001b[43mkwargs\u001b[49m\u001b[43m)\u001b[49m\n\u001b[1;32m   2867\u001b[0m     sci(__ret)\n\u001b[1;32m   2868\u001b[0m     \u001b[38;5;28;01mreturn\u001b[39;00m __ret\n",
      "File \u001b[0;32m~/anaconda3/envs/s2p-lbm/lib/python3.8/site-packages/matplotlib/__init__.py:1446\u001b[0m, in \u001b[0;36m_preprocess_data.<locals>.inner\u001b[0;34m(ax, data, *args, **kwargs)\u001b[0m\n\u001b[1;32m   1443\u001b[0m \u001b[38;5;129m@functools\u001b[39m\u001b[38;5;241m.\u001b[39mwraps(func)\n\u001b[1;32m   1444\u001b[0m \u001b[38;5;28;01mdef\u001b[39;00m \u001b[38;5;21minner\u001b[39m(ax, \u001b[38;5;241m*\u001b[39margs, data\u001b[38;5;241m=\u001b[39m\u001b[38;5;28;01mNone\u001b[39;00m, \u001b[38;5;241m*\u001b[39m\u001b[38;5;241m*\u001b[39mkwargs):\n\u001b[1;32m   1445\u001b[0m     \u001b[38;5;28;01mif\u001b[39;00m data \u001b[38;5;129;01mis\u001b[39;00m \u001b[38;5;28;01mNone\u001b[39;00m:\n\u001b[0;32m-> 1446\u001b[0m         \u001b[38;5;28;01mreturn\u001b[39;00m \u001b[43mfunc\u001b[49m\u001b[43m(\u001b[49m\u001b[43max\u001b[49m\u001b[43m,\u001b[49m\u001b[43m \u001b[49m\u001b[38;5;241;43m*\u001b[39;49m\u001b[38;5;28;43mmap\u001b[39;49m\u001b[43m(\u001b[49m\u001b[43msanitize_sequence\u001b[49m\u001b[43m,\u001b[49m\u001b[43m \u001b[49m\u001b[43margs\u001b[49m\u001b[43m)\u001b[49m\u001b[43m,\u001b[49m\u001b[43m \u001b[49m\u001b[38;5;241;43m*\u001b[39;49m\u001b[38;5;241;43m*\u001b[39;49m\u001b[43mkwargs\u001b[49m\u001b[43m)\u001b[49m\n\u001b[1;32m   1448\u001b[0m     bound \u001b[38;5;241m=\u001b[39m new_sig\u001b[38;5;241m.\u001b[39mbind(ax, \u001b[38;5;241m*\u001b[39margs, \u001b[38;5;241m*\u001b[39m\u001b[38;5;241m*\u001b[39mkwargs)\n\u001b[1;32m   1449\u001b[0m     auto_label \u001b[38;5;241m=\u001b[39m (bound\u001b[38;5;241m.\u001b[39marguments\u001b[38;5;241m.\u001b[39mget(label_namer)\n\u001b[1;32m   1450\u001b[0m                   \u001b[38;5;129;01mor\u001b[39;00m bound\u001b[38;5;241m.\u001b[39mkwargs\u001b[38;5;241m.\u001b[39mget(label_namer))\n",
      "File \u001b[0;32m~/anaconda3/envs/s2p-lbm/lib/python3.8/site-packages/matplotlib/axes/_axes.py:4705\u001b[0m, in \u001b[0;36mAxes.scatter\u001b[0;34m(self, x, y, s, c, marker, cmap, norm, vmin, vmax, alpha, linewidths, edgecolors, plotnonfinite, **kwargs)\u001b[0m\n\u001b[1;32m   4702\u001b[0m     \u001b[38;5;28;01mif\u001b[39;00m \u001b[38;5;28mself\u001b[39m\u001b[38;5;241m.\u001b[39m_ymargin \u001b[38;5;241m<\u001b[39m \u001b[38;5;241m0.05\u001b[39m \u001b[38;5;129;01mand\u001b[39;00m x\u001b[38;5;241m.\u001b[39msize \u001b[38;5;241m>\u001b[39m \u001b[38;5;241m0\u001b[39m:\n\u001b[1;32m   4703\u001b[0m         \u001b[38;5;28mself\u001b[39m\u001b[38;5;241m.\u001b[39mset_ymargin(\u001b[38;5;241m0.05\u001b[39m)\n\u001b[0;32m-> 4705\u001b[0m \u001b[38;5;28;43mself\u001b[39;49m\u001b[38;5;241;43m.\u001b[39;49m\u001b[43madd_collection\u001b[49m\u001b[43m(\u001b[49m\u001b[43mcollection\u001b[49m\u001b[43m)\u001b[49m\n\u001b[1;32m   4706\u001b[0m \u001b[38;5;28mself\u001b[39m\u001b[38;5;241m.\u001b[39m_request_autoscale_view()\n\u001b[1;32m   4708\u001b[0m \u001b[38;5;28;01mreturn\u001b[39;00m collection\n",
      "File \u001b[0;32m~/anaconda3/envs/s2p-lbm/lib/python3.8/site-packages/matplotlib/axes/_base.py:2264\u001b[0m, in \u001b[0;36m_AxesBase.add_collection\u001b[0;34m(self, collection, autolim)\u001b[0m\n\u001b[1;32m   2260\u001b[0m \u001b[38;5;28;01mif\u001b[39;00m autolim:\n\u001b[1;32m   2261\u001b[0m     \u001b[38;5;66;03m# Make sure viewLim is not stale (mostly to match\u001b[39;00m\n\u001b[1;32m   2262\u001b[0m     \u001b[38;5;66;03m# pre-lazy-autoscale behavior, which is not really better).\u001b[39;00m\n\u001b[1;32m   2263\u001b[0m     \u001b[38;5;28mself\u001b[39m\u001b[38;5;241m.\u001b[39m_unstale_viewLim()\n\u001b[0;32m-> 2264\u001b[0m     datalim \u001b[38;5;241m=\u001b[39m \u001b[43mcollection\u001b[49m\u001b[38;5;241;43m.\u001b[39;49m\u001b[43mget_datalim\u001b[49m\u001b[43m(\u001b[49m\u001b[38;5;28;43mself\u001b[39;49m\u001b[38;5;241;43m.\u001b[39;49m\u001b[43mtransData\u001b[49m\u001b[43m)\u001b[49m\n\u001b[1;32m   2265\u001b[0m     points \u001b[38;5;241m=\u001b[39m datalim\u001b[38;5;241m.\u001b[39mget_points()\n\u001b[1;32m   2266\u001b[0m     \u001b[38;5;28;01mif\u001b[39;00m \u001b[38;5;129;01mnot\u001b[39;00m np\u001b[38;5;241m.\u001b[39misinf(datalim\u001b[38;5;241m.\u001b[39mminpos)\u001b[38;5;241m.\u001b[39mall():\n\u001b[1;32m   2267\u001b[0m         \u001b[38;5;66;03m# By definition, if minpos (minimum positive value) is set\u001b[39;00m\n\u001b[1;32m   2268\u001b[0m         \u001b[38;5;66;03m# (i.e., non-inf), then min(points) <= minpos <= max(points),\u001b[39;00m\n\u001b[1;32m   2269\u001b[0m         \u001b[38;5;66;03m# and minpos would be superfluous. However, we add minpos to\u001b[39;00m\n\u001b[1;32m   2270\u001b[0m         \u001b[38;5;66;03m# the call so that self.dataLim will update its own minpos.\u001b[39;00m\n\u001b[1;32m   2271\u001b[0m         \u001b[38;5;66;03m# This ensures that log scales see the correct minimum.\u001b[39;00m\n",
      "File \u001b[0;32m~/anaconda3/envs/s2p-lbm/lib/python3.8/site-packages/matplotlib/collections.py:298\u001b[0m, in \u001b[0;36mCollection.get_datalim\u001b[0;34m(self, transData)\u001b[0m\n\u001b[1;32m    296\u001b[0m     \u001b[38;5;28;01mif\u001b[39;00m \u001b[38;5;129;01mnot\u001b[39;00m offsets\u001b[38;5;241m.\u001b[39mmask\u001b[38;5;241m.\u001b[39mall():\n\u001b[1;32m    297\u001b[0m         bbox \u001b[38;5;241m=\u001b[39m transforms\u001b[38;5;241m.\u001b[39mBbox\u001b[38;5;241m.\u001b[39mnull()\n\u001b[0;32m--> 298\u001b[0m         \u001b[43mbbox\u001b[49m\u001b[38;5;241;43m.\u001b[39;49m\u001b[43mupdate_from_data_xy\u001b[49m\u001b[43m(\u001b[49m\u001b[43moffsets\u001b[49m\u001b[43m)\u001b[49m\n\u001b[1;32m    299\u001b[0m         \u001b[38;5;28;01mreturn\u001b[39;00m bbox\n\u001b[1;32m    300\u001b[0m \u001b[38;5;28;01mreturn\u001b[39;00m transforms\u001b[38;5;241m.\u001b[39mBbox\u001b[38;5;241m.\u001b[39mnull()\n",
      "File \u001b[0;32m~/anaconda3/envs/s2p-lbm/lib/python3.8/site-packages/matplotlib/transforms.py:955\u001b[0m, in \u001b[0;36mBbox.update_from_data_xy\u001b[0;34m(self, xy, ignore, updatex, updatey)\u001b[0m\n\u001b[1;32m    952\u001b[0m     \u001b[38;5;28;01mreturn\u001b[39;00m\n\u001b[1;32m    954\u001b[0m path \u001b[38;5;241m=\u001b[39m Path(xy)\n\u001b[0;32m--> 955\u001b[0m \u001b[38;5;28;43mself\u001b[39;49m\u001b[38;5;241;43m.\u001b[39;49m\u001b[43mupdate_from_path\u001b[49m\u001b[43m(\u001b[49m\u001b[43mpath\u001b[49m\u001b[43m,\u001b[49m\u001b[43m \u001b[49m\u001b[43mignore\u001b[49m\u001b[38;5;241;43m=\u001b[39;49m\u001b[43mignore\u001b[49m\u001b[43m,\u001b[49m\n\u001b[1;32m    956\u001b[0m \u001b[43m                      \u001b[49m\u001b[43mupdatex\u001b[49m\u001b[38;5;241;43m=\u001b[39;49m\u001b[43mupdatex\u001b[49m\u001b[43m,\u001b[49m\u001b[43m \u001b[49m\u001b[43mupdatey\u001b[49m\u001b[38;5;241;43m=\u001b[39;49m\u001b[43mupdatey\u001b[49m\u001b[43m)\u001b[49m\n",
      "File \u001b[0;32m~/anaconda3/envs/s2p-lbm/lib/python3.8/site-packages/matplotlib/transforms.py:880\u001b[0m, in \u001b[0;36mBbox.update_from_path\u001b[0;34m(self, path, ignore, updatex, updatey)\u001b[0m\n\u001b[1;32m    877\u001b[0m \u001b[38;5;28;01mif\u001b[39;00m path\u001b[38;5;241m.\u001b[39mvertices\u001b[38;5;241m.\u001b[39msize \u001b[38;5;241m==\u001b[39m \u001b[38;5;241m0\u001b[39m:\n\u001b[1;32m    878\u001b[0m     \u001b[38;5;28;01mreturn\u001b[39;00m\n\u001b[0;32m--> 880\u001b[0m points, minpos, changed \u001b[38;5;241m=\u001b[39m \u001b[43mupdate_path_extents\u001b[49m\u001b[43m(\u001b[49m\n\u001b[1;32m    881\u001b[0m \u001b[43m    \u001b[49m\u001b[43mpath\u001b[49m\u001b[43m,\u001b[49m\u001b[43m \u001b[49m\u001b[38;5;28;43;01mNone\u001b[39;49;00m\u001b[43m,\u001b[49m\u001b[43m \u001b[49m\u001b[38;5;28;43mself\u001b[39;49m\u001b[38;5;241;43m.\u001b[39;49m\u001b[43m_points\u001b[49m\u001b[43m,\u001b[49m\u001b[43m \u001b[49m\u001b[38;5;28;43mself\u001b[39;49m\u001b[38;5;241;43m.\u001b[39;49m\u001b[43m_minpos\u001b[49m\u001b[43m,\u001b[49m\u001b[43m \u001b[49m\u001b[43mignore\u001b[49m\u001b[43m)\u001b[49m\n\u001b[1;32m    883\u001b[0m \u001b[38;5;28;01mif\u001b[39;00m changed:\n\u001b[1;32m    884\u001b[0m     \u001b[38;5;28mself\u001b[39m\u001b[38;5;241m.\u001b[39minvalidate()\n",
      "\u001b[0;31mKeyboardInterrupt\u001b[0m: "
     ]
    },
    {
     "data": {
      "image/png": "[encoded data removed]",
      "text/plain": [
       "<Figure size 640x480 with 1 Axes>"
      ]
     },
     "metadata": {},
     "output_type": "display_data"
    }
   ],
   "source": [
    "plt.scatter(ph_corr_cpu_real.flatten(), ph_corr_gpu_real.flatten())"
   ]
  },
  {
   "cell_type": "code",
   "execution_count": null,
   "id": "65ba188f",
   "metadata": {},
   "outputs": [],
   "source": []
  },
  {
   "cell_type": "code",
   "execution_count": 48,
   "id": "cb8c17a8",
   "metadata": {},
   "outputs": [
    {
     "data": {
      "text/plain": [
       "(25, 20, 1202, 1015)"
      ]
     },
     "execution_count": 48,
     "metadata": {},
     "output_type": "execute_result"
    }
   ],
   "source": [
    "ph_corr_cpu.shape"
   ]
  },
  {
   "cell_type": "code",
   "execution_count": null,
   "id": "e19135f6",
   "metadata": {},
   "outputs": [],
   "source": []
  },
  {
   "cell_type": "code",
   "execution_count": 356,
   "id": "d3093056",
   "metadata": {},
   "outputs": [],
   "source": [
    "maxregshift = 0.5"
   ]
  },
  {
   "cell_type": "code",
   "execution_count": 387,
   "id": "a2cc7bef",
   "metadata": {},
   "outputs": [
    {
     "data": {
      "text/plain": [
       "(126, 20, 600, 600)"
      ]
     },
     "execution_count": 387,
     "metadata": {},
     "output_type": "execute_result"
    }
   ],
   "source": [
    "dotted.shape"
   ]
  },
  {
   "cell_type": "code",
   "execution_count": 357,
   "id": "13953a30",
   "metadata": {},
   "outputs": [],
   "source": [
    "min_dim = min(*mov.shape[1:])  # maximum registration shift allowed\n",
    "lcorr = int(n.minimum(n.round(maxregshift * min_dim), min_dim // 2))"
   ]
  },
  {
   "cell_type": "code",
   "execution_count": 378,
   "id": "0222d891",
   "metadata": {},
   "outputs": [],
   "source": [
    "data = dotted[:,10]"
   ]
  },
  {
   "cell_type": "code",
   "execution_count": null,
   "id": "20bd4e0a",
   "metadata": {},
   "outputs": [],
   "source": []
  },
  {
   "cell_type": "code",
   "execution_count": null,
   "id": "a7a5aa90",
   "metadata": {},
   "outputs": [],
   "source": []
  },
  {
   "cell_type": "code",
   "execution_count": null,
   "id": "dc6362ad",
   "metadata": {},
   "outputs": [],
   "source": []
  },
  {
   "cell_type": "code",
   "execution_count": null,
   "id": "c4b90740",
   "metadata": {},
   "outputs": [],
   "source": []
  },
  {
   "cell_type": "code",
   "execution_count": null,
   "id": "f00a7d63",
   "metadata": {},
   "outputs": [],
   "source": []
  },
  {
   "cell_type": "code",
   "execution_count": 380,
   "id": "983ed560",
   "metadata": {},
   "outputs": [],
   "source": [
    "\n",
    "cc = n.real(\n",
    "        n.block(\n",
    "            [[data[:,  -lcorr:, -lcorr:], data[:,  -lcorr:, :lcorr+1]],\n",
    "            [data[:, :lcorr+1, -lcorr:], data[:, :lcorr+1, :lcorr+1]]]\n",
    "        )\n",
    "    )\n"
   ]
  },
  {
   "cell_type": "code",
   "execution_count": 381,
   "id": "a70c965c",
   "metadata": {},
   "outputs": [
    {
     "data": {
      "text/plain": [
       "(126, 21, 21)"
      ]
     },
     "execution_count": 381,
     "metadata": {},
     "output_type": "execute_result"
    }
   ],
   "source": [
    "cc.shape"
   ]
  },
  {
   "cell_type": "code",
   "execution_count": null,
   "id": "bfb8c117",
   "metadata": {},
   "outputs": [],
   "source": [
    "\n",
    "cc = temporal_smooth(cc, smooth_sigma_time) if smooth_sigma_time > 0 else cc\n",
    "\n",
    "ymax, xmax = np.zeros(data.shape[0], np.int32), np.zeros(data.shape[0], np.int32)\n",
    "for t in np.arange(data.shape[0]):\n",
    "    ymax[t], xmax[t] = np.unravel_index(np.argmax(cc[t], axis=None), (2 * lcorr + 1, 2 * lcorr + 1))\n",
    "cmax = cc[np.arange(len(cc)), ymax, xmax]\n",
    "ymax, xmax = ymax - lcorr, xmax - lcorr\n",
    "\n",
    "return ymax, xmax, cmax.astype(np.float32)\n"
   ]
  },
  {
   "cell_type": "code",
   "execution_count": 363,
   "id": "a264337c",
   "metadata": {
    "scrolled": true
   },
   "outputs": [
    {
     "data": {
      "text/plain": [
       "(126, 20, 600, 600)"
      ]
     },
     "execution_count": 363,
     "metadata": {},
     "output_type": "execute_result"
    }
   ],
   "source": [
    "dotted.real.shape"
   ]
  },
  {
   "cell_type": "code",
   "execution_count": 361,
   "id": "d68e8f08",
   "metadata": {},
   "outputs": [
    {
     "data": {
      "text/plain": [
       "(126, 20, 600, 600)"
      ]
     },
     "execution_count": 361,
     "metadata": {},
     "output_type": "execute_result"
    }
   ],
   "source": [
    "dotted.shape"
   ]
  },
  {
   "cell_type": "code",
   "execution_count": 360,
   "id": "10362526",
   "metadata": {},
   "outputs": [
    {
     "data": {
      "text/plain": [
       "(126, 20, 600, 600)"
      ]
     },
     "execution_count": 360,
     "metadata": {},
     "output_type": "execute_result"
    }
   ],
   "source": [
    "dotted.shape"
   ]
  },
  {
   "cell_type": "code",
   "execution_count": null,
   "id": "95dd30e2",
   "metadata": {},
   "outputs": [],
   "source": [
    "\n",
    "        cc = np.real(\n",
    "                np.block(\n",
    "                    [[data[:,  -lcorr:, -lcorr:], data[:,  -lcorr:, :lcorr+1]],\n",
    "                    [data[:, :lcorr+1, -lcorr:], data[:, :lcorr+1, :lcorr+1]]]\n",
    "                )\n",
    "            )"
   ]
  },
  {
   "cell_type": "code",
   "execution_count": null,
   "id": "59ba280f",
   "metadata": {},
   "outputs": [],
   "source": []
  },
  {
   "cell_type": "code",
   "execution_count": null,
   "id": "d3952e90",
   "metadata": {},
   "outputs": [],
   "source": []
  },
  {
   "cell_type": "code",
   "execution_count": null,
   "id": "98b6f19f",
   "metadata": {},
   "outputs": [],
   "source": []
  },
  {
   "cell_type": "code",
   "execution_count": 137,
   "id": "5aa1714e",
   "metadata": {},
   "outputs": [
    {
     "data": {
      "text/plain": [
       "[<matplotlib.lines.Line2D at 0x7f63698b6c10>]"
      ]
     },
     "execution_count": 137,
     "metadata": {},
     "output_type": "execute_result"
    },
    {
     "data": {
      "image/png": "[encoded data removed]",
      "text/plain": [
       "<Figure size 640x480 with 1 Axes>"
      ]
     },
     "metadata": {},
     "output_type": "display_data"
    }
   ],
   "source": [
    "plt.plot(offset['xm1s'][10,:,50])\n",
    "# plt.plot(offset['xm1s'][10,:,51])\n",
    "plt.plot(offset['xm1s'][9,:,50])\n",
    "plt.plot(offset['xm1s'][8,:,50])\n",
    "plt.plot(offset['xm1s'][7,:,50])"
   ]
  },
  {
   "cell_type": "code",
   "execution_count": 127,
   "id": "6a239606",
   "metadata": {},
   "outputs": [
    {
     "data": {
      "text/plain": [
       "[<matplotlib.lines.Line2D at 0x7f641f9a0550>]"
      ]
     },
     "execution_count": 127,
     "metadata": {},
     "output_type": "execute_result"
    },
    {
     "data": {
      "image/png": "[encoded data removed]",
      "text/plain": [
       "<Figure size 640x480 with 1 Axes>"
      ]
     },
     "metadata": {},
     "output_type": "display_data"
    }
   ],
   "source": [
    "plt.plot(offset['yms'].mean(axis=1))\n",
    "plt.plot(offset['xms'].mean(axis=1))"
   ]
  },
  {
   "cell_type": "code",
   "execution_count": 122,
   "id": "539b805a",
   "metadata": {},
   "outputs": [
    {
     "data": {
      "text/plain": [
       "[<matplotlib.lines.Line2D at 0x7f641fb71a00>,\n",
       " <matplotlib.lines.Line2D at 0x7f641fb71a60>,\n",
       " <matplotlib.lines.Line2D at 0x7f641fb71a90>,\n",
       " <matplotlib.lines.Line2D at 0x7f641fb71b80>,\n",
       " <matplotlib.lines.Line2D at 0x7f641fb71c70>,\n",
       " <matplotlib.lines.Line2D at 0x7f641fb71d60>,\n",
       " <matplotlib.lines.Line2D at 0x7f641fb71e50>,\n",
       " <matplotlib.lines.Line2D at 0x7f641fb71f40>,\n",
       " <matplotlib.lines.Line2D at 0x7f641fb00070>,\n",
       " <matplotlib.lines.Line2D at 0x7f641fb00160>,\n",
       " <matplotlib.lines.Line2D at 0x7f641fb71a30>,\n",
       " <matplotlib.lines.Line2D at 0x7f641fb00250>,\n",
       " <matplotlib.lines.Line2D at 0x7f641fb00340>,\n",
       " <matplotlib.lines.Line2D at 0x7f641fb004f0>,\n",
       " <matplotlib.lines.Line2D at 0x7f641fb005e0>,\n",
       " <matplotlib.lines.Line2D at 0x7f641fb006d0>,\n",
       " <matplotlib.lines.Line2D at 0x7f641fb007c0>,\n",
       " <matplotlib.lines.Line2D at 0x7f641fb008b0>,\n",
       " <matplotlib.lines.Line2D at 0x7f641fb009a0>,\n",
       " <matplotlib.lines.Line2D at 0x7f641fb00a90>]"
      ]
     },
     "execution_count": 122,
     "metadata": {},
     "output_type": "execute_result"
    },
    {
     "data": {
      "image/png": "[encoded data removed]",
      "text/plain": [
       "<Figure size 640x480 with 1 Axes>"
      ]
     },
     "metadata": {},
     "output_type": "display_data"
    }
   ],
   "source": [
    "plt.plot(offset['xms'][:20].T)"
   ]
  },
  {
   "cell_type": "code",
   "execution_count": null,
   "id": "bcbb4bc6",
   "metadata": {},
   "outputs": [],
   "source": []
  },
  {
   "cell_type": "code",
   "execution_count": null,
   "id": "b073894b",
   "metadata": {},
   "outputs": [],
   "source": []
  },
  {
   "cell_type": "code",
   "execution_count": null,
   "id": "a0066d4c",
   "metadata": {},
   "outputs": [],
   "source": []
  },
  {
   "cell_type": "code",
   "execution_count": 108,
   "id": "cadd9ca0",
   "metadata": {},
   "outputs": [
    {
     "data": {
      "text/plain": [
       "['/mnt/a2/AH007/2022-03-28/2/AH007_ROI3p33um_NOSCREEN_-400um_00001_00001.tif',\n",
       " '/mnt/a2/AH007/2022-03-28/2/AH007_ROI3p33um_NOSCREEN_-400um_00002_00001.tif',\n",
       " '/mnt/a2/AH007/2022-03-28/2/AH007_ROI3p33um_NOSCREEN_-400um_00002_00002.tif',\n",
       " '/mnt/a2/AH007/2022-03-28/2/AH007_ROI3p33um_NOSCREEN_-400um_00002_00003.tif',\n",
       " '/mnt/a2/AH007/2022-03-28/2/AH007_ROI3p33um_NOSCREEN_-400um_00002_00004.tif',\n",
       " '/mnt/a2/AH007/2022-03-28/2/AH007_ROI3p33um_NOSCREEN_-400um_00002_00005.tif',\n",
       " '/mnt/a2/AH007/2022-03-28/2/AH007_ROI3p33um_NOSCREEN_-400um_00002_00006.tif',\n",
       " '/mnt/a2/AH007/2022-03-28/2/AH007_ROI3p33um_NOSCREEN_-400um_00002_00007.tif',\n",
       " '/mnt/a2/AH007/2022-03-28/2/AH007_ROI3p33um_NOSCREEN_-400um_00002_00008.tif',\n",
       " '/mnt/a2/AH007/2022-03-28/2/AH007_ROI3p33um_NOSCREEN_-400um_00002_00009.tif',\n",
       " '/mnt/a2/AH007/2022-03-28/2/AH007_ROI3p33um_NOSCREEN_-400um_00002_00010.tif',\n",
       " '/mnt/a2/AH007/2022-03-28/2/AH007_ROI3p33um_NOSCREEN_-400um_00002_00011.tif',\n",
       " '/mnt/a2/AH007/2022-03-28/2/AH007_ROI3p33um_NOSCREEN_-400um_00002_00012.tif',\n",
       " '/mnt/a2/AH007/2022-03-28/2/AH007_ROI3p33um_NOSCREEN_-400um_00002_00013.tif',\n",
       " '/mnt/a2/AH007/2022-03-28/2/AH007_ROI3p33um_NOSCREEN_-400um_00002_00014.tif',\n",
       " '/mnt/a2/AH007/2022-03-28/2/AH007_ROI3p33um_NOSCREEN_-400um_00002_00015.tif',\n",
       " '/mnt/a2/AH007/2022-03-28/2/AH007_ROI3p33um_NOSCREEN_-400um_00002_00016.tif',\n",
       " '/mnt/a2/AH007/2022-03-28/2/AH007_ROI3p33um_NOSCREEN_-400um_00002_00017.tif',\n",
       " '/mnt/a2/AH007/2022-03-28/2/AH007_ROI3p33um_NOSCREEN_-400um_00002_00018.tif',\n",
       " '/mnt/a2/AH007/2022-03-28/2/AH007_ROI3p33um_NOSCREEN_-400um_00002_00019.tif',\n",
       " '/mnt/a2/AH007/2022-03-28/2/AH007_ROI3p33um_NOSCREEN_-400um_00002_00020.tif',\n",
       " '/mnt/a2/AH007/2022-03-28/2/AH007_ROI3p33um_NOSCREEN_-400um_00002_00021.tif',\n",
       " '/mnt/a2/AH007/2022-03-28/2/AH007_ROI3p33um_NOSCREEN_-400um_00002_00022.tif',\n",
       " '/mnt/a2/AH007/2022-03-28/2/AH007_ROI3p33um_NOSCREEN_-400um_00002_00023.tif',\n",
       " '/mnt/a2/AH007/2022-03-28/2/AH007_ROI3p33um_NOSCREEN_-400um_00002_00024.tif',\n",
       " '/mnt/a2/AH007/2022-03-28/2/AH007_ROI3p33um_NOSCREEN_-400um_00002_00025.tif',\n",
       " '/mnt/a2/AH007/2022-03-28/2/AH007_ROI3p33um_NOSCREEN_-400um_00002_00026.tif',\n",
       " '/mnt/a2/AH007/2022-03-28/2/AH007_ROI3p33um_NOSCREEN_-400um_00002_00027.tif',\n",
       " '/mnt/a2/AH007/2022-03-28/2/AH007_ROI3p33um_NOSCREEN_-400um_00002_00028.tif',\n",
       " '/mnt/a2/AH007/2022-03-28/2/AH007_ROI3p33um_NOSCREEN_-400um_00002_00029.tif',\n",
       " '/mnt/a2/AH007/2022-03-28/2/AH007_ROI3p33um_NOSCREEN_-400um_00002_00030.tif',\n",
       " '/mnt/a2/AH007/2022-03-28/2/AH007_ROI3p33um_NOSCREEN_-400um_00002_00031.tif',\n",
       " '/mnt/a2/AH007/2022-03-28/2/AH007_ROI3p33um_NOSCREEN_-400um_00002_00032.tif',\n",
       " '/mnt/a2/AH007/2022-03-28/2/AH007_ROI3p33um_NOSCREEN_-400um_00002_00033.tif',\n",
       " '/mnt/a2/AH007/2022-03-28/2/AH007_ROI3p33um_NOSCREEN_-400um_00002_00034.tif',\n",
       " '/mnt/a2/AH007/2022-03-28/4/AH007_ROI3p33um_NOSCREEN_-400um_00001_00001.tif',\n",
       " '/mnt/a2/AH007/2022-03-28/4/AH007_ROI3p33um_NOSCREEN_-400um_00001_00002.tif',\n",
       " '/mnt/a2/AH007/2022-03-28/4/AH007_ROI3p33um_NOSCREEN_-400um_00001_00003.tif',\n",
       " '/mnt/a2/AH007/2022-03-28/4/AH007_ROI3p33um_NOSCREEN_-400um_00001_00004.tif',\n",
       " '/mnt/a2/AH007/2022-03-28/4/AH007_ROI3p33um_NOSCREEN_-400um_00001_00005.tif',\n",
       " '/mnt/a2/AH007/2022-03-28/4/AH007_ROI3p33um_NOSCREEN_-400um_00001_00006.tif',\n",
       " '/mnt/a2/AH007/2022-03-28/4/AH007_ROI3p33um_NOSCREEN_-400um_00001_00007.tif',\n",
       " '/mnt/a2/AH007/2022-03-28/4/AH007_ROI3p33um_NOSCREEN_-400um_00001_00008.tif',\n",
       " '/mnt/a2/AH007/2022-03-28/4/AH007_ROI3p33um_NOSCREEN_-400um_00001_00009.tif',\n",
       " '/mnt/a2/AH007/2022-03-28/4/AH007_ROI3p33um_NOSCREEN_-400um_00001_00010.tif',\n",
       " '/mnt/a2/AH007/2022-03-28/4/AH007_ROI3p33um_NOSCREEN_-400um_00001_00011.tif',\n",
       " '/mnt/a2/AH007/2022-03-28/4/AH007_ROI3p33um_NOSCREEN_-400um_00001_00012.tif',\n",
       " '/mnt/a2/AH007/2022-03-28/4/AH007_ROI3p33um_NOSCREEN_-400um_00001_00013.tif',\n",
       " '/mnt/a2/AH007/2022-03-28/4/AH007_ROI3p33um_NOSCREEN_-400um_00001_00014.tif',\n",
       " '/mnt/a2/AH007/2022-03-28/4/AH007_ROI3p33um_NOSCREEN_-400um_00001_00015.tif',\n",
       " '/mnt/a2/AH007/2022-03-28/4/AH007_ROI3p33um_NOSCREEN_-400um_00001_00016.tif',\n",
       " '/mnt/a2/AH007/2022-03-28/4/AH007_ROI3p33um_NOSCREEN_-400um_00001_00017.tif',\n",
       " '/mnt/a2/AH007/2022-03-28/4/AH007_ROI3p33um_NOSCREEN_-400um_00001_00018.tif',\n",
       " '/mnt/a2/AH007/2022-03-28/4/AH007_ROI3p33um_NOSCREEN_-400um_00001_00019.tif',\n",
       " '/mnt/a2/AH007/2022-03-28/4/AH007_ROI3p33um_NOSCREEN_-400um_00001_00020.tif',\n",
       " '/mnt/a2/AH007/2022-03-28/4/AH007_ROI3p33um_NOSCREEN_-400um_00001_00021.tif',\n",
       " '/mnt/a2/AH007/2022-03-28/4/AH007_ROI3p33um_NOSCREEN_-400um_00001_00022.tif',\n",
       " '/mnt/a2/AH007/2022-03-28/4/AH007_ROI3p33um_NOSCREEN_-400um_00001_00023.tif',\n",
       " '/mnt/a2/AH007/2022-03-28/4/AH007_ROI3p33um_NOSCREEN_-400um_00001_00024.tif',\n",
       " '/mnt/a2/AH007/2022-03-28/4/AH007_ROI3p33um_NOSCREEN_-400um_00001_00025.tif',\n",
       " '/mnt/a2/AH007/2022-03-28/4/AH007_ROI3p33um_NOSCREEN_-400um_00001_00026.tif',\n",
       " '/mnt/a2/AH007/2022-03-28/4/AH007_ROI3p33um_NOSCREEN_-400um_00001_00027.tif',\n",
       " '/mnt/a2/AH007/2022-03-28/4/AH007_ROI3p33um_NOSCREEN_-400um_00001_00028.tif',\n",
       " '/mnt/a2/AH007/2022-03-28/4/AH007_ROI3p33um_NOSCREEN_-400um_00001_00029.tif',\n",
       " '/mnt/a2/AH007/2022-03-28/4/AH007_ROI3p33um_NOSCREEN_-400um_00001_00030.tif',\n",
       " '/mnt/a2/AH007/2022-03-28/4/AH007_ROI3p33um_NOSCREEN_-400um_00001_00031.tif',\n",
       " '/mnt/a2/AH007/2022-03-28/4/AH007_ROI3p33um_NOSCREEN_-400um_00001_00032.tif',\n",
       " '/mnt/a2/AH007/2022-03-28/4/AH007_ROI3p33um_NOSCREEN_-400um_00001_00033.tif',\n",
       " '/mnt/a2/AH007/2022-03-28/4/AH007_ROI3p33um_NOSCREEN_-400um_00001_00034.tif',\n",
       " '/mnt/a2/AH007/2022-03-28/4/AH007_ROI3p33um_NOSCREEN_-400um_00001_00035.tif',\n",
       " '/mnt/a2/AH007/2022-03-28/5/AH007_ROI3p33um_NOSCREEN_-400um_00001_00001.tif',\n",
       " '/mnt/a2/AH007/2022-03-28/5/AH007_ROI3p33um_NOSCREEN_-400um_00001_00002.tif',\n",
       " '/mnt/a2/AH007/2022-03-28/5/AH007_ROI3p33um_NOSCREEN_-400um_00001_00003.tif',\n",
       " '/mnt/a2/AH007/2022-03-28/5/AH007_ROI3p33um_NOSCREEN_-400um_00001_00004.tif',\n",
       " '/mnt/a2/AH007/2022-03-28/5/AH007_ROI3p33um_NOSCREEN_-400um_00001_00005.tif',\n",
       " '/mnt/a2/AH007/2022-03-28/5/AH007_ROI3p33um_NOSCREEN_-400um_00001_00006.tif',\n",
       " '/mnt/a2/AH007/2022-03-28/5/AH007_ROI3p33um_NOSCREEN_-400um_00001_00007.tif',\n",
       " '/mnt/a2/AH007/2022-03-28/5/AH007_ROI3p33um_NOSCREEN_-400um_00001_00008.tif',\n",
       " '/mnt/a2/AH007/2022-03-28/5/AH007_ROI3p33um_NOSCREEN_-400um_00001_00009.tif',\n",
       " '/mnt/a2/AH007/2022-03-28/5/AH007_ROI3p33um_NOSCREEN_-400um_00001_00010.tif',\n",
       " '/mnt/a2/AH007/2022-03-28/5/AH007_ROI3p33um_NOSCREEN_-400um_00001_00011.tif',\n",
       " '/mnt/a2/AH007/2022-03-28/5/AH007_ROI3p33um_NOSCREEN_-400um_00001_00012.tif',\n",
       " '/mnt/a2/AH007/2022-03-28/5/AH007_ROI3p33um_NOSCREEN_-400um_00001_00013.tif',\n",
       " '/mnt/a2/AH007/2022-03-28/5/AH007_ROI3p33um_NOSCREEN_-400um_00001_00014.tif',\n",
       " '/mnt/a2/AH007/2022-03-28/5/AH007_ROI3p33um_NOSCREEN_-400um_00001_00015.tif',\n",
       " '/mnt/a2/AH007/2022-03-28/5/AH007_ROI3p33um_NOSCREEN_-400um_00001_00016.tif',\n",
       " '/mnt/a2/AH007/2022-03-28/5/AH007_ROI3p33um_NOSCREEN_-400um_00001_00017.tif',\n",
       " '/mnt/a2/AH007/2022-03-28/5/AH007_ROI3p33um_NOSCREEN_-400um_00001_00018.tif',\n",
       " '/mnt/a2/AH007/2022-03-28/5/AH007_ROI3p33um_NOSCREEN_-400um_00001_00019.tif',\n",
       " '/mnt/a2/AH007/2022-03-28/5/AH007_ROI3p33um_NOSCREEN_-400um_00001_00020.tif',\n",
       " '/mnt/a2/AH007/2022-03-28/5/AH007_ROI3p33um_NOSCREEN_-400um_00001_00021.tif',\n",
       " '/mnt/a2/AH007/2022-03-28/5/AH007_ROI3p33um_NOSCREEN_-400um_00001_00022.tif',\n",
       " '/mnt/a2/AH007/2022-03-28/5/AH007_ROI3p33um_NOSCREEN_-400um_00001_00023.tif',\n",
       " '/mnt/a2/AH007/2022-03-28/5/AH007_ROI3p33um_NOSCREEN_-400um_00001_00024.tif',\n",
       " '/mnt/a2/AH007/2022-03-28/5/AH007_ROI3p33um_NOSCREEN_-400um_00001_00025.tif',\n",
       " '/mnt/a2/AH007/2022-03-28/5/AH007_ROI3p33um_NOSCREEN_-400um_00001_00026.tif',\n",
       " '/mnt/a2/AH007/2022-03-28/5/AH007_ROI3p33um_NOSCREEN_-400um_00001_00027.tif',\n",
       " '/mnt/a2/AH007/2022-03-28/5/AH007_ROI3p33um_NOSCREEN_-400um_00001_00028.tif',\n",
       " '/mnt/a2/AH007/2022-03-28/5/AH007_ROI3p33um_NOSCREEN_-400um_00001_00029.tif',\n",
       " '/mnt/a2/AH007/2022-03-28/5/AH007_ROI3p33um_NOSCREEN_-400um_00001_00030.tif',\n",
       " '/mnt/a2/AH007/2022-03-28/5/AH007_ROI3p33um_NOSCREEN_-400um_00001_00031.tif',\n",
       " '/mnt/a2/AH007/2022-03-28/5/AH007_ROI3p33um_NOSCREEN_-400um_00001_00032.tif',\n",
       " '/mnt/a2/AH007/2022-03-28/5/AH007_ROI3p33um_NOSCREEN_-400um_00001_00033.tif']"
      ]
     },
     "execution_count": 108,
     "metadata": {},
     "output_type": "execute_result"
    }
   ],
   "source": [
    "job.tifs"
   ]
  },
  {
   "cell_type": "code",
   "execution_count": null,
   "id": "4a2f1048",
   "metadata": {},
   "outputs": [],
   "source": []
  },
  {
   "cell_type": "code",
   "execution_count": null,
   "id": "b0be472a",
   "metadata": {},
   "outputs": [],
   "source": []
  },
  {
   "cell_type": "code",
   "execution_count": 75,
   "id": "12efeeb5",
   "metadata": {},
   "outputs": [
    {
     "data": {
      "text/plain": [
       "['/mnt/md0/runs/s3d-AH007_2022-03-28_2-4-5/registered_data/reg_data0000.npy',\n",
       " '/mnt/md0/runs/s3d-AH007_2022-03-28_2-4-5/registered_data/reg_data0001.npy',\n",
       " '/mnt/md0/runs/s3d-AH007_2022-03-28_2-4-5/registered_data/reg_data0002.npy',\n",
       " '/mnt/md0/runs/s3d-AH007_2022-03-28_2-4-5/registered_data/reg_data0003.npy',\n",
       " '/mnt/md0/runs/s3d-AH007_2022-03-28_2-4-5/registered_data/reg_data0004.npy',\n",
       " '/mnt/md0/runs/s3d-AH007_2022-03-28_2-4-5/registered_data/reg_data0005.npy',\n",
       " '/mnt/md0/runs/s3d-AH007_2022-03-28_2-4-5/registered_data/reg_data0006.npy',\n",
       " '/mnt/md0/runs/s3d-AH007_2022-03-28_2-4-5/registered_data/reg_data0007.npy',\n",
       " '/mnt/md0/runs/s3d-AH007_2022-03-28_2-4-5/registered_data/reg_data0008.npy',\n",
       " '/mnt/md0/runs/s3d-AH007_2022-03-28_2-4-5/registered_data/reg_data0009.npy',\n",
       " '/mnt/md0/runs/s3d-AH007_2022-03-28_2-4-5/registered_data/reg_data0010.npy',\n",
       " '/mnt/md0/runs/s3d-AH007_2022-03-28_2-4-5/registered_data/reg_data0011.npy',\n",
       " '/mnt/md0/runs/s3d-AH007_2022-03-28_2-4-5/registered_data/reg_data0012.npy',\n",
       " '/mnt/md0/runs/s3d-AH007_2022-03-28_2-4-5/registered_data/reg_data0013.npy',\n",
       " '/mnt/md0/runs/s3d-AH007_2022-03-28_2-4-5/registered_data/reg_data0014.npy',\n",
       " '/mnt/md0/runs/s3d-AH007_2022-03-28_2-4-5/registered_data/reg_data0015.npy',\n",
       " '/mnt/md0/runs/s3d-AH007_2022-03-28_2-4-5/registered_data/reg_data0016.npy',\n",
       " '/mnt/md0/runs/s3d-AH007_2022-03-28_2-4-5/registered_data/reg_data0017.npy',\n",
       " '/mnt/md0/runs/s3d-AH007_2022-03-28_2-4-5/registered_data/reg_data0018.npy',\n",
       " '/mnt/md0/runs/s3d-AH007_2022-03-28_2-4-5/registered_data/reg_data0019.npy',\n",
       " '/mnt/md0/runs/s3d-AH007_2022-03-28_2-4-5/registered_data/reg_data0020.npy',\n",
       " '/mnt/md0/runs/s3d-AH007_2022-03-28_2-4-5/registered_data/reg_data0021.npy',\n",
       " '/mnt/md0/runs/s3d-AH007_2022-03-28_2-4-5/registered_data/reg_data0022.npy',\n",
       " '/mnt/md0/runs/s3d-AH007_2022-03-28_2-4-5/registered_data/reg_data0023.npy',\n",
       " '/mnt/md0/runs/s3d-AH007_2022-03-28_2-4-5/registered_data/reg_data0024.npy',\n",
       " '/mnt/md0/runs/s3d-AH007_2022-03-28_2-4-5/registered_data/reg_data0025.npy',\n",
       " '/mnt/md0/runs/s3d-AH007_2022-03-28_2-4-5/registered_data/reg_data0026.npy',\n",
       " '/mnt/md0/runs/s3d-AH007_2022-03-28_2-4-5/registered_data/reg_data0027.npy',\n",
       " '/mnt/md0/runs/s3d-AH007_2022-03-28_2-4-5/registered_data/reg_data0028.npy',\n",
       " '/mnt/md0/runs/s3d-AH007_2022-03-28_2-4-5/registered_data/reg_data0029.npy',\n",
       " '/mnt/md0/runs/s3d-AH007_2022-03-28_2-4-5/registered_data/reg_data0030.npy',\n",
       " '/mnt/md0/runs/s3d-AH007_2022-03-28_2-4-5/registered_data/reg_data0031.npy',\n",
       " '/mnt/md0/runs/s3d-AH007_2022-03-28_2-4-5/registered_data/reg_data0032.npy',\n",
       " '/mnt/md0/runs/s3d-AH007_2022-03-28_2-4-5/registered_data/reg_data0033.npy',\n",
       " '/mnt/md0/runs/s3d-AH007_2022-03-28_2-4-5/registered_data/reg_data0034.npy',\n",
       " '/mnt/md0/runs/s3d-AH007_2022-03-28_2-4-5/registered_data/reg_data0035.npy',\n",
       " '/mnt/md0/runs/s3d-AH007_2022-03-28_2-4-5/registered_data/reg_data0036.npy',\n",
       " '/mnt/md0/runs/s3d-AH007_2022-03-28_2-4-5/registered_data/reg_data0037.npy',\n",
       " '/mnt/md0/runs/s3d-AH007_2022-03-28_2-4-5/registered_data/reg_data0038.npy',\n",
       " '/mnt/md0/runs/s3d-AH007_2022-03-28_2-4-5/registered_data/reg_data0039.npy',\n",
       " '/mnt/md0/runs/s3d-AH007_2022-03-28_2-4-5/registered_data/reg_data0040.npy',\n",
       " '/mnt/md0/runs/s3d-AH007_2022-03-28_2-4-5/registered_data/reg_data0041.npy',\n",
       " '/mnt/md0/runs/s3d-AH007_2022-03-28_2-4-5/registered_data/reg_data0042.npy',\n",
       " '/mnt/md0/runs/s3d-AH007_2022-03-28_2-4-5/registered_data/reg_data0043.npy',\n",
       " '/mnt/md0/runs/s3d-AH007_2022-03-28_2-4-5/registered_data/reg_data0044.npy',\n",
       " '/mnt/md0/runs/s3d-AH007_2022-03-28_2-4-5/registered_data/reg_data0045.npy',\n",
       " '/mnt/md0/runs/s3d-AH007_2022-03-28_2-4-5/registered_data/reg_data0046.npy',\n",
       " '/mnt/md0/runs/s3d-AH007_2022-03-28_2-4-5/registered_data/reg_data0047.npy',\n",
       " '/mnt/md0/runs/s3d-AH007_2022-03-28_2-4-5/registered_data/reg_data0048.npy',\n",
       " '/mnt/md0/runs/s3d-AH007_2022-03-28_2-4-5/registered_data/reg_data0049.npy',\n",
       " '/mnt/md0/runs/s3d-AH007_2022-03-28_2-4-5/registered_data/reg_data0050.npy',\n",
       " '/mnt/md0/runs/s3d-AH007_2022-03-28_2-4-5/registered_data/reg_data0051.npy',\n",
       " '/mnt/md0/runs/s3d-AH007_2022-03-28_2-4-5/registered_data/reg_data0052.npy',\n",
       " '/mnt/md0/runs/s3d-AH007_2022-03-28_2-4-5/registered_data/reg_data0053.npy',\n",
       " '/mnt/md0/runs/s3d-AH007_2022-03-28_2-4-5/registered_data/reg_data0054.npy',\n",
       " '/mnt/md0/runs/s3d-AH007_2022-03-28_2-4-5/registered_data/reg_data0055.npy',\n",
       " '/mnt/md0/runs/s3d-AH007_2022-03-28_2-4-5/registered_data/reg_data0056.npy',\n",
       " '/mnt/md0/runs/s3d-AH007_2022-03-28_2-4-5/registered_data/reg_data0057.npy',\n",
       " '/mnt/md0/runs/s3d-AH007_2022-03-28_2-4-5/registered_data/reg_data0058.npy',\n",
       " '/mnt/md0/runs/s3d-AH007_2022-03-28_2-4-5/registered_data/reg_data0059.npy',\n",
       " '/mnt/md0/runs/s3d-AH007_2022-03-28_2-4-5/registered_data/reg_data0060.npy',\n",
       " '/mnt/md0/runs/s3d-AH007_2022-03-28_2-4-5/registered_data/reg_data0061.npy',\n",
       " '/mnt/md0/runs/s3d-AH007_2022-03-28_2-4-5/registered_data/reg_data0062.npy',\n",
       " '/mnt/md0/runs/s3d-AH007_2022-03-28_2-4-5/registered_data/reg_data0063.npy',\n",
       " '/mnt/md0/runs/s3d-AH007_2022-03-28_2-4-5/registered_data/reg_data0064.npy',\n",
       " '/mnt/md0/runs/s3d-AH007_2022-03-28_2-4-5/registered_data/reg_data0065.npy',\n",
       " '/mnt/md0/runs/s3d-AH007_2022-03-28_2-4-5/registered_data/reg_data0066.npy',\n",
       " '/mnt/md0/runs/s3d-AH007_2022-03-28_2-4-5/registered_data/reg_data0067.npy',\n",
       " '/mnt/md0/runs/s3d-AH007_2022-03-28_2-4-5/registered_data/reg_data0068.npy',\n",
       " '/mnt/md0/runs/s3d-AH007_2022-03-28_2-4-5/registered_data/reg_data0069.npy',\n",
       " '/mnt/md0/runs/s3d-AH007_2022-03-28_2-4-5/registered_data/reg_data0070.npy',\n",
       " '/mnt/md0/runs/s3d-AH007_2022-03-28_2-4-5/registered_data/reg_data0071.npy',\n",
       " '/mnt/md0/runs/s3d-AH007_2022-03-28_2-4-5/registered_data/reg_data0072.npy',\n",
       " '/mnt/md0/runs/s3d-AH007_2022-03-28_2-4-5/registered_data/reg_data0073.npy',\n",
       " '/mnt/md0/runs/s3d-AH007_2022-03-28_2-4-5/registered_data/reg_data0074.npy',\n",
       " '/mnt/md0/runs/s3d-AH007_2022-03-28_2-4-5/registered_data/reg_data0075.npy',\n",
       " '/mnt/md0/runs/s3d-AH007_2022-03-28_2-4-5/registered_data/reg_data0076.npy',\n",
       " '/mnt/md0/runs/s3d-AH007_2022-03-28_2-4-5/registered_data/reg_data0077.npy',\n",
       " '/mnt/md0/runs/s3d-AH007_2022-03-28_2-4-5/registered_data/reg_data0078.npy',\n",
       " '/mnt/md0/runs/s3d-AH007_2022-03-28_2-4-5/registered_data/reg_data0079.npy',\n",
       " '/mnt/md0/runs/s3d-AH007_2022-03-28_2-4-5/registered_data/reg_data0080.npy',\n",
       " '/mnt/md0/runs/s3d-AH007_2022-03-28_2-4-5/registered_data/reg_data0081.npy',\n",
       " '/mnt/md0/runs/s3d-AH007_2022-03-28_2-4-5/registered_data/reg_data0082.npy',\n",
       " '/mnt/md0/runs/s3d-AH007_2022-03-28_2-4-5/registered_data/reg_data0083.npy',\n",
       " '/mnt/md0/runs/s3d-AH007_2022-03-28_2-4-5/registered_data/reg_data0084.npy',\n",
       " '/mnt/md0/runs/s3d-AH007_2022-03-28_2-4-5/registered_data/reg_data0085.npy',\n",
       " '/mnt/md0/runs/s3d-AH007_2022-03-28_2-4-5/registered_data/reg_data0086.npy',\n",
       " '/mnt/md0/runs/s3d-AH007_2022-03-28_2-4-5/registered_data/reg_data0087.npy',\n",
       " '/mnt/md0/runs/s3d-AH007_2022-03-28_2-4-5/registered_data/reg_data0088.npy',\n",
       " '/mnt/md0/runs/s3d-AH007_2022-03-28_2-4-5/registered_data/reg_data0089.npy',\n",
       " '/mnt/md0/runs/s3d-AH007_2022-03-28_2-4-5/registered_data/reg_data0090.npy',\n",
       " '/mnt/md0/runs/s3d-AH007_2022-03-28_2-4-5/registered_data/reg_data0091.npy',\n",
       " '/mnt/md0/runs/s3d-AH007_2022-03-28_2-4-5/registered_data/reg_data0092.npy',\n",
       " '/mnt/md0/runs/s3d-AH007_2022-03-28_2-4-5/registered_data/reg_data0093.npy',\n",
       " '/mnt/md0/runs/s3d-AH007_2022-03-28_2-4-5/registered_data/reg_data0094.npy',\n",
       " '/mnt/md0/runs/s3d-AH007_2022-03-28_2-4-5/registered_data/reg_data0095.npy',\n",
       " '/mnt/md0/runs/s3d-AH007_2022-03-28_2-4-5/registered_data/reg_data0096.npy',\n",
       " '/mnt/md0/runs/s3d-AH007_2022-03-28_2-4-5/registered_data/reg_data0097.npy',\n",
       " '/mnt/md0/runs/s3d-AH007_2022-03-28_2-4-5/registered_data/reg_data0098.npy',\n",
       " '/mnt/md0/runs/s3d-AH007_2022-03-28_2-4-5/registered_data/reg_data0099.npy',\n",
       " '/mnt/md0/runs/s3d-AH007_2022-03-28_2-4-5/registered_data/reg_data0100.npy',\n",
       " '/mnt/md0/runs/s3d-AH007_2022-03-28_2-4-5/registered_data/reg_data0101.npy',\n",
       " '/mnt/md0/runs/s3d-AH007_2022-03-28_2-4-5/registered_data/reg_data0102.npy']"
      ]
     },
     "execution_count": 75,
     "metadata": {},
     "output_type": "execute_result"
    }
   ],
   "source": [
    "job.get_registered_files('registered_data', 'reg_data')"
   ]
  },
  {
   "cell_type": "code",
   "execution_count": null,
   "id": "b956dfce",
   "metadata": {},
   "outputs": [],
   "source": []
  }
 ],
 "metadata": {
  "kernelspec": {
   "display_name": "s2p-lbm",
   "language": "python",
   "name": "s2p-lbm"
  },
  "language_info": {
   "codemirror_mode": {
    "name": "ipython",
    "version": 3
   },
   "file_extension": ".py",
   "mimetype": "text/x-python",
   "name": "python",
   "nbconvert_exporter": "python",
   "pygments_lexer": "ipython3",
   "version": "3.8.17"
  }
 },
 "nbformat": 4,
 "nbformat_minor": 5
}
