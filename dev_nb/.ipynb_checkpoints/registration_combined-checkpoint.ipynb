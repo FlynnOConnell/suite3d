{
 "cells": [
  {
   "cell_type": "code",
   "execution_count": 49,
   "id": "dff51d5e",
   "metadata": {},
   "outputs": [
    {
     "name": "stdout",
     "output_type": "stream",
     "text": [
      "The autoreload extension is already loaded. To reload it, use:\n",
      "  %reload_ext autoreload\n"
     ]
    }
   ],
   "source": [
    "%load_ext autoreload\n",
    "%autoreload 2\n",
    "\n",
    "import os \n",
    "import shutil\n",
    "import numpy as n\n",
    "from datetime import date\n",
    "from matplotlib import pyplot as plt\n",
    "import time\n",
    "import napari"
   ]
  },
  {
   "cell_type": "code",
   "execution_count": 50,
   "id": "51d1964f",
   "metadata": {},
   "outputs": [],
   "source": [
    "os.chdir('/home/ali/packages/s2p-lbm/')\n",
    "\n",
    "from suite3d.job import Job\n",
    "from suite3d import lbmio, utils, ui\n",
    "from suite3d import tiff_utils as tfu\n",
    "from suite3d import file_utils as flu"
   ]
  },
  {
   "cell_type": "code",
   "execution_count": 51,
   "id": "604964d7",
   "metadata": {},
   "outputs": [],
   "source": [
    "from mkl_fft import fftn, ifftn\n",
    "import cupy as cp\n",
    "import cupyx.scipy.fft as cufft\n",
    "import scipy.fft\n",
    "import cupyx.scipy.ndimage as cuimage"
   ]
  },
  {
   "cell_type": "code",
   "execution_count": 52,
   "id": "9a79590f",
   "metadata": {},
   "outputs": [
    {
     "name": "stdout",
     "output_type": "stream",
     "text": [
      "   Found and loaded params from /mnt/md0/runs/s3d-AH007_2022-03-28_2-4-5/params.npy\n",
      "SI ROI pix count in x is 182, which is impossible, setting it to 145\n"
     ]
    }
   ],
   "source": [
    "# Create the job\n",
    "job = Job('/mnt/md0/runs','AH007_2022-03-28_2-4-5', create=False, overwrite=False, verbosity = 10)\n",
    "tifs, si_params, exp_str = flu.find_exp(job.params['subjects_dir'], job.params['subject'],\n",
    "                                        job.params['date'], job.params['expnum'])\n",
    "\n",
    "exp_dir = flu.find_expt_file((job.params['subject'], job.params['date'], job.params['expnum'][0]),\n",
    "                         'root', dirs=[job.params['subjects_dir']])\n",
    "offset_files = job.get_registered_files('registered_data', 'offset')"
   ]
  },
  {
   "cell_type": "code",
   "execution_count": 53,
   "id": "22626584",
   "metadata": {},
   "outputs": [],
   "source": [
    "cz = (0,25)\n",
    "ct = (0, 10)\n",
    "cy = (None,None)\n",
    "cx = (None,None)"
   ]
  },
  {
   "cell_type": "code",
   "execution_count": 54,
   "id": "e005746f",
   "metadata": {},
   "outputs": [],
   "source": [
    "summary = job.load_summary()\n",
    "min_pix_vals = summary['min_pix_vals']\n",
    "crosstalk_coeff = summary['crosstalk_coeff']\n",
    "refs_and_masks = summary['refs_and_masks']\n",
    "all_ops = summary['all_ops']"
   ]
  },
  {
   "cell_type": "code",
   "execution_count": 55,
   "id": "2c742754",
   "metadata": {},
   "outputs": [
    {
     "name": "stdout",
     "output_type": "stream",
     "text": [
      "Loading /mnt/a2/AH007/2022-03-28/2/AH007_ROI3p33um_NOSCREEN_-400um_00001_00001.tif\n",
      "Loaded 1 files, total 1.48 GB\n"
     ]
    }
   ],
   "source": [
    "mov_raw = lbmio.load_and_stitch_tifs(job.tifs[:1], planes = n.arange(cz[0],cz[1]))[:,:,cy[0]:cy[1], cx[0]:cx[1]]\n",
    "mov_raw = mov_raw[:,ct[0]:ct[1]]\n",
    "mov_pos = mov_raw - min_pix_vals.reshape(len(min_pix_vals), 1, 1, 1)[cz[0]:cz[1],].astype(mov_raw.dtype)"
   ]
  },
  {
   "cell_type": "code",
   "execution_count": 56,
   "id": "638c1a65",
   "metadata": {},
   "outputs": [],
   "source": [
    "from suite3d import iter_step"
   ]
  },
  {
   "cell_type": "code",
   "execution_count": 57,
   "id": "1e114f3b",
   "metadata": {},
   "outputs": [
    {
     "data": {
      "text/plain": [
       "dtype('int16')"
      ]
     },
     "execution_count": 57,
     "metadata": {},
     "output_type": "execute_result"
    }
   ],
   "source": [
    "mov_pos.dtype"
   ]
  },
  {
   "cell_type": "code",
   "execution_count": 71,
   "id": "4d4d28b3",
   "metadata": {},
   "outputs": [
    {
     "data": {
      "text/plain": [
       "(25, 10, 1202, 1015)"
      ]
     },
     "execution_count": 71,
     "metadata": {},
     "output_type": "execute_result"
    }
   ],
   "source": []
  },
  {
   "cell_type": "code",
   "execution_count": 72,
   "id": "47991c73",
   "metadata": {
    "scrolled": true
   },
   "outputs": [
    {
     "name": "stdout",
     "output_type": "stream",
     "text": [
      "Subtracting plane 1 from 16\n",
      "Subtracting plane 2 from 17\n",
      "Subtracting plane 3 from 18\n",
      "Subtracting plane 4 from 19\n",
      "Subtracting plane 5 from 20\n",
      "Subtracting plane 6 from 21\n",
      "Subtracting plane 7 from 22\n",
      "Subtracting plane 8 from 23\n",
      "Subtracting plane 9 from 24\n",
      "Registering plane 0\n",
      "Registering plane 1\n",
      "Registering plane 2\n",
      "Registering plane 3\n",
      "Registering plane 4\n",
      "Registering plane 5\n",
      "Registering plane 6\n",
      "Registering plane 7\n",
      "Registering plane 8\n",
      "Registering plane 9\n",
      "Registering plane 10\n",
      "Registering plane 11\n",
      "Registering plane 12\n",
      "Registering plane 13\n",
      "Registering plane 14\n",
      "Registering plane 15\n",
      "Registering plane 16\n",
      "Registering plane 17\n",
      "Registering plane 18\n",
      "Registering plane 19\n",
      "Registering plane 20\n",
      "Registering plane 21\n",
      "Registering plane 22\n",
      "Registering plane 23\n",
      "Registering plane 24\n",
      "CPU times: user 2min 37s, sys: 3min 36s, total: 6min 14s\n",
      "Wall time: 8.62 s\n"
     ]
    }
   ],
   "source": [
    "%%time\n",
    "shmem_mov,shmem_mov_params, mov = utils.create_shmem_from_arr(mov_pos, copy=True)\n",
    "__ = iter_step.subtract_crosstalk(shmem_mov_params, crosstalk_coeff, planes = n.arange(*cz))\n",
    "all_offsets = iter_step.register_mov(mov,refs_and_masks, all_ops)\n",
    "mov_out_cpu = mov.copy()\n",
    "shmem_mov.close()\n",
    "shmem_mov.unlink()"
   ]
  },
  {
   "cell_type": "code",
   "execution_count": 112,
   "id": "b5ae9136",
   "metadata": {},
   "outputs": [],
   "source": [
    "xmaxs_rr_cpu = n.stack(all_offsets['xms'],axis=0)\n",
    "ymaxs_rr_cpu = n.stack(all_offsets['yms'],axis=0)\n",
    "xmaxs_nr_cpu = n.stack(all_offsets['xm1s'],axis=1)\n",
    "ymaxs_nr_cpu = n.stack(all_offsets['ym1s'],axis=1)"
   ]
  },
  {
   "cell_type": "code",
   "execution_count": 74,
   "id": "2788bf8b",
   "metadata": {},
   "outputs": [
    {
     "name": "stdout",
     "output_type": "stream",
     "text": [
      "CPU times: user 689 ms, sys: 481 ms, total: 1.17 s\n",
      "Wall time: 1.17 s\n"
     ]
    }
   ],
   "source": [
    "%%time\n",
    "mask_mul, mask_offset, ref_2ds = n.stack([r[:3] for r in refs_and_masks],axis=1)[:,cz[0]:cz[1], cy[0]:cy[1], cx[0]:cx[1]]\n",
    "mask_mul_nr, mask_offset_nr, ref_nr = n.stack([r[3:] for r in refs_and_masks],axis=1)[:,cz[0]:cz[1], cy[0]:cy[1], cx[0]:cx[1]]\n",
    "rmins = n.array([op['rmin'] for op in all_ops])\n",
    "rmaxs = n.array([op['rmax'] for op in all_ops])"
   ]
  },
  {
   "cell_type": "code",
   "execution_count": 75,
   "id": "46f444e3",
   "metadata": {},
   "outputs": [],
   "source": [
    "ops = all_ops[0]\n",
    "snr_thresh = ops['snr_thresh']\n",
    "NRsm = ops['NRsm'].astype(n.float32)\n",
    "yblocks, xblocks = ops['yblock'], ops['xblock']\n",
    "nblocks = ops['nblocks']\n",
    "max_shift = 5\n",
    "subpixel = 10\n",
    "n_smooth_iters = 2\n",
    "npad = 3"
   ]
  },
  {
   "cell_type": "code",
   "execution_count": 76,
   "id": "9d8536bb",
   "metadata": {},
   "outputs": [],
   "source": [
    "from suite3d import register_gpu as rgpu \n",
    "from suite2p.registration import nonrigid as s2pnr\n",
    "from suite2p.registration import rigid as s2prr"
   ]
  },
  {
   "cell_type": "code",
   "execution_count": 77,
   "id": "23b5b0a7",
   "metadata": {},
   "outputs": [],
   "source": [
    "mempool = cp.get_default_memory_pool()"
   ]
  },
  {
   "cell_type": "code",
   "execution_count": 90,
   "id": "0a5b7d0c",
   "metadata": {},
   "outputs": [],
   "source": []
  },
  {
   "cell_type": "code",
   "execution_count": 94,
   "id": "00469c6f",
   "metadata": {
    "scrolled": true
   },
   "outputs": [
    {
     "name": "stdout",
     "output_type": "stream",
     "text": [
      "Loaded mov and masks to GPU for rigid reg in 0.73 sec\n",
      "Subtracting crosstalk\n",
      "Allocating memory for shifted movie\n",
      "GPU RAM: 8 blocks allocated, 5.23 / 5.77 GB used\n",
      "Registering plane 0\n",
      "Shifting plane 0\n",
      "Registering plane 1\n",
      "Shifting plane 1\n",
      "Registering plane 2\n",
      "Shifting plane 2\n",
      "Registering plane 3\n",
      "Shifting plane 3\n",
      "Registering plane 4\n",
      "Shifting plane 4\n",
      "Registering plane 5\n",
      "Shifting plane 5\n",
      "Registering plane 6\n",
      "Shifting plane 6\n",
      "Registering plane 7\n",
      "Shifting plane 7\n",
      "Registering plane 8\n",
      "Shifting plane 8\n",
      "Registering plane 9\n",
      "Shifting plane 9\n",
      "Registering plane 10\n",
      "Shifting plane 10\n",
      "Registering plane 11\n",
      "Shifting plane 11\n",
      "Registering plane 12\n",
      "Shifting plane 12\n",
      "Registering plane 13\n",
      "Shifting plane 13\n",
      "Registering plane 14\n",
      "Shifting plane 14\n",
      "Registering plane 15\n",
      "Shifting plane 15\n",
      "Registering plane 16\n",
      "Shifting plane 16\n",
      "Registering plane 17\n",
      "Shifting plane 17\n",
      "Registering plane 18\n",
      "Shifting plane 18\n",
      "Registering plane 19\n",
      "Shifting plane 19\n",
      "Registering plane 20\n",
      "Shifting plane 20\n",
      "Registering plane 21\n",
      "Shifting plane 21\n",
      "Registering plane 22\n",
      "Shifting plane 22\n",
      "Registering plane 23\n",
      "Shifting plane 23\n",
      "Registering plane 24\n",
      "Shifting plane 24\n",
      "Registered batch in 0.01 sec\n",
      "Shifted batch in 0.30 sec\n",
      "GPU RAM: 8 blocks allocated, 5.23 / 5.77 GB used\n",
      "Allocated GPU array for non-rigid reg in 0.16 sec\n",
      "Blocked movie is 5.49GB\n",
      "GPU RAM: 7 blocks allocated, 8.28 / 8.99 GB used\n",
      "Clipped movie in 0.00 sec\n",
      "Split movie into blocks in 0.00 sec\n",
      "Completed FFT of blocks and computed phase correlations in 0.13 sec\n",
      "Iter 0: 22035/45000 blocks below SNR thresh\n",
      "Iter 1: 12454/45000 blocks below SNR thresh\n",
      "Iter 1: 9228/45000 blocks below SNR thresh\n",
      "Computed SNR and smoothed phase corrs in 0.17 sec\n",
      "Computed subpixel shifts in 0.02 sec\n",
      "GPU RAM: 9 blocks allocated, 8.38 / 8.99 GB used\n",
      "CPU times: user 9.48 s, sys: 833 ms, total: 10.3 s\n",
      "Wall time: 3.34 s\n"
     ]
    }
   ],
   "source": [
    "%%time\n",
    "mov_shifted, ymaxs_rr, xmaxs_rr = rgpu.rigid_2d_reg_gpu(mov_pos, mask_mul, mask_offset, ref_2ds, shift=True,\n",
    "                                                 max_reg_xy = 50, rmins=rmins, rmaxs=rmaxs, crosstalk_coeff=crosstalk_coeff)\n",
    "nt,nz,ny,nx = mov_shifted.shape\n",
    "mempool.free_all_blocks()\n",
    "ymaxs_nr, xmaxs_nr, snrs = rgpu.nonrigid_2d_reg_gpu(mov_shifted, mask_mul_nr[:,:,0], mask_offset_nr[:,:,0], ref_nr[:,:,0], \n",
    "                                              yblocks, xblocks, snr_thresh, NRsm, rmins, rmaxs, max_shift=max_shift, \n",
    "                                              npad=npad, n_smooth_iters=n_smooth_iters, subpixel = subpixel)\n",
    "ymaxs_nr_gpu = ymaxs_nr.get()\n",
    "xmaxs_nr_gpu = xmaxs_nr.get()\n",
    "ymaxs_rr_gpu = ymaxs_rr.get(); \n",
    "xmaxs_rr_gpu = xmaxs_rr.get()\n",
    "mov_cpu = mov_shifted.get()\n",
    "mov_out_gpu = n.zeros_like(mov_cpu)\n",
    "for zidx in range(nz):\n",
    "    mov_out_gpu[:,zidx] = s2pnr.transform_data(mov_cpu[:,zidx], nblocks, xblock=xblocks, yblock=yblocks, \n",
    "                                       ymax1=ymaxs_nr_gpu[:,zidx], xmax1=xmaxs_nr_gpu[:,zidx])\n",
    "mempool.free_all_blocks()"
   ]
  },
  {
   "cell_type": "code",
   "execution_count": 124,
   "id": "681001c4",
   "metadata": {},
   "outputs": [
    {
     "data": {
      "text/plain": [
       "(None, <Axes: >, <matplotlib.image.AxesImage at 0x7f9b89901580>)"
      ]
     },
     "execution_count": 124,
     "metadata": {},
     "output_type": "execute_result"
    },
    {
     "data": {
      "image/png": "[encoded data removed]",
      "text/plain": [
       "<Figure size 640x480 with 4 Axes>"
      ]
     },
     "metadata": {},
     "output_type": "display_data"
    }
   ],
   "source": [
    "f,axs = plt.subplots(1,4)\n",
    "vx0 = (0,50)\n",
    "tfu.show_tif(xmaxs_rr_gpu,ax=axs[0], vminmax=vx0)\n",
    "tfu.show_tif(xmaxs_rr_cpu,ax=axs[1], vminmax=vx0)\n",
    "vx1 = (-2,2)\n",
    "tfu.show_tif(xmaxs_rr_gpu-xmaxs_rr_gpu.mean(axis=1,keepdims=True),ax=axs[0+2], vminmax=vx1)\n",
    "tfu.show_tif(xmaxs_rr_cpu-xmaxs_rr_cpu.mean(axis=1,keepdims=True),ax=axs[1+2], vminmax=vx1)"
   ]
  },
  {
   "cell_type": "code",
   "execution_count": 148,
   "id": "8e56f9e6",
   "metadata": {},
   "outputs": [
    {
     "data": {
      "text/plain": [
       "(None, <Axes: >, <matplotlib.image.AxesImage at 0x7f9b23803ca0>)"
      ]
     },
     "execution_count": 148,
     "metadata": {},
     "output_type": "execute_result"
    },
    {
     "data": {
      "image/png": "[encoded data removed]",
      "text/plain": [
       "<Figure size 1000x400 with 3 Axes>"
      ]
     },
     "metadata": {},
     "output_type": "display_data"
    }
   ],
   "source": [
    "f,axs = plt.subplots(3,1, figsize=(10,4))\n",
    "tidx = 5\n",
    "snr_vis_thresh = 1.0\n",
    "vx0 = (-3,3)\n",
    "cmap='RdBu'\n",
    "snr_mask = (snrs > snr_vis_thresh).get().astype(float)\n",
    "tfu.show_tif(xmaxs_nr_gpu[tidx],ax=axs[0], vminmax=vx0, alpha=snr_mask[tidx], cmap=cmap)\n",
    "tfu.show_tif(xmaxs_nr_cpu[tidx],ax=axs[1], vminmax=vx0, alpha=snr_mask[tidx], cmap=cmap)\n",
    "tfu.show_tif((xmaxs_nr_cpu[tidx]-xmaxs_nr_gpu[tidx]),ax=axs[2], vminmax=vx0, alpha=snr_mask[tidx], cmap=cmap)"
   ]
  },
  {
   "cell_type": "code",
   "execution_count": null,
   "id": "06bc34a3",
   "metadata": {},
   "outputs": [],
   "source": []
  }
 ],
 "metadata": {
  "kernelspec": {
   "display_name": "s2p-lbm",
   "language": "python",
   "name": "s2p-lbm"
  },
  "language_info": {
   "codemirror_mode": {
    "name": "ipython",
    "version": 3
   },
   "file_extension": ".py",
   "mimetype": "text/x-python",
   "name": "python",
   "nbconvert_exporter": "python",
   "pygments_lexer": "ipython3",
   "version": "3.8.17"
  }
 },
 "nbformat": 4,
 "nbformat_minor": 5
}
