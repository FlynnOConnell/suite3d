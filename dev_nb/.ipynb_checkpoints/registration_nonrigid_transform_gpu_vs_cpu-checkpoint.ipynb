{
 "cells": [
  {
   "cell_type": "code",
   "execution_count": 1,
   "id": "dff51d5e",
   "metadata": {},
   "outputs": [],
   "source": [
    "%load_ext autoreload\n",
    "%autoreload 2\n",
    "\n",
    "import os \n",
    "import shutil\n",
    "import numpy as n\n",
    "from datetime import date\n",
    "from matplotlib import pyplot as plt\n",
    "import time\n",
    "import napari"
   ]
  },
  {
   "cell_type": "code",
   "execution_count": 2,
   "id": "51d1964f",
   "metadata": {},
   "outputs": [],
   "source": [
    "os.chdir('/home/ali/packages/s2p-lbm/')\n",
    "\n",
    "from suite3d.job import Job\n",
    "from suite3d import lbmio, utils, ui\n",
    "from suite3d import tiff_utils as tfu\n",
    "from suite3d import file_utils as flu"
   ]
  },
  {
   "cell_type": "code",
   "execution_count": 3,
   "id": "604964d7",
   "metadata": {},
   "outputs": [],
   "source": [
    "from mkl_fft import fftn, ifftn\n",
    "import cupy as cp\n",
    "import cupyx.scipy.fft as cufft\n",
    "import scipy.fft\n",
    "import cupyx.scipy.ndimage as cuimage"
   ]
  },
  {
   "cell_type": "code",
   "execution_count": 4,
   "id": "9a79590f",
   "metadata": {},
   "outputs": [
    {
     "name": "stdout",
     "output_type": "stream",
     "text": [
      "   Found and loaded params from /mnt/md0/runs/s3d-AH007_2022-03-28_2-4-5/params.npy\n",
      "SI ROI pix count in x is 182, which is impossible, setting it to 145\n"
     ]
    }
   ],
   "source": [
    "# Create the job\n",
    "job = Job('/mnt/md0/runs','AH007_2022-03-28_2-4-5', create=False, overwrite=False, verbosity = 10)\n",
    "tifs, si_params, exp_str = flu.find_exp(job.params['subjects_dir'], job.params['subject'],\n",
    "                                        job.params['date'], job.params['expnum'])\n",
    "\n",
    "exp_dir = flu.find_expt_file((job.params['subject'], job.params['date'], job.params['expnum'][0]),\n",
    "                         'root', dirs=[job.params['subjects_dir']])\n",
    "offset_files = job.get_registered_files('registered_data', 'offset')"
   ]
  },
  {
   "cell_type": "code",
   "execution_count": 5,
   "id": "22626584",
   "metadata": {},
   "outputs": [],
   "source": [
    "cz = (0,25)\n",
    "ct = (0, 10)\n",
    "cy = (None,None)\n",
    "cx = (None,None)"
   ]
  },
  {
   "cell_type": "code",
   "execution_count": 6,
   "id": "ddbe2bd4",
   "metadata": {},
   "outputs": [],
   "source": [
    "offsets = [n.load(f,allow_pickle=True).item() for f in offset_files]\n",
    "offset = offsets[0]\n",
    "for k,v in offset.items():\n",
    "    offset[k] = n.array(n.concatenate([o[k] for o in offsets],axis=1) )\n",
    "    offset[k] = offset[k][cz[0]:cz[1], ct[0]:ct[1]]\n",
    "dx = (offset['xms'] - n.floor(offset['xms'].mean(axis=1,keepdims=True)))[cz[0]:cz[1]]\n",
    "dy = (offset['yms'] - n.floor(offset['yms'].mean(axis=1,keepdims=True)))[cz[0]:cz[1]]"
   ]
  },
  {
   "cell_type": "code",
   "execution_count": 7,
   "id": "d993999c",
   "metadata": {},
   "outputs": [],
   "source": [
    "summary = job.load_summary()\n",
    "all_ops = summary['all_ops']\n",
    "crosstalk_coeff = summary['crosstalk_coeff']\n",
    "refs_and_masks = summary['refs_and_masks']\n",
    "ref_img = summary['ref_img_3d'][cz[0]:cz[1]]\n",
    "min_pix_vals = summary['min_pix_vals']\n",
    "mask_mul, mask_offset, ref_2ds = n.stack([r[:3] for r in refs_and_masks],axis=1)[:,cz[0]:cz[1], cy[0]:cy[1], cx[0]:cx[1]]\n",
    "mask_mul_nr, mask_offset_nr, ref_nr = n.stack([r[3:] for r in refs_and_masks],axis=1)[:,cz[0]:cz[1], cy[0]:cy[1], cx[0]:cx[1]]\n",
    "rmins = n.array([op['rmin'] for op in all_ops])\n",
    "rmaxs = n.array([op['rmax'] for op in all_ops])\n",
    "\n",
    "ops = all_ops[0]\n",
    "snr_thresh = ops['snr_thresh']\n",
    "NRsm = ops['NRsm'].astype(n.float32)\n",
    "yblocks, xblocks = ops['yblock'], ops['xblock']\n",
    "max_shift = 5\n",
    "subpixel = 10\n",
    "n_smooth_iters = 2\n",
    "npad = 3"
   ]
  },
  {
   "cell_type": "code",
   "execution_count": 8,
   "id": "ad98a969",
   "metadata": {},
   "outputs": [
    {
     "name": "stdout",
     "output_type": "stream",
     "text": [
      "Loading /mnt/a2/AH007/2022-03-28/2/AH007_ROI3p33um_NOSCREEN_-400um_00001_00001.tif\n",
      "Loaded 1 files, total 1.48 GB\n"
     ]
    }
   ],
   "source": [
    "mov_raw = lbmio.load_and_stitch_tifs(job.tifs[:1], planes = n.arange(cz[0],cz[1]))[:,:,cy[0]:cy[1], cx[0]:cx[1]]\n",
    "mov_raw = mov_raw[:,ct[0]:ct[1]]\n",
    "mov_pos = mov_raw - min_pix_vals.reshape(len(min_pix_vals), 1, 1, 1)[cz[0]:cz[1],]"
   ]
  },
  {
   "cell_type": "code",
   "execution_count": 9,
   "id": "878ef8b5",
   "metadata": {},
   "outputs": [],
   "source": [
    "# del mov_gpu\n",
    "# del mov_shifted\n",
    "mempool = cp.get_default_memory_pool()\n",
    "mempool.free_all_blocks()"
   ]
  },
  {
   "cell_type": "code",
   "execution_count": 10,
   "id": "9d8536bb",
   "metadata": {},
   "outputs": [],
   "source": [
    "from suite3d import register_gpu as rgpu \n",
    "from suite2p.registration import nonrigid as s2pnr\n",
    "from suite2p.registration import rigid as s2prr"
   ]
  },
  {
   "cell_type": "code",
   "execution_count": 11,
   "id": "bc676f98",
   "metadata": {},
   "outputs": [],
   "source": [
    "mov_shifted_cpu = mov_pos.copy()\n",
    "nz = mov_pos.shape[0]"
   ]
  },
  {
   "cell_type": "code",
   "execution_count": 26,
   "id": "0a8aac4d",
   "metadata": {},
   "outputs": [
    {
     "name": "stdout",
     "output_type": "stream",
     "text": [
      "CPU times: user 47.1 s, sys: 24.9 s, total: 1min 12s\n",
      "Wall time: 2.46 s\n"
     ]
    }
   ],
   "source": [
    "%%time\n",
    "zidx = 0\n",
    "ymaxs_rr_cpu = []; xmaxs_rr_cpu = []\n",
    "for zidx in range(nz):\n",
    "#     print(zidx)\n",
    "    ymax_cpu, xmax_cpu, __ = s2prr.phasecorr(\n",
    "        data=s2prr.apply_masks(data=mov_pos[zidx].astype(n.float32), \n",
    "                               maskMul=mask_mul[zidx].real, maskOffset=mask_offset[zidx].real),\n",
    "        cfRefImg=ref_2ds[zidx],\n",
    "        maxregshift=ops['maxregshift'],\n",
    "        smooth_sigma_time=0, convolve_method='fast_cpu',\n",
    "    )\n",
    "#     print(\"shifting\")\n",
    "    for frame, dy, dx in zip(mov_shifted_cpu[zidx], ymax_cpu, xmax_cpu):\n",
    "        frame[:] = s2prr.shift_frame(frame=frame, dy=dy, dx=dx)\n",
    "    ymaxs_rr_cpu.append(ymax_cpu); \n",
    "    xmaxs_rr_cpu.append(xmax_cpu);\n",
    "ymaxs_rr_cpu = n.array(ymaxs_rr_cpu)\n",
    "xmaxs_rr_cpu = n.array(xmaxs_rr_cpu)"
   ]
  },
  {
   "cell_type": "code",
   "execution_count": 27,
   "id": "00469c6f",
   "metadata": {},
   "outputs": [
    {
     "name": "stdout",
     "output_type": "stream",
     "text": [
      "Loaded mov and masks to GPU for rigid reg in 2.11 sec\n",
      "Subtracting crosstalk\n",
      "Allocating memory for shifted movie\n",
      "GPU RAM: 1 blocks allocated, 4.09 / 4.18 GB used\n",
      "Registering plane 0\n",
      "Shifting plane 0\n",
      "Registering plane 1\n",
      "Shifting plane 1\n",
      "Registering plane 2\n",
      "Shifting plane 2\n",
      "Registering plane 3\n",
      "Shifting plane 3\n",
      "Registering plane 4\n",
      "Shifting plane 4\n",
      "Registering plane 5\n",
      "Shifting plane 5\n",
      "Registering plane 6\n",
      "Shifting plane 6\n",
      "Registering plane 7\n",
      "Shifting plane 7\n",
      "Registering plane 8\n",
      "Shifting plane 8\n",
      "Registering plane 9\n",
      "Shifting plane 9\n",
      "Registering plane 10\n",
      "Shifting plane 10\n",
      "Registering plane 11\n",
      "Shifting plane 11\n",
      "Registering plane 12\n",
      "Shifting plane 12\n",
      "Registering plane 13\n",
      "Shifting plane 13\n",
      "Registering plane 14\n",
      "Shifting plane 14\n",
      "Registering plane 15\n",
      "Shifting plane 15\n",
      "Registering plane 16\n",
      "Shifting plane 16\n",
      "Registering plane 17\n",
      "Shifting plane 17\n",
      "Registering plane 18\n",
      "Shifting plane 18\n",
      "Registering plane 19\n",
      "Shifting plane 19\n",
      "Registering plane 20\n",
      "Shifting plane 20\n",
      "Registering plane 21\n",
      "Shifting plane 21\n",
      "Registering plane 22\n",
      "Shifting plane 22\n",
      "Registering plane 23\n",
      "Shifting plane 23\n",
      "Registering plane 24\n",
      "Shifting plane 24\n",
      "Registered batch in 0.03 sec\n",
      "Shifted batch in 0.22 sec\n",
      "GPU RAM: 2 blocks allocated, 4.09 / 4.27 GB used\n",
      "CPU times: user 1.01 s, sys: 1.42 s, total: 2.42 s\n",
      "Wall time: 2.42 s\n"
     ]
    }
   ],
   "source": [
    "%%time\n",
    "mov_shifted, ymaxs, xmaxs = rgpu.rigid_2d_reg_gpu(mov_pos, mask_mul, mask_offset, ref_2ds, shift=True,\n",
    "                                                 max_reg_xy = 50, rmins=rmins, rmaxs=rmaxs, crosstalk_coeff=crosstalk_coeff)\n",
    "# mov_shifted_gpu = mov_shifted.get()\n",
    "ymaxs_rr_gpu = ymaxs.get(); \n",
    "xmaxs_rr_gpu = xmaxs.get()"
   ]
  },
  {
   "cell_type": "code",
   "execution_count": 34,
   "id": "5983fe5f",
   "metadata": {},
   "outputs": [
    {
     "data": {
      "text/plain": [
       "(25, 10)"
      ]
     },
     "execution_count": 34,
     "metadata": {},
     "output_type": "execute_result"
    }
   ],
   "source": [
    "ymaxs_rr_cpu.shape"
   ]
  },
  {
   "cell_type": "code",
   "execution_count": 37,
   "id": "6cf62159",
   "metadata": {},
   "outputs": [
    {
     "data": {
      "image/png": "[encoded data removed]",
      "text/plain": [
       "<Figure size 600x1600 with 4 Axes>"
      ]
     },
     "metadata": {},
     "output_type": "display_data"
    }
   ],
   "source": [
    "vx = (-5,5)\n",
    "f,axs = plt.subplots(1,4, figsize=(6,16))\n",
    "tfu.show_tif(ymaxs_rr_cpu - ymaxs_rr_cpu.mean(axis=1, keepdims=True), vminmax=vx,ax=axs[0])\n",
    "axs[0].set_title(\"yshift, CPU\")\n",
    "tfu.show_tif(ymaxs_rr_gpu - ymaxs_rr_gpu.mean(axis=1, keepdims=True), vminmax=vx, ax=axs[1])\n",
    "axs[1].set_title(\"yshift, GPU\")\n",
    "tfu.show_tif(xmaxs_rr_cpu - xmaxs_rr_cpu.mean(axis=1, keepdims=True), vminmax=vx,ax=axs[2])\n",
    "axs[2].set_title(\"xshift, CPU\")\n",
    "tfu.show_tif(xmaxs_rr_gpu - xmaxs_rr_gpu.mean(axis=1, keepdims=True), vminmax=vx, ax=axs[3])\n",
    "axs[3].set_title(\"xshift, GPU\")\n",
    "plt.tight_layout()"
   ]
  },
  {
   "cell_type": "code",
   "execution_count": 38,
   "id": "83988919",
   "metadata": {},
   "outputs": [],
   "source": [
    "mov_cpu = mov_shifted.get()"
   ]
  },
  {
   "cell_type": "code",
   "execution_count": 39,
   "id": "b916b8af",
   "metadata": {},
   "outputs": [
    {
     "name": "stdout",
     "output_type": "stream",
     "text": [
      "CPU times: user 4min 46s, sys: 3min 28s, total: 8min 15s\n",
      "Wall time: 10.4 s\n"
     ]
    }
   ],
   "source": [
    "%%time\n",
    "zidx = 0\n",
    "ymaxs_nr_cpu = []\n",
    "xmaxs_nr_cpu = []\n",
    "for zidx in range(nz):\n",
    "    ymax_z, xmax_z, __ = s2pnr.phasecorr(mov_cpu[:,zidx], mask_mul_nr[zidx,:,0].real,\n",
    "                                         mask_offset_nr[zidx,:,0].real, ref_nr[zidx,:,0],\n",
    "                   snr_thresh=snr_thresh, NRsm=NRsm, xblock=xblocks, yblock=yblocks, maxregshiftNR=max_shift,)\n",
    "    ymaxs_nr_cpu.append(ymax_z)\n",
    "    xmaxs_nr_cpu.append(xmax_z)\n",
    "ymaxs_nr_cpu = n.array(ymaxs_nr_cpu)\n",
    "xmaxs_nr_cpu = n.array(xmaxs_nr_cpu)"
   ]
  },
  {
   "cell_type": "code",
   "execution_count": 40,
   "id": "cc32d180",
   "metadata": {},
   "outputs": [
    {
     "name": "stdout",
     "output_type": "stream",
     "text": [
      "Allocated GPU array for non-rigid reg in 0.62 sec\n",
      "GPU RAM: 6 blocks allocated, 8.28 / 9.68 GB used\n",
      "Clipped movie in 0.02 sec\n",
      "Split movie into blocks in 0.01 sec\n",
      "Completed FFT of blocks and computed phase correlations in 0.25 sec\n",
      "Iter 0: 22035/45000 blocks below SNR thresh\n",
      "Iter 1: 12454/45000 blocks below SNR thresh\n",
      "Iter 1: 9228/45000 blocks below SNR thresh\n",
      "Computed SNR and smoothed phase corrs in 0.22 sec\n",
      "Computed subpixel shifts in 0.02 sec\n",
      "GPU RAM: 6 blocks allocated, 8.38 / 9.22 GB used\n",
      "CPU times: user 2.53 s, sys: 6.31 s, total: 8.84 s\n",
      "Wall time: 1.17 s\n"
     ]
    }
   ],
   "source": [
    "%%time\n",
    "ymaxs, xmaxs, snrs = rgpu.nonrigid_2d_reg_gpu(mov_shifted, mask_mul_nr[:,:,0], mask_offset_nr[:,:,0], ref_nr[:,:,0], \n",
    "                                              yblocks, xblocks, snr_thresh, NRsm, rmins, rmaxs, max_shift=max_shift, \n",
    "                                              npad=npad, n_smooth_iters=n_smooth_iters, subpixel = subpixel)\n",
    "ymaxs_nr_gpu = ymaxs.get()\n",
    "xmaxs_nr_gpu = xmaxs.get()"
   ]
  },
  {
   "cell_type": "code",
   "execution_count": 42,
   "id": "49f8aacd",
   "metadata": {},
   "outputs": [
    {
     "data": {
      "image/png": "[encoded data removed]",
      "text/plain": [
       "<Figure size 1600x400 with 4 Axes>"
      ]
     },
     "metadata": {},
     "output_type": "display_data"
    }
   ],
   "source": [
    "zidx = 13\n",
    "f,axs = plt.subplots(4,1, figsize=(16,4))\n",
    "tfu.show_tif(ymaxs_nr_cpu[zidx], vminmax=(-5,5),ax=axs[0])\n",
    "axs[0].set_title(\"yshift, CPU\")\n",
    "tfu.show_tif(ymaxs_nr_gpu[:,zidx], vminmax=(-5,5), ax=axs[1])\n",
    "axs[1].set_title(\"yshift, GPU\")\n",
    "tfu.show_tif(xmaxs_nr_cpu[zidx], vminmax=(-5,5),ax=axs[2])\n",
    "axs[2].set_title(\"xshift, CPU\")\n",
    "tfu.show_tif(xmaxs_nr_gpu[:,zidx], vminmax=(-5,5), ax=axs[3])\n",
    "axs[3].set_title(\"xshift, GPU\")\n",
    "plt.tight_layout()"
   ]
  },
  {
   "cell_type": "code",
   "execution_count": null,
   "id": "393ce4a0",
   "metadata": {},
   "outputs": [],
   "source": []
  },
  {
   "cell_type": "code",
   "execution_count": null,
   "id": "ec98ab57",
   "metadata": {},
   "outputs": [],
   "source": []
  },
  {
   "cell_type": "code",
   "execution_count": null,
   "id": "accb1046",
   "metadata": {},
   "outputs": [],
   "source": []
  },
  {
   "cell_type": "code",
   "execution_count": null,
   "id": "c09a2372",
   "metadata": {},
   "outputs": [],
   "source": []
  },
  {
   "cell_type": "code",
   "execution_count": null,
   "id": "a1de4319",
   "metadata": {},
   "outputs": [],
   "source": []
  },
  {
   "cell_type": "code",
   "execution_count": null,
   "id": "81dcdc1b",
   "metadata": {},
   "outputs": [],
   "source": []
  },
  {
   "cell_type": "markdown",
   "id": "ea09b8fe",
   "metadata": {},
   "source": [
    "## nonrigid computation dev"
   ]
  },
  {
   "cell_type": "code",
   "execution_count": 15,
   "id": "1f4ed1ca",
   "metadata": {},
   "outputs": [],
   "source": [
    "n_maxnrshift = 20\n",
    "n_thread = 512\n",
    "npad = 3\n",
    "n_snr_smoothing_iters = 3\n",
    "nr = n_maxnrshift + npad\n",
    "ncc = nr*2 + 1\n",
    "ncc_nopad = n_maxnrshift*2 + 1\n",
    "subpixel = 5\n",
    "\n",
    "nt, nb, __, nby, nbx = ref_nr.shape\n",
    "nt, nz, ny, nx = mov_shifted.shape\n",
    "mov_blocks = cp.zeros((nt, nz, nb, nby, nbx), cp.complex64)\n",
    "NRsm_gpu = cp.asarray(NRsm)\n",
    "refs_nr_f_gpu = cp.asarray(ref_nr[:,:,0])\n",
    "# TODO clip"
   ]
  },
  {
   "cell_type": "code",
   "execution_count": 16,
   "id": "5b529de0",
   "metadata": {},
   "outputs": [
    {
     "data": {
      "text/plain": [
       "(10, 25, 180, 128, 128)"
      ]
     },
     "execution_count": 16,
     "metadata": {},
     "output_type": "execute_result"
    }
   ],
   "source": [
    "mov_blocks.shape"
   ]
  },
  {
   "cell_type": "code",
   "execution_count": 17,
   "id": "3cb26c33",
   "metadata": {},
   "outputs": [
    {
     "name": "stdout",
     "output_type": "stream",
     "text": [
      "CPU times: user 377 µs, sys: 8.77 ms, total: 9.15 ms\n",
      "Wall time: 9.04 ms\n"
     ]
    }
   ],
   "source": [
    "%%time\n",
    "for bidx in range(nb):\n",
    "    by0, by1 = yblocks[bidx]\n",
    "    bx0,bx1 = xblocks[bidx]\n",
    "    mov_blocks[:,:,bidx] = mov_shifted[:,:,by0:by1, bx0:bx1]\n",
    "\n",
    "mov_blocks[:] = rgpu.convolve_2d_gpu(mov_blocks, refs_nr_f_gpu, axes=(3,4))"
   ]
  },
  {
   "cell_type": "code",
   "execution_count": 18,
   "id": "1521cfd1",
   "metadata": {},
   "outputs": [
    {
     "name": "stdout",
     "output_type": "stream",
     "text": [
      "CPU times: user 475 µs, sys: 8.97 ms, total: 9.44 ms\n",
      "Wall time: 9.28 ms\n"
     ]
    }
   ],
   "source": [
    "%%time\n",
    "phase_corr = cp.zeros((nt, nz, nb, ncc, ncc), dtype=n.float32)\n",
    "phase_corr = rgpu.unwrap_fft_2d(mov_blocks.real, nr = nr, out=phase_corr)\n",
    "mempool.free_all_blocks()"
   ]
  },
  {
   "cell_type": "code",
   "execution_count": 19,
   "id": "246a5bfe",
   "metadata": {},
   "outputs": [
    {
     "name": "stdout",
     "output_type": "stream",
     "text": [
      "18188 blocks below SNR thresh\n",
      "10691 blocks below SNR thresh\n",
      "8327 blocks below SNR thresh\n",
      "CPU times: user 77.5 ms, sys: 0 ns, total: 77.5 ms\n",
      "Wall time: 77.2 ms\n"
     ]
    }
   ],
   "source": [
    "%%time\n",
    "pc = phase_corr.copy()\n",
    "pc_smooth = pc.copy()\n",
    "for i in range(2):\n",
    "    snrs = rgpu.get_snr(pc)\n",
    "    idx_to_smooth = (snrs < snr_thresh)\n",
    "    n_low_snr = idx_to_smooth.sum()\n",
    "    print(\"%d blocks below SNR thresh\" % n_low_snr)\n",
    "    if n_low_snr < 1: break\n",
    "    pc_smooth = cp.moveaxis(cp.tensordot(NRsm_gpu, pc_smooth, ((1,), (2,))),0,2)\n",
    "#     pc_smooth = pc_smooths[i]\n",
    "    pc[idx_to_smooth] = pc_smooth[idx_to_smooth]\n",
    "snrs = rgpu.get_snr(pc)\n",
    "n_low_snr = (snrs < snr_thresh).sum()\n",
    "print(\"%d blocks below SNR thresh\" % n_low_snr)\n",
    "\n",
    "del pc_smooth\n",
    "mempool.free_all_blocks()"
   ]
  },
  {
   "cell_type": "code",
   "execution_count": 20,
   "id": "1a411c6a",
   "metadata": {},
   "outputs": [],
   "source": [
    "Kmat, nup = rgpu.mat_upsample(lpad=npad, subpixel=subpixel)\n",
    "Kmat = cp.asarray(Kmat, cp.float32)\n",
    "mid = nup // 2"
   ]
  },
  {
   "cell_type": "code",
   "execution_count": 21,
   "id": "b6ff5354",
   "metadata": {},
   "outputs": [
    {
     "name": "stdout",
     "output_type": "stream",
     "text": [
      "5.718230389781205\n"
     ]
    }
   ],
   "source": [
    "pc_mat, ymaxs, xmaxs = rgpu.crop_maxs(pc, npad, )\n",
    "print(ymaxs.std())\n",
    "ymaxs -= n_maxnrshift\n",
    "xmaxs -= n_maxnrshift"
   ]
  },
  {
   "cell_type": "code",
   "execution_count": 22,
   "id": "8074c4be",
   "metadata": {},
   "outputs": [],
   "source": [
    "pc_gaussian = pc_mat.reshape(nt,nz,nb,-1) @ Kmat"
   ]
  },
  {
   "cell_type": "code",
   "execution_count": 23,
   "id": "bdc072f1",
   "metadata": {},
   "outputs": [],
   "source": [
    "ymaxs_sub, xmaxs_sub = cp.unravel_index(pc_gaussian.argmax(axis=-1), (nup,nup))"
   ]
  },
  {
   "cell_type": "code",
   "execution_count": 24,
   "id": "e374b18d",
   "metadata": {},
   "outputs": [
    {
     "name": "stdout",
     "output_type": "stream",
     "text": [
      "5.718230389781203\n"
     ]
    }
   ],
   "source": [
    "print(ymaxs.std())"
   ]
  },
  {
   "cell_type": "code",
   "execution_count": 25,
   "id": "684f08c7",
   "metadata": {},
   "outputs": [
    {
     "name": "stdout",
     "output_type": "stream",
     "text": [
      "2.144935202221363\n"
     ]
    }
   ],
   "source": [
    "print(ymaxs_sub.std())"
   ]
  },
  {
   "cell_type": "code",
   "execution_count": 45,
   "id": "f2a92f57",
   "metadata": {},
   "outputs": [],
   "source": [
    "ymaxs = ymaxs.astype(cp.float32) + (ymaxs_sub - mid)/subpixel\n",
    "xmaxs = xmaxs.astype(cp.float32) + (xmaxs_sub - mid)/subpixel"
   ]
  },
  {
   "cell_type": "code",
   "execution_count": 46,
   "id": "2b53814f",
   "metadata": {},
   "outputs": [
    {
     "data": {
      "text/plain": [
       "array(5.81762912)"
      ]
     },
     "execution_count": 46,
     "metadata": {},
     "output_type": "execute_result"
    }
   ],
   "source": [
    "ymaxs.std()"
   ]
  },
  {
   "cell_type": "code",
   "execution_count": 47,
   "id": "429fe921",
   "metadata": {},
   "outputs": [
    {
     "data": {
      "text/plain": [
       "array(6.242265)"
      ]
     },
     "execution_count": 47,
     "metadata": {},
     "output_type": "execute_result"
    }
   ],
   "source": [
    "xmaxs.std()"
   ]
  },
  {
   "cell_type": "code",
   "execution_count": null,
   "id": "0862eaf1",
   "metadata": {},
   "outputs": [],
   "source": []
  },
  {
   "cell_type": "code",
   "execution_count": null,
   "id": "2a8131ea",
   "metadata": {},
   "outputs": [],
   "source": []
  },
  {
   "cell_type": "markdown",
   "id": "97f54be4",
   "metadata": {},
   "source": [
    "## more dev"
   ]
  },
  {
   "cell_type": "code",
   "execution_count": 321,
   "id": "3a90e08b",
   "metadata": {},
   "outputs": [],
   "source": [
    "pc_nopad = cp.zeros((nt, nz, nb, ncc_nopad, ncc_nopad), dtype=cp.float32)\n",
    "pc_nopad[:] =  pc[:,:,:,npad:-npad, npad:-npad]\n",
    "\n",
    "argmaxs = cp.argmax(pc_nopad, axis=(-1,-2))\n",
    "\n",
    "ymaxs, xmaxs = cp.unravel_index(argmaxs, (ncc_nopad, ncc_nopad))\n",
    "ymax_coord =  ymaxs - n_maxnrshift; \n",
    "xmax_coord =  xmaxs - n_maxnrshift\n",
    "\n",
    "xmin = (xmaxs - npad); xmin[xmin < 0] = 0\n",
    "xmax = (xmaxs + npad+1); xmax[xmax > ncc_nopad] = ncc_nopad\n",
    "ymin = (ymaxs - npad); ymin[ymin < 0] = 0\n",
    "ymax = (ymaxs + npad+1); ymax[ymax > ncc_nopad] = ncc_nopad"
   ]
  },
  {
   "cell_type": "code",
   "execution_count": 458,
   "id": "0b580f51",
   "metadata": {},
   "outputs": [],
   "source": [
    "kernel = cp.RawKernel(r'''\n",
    "extern \"C\" __global__\n",
    "void crop_around_max(long long* xmin, long long* xmax, long long* ymin, long long* ymax, \n",
    "                     float* in, float* out, unsigned int npadmat, unsigned int ncc, unsigned int max){\n",
    "    int tid = blockDim.x * blockIdx.x + threadIdx.x;\n",
    "    int xx; int yy;\n",
    "    int i; int j;\n",
    "    if (tid < max){\n",
    "        i = 0;\n",
    "        for (yy = ymin[tid]; yy < ymax[tid]; yy++){\n",
    "            j = 0;\n",
    "            for (xx = xmin[tid]; xx < xmax[tid]; xx++) {\n",
    "                out[(tid * npadmat * npadmat) + i*npadmat + j] = in[(tid * ncc * ncc) + (yy * ncc) + xx];\n",
    "                j++;\n",
    "            }\n",
    "            i++;\n",
    "        }\n",
    "    }\n",
    "}\n",
    "''', \"crop_around_max\"\n",
    ")"
   ]
  },
  {
   "cell_type": "code",
   "execution_count": 459,
   "id": "0e8e446a",
   "metadata": {},
   "outputs": [],
   "source": [
    "nball = nb*nz*nt\n",
    "n_thread_per_block=512\n",
    "npadmat = npad * 2 + 1\n",
    "\n",
    "pc_mat = cp.zeros((nt, nz, nb, npadmat, npadmat), cp.float32)\n",
    "n_blocks = int(n.ceil(nball / n_thread_per_block))\n",
    "\n",
    "kernel((n_blocks,), (n_thread_per_block,), (xmin, xmax, ymin,ymax,\n",
    "                               pc_nopad, pc_mat, cp.uint32(npadmat), cp.uint32(ncc_nopad), cp.uint32(nball)))\n"
   ]
  },
  {
   "cell_type": "code",
   "execution_count": 460,
   "id": "79ecc103",
   "metadata": {},
   "outputs": [
    {
     "data": {
      "text/plain": [
       "(None, <Axes: >, <matplotlib.image.AxesImage at 0x7f6d4d01d550>)"
      ]
     },
     "execution_count": 460,
     "metadata": {},
     "output_type": "execute_result"
    },
    {
     "data": {
      "image/png": "[encoded data removed]",
      "text/plain": [
       "<Figure size 640x480 with 2 Axes>"
      ]
     },
     "metadata": {},
     "output_type": "display_data"
    }
   ],
   "source": [
    "\n",
    "idxs = (0,0,10)\n",
    "fidx = idxs[0] * (nz * nb) + idxs[1] * nb + idxs[2]\n",
    "mx = n.abs(pc_nopad[idxs].get()).max()\n",
    "f,axs = plt.subplots(1,2)\n",
    "# mx = 10\n",
    "tfu.show_tif(pc_nopad[idxs][ymin[idxs]:ymax[idxs], xmin[idxs]:xmax[idxs]].get(), ax=axs[0], vminmax=(-mx,mx), cbar=True)\n",
    "tfu.show_tif(pc_mat[idxs].get(), ax=axs[1], vminmax=(-mx,mx), cbar=True)"
   ]
  },
  {
   "cell_type": "code",
   "execution_count": null,
   "id": "252878a5",
   "metadata": {},
   "outputs": [],
   "source": []
  },
  {
   "cell_type": "code",
   "execution_count": null,
   "id": "3364cb72",
   "metadata": {},
   "outputs": [],
   "source": []
  },
  {
   "cell_type": "code",
   "execution_count": null,
   "id": "61b30ab3",
   "metadata": {},
   "outputs": [],
   "source": []
  },
  {
   "cell_type": "code",
   "execution_count": null,
   "id": "ae23000f",
   "metadata": {},
   "outputs": [],
   "source": []
  },
  {
   "cell_type": "code",
   "execution_count": null,
   "id": "c754e100",
   "metadata": {},
   "outputs": [],
   "source": []
  },
  {
   "cell_type": "markdown",
   "id": "6f2bac76",
   "metadata": {},
   "source": [
    "## dev"
   ]
  },
  {
   "cell_type": "code",
   "execution_count": 455,
   "id": "66880cc4",
   "metadata": {},
   "outputs": [
    {
     "data": {
      "text/plain": [
       "(None, <Axes: >, <matplotlib.image.AxesImage at 0x7f6d4d0a2d30>)"
      ]
     },
     "execution_count": 455,
     "metadata": {},
     "output_type": "execute_result"
    },
    {
     "data": {
      "image/png": "[encoded data removed]",
      "text/plain": [
       "<Figure size 640x480 with 2 Axes>"
      ]
     },
     "metadata": {},
     "output_type": "display_data"
    }
   ],
   "source": [
    "\n",
    "idxs = (0,0,10)\n",
    "fidx = idxs[0] * (nz * nb) + idxs[1] * nb + idxs[2]\n",
    "mx = n.abs(pc_nopad[idxs].get()).max()\n",
    "f,axs = plt.subplots(1,2)\n",
    "# mx = 10\n",
    "tfu.show_tif(pc_nopad[idxs][ymin[idxs]:ymax[idxs], xmin[idxs]:xmax[idxs]].get(), ax=axs[0], vminmax=(-mx,mx), cbar=True)\n",
    "tfu.show_tif(pc_mat[idxs].get(), ax=axs[1], vminmax=(-mx,mx), cbar=True)"
   ]
  },
  {
   "cell_type": "code",
   "execution_count": null,
   "id": "40385f67",
   "metadata": {},
   "outputs": [],
   "source": []
  },
  {
   "cell_type": "code",
   "execution_count": null,
   "id": "8efb64fd",
   "metadata": {},
   "outputs": [],
   "source": [
    "%%time\n",
    "pc = phase_corr.copy()\n",
    "pc_cpu = pc.get()\n",
    "nt, nz, nb, nccy,nccx = pc.shape\n",
    "assert nccy == ncc; assert nccx == ncc\n",
    "pc_unpadded_maxs = pc[:,:,:,npad:-npad, npad:-npad].max(axis=(-1,-2))\n",
    "\n",
    "pc = pc.reshape(nt, nz, nb, ncc**2)\n",
    "pc_argmaxs = cp.argmax(pc, axis=-1)\n",
    "max_ys, max_xs = cp.unravel_index(pc_argmaxs, (ncc,ncc))\n",
    "\n",
    "xmin = (max_xs - npad); xmin[xmin < 0] = 0\n",
    "xmax = (max_xs + npad); xmax[xmax > nx] = nx\n",
    "ymin = (max_ys - npad); ymin[ymin < 0] = 0\n",
    "ymax = (max_ys + npad); ymax[ymax > ny] = ny\n",
    "\n",
    "\n",
    "\n",
    "pcx = pc.copy().reshape(nt,nz,nb,ncc,ncc)"
   ]
  },
  {
   "cell_type": "code",
   "execution_count": 61,
   "id": "d6266b36",
   "metadata": {},
   "outputs": [],
   "source": [
    "kernel = rgpu.kernel_zero_around_max()\n",
    "\n",
    "pc = pc.reshape(nball, ncc, ncc)\n",
    "pcf = pc.copy()\n",
    "kernel((int(n.ceil((nball) / n_thread)),), (n_thread,),\n",
    "                       (xmin, xmax, ymin, ymax, pc, cp.uint16(ncc), cp.uint16(nball)))"
   ]
  },
  {
   "cell_type": "code",
   "execution_count": 18,
   "id": "8f471e16",
   "metadata": {},
   "outputs": [],
   "source": [
    "pc = pc.reshape(nt,nz,nb,ncc,ncc)\n",
    "pc_zerod_maxs = pc.max(axis=(-1,-2))\n",
    "pc_zero = pc.get()"
   ]
  },
  {
   "cell_type": "code",
   "execution_count": 19,
   "id": "4d22f94b",
   "metadata": {},
   "outputs": [
    {
     "name": "stdout",
     "output_type": "stream",
     "text": [
      "CPU times: user 1.71 s, sys: 2.96 ms, total: 1.71 s\n",
      "Wall time: 1.71 s\n"
     ]
    }
   ],
   "source": [
    "%%time\n",
    "for tx in range(nt):\n",
    "    for zx in range(nz):\n",
    "        for bx in range(nb):\n",
    "            pcx[tx, zx, bx, ymin[tx,zx,bx]:ymax[tx,zx,bx], xmin[tx,zx,bx]:xmax[tx,zx,bx]] = 0\n",
    "pc_zerod_maxs_true = pcx.max(axis=(-1,-2)).get()"
   ]
  },
  {
   "cell_type": "code",
   "execution_count": 62,
   "id": "45f6b332",
   "metadata": {},
   "outputs": [
    {
     "name": "stdout",
     "output_type": "stream",
     "text": [
      "0\n"
     ]
    }
   ],
   "source": [
    "\n",
    "print((~n.isclose(zero_max, pc_zerod_maxs_true)).sum())"
   ]
  },
  {
   "cell_type": "code",
   "execution_count": 63,
   "id": "a3fda5a5",
   "metadata": {},
   "outputs": [
    {
     "name": "stdout",
     "output_type": "stream",
     "text": [
      "0\n"
     ]
    }
   ],
   "source": [
    "\n",
    "print((~n.isclose(zero_max, pc_zerod_maxs_true)).sum())"
   ]
  },
  {
   "cell_type": "code",
   "execution_count": 64,
   "id": "535240d1",
   "metadata": {},
   "outputs": [
    {
     "name": "stdout",
     "output_type": "stream",
     "text": [
      "10\n"
     ]
    }
   ],
   "source": [
    "\n",
    "print((~n.isclose(pc_zerod_maxs, pc_zerod_maxs_true)).sum())"
   ]
  },
  {
   "cell_type": "code",
   "execution_count": 36,
   "id": "8918c025",
   "metadata": {},
   "outputs": [
    {
     "name": "stdout",
     "output_type": "stream",
     "text": [
      "False\n",
      "0.004776512\n",
      "0.005096001\n",
      "False\n",
      "0.005184003\n",
      "0.0052040815\n",
      "False\n",
      "0.0055281846\n",
      "0.005574753\n",
      "False\n",
      "0.0041363724\n",
      "0.0044116713\n",
      "False\n",
      "0.0050937315\n",
      "0.005592932\n",
      "False\n",
      "0.004937782\n",
      "0.0054079634\n",
      "False\n",
      "0.0043276846\n",
      "0.0044779712\n",
      "False\n",
      "0.0055031423\n",
      "0.005712934\n",
      "False\n",
      "0.004433616\n",
      "0.00532415\n",
      "False\n",
      "0.0040624933\n",
      "0.004282503\n"
     ]
    }
   ],
   "source": [
    "all_idxs = n.where((~n.isclose(pc_zerod_maxs, pc_zerod_maxs_true,1e-03, 1e-5)))\n",
    "for i in range(all_idxs[0].shape[0]):\n",
    "    idxs = (all_idxs[0].get()[i],all_idxs[1].get()[i],all_idxs[2].get()[i])\n",
    "#     print((~n.isclose(pc_zero[idxs].get(),pc_cpu[idxs])).sum())\n",
    "    print(n.isclose(pc_zerod_maxs[idxs], pc_zerod_maxs_true[idxs]))\n",
    "    print(pc_zerod_maxs[idxs])\n",
    "    print(pc_zerod_maxs_true[idxs])"
   ]
  },
  {
   "cell_type": "code",
   "execution_count": 38,
   "id": "c2cc1bfd",
   "metadata": {},
   "outputs": [],
   "source": [
    "fidx = idxs[0] * (nz * nb) + idxs[1] * nb + idxs[2]"
   ]
  },
  {
   "cell_type": "code",
   "execution_count": 40,
   "id": "711f6cb2",
   "metadata": {},
   "outputs": [
    {
     "data": {
      "text/plain": [
       "(None, <Axes: >, <matplotlib.image.AxesImage at 0x7f34812d5190>)"
      ]
     },
     "execution_count": 40,
     "metadata": {},
     "output_type": "execute_result"
    },
    {
     "data": {
      "image/png": "[encoded data removed]",
      "text/plain": [
       "<Figure size 640x480 with 3 Axes>"
      ]
     },
     "metadata": {},
     "output_type": "display_data"
    }
   ],
   "source": [
    "f,axs = plt.subplots(1,3)\n",
    "tfu.show_tif(pcx[idxs].get(),ticks=True, ax=axs[0])\n",
    "tfu.show_tif(pcf[fidx].get(), ticks=True, ax=axs[1])\n",
    "tfu.show_tif(pc[idxs].get(), ticks=True, ax=axs[2])"
   ]
  },
  {
   "cell_type": "code",
   "execution_count": null,
   "id": "58f61cce",
   "metadata": {},
   "outputs": [],
   "source": []
  },
  {
   "cell_type": "code",
   "execution_count": null,
   "id": "cee57127",
   "metadata": {},
   "outputs": [],
   "source": []
  },
  {
   "cell_type": "code",
   "execution_count": 125,
   "id": "9d0a0f34",
   "metadata": {},
   "outputs": [
    {
     "name": "stdout",
     "output_type": "stream",
     "text": [
      "CPU times: user 1.73 s, sys: 14.9 ms, total: 1.74 s\n",
      "Wall time: 1.74 s\n"
     ]
    }
   ],
   "source": []
  },
  {
   "cell_type": "code",
   "execution_count": null,
   "id": "6656e701",
   "metadata": {},
   "outputs": [],
   "source": []
  },
  {
   "cell_type": "code",
   "execution_count": null,
   "id": "3dbba2c8",
   "metadata": {},
   "outputs": [],
   "source": []
  },
  {
   "cell_type": "code",
   "execution_count": null,
   "id": "07bfa3f9",
   "metadata": {},
   "outputs": [],
   "source": []
  },
  {
   "cell_type": "code",
   "execution_count": 264,
   "id": "5a02016c",
   "metadata": {},
   "outputs": [],
   "source": [
    "pc_zerod_maxs_cpu = pc_zerod_maxs.get()\n",
    "pc_unpadded_maxs_cpu = pc_unpadded_maxs.get()\n",
    "\n",
    "pc_parts_cpu = pc_parts.get()"
   ]
  },
  {
   "cell_type": "code",
   "execution_count": 265,
   "id": "1cb3a4bf",
   "metadata": {},
   "outputs": [
    {
     "data": {
      "text/plain": [
       "(array([1.5963e+04, 1.3900e+04, 8.5780e+03, 4.1930e+03, 1.8050e+03,\n",
       "        4.6000e+02, 8.1000e+01, 1.7000e+01, 2.0000e+00, 1.0000e+00]),\n",
       " array([1.09732914, 1.7566942 , 2.41605926, 3.07542419, 3.73478937,\n",
       "        4.39415455, 5.05351925, 5.71288443, 6.3722496 , 7.0316143 ,\n",
       "        7.69097948]),\n",
       " <BarContainer object of 10 artists>)"
      ]
     },
     "execution_count": 265,
     "metadata": {},
     "output_type": "execute_result"
    },
    {
     "data": {
      "image/png": "[encoded data removed]",
      "text/plain": [
       "<Figure size 640x480 with 1 Axes>"
      ]
     },
     "metadata": {},
     "output_type": "display_data"
    }
   ],
   "source": [
    "plt.hist((pc_unpadded_maxs_cpu / pc_parts_cpu).flatten())"
   ]
  },
  {
   "cell_type": "code",
   "execution_count": null,
   "id": "856b0527",
   "metadata": {},
   "outputs": [],
   "source": []
  },
  {
   "cell_type": "code",
   "execution_count": null,
   "id": "a18a3bde",
   "metadata": {},
   "outputs": [],
   "source": []
  },
  {
   "cell_type": "code",
   "execution_count": 159,
   "id": "e35f9373",
   "metadata": {},
   "outputs": [
    {
     "name": "stderr",
     "output_type": "stream",
     "text": [
      "/home/ali/anaconda3/envs/s2p-lbm/lib/python3.8/site-packages/numba/cuda/cudadrv/nvvm.py:400: UserWarning: CUDA Toolkit 10.2 is unsupported by Numba - 11.0 is the minimum required version.\n",
      "  warnings.warn(unsupported_ver)\n"
     ]
    },
    {
     "ename": "NvvmSupportError",
     "evalue": "No supported GPU compute capabilities found. Please check your cudatoolkit version matches your CUDA version.",
     "output_type": "error",
     "traceback": [
      "\u001b[0;31m---------------------------------------------------------------------------\u001b[0m",
      "\u001b[0;31mNvvmSupportError\u001b[0m                          Traceback (most recent call last)",
      "Cell \u001b[0;32mIn[159], line 2\u001b[0m\n\u001b[1;32m      1\u001b[0m \u001b[38;5;129;43m@cuda\u001b[39;49m\u001b[38;5;241;43m.\u001b[39;49m\u001b[43mjit\u001b[49m\u001b[43m(\u001b[49m\u001b[38;5;124;43m'\u001b[39;49m\u001b[38;5;124;43mvoid(int64, int64, int64, float32[:,:,:,:,:],int64[:,:,:],int64[:,:,:],int64[:,:,:],int64[:,:,:])\u001b[39;49m\u001b[38;5;124;43m'\u001b[39;49m\u001b[43m)\u001b[49m\n\u001b[0;32m----> 2\u001b[0m \u001b[38;5;28;43;01mdef\u001b[39;49;00m\u001b[43m \u001b[49m\u001b[38;5;21;43mmask_maxs\u001b[39;49m\u001b[43m(\u001b[49m\u001b[43mnt\u001b[49m\u001b[43m,\u001b[49m\u001b[43mnz\u001b[49m\u001b[43m,\u001b[49m\u001b[43mnb\u001b[49m\u001b[43m,\u001b[49m\u001b[43mpc\u001b[49m\u001b[43m,\u001b[49m\u001b[43m \u001b[49m\u001b[43mxmin\u001b[49m\u001b[43m,\u001b[49m\u001b[43m \u001b[49m\u001b[43mxmax\u001b[49m\u001b[43m,\u001b[49m\u001b[43m \u001b[49m\u001b[43mymin\u001b[49m\u001b[43m,\u001b[49m\u001b[43m \u001b[49m\u001b[43mymax\u001b[49m\u001b[43m)\u001b[49m\u001b[43m:\u001b[49m\n\u001b[1;32m      3\u001b[0m \u001b[38;5;66;43;03m#     nt, nz, nb = pc.shape[:3]\u001b[39;49;00m\n\u001b[1;32m      4\u001b[0m \u001b[43m    \u001b[49m\u001b[38;5;28;43;01mfor\u001b[39;49;00m\u001b[43m \u001b[49m\u001b[43mtx\u001b[49m\u001b[43m \u001b[49m\u001b[38;5;129;43;01min\u001b[39;49;00m\u001b[43m \u001b[49m\u001b[38;5;28;43mrange\u001b[39;49m\u001b[43m(\u001b[49m\u001b[43mnt\u001b[49m\u001b[43m)\u001b[49m\u001b[43m:\u001b[49m\n\u001b[1;32m      5\u001b[0m \u001b[43m        \u001b[49m\u001b[38;5;28;43;01mfor\u001b[39;49;00m\u001b[43m \u001b[49m\u001b[43mzx\u001b[49m\u001b[43m \u001b[49m\u001b[38;5;129;43;01min\u001b[39;49;00m\u001b[43m \u001b[49m\u001b[38;5;28;43mrange\u001b[39;49m\u001b[43m(\u001b[49m\u001b[43mnz\u001b[49m\u001b[43m)\u001b[49m\u001b[43m:\u001b[49m\n",
      "File \u001b[0;32m~/anaconda3/envs/s2p-lbm/lib/python3.8/site-packages/numba/cuda/decorators.py:133\u001b[0m, in \u001b[0;36mjit.<locals>._jit\u001b[0;34m(func)\u001b[0m\n\u001b[1;32m    131\u001b[0m             disp\u001b[38;5;241m.\u001b[39mcompile_device(argtypes, restype)\n\u001b[1;32m    132\u001b[0m     \u001b[38;5;28;01melse\u001b[39;00m:\n\u001b[0;32m--> 133\u001b[0m         \u001b[43mdisp\u001b[49m\u001b[38;5;241;43m.\u001b[39;49m\u001b[43mcompile\u001b[49m\u001b[43m(\u001b[49m\u001b[43margtypes\u001b[49m\u001b[43m)\u001b[49m\n\u001b[1;32m    135\u001b[0m disp\u001b[38;5;241m.\u001b[39m_specialized \u001b[38;5;241m=\u001b[39m specialized\n\u001b[1;32m    136\u001b[0m disp\u001b[38;5;241m.\u001b[39mdisable_compile()\n",
      "File \u001b[0;32m~/anaconda3/envs/s2p-lbm/lib/python3.8/site-packages/numba/cuda/dispatcher.py:926\u001b[0m, in \u001b[0;36mCUDADispatcher.compile\u001b[0;34m(self, sig)\u001b[0m\n\u001b[1;32m    923\u001b[0m \u001b[38;5;28;01mif\u001b[39;00m \u001b[38;5;129;01mnot\u001b[39;00m \u001b[38;5;28mself\u001b[39m\u001b[38;5;241m.\u001b[39m_can_compile:\n\u001b[1;32m    924\u001b[0m     \u001b[38;5;28;01mraise\u001b[39;00m \u001b[38;5;167;01mRuntimeError\u001b[39;00m(\u001b[38;5;124m\"\u001b[39m\u001b[38;5;124mCompilation disabled\u001b[39m\u001b[38;5;124m\"\u001b[39m)\n\u001b[0;32m--> 926\u001b[0m kernel \u001b[38;5;241m=\u001b[39m \u001b[43m_Kernel\u001b[49m\u001b[43m(\u001b[49m\u001b[38;5;28;43mself\u001b[39;49m\u001b[38;5;241;43m.\u001b[39;49m\u001b[43mpy_func\u001b[49m\u001b[43m,\u001b[49m\u001b[43m \u001b[49m\u001b[43margtypes\u001b[49m\u001b[43m,\u001b[49m\u001b[43m \u001b[49m\u001b[38;5;241;43m*\u001b[39;49m\u001b[38;5;241;43m*\u001b[39;49m\u001b[38;5;28;43mself\u001b[39;49m\u001b[38;5;241;43m.\u001b[39;49m\u001b[43mtargetoptions\u001b[49m\u001b[43m)\u001b[49m\n\u001b[1;32m    927\u001b[0m \u001b[38;5;66;03m# We call bind to force codegen, so that there is a cubin to cache\u001b[39;00m\n\u001b[1;32m    928\u001b[0m kernel\u001b[38;5;241m.\u001b[39mbind()\n",
      "File \u001b[0;32m~/anaconda3/envs/s2p-lbm/lib/python3.8/site-packages/numba/core/compiler_lock.py:35\u001b[0m, in \u001b[0;36m_CompilerLock.__call__.<locals>._acquire_compile_lock\u001b[0;34m(*args, **kwargs)\u001b[0m\n\u001b[1;32m     32\u001b[0m \u001b[38;5;129m@functools\u001b[39m\u001b[38;5;241m.\u001b[39mwraps(func)\n\u001b[1;32m     33\u001b[0m \u001b[38;5;28;01mdef\u001b[39;00m \u001b[38;5;21m_acquire_compile_lock\u001b[39m(\u001b[38;5;241m*\u001b[39margs, \u001b[38;5;241m*\u001b[39m\u001b[38;5;241m*\u001b[39mkwargs):\n\u001b[1;32m     34\u001b[0m     \u001b[38;5;28;01mwith\u001b[39;00m \u001b[38;5;28mself\u001b[39m:\n\u001b[0;32m---> 35\u001b[0m         \u001b[38;5;28;01mreturn\u001b[39;00m \u001b[43mfunc\u001b[49m\u001b[43m(\u001b[49m\u001b[38;5;241;43m*\u001b[39;49m\u001b[43margs\u001b[49m\u001b[43m,\u001b[49m\u001b[43m \u001b[49m\u001b[38;5;241;43m*\u001b[39;49m\u001b[38;5;241;43m*\u001b[39;49m\u001b[43mkwargs\u001b[49m\u001b[43m)\u001b[49m\n",
      "File \u001b[0;32m~/anaconda3/envs/s2p-lbm/lib/python3.8/site-packages/numba/cuda/dispatcher.py:103\u001b[0m, in \u001b[0;36m_Kernel.__init__\u001b[0;34m(self, py_func, argtypes, link, debug, lineinfo, inline, fastmath, extensions, max_registers, opt, device)\u001b[0m\n\u001b[1;32m    100\u001b[0m     link \u001b[38;5;241m=\u001b[39m []\n\u001b[1;32m    102\u001b[0m \u001b[38;5;66;03m# A kernel needs cooperative launch if grid_sync is being used.\u001b[39;00m\n\u001b[0;32m--> 103\u001b[0m \u001b[38;5;28mself\u001b[39m\u001b[38;5;241m.\u001b[39mcooperative \u001b[38;5;241m=\u001b[39m \u001b[38;5;124m'\u001b[39m\u001b[38;5;124mcudaCGGetIntrinsicHandle\u001b[39m\u001b[38;5;124m'\u001b[39m \u001b[38;5;129;01min\u001b[39;00m \u001b[43mlib\u001b[49m\u001b[38;5;241;43m.\u001b[39;49m\u001b[43mget_asm_str\u001b[49m\u001b[43m(\u001b[49m\u001b[43m)\u001b[49m\n\u001b[1;32m    104\u001b[0m \u001b[38;5;66;03m# We need to link against cudadevrt if grid sync is being used.\u001b[39;00m\n\u001b[1;32m    105\u001b[0m \u001b[38;5;28;01mif\u001b[39;00m \u001b[38;5;28mself\u001b[39m\u001b[38;5;241m.\u001b[39mcooperative:\n",
      "File \u001b[0;32m~/anaconda3/envs/s2p-lbm/lib/python3.8/site-packages/numba/cuda/codegen.py:108\u001b[0m, in \u001b[0;36mCUDACodeLibrary.get_asm_str\u001b[0;34m(self, cc)\u001b[0m\n\u001b[1;32m    107\u001b[0m \u001b[38;5;28;01mdef\u001b[39;00m \u001b[38;5;21mget_asm_str\u001b[39m(\u001b[38;5;28mself\u001b[39m, cc\u001b[38;5;241m=\u001b[39m\u001b[38;5;28;01mNone\u001b[39;00m):\n\u001b[0;32m--> 108\u001b[0m     \u001b[38;5;28;01mreturn\u001b[39;00m \u001b[38;5;28mself\u001b[39m\u001b[38;5;241m.\u001b[39m_join_ptxes(\u001b[38;5;28;43mself\u001b[39;49m\u001b[38;5;241;43m.\u001b[39;49m\u001b[43m_get_ptxes\u001b[49m\u001b[43m(\u001b[49m\u001b[43mcc\u001b[49m\u001b[38;5;241;43m=\u001b[39;49m\u001b[43mcc\u001b[49m\u001b[43m)\u001b[49m)\n",
      "File \u001b[0;32m~/anaconda3/envs/s2p-lbm/lib/python3.8/site-packages/numba/cuda/codegen.py:120\u001b[0m, in \u001b[0;36mCUDACodeLibrary._get_ptxes\u001b[0;34m(self, cc)\u001b[0m\n\u001b[1;32m    117\u001b[0m \u001b[38;5;28;01mif\u001b[39;00m ptxes:\n\u001b[1;32m    118\u001b[0m     \u001b[38;5;28;01mreturn\u001b[39;00m ptxes\n\u001b[0;32m--> 120\u001b[0m arch \u001b[38;5;241m=\u001b[39m \u001b[43mnvvm\u001b[49m\u001b[38;5;241;43m.\u001b[39;49m\u001b[43mget_arch_option\u001b[49m\u001b[43m(\u001b[49m\u001b[38;5;241;43m*\u001b[39;49m\u001b[43mcc\u001b[49m\u001b[43m)\u001b[49m\n\u001b[1;32m    121\u001b[0m options \u001b[38;5;241m=\u001b[39m \u001b[38;5;28mself\u001b[39m\u001b[38;5;241m.\u001b[39m_nvvm_options\u001b[38;5;241m.\u001b[39mcopy()\n\u001b[1;32m    122\u001b[0m options[\u001b[38;5;124m'\u001b[39m\u001b[38;5;124march\u001b[39m\u001b[38;5;124m'\u001b[39m] \u001b[38;5;241m=\u001b[39m arch\n",
      "File \u001b[0;32m~/anaconda3/envs/s2p-lbm/lib/python3.8/site-packages/numba/cuda/cudadrv/nvvm.py:447\u001b[0m, in \u001b[0;36mget_arch_option\u001b[0;34m(major, minor)\u001b[0m\n\u001b[1;32m    445\u001b[0m     arch \u001b[38;5;241m=\u001b[39m config\u001b[38;5;241m.\u001b[39mFORCE_CUDA_CC\n\u001b[1;32m    446\u001b[0m \u001b[38;5;28;01melse\u001b[39;00m:\n\u001b[0;32m--> 447\u001b[0m     arch \u001b[38;5;241m=\u001b[39m \u001b[43mfind_closest_arch\u001b[49m\u001b[43m(\u001b[49m\u001b[43m(\u001b[49m\u001b[43mmajor\u001b[49m\u001b[43m,\u001b[49m\u001b[43m \u001b[49m\u001b[43mminor\u001b[49m\u001b[43m)\u001b[49m\u001b[43m)\u001b[49m\n\u001b[1;32m    448\u001b[0m \u001b[38;5;28;01mreturn\u001b[39;00m \u001b[38;5;124m'\u001b[39m\u001b[38;5;124mcompute_\u001b[39m\u001b[38;5;132;01m%d\u001b[39;00m\u001b[38;5;132;01m%d\u001b[39;00m\u001b[38;5;124m'\u001b[39m \u001b[38;5;241m%\u001b[39m arch\n",
      "File \u001b[0;32m~/anaconda3/envs/s2p-lbm/lib/python3.8/site-packages/numba/cuda/cudadrv/nvvm.py:420\u001b[0m, in \u001b[0;36mfind_closest_arch\u001b[0;34m(mycc)\u001b[0m\n\u001b[1;32m    417\u001b[0m \u001b[38;5;28;01mif\u001b[39;00m \u001b[38;5;129;01mnot\u001b[39;00m supported_ccs:\n\u001b[1;32m    418\u001b[0m     msg \u001b[38;5;241m=\u001b[39m \u001b[38;5;124m\"\u001b[39m\u001b[38;5;124mNo supported GPU compute capabilities found. \u001b[39m\u001b[38;5;124m\"\u001b[39m \\\n\u001b[1;32m    419\u001b[0m           \u001b[38;5;124m\"\u001b[39m\u001b[38;5;124mPlease check your cudatoolkit version matches your CUDA version.\u001b[39m\u001b[38;5;124m\"\u001b[39m\n\u001b[0;32m--> 420\u001b[0m     \u001b[38;5;28;01mraise\u001b[39;00m NvvmSupportError(msg)\n\u001b[1;32m    422\u001b[0m \u001b[38;5;28;01mfor\u001b[39;00m i, cc \u001b[38;5;129;01min\u001b[39;00m \u001b[38;5;28menumerate\u001b[39m(supported_ccs):\n\u001b[1;32m    423\u001b[0m     \u001b[38;5;28;01mif\u001b[39;00m cc \u001b[38;5;241m==\u001b[39m mycc:\n\u001b[1;32m    424\u001b[0m         \u001b[38;5;66;03m# Matches\u001b[39;00m\n",
      "\u001b[0;31mNvvmSupportError\u001b[0m: No supported GPU compute capabilities found. Please check your cudatoolkit version matches your CUDA version."
     ]
    }
   ],
   "source": [
    "@cuda.jit('void(int64, int64, int64, float32[:,:,:,:,:],int64[:,:,:],int64[:,:,:],int64[:,:,:],int64[:,:,:])')\n",
    "def mask_maxs(nt,nz,nb,pc, xmin, xmax, ymin, ymax):\n",
    "#     nt, nz, nb = pc.shape[:3]\n",
    "    for tx in range(nt):\n",
    "        for zx in range(nz):\n",
    "            for bx in range(nb):\n",
    "                pc[tx, zx, bx, xmin[tx,zx,bx]:xmax[tx,zx,bx], ymin[tx,zx,bx]:ymax[tx,zx,bx]] = 0"
   ]
  },
  {
   "cell_type": "code",
   "execution_count": 152,
   "id": "bc43f5a6",
   "metadata": {},
   "outputs": [
    {
     "ename": "TypeError",
     "evalue": "'_ScalarProxy' object cannot be interpreted as an integer",
     "output_type": "error",
     "traceback": [
      "\u001b[0;31m---------------------------------------------------------------------------\u001b[0m",
      "\u001b[0;31mTypeError\u001b[0m                                 Traceback (most recent call last)",
      "File \u001b[0;32mcupy/_core/fusion.pyx:892\u001b[0m, in \u001b[0;36mcupy._core.fusion.Fusion.__call__\u001b[0;34m()\u001b[0m\n",
      "File \u001b[0;32mcupy/_core/fusion.pyx:733\u001b[0m, in \u001b[0;36mcupy._core.fusion._FusionHistory.get_fusion\u001b[0;34m()\u001b[0m\n",
      "Cell \u001b[0;32mIn[151], line 4\u001b[0m, in \u001b[0;36mmask_maxs\u001b[0;34m(pc, nt, nz, nb, xmin, xmax, ymin, ymax)\u001b[0m\n\u001b[1;32m      2\u001b[0m \u001b[38;5;129m@cupy\u001b[39m\u001b[38;5;241m.\u001b[39mfuse()\n\u001b[1;32m      3\u001b[0m \u001b[38;5;28;01mdef\u001b[39;00m \u001b[38;5;21mmask_maxs\u001b[39m(pc, nt,nz,nb,xmin, xmax, ymin, ymax):\n\u001b[0;32m----> 4\u001b[0m     \u001b[38;5;28;01mfor\u001b[39;00m tx \u001b[38;5;129;01min\u001b[39;00m \u001b[38;5;28;43mrange\u001b[39;49m\u001b[43m(\u001b[49m\u001b[43mnt\u001b[49m\u001b[43m)\u001b[49m:\n\u001b[1;32m      5\u001b[0m         \u001b[38;5;28;01mfor\u001b[39;00m zx \u001b[38;5;129;01min\u001b[39;00m \u001b[38;5;28mrange\u001b[39m(nz):\n",
      "\u001b[0;31mTypeError\u001b[0m: '_FusionVarScalar' object cannot be interpreted as an integer",
      "\nDuring handling of the above exception, another exception occurred:\n",
      "\u001b[0;31mTypeError\u001b[0m                                 Traceback (most recent call last)",
      "File \u001b[0;32m<timed eval>:1\u001b[0m\n",
      "File \u001b[0;32mcupy/_core/fusion.pyx:898\u001b[0m, in \u001b[0;36mcupy._core.fusion.Fusion.__call__\u001b[0;34m()\u001b[0m\n",
      "File \u001b[0;32mcupy/_core/new_fusion.pyx:158\u001b[0m, in \u001b[0;36mcupy._core.new_fusion.Fusion.__call__\u001b[0;34m()\u001b[0m\n",
      "File \u001b[0;32mcupy/_core/new_fusion.pyx:29\u001b[0m, in \u001b[0;36mcupy._core.new_fusion._get_fused_kernel\u001b[0;34m()\u001b[0m\n",
      "File \u001b[0;32mcupy/_core/_fusion_trace.pyx:592\u001b[0m, in \u001b[0;36mcupy._core._fusion_trace.trace\u001b[0;34m()\u001b[0m\n",
      "File \u001b[0;32mcupy/_core/_fusion_trace.pyx:534\u001b[0m, in \u001b[0;36mcupy._core._fusion_trace.TraceImpl.trace\u001b[0;34m()\u001b[0m\n",
      "Cell \u001b[0;32mIn[151], line 4\u001b[0m, in \u001b[0;36mmask_maxs\u001b[0;34m(pc, nt, nz, nb, xmin, xmax, ymin, ymax)\u001b[0m\n\u001b[1;32m      2\u001b[0m \u001b[38;5;129m@cupy\u001b[39m\u001b[38;5;241m.\u001b[39mfuse()\n\u001b[1;32m      3\u001b[0m \u001b[38;5;28;01mdef\u001b[39;00m \u001b[38;5;21mmask_maxs\u001b[39m(pc, nt,nz,nb,xmin, xmax, ymin, ymax):\n\u001b[0;32m----> 4\u001b[0m     \u001b[38;5;28;01mfor\u001b[39;00m tx \u001b[38;5;129;01min\u001b[39;00m \u001b[38;5;28;43mrange\u001b[39;49m\u001b[43m(\u001b[49m\u001b[43mnt\u001b[49m\u001b[43m)\u001b[49m:\n\u001b[1;32m      5\u001b[0m         \u001b[38;5;28;01mfor\u001b[39;00m zx \u001b[38;5;129;01min\u001b[39;00m \u001b[38;5;28mrange\u001b[39m(nz):\n\u001b[1;32m      6\u001b[0m             \u001b[38;5;28;01mfor\u001b[39;00m bx \u001b[38;5;129;01min\u001b[39;00m \u001b[38;5;28mrange\u001b[39m(nb):\n",
      "\u001b[0;31mTypeError\u001b[0m: '_ScalarProxy' object cannot be interpreted as an integer"
     ]
    }
   ],
   "source": [
    "%%time\n",
    "mask_maxs(pc, nt,nz,nb,xmin,xmax,ymin,ymax)"
   ]
  },
  {
   "cell_type": "code",
   "execution_count": 134,
   "id": "cc74128e",
   "metadata": {},
   "outputs": [
    {
     "name": "stdout",
     "output_type": "stream",
     "text": [
      "CPU times: user 1.8 s, sys: 11.5 ms, total: 1.81 s\n",
      "Wall time: 1.81 s\n"
     ]
    }
   ],
   "source": []
  },
  {
   "cell_type": "code",
   "execution_count": 125,
   "id": "1d7e92c1",
   "metadata": {},
   "outputs": [
    {
     "name": "stdout",
     "output_type": "stream",
     "text": [
      "CPU times: user 5 µs, sys: 16.1 ms, total: 16.1 ms\n",
      "Wall time: 15.8 ms\n"
     ]
    }
   ],
   "source": []
  },
  {
   "cell_type": "code",
   "execution_count": null,
   "id": "102d955c",
   "metadata": {},
   "outputs": [],
   "source": []
  },
  {
   "cell_type": "code",
   "execution_count": null,
   "id": "10141ecc",
   "metadata": {},
   "outputs": [],
   "source": []
  },
  {
   "cell_type": "code",
   "execution_count": 116,
   "id": "d625dfbc",
   "metadata": {},
   "outputs": [
    {
     "data": {
      "text/plain": [
       "(10, 25, 180, 47, 47)"
      ]
     },
     "execution_count": 116,
     "metadata": {},
     "output_type": "execute_result"
    }
   ],
   "source": [
    "pc.shape"
   ]
  },
  {
   "cell_type": "code",
   "execution_count": 109,
   "id": "9fc04a72",
   "metadata": {},
   "outputs": [
    {
     "data": {
      "text/plain": [
       "(10, 25, 180, 2209)"
      ]
     },
     "execution_count": 109,
     "metadata": {},
     "output_type": "execute_result"
    }
   ],
   "source": [
    "pc.shape"
   ]
  },
  {
   "cell_type": "code",
   "execution_count": 106,
   "id": "0d0d3892",
   "metadata": {},
   "outputs": [
    {
     "data": {
      "text/plain": [
       "(10, 25, 180)"
      ]
     },
     "execution_count": 106,
     "metadata": {},
     "output_type": "execute_result"
    }
   ],
   "source": [
    "max_xs.shape"
   ]
  },
  {
   "cell_type": "code",
   "execution_count": null,
   "id": "4fa13e05",
   "metadata": {},
   "outputs": [],
   "source": []
  },
  {
   "cell_type": "code",
   "execution_count": null,
   "id": "45589c60",
   "metadata": {},
   "outputs": [],
   "source": []
  },
  {
   "cell_type": "code",
   "execution_count": 47,
   "id": "9988cf8a",
   "metadata": {},
   "outputs": [
    {
     "data": {
      "text/plain": [
       "1.2"
      ]
     },
     "execution_count": 47,
     "metadata": {},
     "output_type": "execute_result"
    }
   ],
   "source": [
    "ops['snr_thresh']"
   ]
  },
  {
   "cell_type": "code",
   "execution_count": null,
   "id": "662348b3",
   "metadata": {},
   "outputs": [],
   "source": []
  }
 ],
 "metadata": {
  "kernelspec": {
   "display_name": "s2p-lbm",
   "language": "python",
   "name": "s2p-lbm"
  },
  "language_info": {
   "codemirror_mode": {
    "name": "ipython",
    "version": 3
   },
   "file_extension": ".py",
   "mimetype": "text/x-python",
   "name": "python",
   "nbconvert_exporter": "python",
   "pygments_lexer": "ipython3",
   "version": "3.8.17"
  }
 },
 "nbformat": 4,
 "nbformat_minor": 5
}
