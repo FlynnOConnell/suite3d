{
 "cells": [
  {
   "cell_type": "code",
   "execution_count": 1,
   "id": "dff51d5e",
   "metadata": {},
   "outputs": [],
   "source": [
    "%load_ext autoreload\n",
    "%autoreload 2\n",
    "\n",
    "import os \n",
    "import shutil\n",
    "import numpy as n\n",
    "from datetime import date\n",
    "from matplotlib import pyplot as plt\n",
    "import time\n",
    "import napari"
   ]
  },
  {
   "cell_type": "code",
   "execution_count": 2,
   "id": "51d1964f",
   "metadata": {},
   "outputs": [],
   "source": [
    "os.chdir('/home/ali/packages/s2p-lbm/')\n",
    "\n",
    "from suite3d.job import Job\n",
    "from suite3d import lbmio, utils, ui\n",
    "from suite3d import tiff_utils as tfu\n",
    "from suite3d import file_utils as flu"
   ]
  },
  {
   "cell_type": "code",
   "execution_count": 3,
   "id": "604964d7",
   "metadata": {},
   "outputs": [],
   "source": [
    "from mkl_fft import fftn, ifftn\n",
    "import cupy as cp\n",
    "import cupyx.scipy.fft as cufft\n",
    "import scipy.fft\n",
    "import cupyx.scipy.ndimage as cuimage"
   ]
  },
  {
   "cell_type": "code",
   "execution_count": 4,
   "id": "9a79590f",
   "metadata": {},
   "outputs": [
    {
     "name": "stdout",
     "output_type": "stream",
     "text": [
      "   Found and loaded params from /mnt/md0/runs/s3d-AH007_2022-03-28_2-4-5/params.npy\n",
      "SI ROI pix count in x is 182, which is impossible, setting it to 145\n"
     ]
    }
   ],
   "source": [
    "# Create the job\n",
    "job = Job('/mnt/md0/runs','AH007_2022-03-28_2-4-5', create=False, overwrite=False, verbosity = 10)\n",
    "tifs, si_params, exp_str = flu.find_exp(job.params['subjects_dir'], job.params['subject'],\n",
    "                                        job.params['date'], job.params['expnum'])\n",
    "\n",
    "exp_dir = flu.find_expt_file((job.params['subject'], job.params['date'], job.params['expnum'][0]),\n",
    "                         'root', dirs=[job.params['subjects_dir']])\n",
    "offset_files = job.get_registered_files('registered_data', 'offset')"
   ]
  },
  {
   "cell_type": "code",
   "execution_count": 5,
   "id": "22626584",
   "metadata": {},
   "outputs": [],
   "source": [
    "cz = (0,25)\n",
    "ct = (0, 50)\n",
    "cy = (None,None)\n",
    "cx = (None,None)"
   ]
  },
  {
   "cell_type": "code",
   "execution_count": 6,
   "id": "ddbe2bd4",
   "metadata": {},
   "outputs": [],
   "source": [
    "offsets = [n.load(f,allow_pickle=True).item() for f in offset_files]\n",
    "offset = offsets[0]\n",
    "for k,v in offset.items():\n",
    "    offset[k] = n.array(n.concatenate([o[k] for o in offsets],axis=1) )\n",
    "    offset[k] = offset[k][cz[0]:cz[1], ct[0]:ct[1]]\n",
    "dx = (offset['xms'] - n.floor(offset['xms'].mean(axis=1,keepdims=True)))[cz[0]:cz[1]]\n",
    "dy = (offset['yms'] - n.floor(offset['yms'].mean(axis=1,keepdims=True)))[cz[0]:cz[1]]"
   ]
  },
  {
   "cell_type": "code",
   "execution_count": 7,
   "id": "d993999c",
   "metadata": {},
   "outputs": [],
   "source": [
    "summary = job.load_summary()\n",
    "all_ops = summary['all_ops']\n",
    "crosstalk_coeff = summary['crosstalk_coeff']\n",
    "refs_and_masks = summary['refs_and_masks']\n",
    "ref_img = summary['ref_img_3d'][cz[0]:cz[1]]\n",
    "min_pix_vals = summary['min_pix_vals']\n",
    "mask_mul, mask_offset, ref_2ds = n.stack([r[:3] for r in refs_and_masks],axis=1)[:,cz[0]:cz[1], cy[0]:cy[1], cx[0]:cx[1]]\n",
    "mask_mul_nr, mask_offset_nr, ref_nr = n.stack([r[3:] for r in refs_and_masks],axis=1)[:,cz[0]:cz[1], cy[0]:cy[1], cx[0]:cx[1]]\n",
    "rmins = n.array([op['rmin'] for op in all_ops])\n",
    "rmaxs = n.array([op['rmax'] for op in all_ops])"
   ]
  },
  {
   "cell_type": "code",
   "execution_count": 8,
   "id": "ad98a969",
   "metadata": {},
   "outputs": [
    {
     "name": "stdout",
     "output_type": "stream",
     "text": [
      "Loading /mnt/a2/AH007/2022-03-28/2/AH007_ROI3p33um_NOSCREEN_-400um_00002_00001.tif\n",
      "Loaded 1 files, total 5.68 GB\n"
     ]
    }
   ],
   "source": [
    "mov_raw = lbmio.load_and_stitch_tifs(job.tifs[1:2], planes = n.arange(cz[0],cz[1]))[:,:,cy[0]:cy[1], cx[0]:cx[1]]\n",
    "mov_raw = mov_raw[:,ct[0]:ct[1]]\n",
    "mov_pos = mov_raw - min_pix_vals.reshape(len(min_pix_vals), 1, 1, 1)[cz[0]:cz[1],]"
   ]
  },
  {
   "cell_type": "code",
   "execution_count": 9,
   "id": "878ef8b5",
   "metadata": {},
   "outputs": [],
   "source": [
    "# del mov_gpu\n",
    "# del mov_shifted\n",
    "mempool = cp.get_default_memory_pool()\n",
    "mempool.free_all_blocks()"
   ]
  },
  {
   "cell_type": "code",
   "execution_count": 10,
   "id": "9d8536bb",
   "metadata": {},
   "outputs": [],
   "source": [
    "from suite3d import register_gpu as rgpu "
   ]
  },
  {
   "cell_type": "code",
   "execution_count": 11,
   "id": "65770e85",
   "metadata": {},
   "outputs": [
    {
     "name": "stdout",
     "output_type": "stream",
     "text": [
      "CPU times: user 4.18 s, sys: 5.4 s, total: 9.59 s\n",
      "Wall time: 9.59 s\n"
     ]
    }
   ],
   "source": [
    "%%time\n",
    "mov_shifted, ymaxs, xmaxs = rgpu.rigid_2d_reg_gpu(mov_pos, mask_mul, mask_offset, ref_2ds, shift=True,\n",
    "                                                 max_reg_xy = 50, rmins=rmins, rmaxs=rmaxs, crosstalk_coeff=crosstalk_coeff)"
   ]
  },
  {
   "cell_type": "code",
   "execution_count": 12,
   "id": "abb0d17a",
   "metadata": {},
   "outputs": [
    {
     "name": "stdout",
     "output_type": "stream",
     "text": [
      "CPU times: user 703 ms, sys: 769 ms, total: 1.47 s\n",
      "Wall time: 1.47 s\n"
     ]
    }
   ],
   "source": [
    "%%time\n",
    "mov_shifted_gpu = mov_shifted.get()\n",
    "ymaxs_gpu = ymaxs.get(); \n",
    "xmaxs_gpu = xmaxs.get()"
   ]
  },
  {
   "cell_type": "code",
   "execution_count": 25,
   "id": "e95d9cb5",
   "metadata": {},
   "outputs": [
    {
     "name": "stdout",
     "output_type": "stream",
     "text": [
      "CPU times: user 2.59 s, sys: 1.35 s, total: 3.94 s\n",
      "Wall time: 3.94 s\n"
     ]
    }
   ],
   "source": [
    "# %%time\n",
    "# ymaxs, xmaxs = rgpu.rigid_2d_reg_gpu(mov_pos, mask_mul, mask_offset, ref_2ds, shift=False,\n",
    "#                                                  max_reg_xy = 50, rmins=rmins, rmaxs=rmaxs, crosstalk_coeff=crosstalk_coeff)"
   ]
  },
  {
   "cell_type": "code",
   "execution_count": 13,
   "id": "f6939076",
   "metadata": {},
   "outputs": [
    {
     "name": "stdout",
     "output_type": "stream",
     "text": [
      "CPU times: user 5min 37s, sys: 8.87 s, total: 5min 46s\n",
      "Wall time: 33.5 s\n"
     ]
    }
   ],
   "source": [
    "%%time\n",
    "mov_shifted_cpu, ymaxs_cpu, xmaxs_cpu = rgpu.rigid_2d_reg_cpu(mov_pos, mask_mul, mask_offset, ref_2ds, shift=True,\n",
    "                                                 max_reg_xy = 50, rmins=rmins, rmaxs=rmaxs, crosstalk_coeff=crosstalk_coeff)"
   ]
  },
  {
   "cell_type": "code",
   "execution_count": 14,
   "id": "bb00e610",
   "metadata": {},
   "outputs": [],
   "source": [
    "# %%time\n",
    "# ymaxs_cpu, xmaxs_cpu = rgpu.rigid_2d_reg_cpu(mov_pos, mask_mul, mask_offset, ref_2ds, shift=False,\n",
    "#                                                  max_reg_xy = 50, rmins=rmins, rmaxs=rmaxs, crosstalk_coeff=crosstalk_coeff)"
   ]
  },
  {
   "cell_type": "code",
   "execution_count": 15,
   "id": "6753dff3",
   "metadata": {
    "scrolled": false
   },
   "outputs": [
    {
     "data": {
      "text/plain": [
       "1.0"
      ]
     },
     "execution_count": 15,
     "metadata": {},
     "output_type": "execute_result"
    }
   ],
   "source": [
    "n.isclose(mov_shifted_gpu[:], mov_shifted_cpu[:], rtol=1e-3, atol=1e-5).sum() / mov_shifted_gpu.size"
   ]
  },
  {
   "cell_type": "code",
   "execution_count": 16,
   "id": "25be6369",
   "metadata": {},
   "outputs": [
    {
     "data": {
      "image/png": "[encoded data removed]",
      "text/plain": [
       "<Figure size 640x480 with 1 Axes>"
      ]
     },
     "metadata": {},
     "output_type": "display_data"
    },
    {
     "data": {
      "image/png": "[encoded data removed]",
      "text/plain": [
       "<Figure size 640x480 with 1 Axes>"
      ]
     },
     "metadata": {},
     "output_type": "display_data"
    }
   ],
   "source": [
    "plt.plot(ymaxs_gpu.mean(axis=1))\n",
    "plt.plot(xmaxs_gpu.mean(axis=1))\n",
    "plt.show()\n",
    "plt.plot(ymaxs_cpu.mean(axis=1))\n",
    "plt.plot(xmaxs_cpu.mean(axis=1))\n",
    "plt.show()"
   ]
  },
  {
   "cell_type": "code",
   "execution_count": null,
   "id": "d9e87f49",
   "metadata": {},
   "outputs": [],
   "source": []
  },
  {
   "cell_type": "code",
   "execution_count": null,
   "id": "d13b7fd8",
   "metadata": {},
   "outputs": [],
   "source": []
  },
  {
   "cell_type": "code",
   "execution_count": 37,
   "id": "8e32f8b8",
   "metadata": {},
   "outputs": [],
   "source": [
    "n_reg = 50\n",
    "n_cc = n_reg * 2 + 1"
   ]
  },
  {
   "cell_type": "code",
   "execution_count": 38,
   "id": "c2f8c244",
   "metadata": {},
   "outputs": [
    {
     "name": "stdout",
     "output_type": "stream",
     "text": [
      "CPU times: user 3.32 s, sys: 1.44 s, total: 4.76 s\n",
      "Wall time: 4.9 s\n"
     ]
    }
   ],
   "source": [
    "%%time\n",
    "mov_gpu = cp.asarray(mov_pos, dtype=cp.complex64)\n",
    "mul_mask_gpu = cp.asarray(mask_mul)\n",
    "off_mask_gpu = cp.asarray(mask_offset)\n",
    "ref_2ds_gpu = cp.asarray(ref_2ds)\n",
    "nz, nt, ny, nx = mov_gpu.shape\n",
    "mov_shifted = cp.zeros((nt,nz,ny,nx), dtype=n.float32)\n",
    "mov_shifted[:] = mov_gpu.real.swapaxes(0,1)\n",
    "# mov_sub = mov_pos.copy().astype(n.float32)\n",
    "for i in range(nz - 15):\n",
    "    mov_gpu[i + 15] -= crosstalk_coeff * mov_gpu[i]"
   ]
  },
  {
   "cell_type": "code",
   "execution_count": 47,
   "id": "9d413805",
   "metadata": {},
   "outputs": [
    {
     "name": "stdout",
     "output_type": "stream",
     "text": [
      "CPU times: user 3.12 s, sys: 0 ns, total: 3.12 s\n",
      "Wall time: 3.11 s\n"
     ]
    }
   ],
   "source": [
    "%%time\n",
    "ymaxs = cp.zeros((nz, nt), dtype=cp.int16)\n",
    "xmaxs = cp.zeros((nz, nt), dtype=cp.int16)\n",
    "for zidx in range(nz):\n",
    "    ops = all_ops[zidx]\n",
    "    rmin, rmax = ops['rmin'], ops['rmax']\n",
    "    mov_gpu[zidx].real = cp.clip(mov_gpu[zidx].real, rmin, rmax, out=mov_gpu[zidx].real)\n",
    "    mov_gpu[zidx] *= mul_mask_gpu[zidx, cp.newaxis]\n",
    "    mov_gpu[zidx] += off_mask_gpu[zidx, cp.newaxis]\n",
    "    \n",
    "    # convolve\n",
    "    mov_gpu[zidx] = cufft.fft2(mov_gpu[zidx],axes=(1,2),overwrite_x=True)\n",
    "    #    apply_dotnorm\n",
    "    mov_gpu[zidx] /= cp.abs(mov_gpu[zidx]) + cp.complex64(1e-5)\n",
    "    mov_gpu[zidx] *= ref_2ds_gpu[zidx]\n",
    "    # \n",
    "    mov_gpu[zidx] = cufft.ifft2(mov_gpu[zidx], axes=(1,2),overwrite_x=True)\n",
    "    # n_cc = n_reg * 2 + 1\n",
    "\n",
    "    phase_corr = cp.zeros((nt, n_cc, n_cc), dtype=n.float32)\n",
    "    phase_corr[:, :n_reg, :n_reg] = mov_gpu[zidx].real[:, -n_reg:, -n_reg:]\n",
    "    phase_corr[:, n_reg:, :n_reg] = mov_gpu[zidx].real[:, :n_reg+1, -n_reg:]\n",
    "    phase_corr[:, :n_reg, n_reg:] = mov_gpu[zidx].real[:, -n_reg:, :n_reg+1]\n",
    "    phase_corr[:, n_reg:, n_reg:] = mov_gpu[zidx].real[:, :n_reg+1, :n_reg+1]\n",
    "    #     cc = cc.get()\n",
    "    phase_corr_flat = phase_corr.reshape(nt, n_cc**2)\n",
    "    argmaxs = cp.argmax(phase_corr_flat, axis=1)\n",
    "    ymaxs[zidx] = (argmaxs // n_cc) - n_reg\n",
    "    xmaxs[zidx] = (argmaxs % n_cc) - n_reg\n",
    "    \n",
    "    for frame_idx in range(nt):\n",
    "        mov_shifted[frame_idx, zidx] = cuimage.shift(mov_shifted[frame_idx,zidx],\n",
    "                    shift = (ymaxs[zidx, frame_idx], xmaxs[zidx, frame_idx]),\n",
    "                    output = mov_shifted[frame_idx, zidx])\n",
    "#         mov_shifted[frame_idx, zidx] = cp.roll(mov_shifted[frame_idx,zidx],\n",
    "#                     shift = (ymaxs[zidx, frame_idx], xmaxs[zidx, frame_idx]))"
   ]
  },
  {
   "cell_type": "code",
   "execution_count": 22,
   "id": "4f454064",
   "metadata": {
    "scrolled": true
   },
   "outputs": [
    {
     "name": "stdout",
     "output_type": "stream",
     "text": [
      "CPU times: user 48 µs, sys: 92 µs, total: 140 µs\n",
      "Wall time: 244 µs\n"
     ]
    }
   ],
   "source": [
    "%%time\n",
    "ymaxs = ymaxs.get(); xmaxs = xmaxs.get()"
   ]
  },
  {
   "cell_type": "code",
   "execution_count": 23,
   "id": "72d29072",
   "metadata": {
    "scrolled": false
   },
   "outputs": [
    {
     "data": {
      "text/plain": [
       "[<matplotlib.lines.Line2D at 0x7f3cd9328d60>]"
      ]
     },
     "execution_count": 23,
     "metadata": {},
     "output_type": "execute_result"
    },
    {
     "data": {
      "image/png": "[encoded data removed]",
      "text/plain": [
       "<Figure size 640x480 with 1 Axes>"
      ]
     },
     "metadata": {},
     "output_type": "display_data"
    }
   ],
   "source": [
    "plt.plot(ymaxs.mean(axis=1))\n",
    "plt.plot(xmaxs.mean(axis=1))"
   ]
  },
  {
   "cell_type": "code",
   "execution_count": null,
   "id": "bb9c3100",
   "metadata": {},
   "outputs": [],
   "source": []
  },
  {
   "cell_type": "code",
   "execution_count": 51,
   "id": "16a235cb",
   "metadata": {},
   "outputs": [
    {
     "name": "stdout",
     "output_type": "stream",
     "text": [
      "CPU times: user 141 µs, sys: 225 µs, total: 366 µs\n",
      "Wall time: 335 µs\n"
     ]
    }
   ],
   "source": [
    "%%time\n",
    "out = cp.roll(mov_gpu[zidx].real, (50,50), axis=(1,2))"
   ]
  },
  {
   "cell_type": "code",
   "execution_count": 33,
   "id": "4a36907a",
   "metadata": {},
   "outputs": [
    {
     "name": "stdout",
     "output_type": "stream",
     "text": [
      "CPU times: user 24.2 ms, sys: 36.4 ms, total: 60.6 ms\n",
      "Wall time: 60.2 ms\n"
     ]
    }
   ],
   "source": [
    "%%time \n",
    "data_rolled = n.roll(data,(50,50), axis=(1,2))"
   ]
  },
  {
   "cell_type": "code",
   "execution_count": 29,
   "id": "d7d0ae2a",
   "metadata": {},
   "outputs": [
    {
     "name": "stdout",
     "output_type": "stream",
     "text": [
      "CPU times: user 328 µs, sys: 646 µs, total: 974 µs\n",
      "Wall time: 719 µs\n"
     ]
    }
   ],
   "source": [
    "%%time\n",
    "cc = (n.block([[data[:,  -lcorr:, -lcorr:], data[:,  -lcorr:, :lcorr+1]],\n",
    "            [data[:, :lcorr+1, -lcorr:], data[:, :lcorr+1, :lcorr+1]]] )) "
   ]
  },
  {
   "cell_type": "code",
   "execution_count": 27,
   "id": "cf14ef5b",
   "metadata": {},
   "outputs": [
    {
     "data": {
      "text/plain": [
       "0"
      ]
     },
     "execution_count": 27,
     "metadata": {},
     "output_type": "execute_result"
    }
   ],
   "source": [
    "(~n.isclose(data_rolled[:,:101, :101],cc)).sum()"
   ]
  },
  {
   "cell_type": "code",
   "execution_count": 22,
   "id": "b3d63148",
   "metadata": {},
   "outputs": [
    {
     "data": {
      "text/plain": [
       "(50, 101, 101)"
      ]
     },
     "execution_count": 22,
     "metadata": {},
     "output_type": "execute_result"
    }
   ],
   "source": [
    "cc.shape"
   ]
  },
  {
   "cell_type": "code",
   "execution_count": 21,
   "id": "257ba974",
   "metadata": {},
   "outputs": [
    {
     "data": {
      "text/plain": [
       "(50, 1202, 1015)"
      ]
     },
     "execution_count": 21,
     "metadata": {},
     "output_type": "execute_result"
    }
   ],
   "source": [
    "data.shape"
   ]
  },
  {
   "cell_type": "code",
   "execution_count": 28,
   "id": "6ace31b8",
   "metadata": {},
   "outputs": [],
   "source": [
    "%%time\n",
    "del mov_gpu\n",
    "mempool.free_all_blocks()\n",
    "mov_gpu = cp.asarray(mov_pos, dtype=cp.float32)\n",
    "for i in range(nz - 15):\n",
    "    mov_gpu[i + 15] -= crosstalk_coeff * mov_gpu[i]"
   ]
  },
  {
   "cell_type": "code",
   "execution_count": 32,
   "id": "95e0bcac",
   "metadata": {},
   "outputs": [],
   "source": [
    "ymaxs_gpu = cp.asarray(ymaxs, dtype=cp.int16)\n",
    "xmaxs_gpu = cp.asarray(xmaxs, dtype=cp.int16)"
   ]
  },
  {
   "cell_type": "code",
   "execution_count": 33,
   "id": "43e3048a",
   "metadata": {},
   "outputs": [],
   "source": [
    "from cupyx.scipy import ndimage as cuimage"
   ]
  },
  {
   "cell_type": "code",
   "execution_count": 40,
   "id": "30b221ec",
   "metadata": {},
   "outputs": [
    {
     "name": "stdout",
     "output_type": "stream",
     "text": [
      "CPU times: user 2.44 s, sys: 11.4 ms, total: 2.46 s\n",
      "Wall time: 2.47 s\n"
     ]
    }
   ],
   "source": []
  },
  {
   "cell_type": "code",
   "execution_count": 56,
   "id": "2df67eea",
   "metadata": {},
   "outputs": [
    {
     "name": "stdout",
     "output_type": "stream",
     "text": [
      "CPU times: user 1.05 ms, sys: 9.62 ms, total: 10.7 ms\n",
      "Wall time: 10.5 ms\n"
     ]
    }
   ],
   "source": [
    "%%time\n",
    "mov_gpu_zoom = cuimage.zoom(mov_gpu,zoom=0.5, order=1)"
   ]
  },
  {
   "cell_type": "code",
   "execution_count": 57,
   "id": "18f4f3e3",
   "metadata": {},
   "outputs": [
    {
     "name": "stdout",
     "output_type": "stream",
     "text": [
      "CPU times: user 1.3 ms, sys: 0 ns, total: 1.3 ms\n",
      "Wall time: 1.17 ms\n"
     ]
    }
   ],
   "source": [
    "%%time\n",
    "mov_gpu_zoom_zf = cp.fft.fft(mov_gpu_zoom, axis=0,)"
   ]
  },
  {
   "cell_type": "code",
   "execution_count": 58,
   "id": "3021bd01",
   "metadata": {},
   "outputs": [
    {
     "data": {
      "text/plain": [
       "(12, 25, 601, 508)"
      ]
     },
     "execution_count": 58,
     "metadata": {},
     "output_type": "execute_result"
    }
   ],
   "source": [
    "mov_gpu_zoom_zf.shape"
   ]
  },
  {
   "cell_type": "code",
   "execution_count": 53,
   "id": "271f053c",
   "metadata": {},
   "outputs": [
    {
     "data": {
      "text/plain": [
       "(12, 25, 601, 508)"
      ]
     },
     "execution_count": 53,
     "metadata": {},
     "output_type": "execute_result"
    }
   ],
   "source": [
    "mov_gpu_zoom_zf.shape"
   ]
  },
  {
   "cell_type": "code",
   "execution_count": 48,
   "id": "c8307317",
   "metadata": {},
   "outputs": [
    {
     "data": {
      "text/plain": [
       "(25, 50, 1202, 1015)"
      ]
     },
     "execution_count": 48,
     "metadata": {},
     "output_type": "execute_result"
    }
   ],
   "source": [
    "mov_gpu_zoom.shape"
   ]
  },
  {
   "cell_type": "code",
   "execution_count": 55,
   "id": "e3f59867",
   "metadata": {},
   "outputs": [
    {
     "data": {
      "text/plain": [
       "(25, 50, 1202, 1015)"
      ]
     },
     "execution_count": 55,
     "metadata": {},
     "output_type": "execute_result"
    }
   ],
   "source": [
    "mov_gpu.shape"
   ]
  },
  {
   "cell_type": "code",
   "execution_count": 43,
   "id": "8955fab4",
   "metadata": {},
   "outputs": [
    {
     "data": {
      "text/plain": [
       "(25, 1202, 1015)"
      ]
     },
     "execution_count": 43,
     "metadata": {},
     "output_type": "execute_result"
    }
   ],
   "source": [
    "ref_2ds_gpu.shape"
   ]
  },
  {
   "cell_type": "code",
   "execution_count": 42,
   "id": "354e3ad7",
   "metadata": {},
   "outputs": [
    {
     "data": {
      "text/plain": [
       "(25, 50, 1202, 1015)"
      ]
     },
     "execution_count": 42,
     "metadata": {},
     "output_type": "execute_result"
    }
   ],
   "source": [
    "mov_gpu.shape"
   ]
  },
  {
   "cell_type": "code",
   "execution_count": null,
   "id": "a555168b",
   "metadata": {},
   "outputs": [],
   "source": []
  },
  {
   "cell_type": "code",
   "execution_count": 22,
   "id": "ded54b2d",
   "metadata": {
    "scrolled": false
   },
   "outputs": [
    {
     "data": {
      "text/plain": [
       "[<matplotlib.lines.Line2D at 0x7f43e3da95b0>]"
      ]
     },
     "execution_count": 22,
     "metadata": {},
     "output_type": "execute_result"
    },
    {
     "data": {
      "image/png": "[encoded data removed]",
      "text/plain": [
       "<Figure size 640x480 with 1 Axes>"
      ]
     },
     "metadata": {},
     "output_type": "display_data"
    }
   ],
   "source": [
    "plt.plot(ymaxs.mean(axis=1))\n",
    "plt.plot(xmaxs.mean(axis=1))"
   ]
  },
  {
   "cell_type": "code",
   "execution_count": null,
   "id": "ef2c5f35",
   "metadata": {},
   "outputs": [],
   "source": []
  },
  {
   "cell_type": "code",
   "execution_count": null,
   "id": "6d10aeab",
   "metadata": {},
   "outputs": [],
   "source": []
  },
  {
   "cell_type": "code",
   "execution_count": null,
   "id": "0ecbc4cb",
   "metadata": {},
   "outputs": [],
   "source": []
  }
 ],
 "metadata": {
  "kernelspec": {
   "display_name": "s2p-lbm",
   "language": "python",
   "name": "s2p-lbm"
  },
  "language_info": {
   "codemirror_mode": {
    "name": "ipython",
    "version": 3
   },
   "file_extension": ".py",
   "mimetype": "text/x-python",
   "name": "python",
   "nbconvert_exporter": "python",
   "pygments_lexer": "ipython3",
   "version": "3.8.17"
  }
 },
 "nbformat": 4,
 "nbformat_minor": 5
}
