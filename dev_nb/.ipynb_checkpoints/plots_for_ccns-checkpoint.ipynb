{
 "cells": [
  {
   "cell_type": "code",
   "execution_count": 1,
   "id": "280bdc6d",
   "metadata": {},
   "outputs": [],
   "source": [
    "%load_ext autoreload\n",
    "%autoreload 2\n",
    "\n",
    "import os \n",
    "import shutil\n",
    "import numpy as n\n",
    "from datetime import date\n",
    "from matplotlib import pyplot as plt\n",
    "import time\n",
    "import napari"
   ]
  },
  {
   "cell_type": "code",
   "execution_count": 2,
   "id": "2a38f36c",
   "metadata": {},
   "outputs": [],
   "source": [
    "os.chdir('/home/ali/packages/s2p-lbm/')\n",
    "\n",
    "from suite3d.job import Job\n",
    "from suite3d import lbmio, utils, ui\n",
    "from suite3d import tiff_utils as tfu\n",
    "from suite3d import file_utils as flu"
   ]
  },
  {
   "cell_type": "code",
   "execution_count": 3,
   "id": "c161247e",
   "metadata": {},
   "outputs": [],
   "source": [
    "exp_str = 'AH007_2022-03-28_2-4-5'"
   ]
  },
  {
   "cell_type": "code",
   "execution_count": 4,
   "id": "aaf77e5e",
   "metadata": {},
   "outputs": [
    {
     "name": "stdout",
     "output_type": "stream",
     "text": [
      "   Found and loaded params from /mnt/md0/runs/s3d-AH007_2022-03-28_2-4-5/params.npy\n"
     ]
    }
   ],
   "source": [
    "# Create the job\n",
    "job = Job('/mnt/md0/runs',exp_str, create=False, overwrite=False, verbosity = 3)"
   ]
  },
  {
   "cell_type": "code",
   "execution_count": 5,
   "id": "81d35b2c",
   "metadata": {},
   "outputs": [],
   "source": [
    "combined_dir = job.dirs['detection-combined-full']"
   ]
  },
  {
   "cell_type": "code",
   "execution_count": 6,
   "id": "1ca6bd60",
   "metadata": {},
   "outputs": [],
   "source": [
    "outputs = ui.load_outputs(combined_dir, load_traces=True)"
   ]
  },
  {
   "cell_type": "code",
   "execution_count": null,
   "id": "e483f23e",
   "metadata": {},
   "outputs": [],
   "source": []
  },
  {
   "cell_type": "code",
   "execution_count": 7,
   "id": "511177ec",
   "metadata": {},
   "outputs": [],
   "source": [
    "v1, v2 = ui.make_label_vols(outputs['stats'], outputs['vmap'].shape, \n",
    "            iscell =  outputs['iscell_curated_slider'], \n",
    "                  cmap='Blues', lam_max = 0.3)"
   ]
  },
  {
   "cell_type": "code",
   "execution_count": 8,
   "id": "93d3da2d",
   "metadata": {},
   "outputs": [],
   "source": [
    "stats = outputs['stats']\n",
    "shape = outputs['vmap'].shape\n",
    "iscell = outputs['iscell_curated_slider']\n",
    "lam_thresh = 0.15\n",
    "coords = [stat['coords'] for stat in stats]\n",
    "lams = [stat['lam'] for stat in stats]\n",
    "F = outputs['F']"
   ]
  },
  {
   "cell_type": "code",
   "execution_count": 9,
   "id": "851871e7",
   "metadata": {},
   "outputs": [],
   "source": [
    "import copy"
   ]
  },
  {
   "cell_type": "code",
   "execution_count": 24,
   "id": "1f8d635e",
   "metadata": {},
   "outputs": [],
   "source": [
    "meds = n.array([stat['med'] for stat in stats])"
   ]
  },
  {
   "cell_type": "code",
   "execution_count": 11,
   "id": "d8e487f1",
   "metadata": {},
   "outputs": [],
   "source": [
    "spks = outputs['spks']"
   ]
  },
  {
   "cell_type": "code",
   "execution_count": 12,
   "id": "f1468603",
   "metadata": {},
   "outputs": [],
   "source": [
    "sm = spks.mean(axis=0)"
   ]
  },
  {
   "cell_type": "code",
   "execution_count": 14,
   "id": "2129e222",
   "metadata": {},
   "outputs": [
    {
     "data": {
      "text/plain": [
       "(2000.0, 2100.0)"
      ]
     },
     "execution_count": 14,
     "metadata": {},
     "output_type": "execute_result"
    },
    {
     "data": {
      "image/png": "[encoded data removed]",
      "text/plain": [
       "<Figure size 640x480 with 1 Axes>"
      ]
     },
     "metadata": {},
     "output_type": "display_data"
    }
   ],
   "source": [
    "plt.plot(sm)\n",
    "plt.xlim(2000,2100)"
   ]
  },
  {
   "cell_type": "code",
   "execution_count": 50,
   "id": "daddaa65",
   "metadata": {},
   "outputs": [],
   "source": [
    "cell_act_vol = n.zeros( (nts,) + shape)"
   ]
  },
  {
   "cell_type": "code",
   "execution_count": 51,
   "id": "707ed031",
   "metadata": {},
   "outputs": [],
   "source": [
    "nts = 50\n",
    "start_idx = 2040"
   ]
  },
  {
   "cell_type": "code",
   "execution_count": 54,
   "id": "edef0549",
   "metadata": {},
   "outputs": [
    {
     "data": {
      "text/plain": [
       "(50, 11)"
      ]
     },
     "execution_count": 54,
     "metadata": {},
     "output_type": "execute_result"
    }
   ],
   "source": [
    "cell_act_vol[:, cz,cy,cx].shape"
   ]
  },
  {
   "cell_type": "code",
   "execution_count": 57,
   "id": "91e39999",
   "metadata": {},
   "outputs": [
    {
     "data": {
      "text/plain": [
       "(50,)"
      ]
     },
     "execution_count": 57,
     "metadata": {},
     "output_type": "execute_result"
    }
   ],
   "source": [
    "F[i, start_idx:start_idx+nts].shape"
   ]
  },
  {
   "cell_type": "code",
   "execution_count": 60,
   "id": "0b13e44d",
   "metadata": {},
   "outputs": [],
   "source": [
    "for i in range(len(stats)):\n",
    "    if iscell[i,0]:\n",
    "        cz,cy,cx = coords[i]\n",
    "        if meds[i][0] == 0:\n",
    "            continue\n",
    "        lam = copy.copy(lams[i])\n",
    "        idxs = lam > lam_thresh\n",
    "        cz = cz[idxs]; cy = cy[idxs]; cx = cx[idxs]\n",
    "        for j in range(len(cz)):\n",
    "            cell_act_vol[:,cz[j], cy[j],cx[j]] = F[i, start_idx:start_idx+nts]"
   ]
  },
  {
   "cell_type": "code",
   "execution_count": 61,
   "id": "1880ccd1",
   "metadata": {},
   "outputs": [],
   "source": [
    "cell_act_vol_int = (10*cell_act_vol).astype(n.int16)"
   ]
  },
  {
   "cell_type": "code",
   "execution_count": 70,
   "id": "d11494ee",
   "metadata": {},
   "outputs": [
    {
     "ename": "NameError",
     "evalue": "name 'nst' is not defined",
     "output_type": "error",
     "traceback": [
      "\u001b[0;31m---------------------------------------------------------------------------\u001b[0m",
      "\u001b[0;31mNameError\u001b[0m                                 Traceback (most recent call last)",
      "Cell \u001b[0;32mIn[70], line 1\u001b[0m\n\u001b[0;32m----> 1\u001b[0m \u001b[38;5;28;01mfor\u001b[39;00m i \u001b[38;5;129;01min\u001b[39;00m \u001b[38;5;28mrange\u001b[39m(\u001b[43mnst\u001b[49m):\n\u001b[1;32m      2\u001b[0m     tfu\u001b[38;5;241m.\u001b[39msave_mrc(\u001b[38;5;124m'\u001b[39m\u001b[38;5;124m/mnt/md0/share\u001b[39m\u001b[38;5;124m'\u001b[39m, \u001b[38;5;124m'\u001b[39m\u001b[38;5;132;01m%03d\u001b[39;00m\u001b[38;5;124m.mrc\u001b[39m\u001b[38;5;124m'\u001b[39m \u001b[38;5;241m%\u001b[39m i,cell_act_vol_int[i], voxel_size\u001b[38;5;241m=\u001b[39m(\u001b[38;5;241m4\u001b[39m,\u001b[38;5;241m4\u001b[39m,\u001b[38;5;241m15\u001b[39m), dtype\u001b[38;5;241m=\u001b[39mn\u001b[38;5;241m.\u001b[39mint16)\n",
      "\u001b[0;31mNameError\u001b[0m: name 'nst' is not defined"
     ]
    }
   ],
   "source": [
    "for i in range(nst):\n",
    "    tfu.save_mrc('/mnt/md0/share', '%03d.mrc' % i,cell_act_vol_int[i], voxel_size=(4,4,15), dtype=n.int16)"
   ]
  },
  {
   "cell_type": "code",
   "execution_count": 63,
   "id": "db11cf54",
   "metadata": {},
   "outputs": [],
   "source": [
    "tfu.save_mrc('/mnt/md0/share', 'cell_activity.mrc',cell_act_vol_int, voxel_size=(4,4,15), dtype=n.int16)"
   ]
  },
  {
   "cell_type": "code",
   "execution_count": 67,
   "id": "8f055361",
   "metadata": {},
   "outputs": [
    {
     "ename": "TypeError",
     "evalue": "_set_voxel_size() takes 4 positional arguments but 5 were given",
     "output_type": "error",
     "traceback": [
      "\u001b[0;31m---------------------------------------------------------------------------\u001b[0m",
      "\u001b[0;31mTypeError\u001b[0m                                 Traceback (most recent call last)",
      "Cell \u001b[0;32mIn[67], line 1\u001b[0m\n\u001b[0;32m----> 1\u001b[0m \u001b[43mtfu\u001b[49m\u001b[38;5;241;43m.\u001b[39;49m\u001b[43msave_mrc\u001b[49m\u001b[43m(\u001b[49m\u001b[38;5;124;43m'\u001b[39;49m\u001b[38;5;124;43m/mnt/md0/share\u001b[39;49m\u001b[38;5;124;43m'\u001b[39;49m\u001b[43m,\u001b[49m\u001b[43m \u001b[49m\u001b[38;5;124;43m'\u001b[39;49m\u001b[38;5;124;43mcell_activity_4d.mrc\u001b[39;49m\u001b[38;5;124;43m'\u001b[39;49m\u001b[43m,\u001b[49m\u001b[43mcell_act_vol_int\u001b[49m\u001b[43m,\u001b[49m\u001b[43m \u001b[49m\u001b[43mvoxel_size\u001b[49m\u001b[38;5;241;43m=\u001b[39;49m\u001b[43m(\u001b[49m\u001b[38;5;241;43m4\u001b[39;49m\u001b[43m,\u001b[49m\u001b[38;5;241;43m4\u001b[39;49m\u001b[43m,\u001b[49m\u001b[38;5;241;43m15\u001b[39;49m\u001b[43m,\u001b[49m\u001b[38;5;241;43m1\u001b[39;49m\u001b[43m)\u001b[49m\u001b[43m,\u001b[49m\u001b[43m \u001b[49m\u001b[43mdtype\u001b[49m\u001b[38;5;241;43m=\u001b[39;49m\u001b[43mn\u001b[49m\u001b[38;5;241;43m.\u001b[39;49m\u001b[43mint16\u001b[49m\u001b[43m)\u001b[49m\n",
      "File \u001b[0;32m~/packages/s2p-lbm/suite3d/tiff_utils.py:310\u001b[0m, in \u001b[0;36msave_mrc\u001b[0;34m(dir, fname, data, voxel_size, dtype)\u001b[0m\n\u001b[1;32m    308\u001b[0m \u001b[38;5;28;01mwith\u001b[39;00m mrcfile\u001b[38;5;241m.\u001b[39mnew(fpath, overwrite\u001b[38;5;241m=\u001b[39m\u001b[38;5;28;01mTrue\u001b[39;00m) \u001b[38;5;28;01mas\u001b[39;00m mrc:\n\u001b[1;32m    309\u001b[0m     mrc\u001b[38;5;241m.\u001b[39mset_data(data\u001b[38;5;241m.\u001b[39mastype(dtype))\n\u001b[0;32m--> 310\u001b[0m     \u001b[43mmrc\u001b[49m\u001b[38;5;241;43m.\u001b[39;49m\u001b[43mvoxel_size\u001b[49m \u001b[38;5;241m=\u001b[39m voxel_size\n",
      "File \u001b[0;32m~/anaconda3/envs/suite3d-gpu/lib/python3.8/site-packages/mrcfile/mrcobject.py:303\u001b[0m, in \u001b[0;36mMrcObject.voxel_size\u001b[0;34m(self, voxel_size)\u001b[0m\n\u001b[1;32m    300\u001b[0m     \u001b[38;5;28;01mexcept\u001b[39;00m \u001b[38;5;167;01mAttributeError\u001b[39;00m:\n\u001b[1;32m    301\u001b[0m         \u001b[38;5;66;03m# If the item() method doesn't exist, assume we have a 3-tuple\u001b[39;00m\n\u001b[1;32m    302\u001b[0m         sizes \u001b[38;5;241m=\u001b[39m voxel_size\n\u001b[0;32m--> 303\u001b[0m \u001b[38;5;28;43mself\u001b[39;49m\u001b[38;5;241;43m.\u001b[39;49m\u001b[43m_set_voxel_size\u001b[49m\u001b[43m(\u001b[49m\u001b[38;5;241;43m*\u001b[39;49m\u001b[43msizes\u001b[49m\u001b[43m)\u001b[49m\n",
      "\u001b[0;31mTypeError\u001b[0m: _set_voxel_size() takes 4 positional arguments but 5 were given"
     ]
    }
   ],
   "source": [
    "tfu.save_mrc('/mnt/md0/share', 'cell_activity_4d.mrc',cell_act_vol_int, voxel_size=(4,4,15,1), dtype=n.int16)"
   ]
  },
  {
   "cell_type": "code",
   "execution_count": null,
   "id": "89581b0b",
   "metadata": {},
   "outputs": [],
   "source": []
  },
  {
   "cell_type": "code",
   "execution_count": 64,
   "id": "bdf42b92",
   "metadata": {},
   "outputs": [
    {
     "data": {
      "text/plain": [
       "(50, 18, 1000, 850)"
      ]
     },
     "execution_count": 64,
     "metadata": {},
     "output_type": "execute_result"
    }
   ],
   "source": [
    "cell_act_vol_int.shape"
   ]
  },
  {
   "cell_type": "code",
   "execution_count": 65,
   "id": "18e95759",
   "metadata": {},
   "outputs": [
    {
     "data": {
      "text/plain": [
       "900"
      ]
     },
     "execution_count": 65,
     "metadata": {},
     "output_type": "execute_result"
    }
   ],
   "source": [
    "50*18"
   ]
  },
  {
   "cell_type": "code",
   "execution_count": 43,
   "id": "ae4537fc",
   "metadata": {},
   "outputs": [],
   "source": [
    "cell_vol = n.zeros(shape)"
   ]
  },
  {
   "cell_type": "code",
   "execution_count": 44,
   "id": "f082ea06",
   "metadata": {},
   "outputs": [],
   "source": [
    "for i in range(len(stats)):\n",
    "    if iscell[i,0]:\n",
    "        cz,cy,cx = coords[i]\n",
    "        if meds[i][0] == 0:\n",
    "            continue\n",
    "        lam = copy.copy(lams[i])\n",
    "        idxs = lam > lam_thresh\n",
    "        cz = cz[idxs]; cy = cy[idxs]; cx = cx[idxs]\n",
    "        cell_vol[cz, cy,cx] = 1"
   ]
  },
  {
   "cell_type": "code",
   "execution_count": 46,
   "id": "5a7060b6",
   "metadata": {},
   "outputs": [],
   "source": [
    "tfu.save_mrc('/mnt/md0/share', 'cell_vol.mrc',cell_vol, voxel_size=(4,4,15), dtype=n.int16)"
   ]
  },
  {
   "cell_type": "code",
   "execution_count": null,
   "id": "6fd12c83",
   "metadata": {},
   "outputs": [],
   "source": []
  }
 ],
 "metadata": {
  "kernelspec": {
   "display_name": "Python [conda env:suite3d-gpu]",
   "language": "python",
   "name": "conda-env-suite3d-gpu-py"
  },
  "language_info": {
   "codemirror_mode": {
    "name": "ipython",
    "version": 3
   },
   "file_extension": ".py",
   "mimetype": "text/x-python",
   "name": "python",
   "nbconvert_exporter": "python",
   "pygments_lexer": "ipython3",
   "version": "3.8.17"
  }
 },
 "nbformat": 4,
 "nbformat_minor": 5
}
