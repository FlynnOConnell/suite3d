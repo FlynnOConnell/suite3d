{
 "cells": [
  {
   "cell_type": "code",
   "execution_count": 1,
   "id": "05517427-e36b-4ff8-99d8-363944041a49",
   "metadata": {},
   "outputs": [],
   "source": [
    "%load_ext autoreload\n",
    "%autoreload 2\n",
    "\n",
    "import os \n",
    "import shutil\n",
    "import numpy as n\n",
    "from datetime import date\n",
    "from matplotlib import pyplot as plt\n",
    "import time\n",
    "import napari"
   ]
  },
  {
   "cell_type": "code",
   "execution_count": 2,
   "id": "2e540e4e-109b-4c55-8e7a-b5889ef6a825",
   "metadata": {},
   "outputs": [],
   "source": [
    "os.chdir('/home/ali/packages/s2p-lbm/')\n",
    "\n",
    "from suite3d.job import Job\n",
    "from suite3d import lbmio, utils, ui\n",
    "from suite3d import tiff_utils as tfu\n",
    "from suite3d import file_utils as flu"
   ]
  },
  {
   "cell_type": "code",
   "execution_count": 4,
   "id": "0ea97595-bf45-460e-aaeb-b979eaf33096",
   "metadata": {},
   "outputs": [
    {
     "name": "stdout",
     "output_type": "stream",
     "text": [
      "   Found and loaded params from /mnt/md0/runs/s3d-AH011_2024-02-02_1-4-6/params.npy\n"
     ]
    }
   ],
   "source": [
    "# Create the job\n",
    "exp_str = 'AH011_2024-02-02_1-4-6'\n",
    "job = Job('/mnt/md0/runs',exp_str, create=False)"
   ]
  },
  {
   "cell_type": "code",
   "execution_count": null,
   "id": "258e27f6-fe4a-463d-9946-f7b4c50d807b",
   "metadata": {},
   "outputs": [],
   "source": [
    "job.ge"
   ]
  },
  {
   "cell_type": "code",
   "execution_count": null,
   "id": "ad5e42ab-2f6e-468d-8d37-92117b2b40bf",
   "metadata": {},
   "outputs": [],
   "source": [
    "# %%time\n",
    "# job.register_gpu()"
   ]
  }
 ],
 "metadata": {
  "kernelspec": {
   "display_name": "Python [conda env:suite3d-gpu]",
   "language": "python",
   "name": "conda-env-suite3d-gpu-py"
  },
  "language_info": {
   "codemirror_mode": {
    "name": "ipython",
    "version": 3
   },
   "file_extension": ".py",
   "mimetype": "text/x-python",
   "name": "python",
   "nbconvert_exporter": "python",
   "pygments_lexer": "ipython3",
   "version": "3.8.18"
  }
 },
 "nbformat": 4,
 "nbformat_minor": 5
}
