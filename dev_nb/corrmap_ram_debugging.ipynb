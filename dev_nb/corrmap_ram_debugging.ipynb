{
 "cells": [
  {
   "cell_type": "code",
   "execution_count": 1,
   "id": "dff51d5e",
   "metadata": {},
   "outputs": [],
   "source": [
    "%load_ext autoreload\n",
    "%autoreload 2\n",
    "\n",
    "import os \n",
    "import shutil\n",
    "import numpy as n\n",
    "from datetime import date\n",
    "from matplotlib import pyplot as plt\n",
    "import time\n",
    "import napari"
   ]
  },
  {
   "cell_type": "code",
   "execution_count": 2,
   "id": "51d1964f",
   "metadata": {},
   "outputs": [],
   "source": [
    "## !! CHANGE ME !! ##\n",
    "from suite2p.io import lbm as lbmio\n",
    "from suite2p.suite3d import utils\n",
    "from suite2p.suite3d.job import Job\n",
    "from suite2p.suite3d import ui\n",
    "\n",
    "os.chdir('/home/ali/packages/s2p-lbm/')\n",
    "from utils import tiff_utils as tfu\n",
    "from utils import file_utils as flu"
   ]
  },
  {
   "cell_type": "code",
   "execution_count": 3,
   "id": "9a79590f",
   "metadata": {},
   "outputs": [
    {
     "name": "stdout",
     "output_type": "stream",
     "text": [
      "   Found and loaded params from /mnt/md0/runs/s3d-AH007_2022-03-28_2-4-5/params.npy\n"
     ]
    }
   ],
   "source": [
    "# Create the job\n",
    "job = Job('/mnt/md0/runs','AH007_2022-03-28_2-4-5', create=False, overwrite=False, verbosity = 10)"
   ]
  },
  {
   "cell_type": "code",
   "execution_count": 4,
   "id": "09f41b6a",
   "metadata": {},
   "outputs": [],
   "source": [
    "svd_dir_tag = 'svd'\n",
    "svd_info = n.load(os.path.join(job.dirs[svd_dir_tag], 'svd_info.npy'),allow_pickle=True).item()"
   ]
  },
  {
   "cell_type": "code",
   "execution_count": 9,
   "id": "5d6e5ac3",
   "metadata": {},
   "outputs": [],
   "source": [
    "job.params['n_svd_comp'] = 300\n",
    "job.params['t_batch_size'] = 400"
   ]
  },
  {
   "cell_type": "code",
   "execution_count": null,
   "id": "530524cf",
   "metadata": {},
   "outputs": [
    {
     "name": "stdout",
     "output_type": "stream",
     "text": [
      "      Found dir /mnt/md0/runs/s3d-AH007_2022-03-28_2-4-5/debug with tag debug\n",
      "   Saved a copy of params at /mnt/md0/runs/s3d-AH007_2022-03-28_2-4-5/debug\n",
      "   Updated main params file\n",
      "      Found dir /mnt/md0/runs/s3d-AH007_2022-03-28_2-4-5/debug/iters with tag debug-iters\n",
      "      Found dir /mnt/md0/runs/s3d-AH007_2022-03-28_2-4-5/debug/mov_sub with tag debug-mov_sub\n",
      "   Saving mov_sub to /mnt/md0/runs/s3d-AH007_2022-03-28_2-4-5/debug/mov_sub\n",
      "   Using conv_filt: gaussian, 0.75, 1.00\n",
      "   Using np_filt: gaussian, 1.00, 5.00\n",
      "   Will reconstruct SVD movie on-the-fly from  with 300 components\n",
      "   Created files and dirs for 26 batches\n",
      "      Running batch 1 of 26\n",
      "         Reconstructing from svd (re-loading spatial components each iteration)\n",
      "Sending all blocks to dask to compute\n"
     ]
    }
   ],
   "source": [
    "job.make_new_dir('debug')\n",
    "vmap, mean_img, max_img = job.calculate_corr_map(svd_info, parent_dir='debug')"
   ]
  },
  {
   "cell_type": "code",
   "execution_count": null,
   "id": "4d5897f2",
   "metadata": {},
   "outputs": [],
   "source": []
  },
  {
   "cell_type": "code",
   "execution_count": null,
   "id": "b956dfce",
   "metadata": {},
   "outputs": [],
   "source": []
  }
 ],
 "metadata": {
  "kernelspec": {
   "display_name": "envfile-test",
   "language": "python",
   "name": "envfile-test"
  },
  "language_info": {
   "codemirror_mode": {
    "name": "ipython",
    "version": 3
   },
   "file_extension": ".py",
   "mimetype": "text/x-python",
   "name": "python",
   "nbconvert_exporter": "python",
   "pygments_lexer": "ipython3",
   "version": "3.8.17"
  }
 },
 "nbformat": 4,
 "nbformat_minor": 5
}
