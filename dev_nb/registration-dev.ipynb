{
 "cells": [
  {
   "cell_type": "code",
   "execution_count": 1,
   "id": "dff51d5e",
   "metadata": {},
   "outputs": [],
   "source": [
    "%load_ext autoreload\n",
    "%autoreload 2\n",
    "\n",
    "import os \n",
    "import shutil\n",
    "import numpy as n\n",
    "from datetime import date\n",
    "from matplotlib import pyplot as plt\n",
    "import time\n",
    "import napari"
   ]
  },
  {
   "cell_type": "code",
   "execution_count": 2,
   "id": "51d1964f",
   "metadata": {},
   "outputs": [],
   "source": [
    "## !! CHANGE ME !! ##\n",
    "from suite2p.io import lbm as lbmio\n",
    "from suite2p.suite3d import utils\n",
    "from suite2p.suite3d.job import Job\n",
    "from suite2p.suite3d import ui\n",
    "\n",
    "os.chdir('/home/ali/packages/s2p-lbm/')\n",
    "from utils import tiff_utils as tfu\n",
    "from utils import file_utils as flu"
   ]
  },
  {
   "cell_type": "code",
   "execution_count": 14,
   "id": "604964d7",
   "metadata": {},
   "outputs": [],
   "source": [
    "from mkl_fft import fftn, ifftn\n",
    "import cupy as cp\n",
    "import cupyx.scipy.fft as cufft\n",
    "import scipy.fft"
   ]
  },
  {
   "cell_type": "code",
   "execution_count": 3,
   "id": "9a79590f",
   "metadata": {},
   "outputs": [
    {
     "name": "stdout",
     "output_type": "stream",
     "text": [
      "   Found and loaded params from /mnt/md0/runs/s3d-AH007_2022-03-28_2-4-5/params.npy\n"
     ]
    }
   ],
   "source": [
    "# Create the job\n",
    "job = Job('/mnt/md0/runs','AH007_2022-03-28_2-4-5', create=False, overwrite=False, verbosity = 10)"
   ]
  },
  {
   "cell_type": "code",
   "execution_count": 4,
   "id": "5055e88f",
   "metadata": {},
   "outputs": [
    {
     "name": "stdout",
     "output_type": "stream",
     "text": [
      "SI ROI pix count in x is 182, which is impossible, setting it to 145\n"
     ]
    }
   ],
   "source": [
    "tifs, si_params, exp_str = flu.find_exp(job.params['subjects_dir'], job.params['subject'],\n",
    "                                        job.params['date'], job.params['expnum'])"
   ]
  },
  {
   "cell_type": "code",
   "execution_count": 5,
   "id": "4bc36dce",
   "metadata": {},
   "outputs": [],
   "source": [
    "exp_dir = flu.find_expt_file((job.params['subject'], job.params['date'], job.params['expnum'][0]),\n",
    "                         'root', dirs=[job.params['subjects_dir']])"
   ]
  },
  {
   "cell_type": "code",
   "execution_count": 6,
   "id": "0dd12998",
   "metadata": {},
   "outputs": [],
   "source": [
    "offset_files = job.get_registered_files('registered_data', 'offset')"
   ]
  },
  {
   "cell_type": "code",
   "execution_count": 7,
   "id": "22626584",
   "metadata": {},
   "outputs": [],
   "source": [
    "cz = (0,20)\n",
    "ct = (0, 10)\n",
    "cy = (None,None)\n",
    "cx = (None,None)"
   ]
  },
  {
   "cell_type": "code",
   "execution_count": 8,
   "id": "09bc76fa",
   "metadata": {},
   "outputs": [],
   "source": [
    "mov_reg = job.get_registered_movie()[cz[0]:cz[1],ct[0]:ct[1], cy[0]:cy[1], cx[0]:cx[1]].compute()"
   ]
  },
  {
   "cell_type": "code",
   "execution_count": 9,
   "id": "bbaa17b9",
   "metadata": {},
   "outputs": [
    {
     "name": "stdout",
     "output_type": "stream",
     "text": [
      "Loading /mnt/a2/AH007/2022-03-28/2/AH007_ROI3p33um_NOSCREEN_-400um_00001_00001.tif\n",
      "Loading /mnt/a2/AH007/2022-03-28/2/AH007_ROI3p33um_NOSCREEN_-400um_00002_00001.tif\n",
      "Loaded 2 files, total 5.73 GB\n"
     ]
    }
   ],
   "source": [
    "mov_raw = lbmio.load_and_stitch_tifs(job.tifs[:2], planes = n.arange(cz[0],cz[1]))[:,:,cy[0]:cy[1], cx[0]:cx[1]]\n",
    "mov_raw = mov_raw[:,ct[0]:ct[1]]"
   ]
  },
  {
   "cell_type": "code",
   "execution_count": 10,
   "id": "ddbe2bd4",
   "metadata": {},
   "outputs": [],
   "source": [
    "offsets = [n.load(f,allow_pickle=True).item() for f in offset_files]\n",
    "offset = offsets[0]\n",
    "for k,v in offset.items():\n",
    "    offset[k] = n.array(n.concatenate([o[k] for o in offsets],axis=1) )\n",
    "    offset[k] = offset[k][cz[0]:cz[1], ct[0]:ct[1]]\n",
    "dx = (offset['xms'] - n.floor(offset['xms'].mean(axis=1,keepdims=True)))[cz[0]:cz[1]]\n",
    "dy = (offset['yms'] - n.floor(offset['yms'].mean(axis=1,keepdims=True)))[cz[0]:cz[1]]"
   ]
  },
  {
   "cell_type": "code",
   "execution_count": 41,
   "id": "d993999c",
   "metadata": {},
   "outputs": [],
   "source": [
    "summary = job.load_summary()\n",
    "refs_and_masks = summary['refs_and_masks']\n",
    "mask_mul, mask_offset, ref_2ds = n.stack([r[:3] for r in refs_and_masks],axis=1)[:,cz[0]:cz[1], cy[0]:cy[1], cx[0]:cx[1]]\n",
    "mask_mul_nr, mask_offset_nr, ref_nr = n.stack([r[3:] for r in refs_and_masks],axis=1)[:,cz[0]:cz[1], cy[0]:cy[1], cx[0]:cx[1]]"
   ]
  },
  {
   "cell_type": "code",
   "execution_count": 46,
   "id": "56f5131e",
   "metadata": {},
   "outputs": [
    {
     "data": {
      "text/plain": [
       "(30, 1202, 1015)"
      ]
     },
     "execution_count": 46,
     "metadata": {},
     "output_type": "execute_result"
    }
   ],
   "source": [
    "ref_real.shape"
   ]
  },
  {
   "cell_type": "code",
   "execution_count": 58,
   "id": "7e158972",
   "metadata": {},
   "outputs": [],
   "source": [
    "ref_real = summary['ref_img_3d'][cz[0]:cz[1]]"
   ]
  },
  {
   "cell_type": "code",
   "execution_count": 59,
   "id": "54be2ce7",
   "metadata": {},
   "outputs": [],
   "source": [
    "all_ops = summary['all_ops']\n",
    "ops = all_ops[0]\n",
    "\n",
    "max_shift_xy = 50\n",
    "max_shift_z = 5"
   ]
  },
  {
   "cell_type": "code",
   "execution_count": 60,
   "id": "009782b0",
   "metadata": {},
   "outputs": [],
   "source": [
    "mov = mov_raw.copy().swapaxes(0,1).astype(n.float32)"
   ]
  },
  {
   "cell_type": "code",
   "execution_count": 89,
   "id": "d919061d",
   "metadata": {},
   "outputs": [],
   "source": [
    "nt = mov.shape[0]"
   ]
  },
  {
   "cell_type": "code",
   "execution_count": 61,
   "id": "9962cc5f",
   "metadata": {},
   "outputs": [],
   "source": [
    "mempool = cp.get_default_memory_pool()\n",
    "mempool.free_all_blocks()"
   ]
  },
  {
   "cell_type": "code",
   "execution_count": 62,
   "id": "76d23e98",
   "metadata": {},
   "outputs": [
    {
     "name": "stdout",
     "output_type": "stream",
     "text": [
      "CPU times: user 287 ms, sys: 159 ms, total: 446 ms\n",
      "Wall time: 446 ms\n"
     ]
    }
   ],
   "source": [
    "%%time\n",
    "mov_gpu = cp.asarray(mov, dtype=n.float32)\n",
    "mul_mask_gpu = cp.asarray(mask_mul.real)\n",
    "off_mask_gpu = cp.asarray(mask_offset.real)\n",
    "ref_gpu = cp.asarray(ref_real)"
   ]
  },
  {
   "cell_type": "code",
   "execution_count": 209,
   "id": "03e3f2fc",
   "metadata": {},
   "outputs": [],
   "source": [
    "ref_gpu_2d_f = cp.conj(cufft.fftn(ref_gpu, axes=(1,2)))\n",
    "ref_gpu_2d_f /= cp.abs(ref_gpu_2d_f)\n",
    "\n",
    "ref_gpu_f = cp.conj(cufft.fftn(ref_gpu, axes=(0,1,2)))\n",
    "ref_gpu_f /= cp.abs(ref_gpu_f)"
   ]
  },
  {
   "cell_type": "code",
   "execution_count": 210,
   "id": "98406b38",
   "metadata": {},
   "outputs": [
    {
     "name": "stdout",
     "output_type": "stream",
     "text": [
      "CPU times: user 23.3 ms, sys: 0 ns, total: 23.3 ms\n",
      "Wall time: 23 ms\n"
     ]
    }
   ],
   "source": [
    "%%time\n",
    "for zidx in range(*cz):\n",
    "    mov_gpu[:,zidx] = cp.clip(mov_gpu[:,zidx], (all_ops[zidx]['rmin']), (all_ops[zidx]['rmax']))\n",
    "mov_gpu *= mul_mask_gpu[cp.newaxis] \n",
    "mov_gpu += off_mask_gpu[cp.newaxis]\n",
    "mov_gpu_f = cufft.fftn(mov_gpu, axes=(2,3))"
   ]
  },
  {
   "cell_type": "code",
   "execution_count": 94,
   "id": "d93595df",
   "metadata": {},
   "outputs": [
    {
     "name": "stdout",
     "output_type": "stream",
     "text": [
      "CPU times: user 184 µs, sys: 117 µs, total: 301 µs\n",
      "Wall time: 288 µs\n"
     ]
    }
   ],
   "source": [
    "%%time\n",
    "mov_gpu_f /= (cp.complex64(1e-5) + cp.abs(mov_gpu_f))\n",
    "mov_gpu_f *= ref_gpu_f[cp.newaxis]\n",
    "mov_gpu_f = mov_gpu_f.real"
   ]
  },
  {
   "cell_type": "code",
   "execution_count": 124,
   "id": "e2a6eef6",
   "metadata": {},
   "outputs": [
    {
     "name": "stdout",
     "output_type": "stream",
     "text": [
      "CPU times: user 0 ns, sys: 15.5 ms, total: 15.5 ms\n",
      "Wall time: 15.3 ms\n"
     ]
    }
   ],
   "source": [
    "%%time\n",
    "mov_gpu_f_concat = n.concatenate((mov_gpu_f[:,:,-max_shift_xy:], mov_gpu_f[:,:,:max_shift_xy+1]), axis=2)\n",
    "mov_gpu_f_concat = n.concatenate((mov_gpu_f_concat[:,:,:,-max_shift_xy:], mov_gpu_f_concat[:,:,:,:max_shift_xy+1]), axis=3)\n",
    "mov_gpu_f_concat = n.concatenate((mov_gpu_f_concat[:,-max_shift_z:], mov_gpu_f_concat[:,:max_shift_z+1]), axis=1)"
   ]
  },
  {
   "cell_type": "code",
   "execution_count": 126,
   "id": "a53bc21e",
   "metadata": {},
   "outputs": [],
   "source": [
    "concat_shape = mov_gpu_f_concat.shape"
   ]
  },
  {
   "cell_type": "code",
   "execution_count": 106,
   "id": "9950a81c",
   "metadata": {},
   "outputs": [
    {
     "name": "stdout",
     "output_type": "stream",
     "text": [
      "CPU times: user 243 µs, sys: 155 µs, total: 398 µs\n",
      "Wall time: 385 µs\n"
     ]
    }
   ],
   "source": [
    "%%time\n",
    "mov_gpu_f_concat = mov_gpu_f_concat.reshape(nt, -1)\n",
    "argmaxs = mov_gpu_f_concat.argmax(axis=1).get()"
   ]
  },
  {
   "cell_type": "code",
   "execution_count": 127,
   "id": "b274b4e1",
   "metadata": {},
   "outputs": [],
   "source": [
    "zmaxs, ymaxs, xmaxs = n.zeros(nt, n.int32), n.zeros(nt, n.int32), n.zeros(nt, n.int32)\n",
    "for tidx, argmax in enumerate(argmaxs): \n",
    "    zmaxs[tidx], ymaxs[tidx], xmaxs[tidx] = n.unravel_index(argmax, concat_shape[1:])"
   ]
  },
  {
   "cell_type": "code",
   "execution_count": null,
   "id": "38df6a11",
   "metadata": {},
   "outputs": [],
   "source": []
  },
  {
   "cell_type": "code",
   "execution_count": 174,
   "id": "827c486b",
   "metadata": {},
   "outputs": [],
   "source": [
    "from suite2p.registration import utils as rgu"
   ]
  },
  {
   "cell_type": "code",
   "execution_count": 200,
   "id": "9f41819a",
   "metadata": {},
   "outputs": [],
   "source": [
    "mov_cpu = mov.copy()"
   ]
  },
  {
   "cell_type": "code",
   "execution_count": 201,
   "id": "7165ab6a",
   "metadata": {},
   "outputs": [],
   "source": [
    "lcorr = max_shift_xy\n",
    "np = n"
   ]
  },
  {
   "cell_type": "code",
   "execution_count": 202,
   "id": "801bbf35",
   "metadata": {},
   "outputs": [],
   "source": [
    "summary = job.load_summary()\n",
    "refs_and_masks = summary['refs_and_masks']\n",
    "mask_mul, mask_offset, ref_2ds = n.stack([r[:3] for r in refs_and_masks],axis=1)[:,cz[0]:cz[1], cy[0]:cy[1], cx[0]:cx[1]]\n",
    "mask_mul_nr, mask_offset_nr, ref_nr = n.stack([r[3:] for r in refs_and_masks],axis=1)[:,cz[0]:cz[1], cy[0]:cy[1], cx[0]:cx[1]]"
   ]
  },
  {
   "cell_type": "code",
   "execution_count": 204,
   "id": "2245b966",
   "metadata": {},
   "outputs": [
    {
     "name": "stdout",
     "output_type": "stream",
     "text": [
      "CPU times: user 1.94 s, sys: 128 ms, total: 2.07 s\n",
      "Wall time: 98.5 ms\n"
     ]
    }
   ],
   "source": [
    "%%time\n",
    "# for zidx in range(cz[1]-cz[0]):\n",
    "zidx = 0\n",
    "movx = n.clip(mov_cpu[:,zidx], all_ops[zidx]['rmin'], all_ops[zidx]['rmax'])\n",
    "mov_cpu_mask = (movx.astype(n.complex64)) * mask_mul[n.newaxis,zidx] + mask_offset[n.newaxis,zidx]\n",
    "data = rgu.convolve(mov_cpu_mask, ref_2ds[zidx])\n",
    "\n",
    "cc = np.real(\n",
    "    np.block(\n",
    "        [[data[:,  -lcorr:, -lcorr:], data[:,  -lcorr:, :lcorr+1]],\n",
    "        [data[:, :lcorr+1, -lcorr:], data[:, :lcorr+1, :lcorr+1]]]\n",
    "    )\n",
    ")\n",
    "ymax, xmax = np.zeros(data.shape[0], np.int32), np.zeros(data.shape[0], np.int32)\n",
    "for t in np.arange(data.shape[0]):\n",
    "    ymax[t], xmax[t] = np.unravel_index(np.argmax(cc[t], axis=None), (2 * lcorr + 1, 2 * lcorr + 1))\n",
    "    cmax = cc[np.arange(len(cc)), ymax, xmax]\n",
    "ymax, xmax = ymax - lcorr, xmax - lcorr"
   ]
  },
  {
   "cell_type": "code",
   "execution_count": 205,
   "id": "73627bf1",
   "metadata": {},
   "outputs": [
    {
     "data": {
      "text/plain": [
       "array([1, 1, 1, 1, 1, 1, 1, 1, 1, 1], dtype=int32)"
      ]
     },
     "execution_count": 205,
     "metadata": {},
     "output_type": "execute_result"
    }
   ],
   "source": [
    "xmax"
   ]
  },
  {
   "cell_type": "code",
   "execution_count": 206,
   "id": "d2363d69",
   "metadata": {},
   "outputs": [
    {
     "data": {
      "text/plain": [
       "array([1, 2, 2, 2, 2, 2, 1, 2, 2, 2], dtype=int32)"
      ]
     },
     "execution_count": 206,
     "metadata": {},
     "output_type": "execute_result"
    }
   ],
   "source": [
    "ymax"
   ]
  },
  {
   "cell_type": "code",
   "execution_count": 207,
   "id": "668e107e",
   "metadata": {},
   "outputs": [
    {
     "data": {
      "text/plain": [
       "array([1, 1, 1, 1, 1, 1, 1, 1, 1, 1], dtype=int32)"
      ]
     },
     "execution_count": 207,
     "metadata": {},
     "output_type": "execute_result"
    }
   ],
   "source": [
    "offset['xms'][zidx]"
   ]
  },
  {
   "cell_type": "code",
   "execution_count": 208,
   "id": "4c3a081c",
   "metadata": {},
   "outputs": [
    {
     "data": {
      "text/plain": [
       "array([1, 2, 2, 2, 2, 2, 1, 2, 2, 2], dtype=int32)"
      ]
     },
     "execution_count": 208,
     "metadata": {},
     "output_type": "execute_result"
    }
   ],
   "source": [
    "offset['yms'][zidx]"
   ]
  },
  {
   "cell_type": "code",
   "execution_count": null,
   "id": "8aa1ca94",
   "metadata": {},
   "outputs": [],
   "source": []
  },
  {
   "cell_type": "code",
   "execution_count": null,
   "id": "982be4c8",
   "metadata": {},
   "outputs": [],
   "source": []
  },
  {
   "cell_type": "code",
   "execution_count": null,
   "id": "8353a421",
   "metadata": {},
   "outputs": [],
   "source": []
  },
  {
   "cell_type": "code",
   "execution_count": null,
   "id": "ef731c8e",
   "metadata": {},
   "outputs": [],
   "source": []
  },
  {
   "cell_type": "code",
   "execution_count": null,
   "id": "ce802c51",
   "metadata": {},
   "outputs": [],
   "source": []
  },
  {
   "cell_type": "code",
   "execution_count": 380,
   "id": "7560e5e7",
   "metadata": {},
   "outputs": [],
   "source": [
    "\n",
    "cc = n.real(\n",
    "        n.block(\n",
    "            [[data[:,  -lcorr:, -lcorr:], data[:,  -lcorr:, :lcorr+1]],\n",
    "            [data[:, :lcorr+1, -lcorr:], data[:, :lcorr+1, :lcorr+1]]]\n",
    "        )\n",
    "    )\n"
   ]
  },
  {
   "cell_type": "code",
   "execution_count": 381,
   "id": "125a8901",
   "metadata": {},
   "outputs": [
    {
     "data": {
      "text/plain": [
       "(126, 21, 21)"
      ]
     },
     "execution_count": 381,
     "metadata": {},
     "output_type": "execute_result"
    }
   ],
   "source": [
    "cc.shape"
   ]
  },
  {
   "cell_type": "code",
   "execution_count": null,
   "id": "898aca54",
   "metadata": {},
   "outputs": [],
   "source": [
    "\n",
    "cc = temporal_smooth(cc, smooth_sigma_time) if smooth_sigma_time > 0 else cc\n",
    "\n",
    "ymax, xmax = np.zeros(data.shape[0], np.int32), np.zeros(data.shape[0], np.int32)\n",
    "for t in np.arange(data.shape[0]):\n",
    "    ymax[t], xmax[t] = np.unravel_index(np.argmax(cc[t], axis=None), (2 * lcorr + 1, 2 * lcorr + 1))\n",
    "cmax = cc[np.arange(len(cc)), ymax, xmax]\n",
    "ymax, xmax = ymax - lcorr, xmax - lcorr\n",
    "\n",
    "return ymax, xmax, cmax.astype(np.float32)\n"
   ]
  },
  {
   "cell_type": "code",
   "execution_count": 363,
   "id": "45c475ab",
   "metadata": {
    "scrolled": true
   },
   "outputs": [
    {
     "data": {
      "text/plain": [
       "(126, 20, 600, 600)"
      ]
     },
     "execution_count": 363,
     "metadata": {},
     "output_type": "execute_result"
    }
   ],
   "source": [
    "dotted.real.shape"
   ]
  },
  {
   "cell_type": "code",
   "execution_count": 361,
   "id": "150bcd18",
   "metadata": {},
   "outputs": [
    {
     "data": {
      "text/plain": [
       "(126, 20, 600, 600)"
      ]
     },
     "execution_count": 361,
     "metadata": {},
     "output_type": "execute_result"
    }
   ],
   "source": [
    "dotted.shape"
   ]
  },
  {
   "cell_type": "code",
   "execution_count": 360,
   "id": "192a5d8d",
   "metadata": {},
   "outputs": [
    {
     "data": {
      "text/plain": [
       "(126, 20, 600, 600)"
      ]
     },
     "execution_count": 360,
     "metadata": {},
     "output_type": "execute_result"
    }
   ],
   "source": [
    "dotted.shape"
   ]
  },
  {
   "cell_type": "code",
   "execution_count": null,
   "id": "7338f5a5",
   "metadata": {},
   "outputs": [],
   "source": [
    "\n",
    "        cc = np.real(\n",
    "                np.block(\n",
    "                    [[data[:,  -lcorr:, -lcorr:], data[:,  -lcorr:, :lcorr+1]],\n",
    "                    [data[:, :lcorr+1, -lcorr:], data[:, :lcorr+1, :lcorr+1]]]\n",
    "                )\n",
    "            )"
   ]
  },
  {
   "cell_type": "code",
   "execution_count": null,
   "id": "48643fb5",
   "metadata": {},
   "outputs": [],
   "source": []
  },
  {
   "cell_type": "code",
   "execution_count": null,
   "id": "e5e3fa95",
   "metadata": {},
   "outputs": [],
   "source": []
  },
  {
   "cell_type": "code",
   "execution_count": null,
   "id": "98b6f19f",
   "metadata": {},
   "outputs": [],
   "source": []
  },
  {
   "cell_type": "code",
   "execution_count": 137,
   "id": "5aa1714e",
   "metadata": {},
   "outputs": [
    {
     "data": {
      "text/plain": [
       "[<matplotlib.lines.Line2D at 0x7f63698b6c10>]"
      ]
     },
     "execution_count": 137,
     "metadata": {},
     "output_type": "execute_result"
    },
    {
     "data": {
      "image/png": "[encoded data removed]",
      "text/plain": [
       "<Figure size 640x480 with 1 Axes>"
      ]
     },
     "metadata": {},
     "output_type": "display_data"
    }
   ],
   "source": [
    "plt.plot(offset['xm1s'][10,:,50])\n",
    "# plt.plot(offset['xm1s'][10,:,51])\n",
    "plt.plot(offset['xm1s'][9,:,50])\n",
    "plt.plot(offset['xm1s'][8,:,50])\n",
    "plt.plot(offset['xm1s'][7,:,50])"
   ]
  },
  {
   "cell_type": "code",
   "execution_count": 127,
   "id": "6a239606",
   "metadata": {},
   "outputs": [
    {
     "data": {
      "text/plain": [
       "[<matplotlib.lines.Line2D at 0x7f641f9a0550>]"
      ]
     },
     "execution_count": 127,
     "metadata": {},
     "output_type": "execute_result"
    },
    {
     "data": {
      "image/png": "[encoded data removed]",
      "text/plain": [
       "<Figure size 640x480 with 1 Axes>"
      ]
     },
     "metadata": {},
     "output_type": "display_data"
    }
   ],
   "source": [
    "plt.plot(offset['yms'].mean(axis=1))\n",
    "plt.plot(offset['xms'].mean(axis=1))"
   ]
  },
  {
   "cell_type": "code",
   "execution_count": 122,
   "id": "539b805a",
   "metadata": {},
   "outputs": [
    {
     "data": {
      "text/plain": [
       "[<matplotlib.lines.Line2D at 0x7f641fb71a00>,\n",
       " <matplotlib.lines.Line2D at 0x7f641fb71a60>,\n",
       " <matplotlib.lines.Line2D at 0x7f641fb71a90>,\n",
       " <matplotlib.lines.Line2D at 0x7f641fb71b80>,\n",
       " <matplotlib.lines.Line2D at 0x7f641fb71c70>,\n",
       " <matplotlib.lines.Line2D at 0x7f641fb71d60>,\n",
       " <matplotlib.lines.Line2D at 0x7f641fb71e50>,\n",
       " <matplotlib.lines.Line2D at 0x7f641fb71f40>,\n",
       " <matplotlib.lines.Line2D at 0x7f641fb00070>,\n",
       " <matplotlib.lines.Line2D at 0x7f641fb00160>,\n",
       " <matplotlib.lines.Line2D at 0x7f641fb71a30>,\n",
       " <matplotlib.lines.Line2D at 0x7f641fb00250>,\n",
       " <matplotlib.lines.Line2D at 0x7f641fb00340>,\n",
       " <matplotlib.lines.Line2D at 0x7f641fb004f0>,\n",
       " <matplotlib.lines.Line2D at 0x7f641fb005e0>,\n",
       " <matplotlib.lines.Line2D at 0x7f641fb006d0>,\n",
       " <matplotlib.lines.Line2D at 0x7f641fb007c0>,\n",
       " <matplotlib.lines.Line2D at 0x7f641fb008b0>,\n",
       " <matplotlib.lines.Line2D at 0x7f641fb009a0>,\n",
       " <matplotlib.lines.Line2D at 0x7f641fb00a90>]"
      ]
     },
     "execution_count": 122,
     "metadata": {},
     "output_type": "execute_result"
    },
    {
     "data": {
      "image/png": "[encoded data removed]",
      "text/plain": [
       "<Figure size 640x480 with 1 Axes>"
      ]
     },
     "metadata": {},
     "output_type": "display_data"
    }
   ],
   "source": [
    "plt.plot(offset['xms'][:20].T)"
   ]
  },
  {
   "cell_type": "code",
   "execution_count": null,
   "id": "bcbb4bc6",
   "metadata": {},
   "outputs": [],
   "source": []
  },
  {
   "cell_type": "code",
   "execution_count": null,
   "id": "b073894b",
   "metadata": {},
   "outputs": [],
   "source": []
  },
  {
   "cell_type": "code",
   "execution_count": null,
   "id": "a0066d4c",
   "metadata": {},
   "outputs": [],
   "source": []
  },
  {
   "cell_type": "code",
   "execution_count": 108,
   "id": "cadd9ca0",
   "metadata": {},
   "outputs": [
    {
     "data": {
      "text/plain": [
       "['/mnt/a2/AH007/2022-03-28/2/AH007_ROI3p33um_NOSCREEN_-400um_00001_00001.tif',\n",
       " '/mnt/a2/AH007/2022-03-28/2/AH007_ROI3p33um_NOSCREEN_-400um_00002_00001.tif',\n",
       " '/mnt/a2/AH007/2022-03-28/2/AH007_ROI3p33um_NOSCREEN_-400um_00002_00002.tif',\n",
       " '/mnt/a2/AH007/2022-03-28/2/AH007_ROI3p33um_NOSCREEN_-400um_00002_00003.tif',\n",
       " '/mnt/a2/AH007/2022-03-28/2/AH007_ROI3p33um_NOSCREEN_-400um_00002_00004.tif',\n",
       " '/mnt/a2/AH007/2022-03-28/2/AH007_ROI3p33um_NOSCREEN_-400um_00002_00005.tif',\n",
       " '/mnt/a2/AH007/2022-03-28/2/AH007_ROI3p33um_NOSCREEN_-400um_00002_00006.tif',\n",
       " '/mnt/a2/AH007/2022-03-28/2/AH007_ROI3p33um_NOSCREEN_-400um_00002_00007.tif',\n",
       " '/mnt/a2/AH007/2022-03-28/2/AH007_ROI3p33um_NOSCREEN_-400um_00002_00008.tif',\n",
       " '/mnt/a2/AH007/2022-03-28/2/AH007_ROI3p33um_NOSCREEN_-400um_00002_00009.tif',\n",
       " '/mnt/a2/AH007/2022-03-28/2/AH007_ROI3p33um_NOSCREEN_-400um_00002_00010.tif',\n",
       " '/mnt/a2/AH007/2022-03-28/2/AH007_ROI3p33um_NOSCREEN_-400um_00002_00011.tif',\n",
       " '/mnt/a2/AH007/2022-03-28/2/AH007_ROI3p33um_NOSCREEN_-400um_00002_00012.tif',\n",
       " '/mnt/a2/AH007/2022-03-28/2/AH007_ROI3p33um_NOSCREEN_-400um_00002_00013.tif',\n",
       " '/mnt/a2/AH007/2022-03-28/2/AH007_ROI3p33um_NOSCREEN_-400um_00002_00014.tif',\n",
       " '/mnt/a2/AH007/2022-03-28/2/AH007_ROI3p33um_NOSCREEN_-400um_00002_00015.tif',\n",
       " '/mnt/a2/AH007/2022-03-28/2/AH007_ROI3p33um_NOSCREEN_-400um_00002_00016.tif',\n",
       " '/mnt/a2/AH007/2022-03-28/2/AH007_ROI3p33um_NOSCREEN_-400um_00002_00017.tif',\n",
       " '/mnt/a2/AH007/2022-03-28/2/AH007_ROI3p33um_NOSCREEN_-400um_00002_00018.tif',\n",
       " '/mnt/a2/AH007/2022-03-28/2/AH007_ROI3p33um_NOSCREEN_-400um_00002_00019.tif',\n",
       " '/mnt/a2/AH007/2022-03-28/2/AH007_ROI3p33um_NOSCREEN_-400um_00002_00020.tif',\n",
       " '/mnt/a2/AH007/2022-03-28/2/AH007_ROI3p33um_NOSCREEN_-400um_00002_00021.tif',\n",
       " '/mnt/a2/AH007/2022-03-28/2/AH007_ROI3p33um_NOSCREEN_-400um_00002_00022.tif',\n",
       " '/mnt/a2/AH007/2022-03-28/2/AH007_ROI3p33um_NOSCREEN_-400um_00002_00023.tif',\n",
       " '/mnt/a2/AH007/2022-03-28/2/AH007_ROI3p33um_NOSCREEN_-400um_00002_00024.tif',\n",
       " '/mnt/a2/AH007/2022-03-28/2/AH007_ROI3p33um_NOSCREEN_-400um_00002_00025.tif',\n",
       " '/mnt/a2/AH007/2022-03-28/2/AH007_ROI3p33um_NOSCREEN_-400um_00002_00026.tif',\n",
       " '/mnt/a2/AH007/2022-03-28/2/AH007_ROI3p33um_NOSCREEN_-400um_00002_00027.tif',\n",
       " '/mnt/a2/AH007/2022-03-28/2/AH007_ROI3p33um_NOSCREEN_-400um_00002_00028.tif',\n",
       " '/mnt/a2/AH007/2022-03-28/2/AH007_ROI3p33um_NOSCREEN_-400um_00002_00029.tif',\n",
       " '/mnt/a2/AH007/2022-03-28/2/AH007_ROI3p33um_NOSCREEN_-400um_00002_00030.tif',\n",
       " '/mnt/a2/AH007/2022-03-28/2/AH007_ROI3p33um_NOSCREEN_-400um_00002_00031.tif',\n",
       " '/mnt/a2/AH007/2022-03-28/2/AH007_ROI3p33um_NOSCREEN_-400um_00002_00032.tif',\n",
       " '/mnt/a2/AH007/2022-03-28/2/AH007_ROI3p33um_NOSCREEN_-400um_00002_00033.tif',\n",
       " '/mnt/a2/AH007/2022-03-28/2/AH007_ROI3p33um_NOSCREEN_-400um_00002_00034.tif',\n",
       " '/mnt/a2/AH007/2022-03-28/4/AH007_ROI3p33um_NOSCREEN_-400um_00001_00001.tif',\n",
       " '/mnt/a2/AH007/2022-03-28/4/AH007_ROI3p33um_NOSCREEN_-400um_00001_00002.tif',\n",
       " '/mnt/a2/AH007/2022-03-28/4/AH007_ROI3p33um_NOSCREEN_-400um_00001_00003.tif',\n",
       " '/mnt/a2/AH007/2022-03-28/4/AH007_ROI3p33um_NOSCREEN_-400um_00001_00004.tif',\n",
       " '/mnt/a2/AH007/2022-03-28/4/AH007_ROI3p33um_NOSCREEN_-400um_00001_00005.tif',\n",
       " '/mnt/a2/AH007/2022-03-28/4/AH007_ROI3p33um_NOSCREEN_-400um_00001_00006.tif',\n",
       " '/mnt/a2/AH007/2022-03-28/4/AH007_ROI3p33um_NOSCREEN_-400um_00001_00007.tif',\n",
       " '/mnt/a2/AH007/2022-03-28/4/AH007_ROI3p33um_NOSCREEN_-400um_00001_00008.tif',\n",
       " '/mnt/a2/AH007/2022-03-28/4/AH007_ROI3p33um_NOSCREEN_-400um_00001_00009.tif',\n",
       " '/mnt/a2/AH007/2022-03-28/4/AH007_ROI3p33um_NOSCREEN_-400um_00001_00010.tif',\n",
       " '/mnt/a2/AH007/2022-03-28/4/AH007_ROI3p33um_NOSCREEN_-400um_00001_00011.tif',\n",
       " '/mnt/a2/AH007/2022-03-28/4/AH007_ROI3p33um_NOSCREEN_-400um_00001_00012.tif',\n",
       " '/mnt/a2/AH007/2022-03-28/4/AH007_ROI3p33um_NOSCREEN_-400um_00001_00013.tif',\n",
       " '/mnt/a2/AH007/2022-03-28/4/AH007_ROI3p33um_NOSCREEN_-400um_00001_00014.tif',\n",
       " '/mnt/a2/AH007/2022-03-28/4/AH007_ROI3p33um_NOSCREEN_-400um_00001_00015.tif',\n",
       " '/mnt/a2/AH007/2022-03-28/4/AH007_ROI3p33um_NOSCREEN_-400um_00001_00016.tif',\n",
       " '/mnt/a2/AH007/2022-03-28/4/AH007_ROI3p33um_NOSCREEN_-400um_00001_00017.tif',\n",
       " '/mnt/a2/AH007/2022-03-28/4/AH007_ROI3p33um_NOSCREEN_-400um_00001_00018.tif',\n",
       " '/mnt/a2/AH007/2022-03-28/4/AH007_ROI3p33um_NOSCREEN_-400um_00001_00019.tif',\n",
       " '/mnt/a2/AH007/2022-03-28/4/AH007_ROI3p33um_NOSCREEN_-400um_00001_00020.tif',\n",
       " '/mnt/a2/AH007/2022-03-28/4/AH007_ROI3p33um_NOSCREEN_-400um_00001_00021.tif',\n",
       " '/mnt/a2/AH007/2022-03-28/4/AH007_ROI3p33um_NOSCREEN_-400um_00001_00022.tif',\n",
       " '/mnt/a2/AH007/2022-03-28/4/AH007_ROI3p33um_NOSCREEN_-400um_00001_00023.tif',\n",
       " '/mnt/a2/AH007/2022-03-28/4/AH007_ROI3p33um_NOSCREEN_-400um_00001_00024.tif',\n",
       " '/mnt/a2/AH007/2022-03-28/4/AH007_ROI3p33um_NOSCREEN_-400um_00001_00025.tif',\n",
       " '/mnt/a2/AH007/2022-03-28/4/AH007_ROI3p33um_NOSCREEN_-400um_00001_00026.tif',\n",
       " '/mnt/a2/AH007/2022-03-28/4/AH007_ROI3p33um_NOSCREEN_-400um_00001_00027.tif',\n",
       " '/mnt/a2/AH007/2022-03-28/4/AH007_ROI3p33um_NOSCREEN_-400um_00001_00028.tif',\n",
       " '/mnt/a2/AH007/2022-03-28/4/AH007_ROI3p33um_NOSCREEN_-400um_00001_00029.tif',\n",
       " '/mnt/a2/AH007/2022-03-28/4/AH007_ROI3p33um_NOSCREEN_-400um_00001_00030.tif',\n",
       " '/mnt/a2/AH007/2022-03-28/4/AH007_ROI3p33um_NOSCREEN_-400um_00001_00031.tif',\n",
       " '/mnt/a2/AH007/2022-03-28/4/AH007_ROI3p33um_NOSCREEN_-400um_00001_00032.tif',\n",
       " '/mnt/a2/AH007/2022-03-28/4/AH007_ROI3p33um_NOSCREEN_-400um_00001_00033.tif',\n",
       " '/mnt/a2/AH007/2022-03-28/4/AH007_ROI3p33um_NOSCREEN_-400um_00001_00034.tif',\n",
       " '/mnt/a2/AH007/2022-03-28/4/AH007_ROI3p33um_NOSCREEN_-400um_00001_00035.tif',\n",
       " '/mnt/a2/AH007/2022-03-28/5/AH007_ROI3p33um_NOSCREEN_-400um_00001_00001.tif',\n",
       " '/mnt/a2/AH007/2022-03-28/5/AH007_ROI3p33um_NOSCREEN_-400um_00001_00002.tif',\n",
       " '/mnt/a2/AH007/2022-03-28/5/AH007_ROI3p33um_NOSCREEN_-400um_00001_00003.tif',\n",
       " '/mnt/a2/AH007/2022-03-28/5/AH007_ROI3p33um_NOSCREEN_-400um_00001_00004.tif',\n",
       " '/mnt/a2/AH007/2022-03-28/5/AH007_ROI3p33um_NOSCREEN_-400um_00001_00005.tif',\n",
       " '/mnt/a2/AH007/2022-03-28/5/AH007_ROI3p33um_NOSCREEN_-400um_00001_00006.tif',\n",
       " '/mnt/a2/AH007/2022-03-28/5/AH007_ROI3p33um_NOSCREEN_-400um_00001_00007.tif',\n",
       " '/mnt/a2/AH007/2022-03-28/5/AH007_ROI3p33um_NOSCREEN_-400um_00001_00008.tif',\n",
       " '/mnt/a2/AH007/2022-03-28/5/AH007_ROI3p33um_NOSCREEN_-400um_00001_00009.tif',\n",
       " '/mnt/a2/AH007/2022-03-28/5/AH007_ROI3p33um_NOSCREEN_-400um_00001_00010.tif',\n",
       " '/mnt/a2/AH007/2022-03-28/5/AH007_ROI3p33um_NOSCREEN_-400um_00001_00011.tif',\n",
       " '/mnt/a2/AH007/2022-03-28/5/AH007_ROI3p33um_NOSCREEN_-400um_00001_00012.tif',\n",
       " '/mnt/a2/AH007/2022-03-28/5/AH007_ROI3p33um_NOSCREEN_-400um_00001_00013.tif',\n",
       " '/mnt/a2/AH007/2022-03-28/5/AH007_ROI3p33um_NOSCREEN_-400um_00001_00014.tif',\n",
       " '/mnt/a2/AH007/2022-03-28/5/AH007_ROI3p33um_NOSCREEN_-400um_00001_00015.tif',\n",
       " '/mnt/a2/AH007/2022-03-28/5/AH007_ROI3p33um_NOSCREEN_-400um_00001_00016.tif',\n",
       " '/mnt/a2/AH007/2022-03-28/5/AH007_ROI3p33um_NOSCREEN_-400um_00001_00017.tif',\n",
       " '/mnt/a2/AH007/2022-03-28/5/AH007_ROI3p33um_NOSCREEN_-400um_00001_00018.tif',\n",
       " '/mnt/a2/AH007/2022-03-28/5/AH007_ROI3p33um_NOSCREEN_-400um_00001_00019.tif',\n",
       " '/mnt/a2/AH007/2022-03-28/5/AH007_ROI3p33um_NOSCREEN_-400um_00001_00020.tif',\n",
       " '/mnt/a2/AH007/2022-03-28/5/AH007_ROI3p33um_NOSCREEN_-400um_00001_00021.tif',\n",
       " '/mnt/a2/AH007/2022-03-28/5/AH007_ROI3p33um_NOSCREEN_-400um_00001_00022.tif',\n",
       " '/mnt/a2/AH007/2022-03-28/5/AH007_ROI3p33um_NOSCREEN_-400um_00001_00023.tif',\n",
       " '/mnt/a2/AH007/2022-03-28/5/AH007_ROI3p33um_NOSCREEN_-400um_00001_00024.tif',\n",
       " '/mnt/a2/AH007/2022-03-28/5/AH007_ROI3p33um_NOSCREEN_-400um_00001_00025.tif',\n",
       " '/mnt/a2/AH007/2022-03-28/5/AH007_ROI3p33um_NOSCREEN_-400um_00001_00026.tif',\n",
       " '/mnt/a2/AH007/2022-03-28/5/AH007_ROI3p33um_NOSCREEN_-400um_00001_00027.tif',\n",
       " '/mnt/a2/AH007/2022-03-28/5/AH007_ROI3p33um_NOSCREEN_-400um_00001_00028.tif',\n",
       " '/mnt/a2/AH007/2022-03-28/5/AH007_ROI3p33um_NOSCREEN_-400um_00001_00029.tif',\n",
       " '/mnt/a2/AH007/2022-03-28/5/AH007_ROI3p33um_NOSCREEN_-400um_00001_00030.tif',\n",
       " '/mnt/a2/AH007/2022-03-28/5/AH007_ROI3p33um_NOSCREEN_-400um_00001_00031.tif',\n",
       " '/mnt/a2/AH007/2022-03-28/5/AH007_ROI3p33um_NOSCREEN_-400um_00001_00032.tif',\n",
       " '/mnt/a2/AH007/2022-03-28/5/AH007_ROI3p33um_NOSCREEN_-400um_00001_00033.tif']"
      ]
     },
     "execution_count": 108,
     "metadata": {},
     "output_type": "execute_result"
    }
   ],
   "source": [
    "job.tifs"
   ]
  },
  {
   "cell_type": "code",
   "execution_count": null,
   "id": "4a2f1048",
   "metadata": {},
   "outputs": [],
   "source": []
  },
  {
   "cell_type": "code",
   "execution_count": null,
   "id": "b0be472a",
   "metadata": {},
   "outputs": [],
   "source": []
  },
  {
   "cell_type": "code",
   "execution_count": 75,
   "id": "12efeeb5",
   "metadata": {},
   "outputs": [
    {
     "data": {
      "text/plain": [
       "['/mnt/md0/runs/s3d-AH007_2022-03-28_2-4-5/registered_data/reg_data0000.npy',\n",
       " '/mnt/md0/runs/s3d-AH007_2022-03-28_2-4-5/registered_data/reg_data0001.npy',\n",
       " '/mnt/md0/runs/s3d-AH007_2022-03-28_2-4-5/registered_data/reg_data0002.npy',\n",
       " '/mnt/md0/runs/s3d-AH007_2022-03-28_2-4-5/registered_data/reg_data0003.npy',\n",
       " '/mnt/md0/runs/s3d-AH007_2022-03-28_2-4-5/registered_data/reg_data0004.npy',\n",
       " '/mnt/md0/runs/s3d-AH007_2022-03-28_2-4-5/registered_data/reg_data0005.npy',\n",
       " '/mnt/md0/runs/s3d-AH007_2022-03-28_2-4-5/registered_data/reg_data0006.npy',\n",
       " '/mnt/md0/runs/s3d-AH007_2022-03-28_2-4-5/registered_data/reg_data0007.npy',\n",
       " '/mnt/md0/runs/s3d-AH007_2022-03-28_2-4-5/registered_data/reg_data0008.npy',\n",
       " '/mnt/md0/runs/s3d-AH007_2022-03-28_2-4-5/registered_data/reg_data0009.npy',\n",
       " '/mnt/md0/runs/s3d-AH007_2022-03-28_2-4-5/registered_data/reg_data0010.npy',\n",
       " '/mnt/md0/runs/s3d-AH007_2022-03-28_2-4-5/registered_data/reg_data0011.npy',\n",
       " '/mnt/md0/runs/s3d-AH007_2022-03-28_2-4-5/registered_data/reg_data0012.npy',\n",
       " '/mnt/md0/runs/s3d-AH007_2022-03-28_2-4-5/registered_data/reg_data0013.npy',\n",
       " '/mnt/md0/runs/s3d-AH007_2022-03-28_2-4-5/registered_data/reg_data0014.npy',\n",
       " '/mnt/md0/runs/s3d-AH007_2022-03-28_2-4-5/registered_data/reg_data0015.npy',\n",
       " '/mnt/md0/runs/s3d-AH007_2022-03-28_2-4-5/registered_data/reg_data0016.npy',\n",
       " '/mnt/md0/runs/s3d-AH007_2022-03-28_2-4-5/registered_data/reg_data0017.npy',\n",
       " '/mnt/md0/runs/s3d-AH007_2022-03-28_2-4-5/registered_data/reg_data0018.npy',\n",
       " '/mnt/md0/runs/s3d-AH007_2022-03-28_2-4-5/registered_data/reg_data0019.npy',\n",
       " '/mnt/md0/runs/s3d-AH007_2022-03-28_2-4-5/registered_data/reg_data0020.npy',\n",
       " '/mnt/md0/runs/s3d-AH007_2022-03-28_2-4-5/registered_data/reg_data0021.npy',\n",
       " '/mnt/md0/runs/s3d-AH007_2022-03-28_2-4-5/registered_data/reg_data0022.npy',\n",
       " '/mnt/md0/runs/s3d-AH007_2022-03-28_2-4-5/registered_data/reg_data0023.npy',\n",
       " '/mnt/md0/runs/s3d-AH007_2022-03-28_2-4-5/registered_data/reg_data0024.npy',\n",
       " '/mnt/md0/runs/s3d-AH007_2022-03-28_2-4-5/registered_data/reg_data0025.npy',\n",
       " '/mnt/md0/runs/s3d-AH007_2022-03-28_2-4-5/registered_data/reg_data0026.npy',\n",
       " '/mnt/md0/runs/s3d-AH007_2022-03-28_2-4-5/registered_data/reg_data0027.npy',\n",
       " '/mnt/md0/runs/s3d-AH007_2022-03-28_2-4-5/registered_data/reg_data0028.npy',\n",
       " '/mnt/md0/runs/s3d-AH007_2022-03-28_2-4-5/registered_data/reg_data0029.npy',\n",
       " '/mnt/md0/runs/s3d-AH007_2022-03-28_2-4-5/registered_data/reg_data0030.npy',\n",
       " '/mnt/md0/runs/s3d-AH007_2022-03-28_2-4-5/registered_data/reg_data0031.npy',\n",
       " '/mnt/md0/runs/s3d-AH007_2022-03-28_2-4-5/registered_data/reg_data0032.npy',\n",
       " '/mnt/md0/runs/s3d-AH007_2022-03-28_2-4-5/registered_data/reg_data0033.npy',\n",
       " '/mnt/md0/runs/s3d-AH007_2022-03-28_2-4-5/registered_data/reg_data0034.npy',\n",
       " '/mnt/md0/runs/s3d-AH007_2022-03-28_2-4-5/registered_data/reg_data0035.npy',\n",
       " '/mnt/md0/runs/s3d-AH007_2022-03-28_2-4-5/registered_data/reg_data0036.npy',\n",
       " '/mnt/md0/runs/s3d-AH007_2022-03-28_2-4-5/registered_data/reg_data0037.npy',\n",
       " '/mnt/md0/runs/s3d-AH007_2022-03-28_2-4-5/registered_data/reg_data0038.npy',\n",
       " '/mnt/md0/runs/s3d-AH007_2022-03-28_2-4-5/registered_data/reg_data0039.npy',\n",
       " '/mnt/md0/runs/s3d-AH007_2022-03-28_2-4-5/registered_data/reg_data0040.npy',\n",
       " '/mnt/md0/runs/s3d-AH007_2022-03-28_2-4-5/registered_data/reg_data0041.npy',\n",
       " '/mnt/md0/runs/s3d-AH007_2022-03-28_2-4-5/registered_data/reg_data0042.npy',\n",
       " '/mnt/md0/runs/s3d-AH007_2022-03-28_2-4-5/registered_data/reg_data0043.npy',\n",
       " '/mnt/md0/runs/s3d-AH007_2022-03-28_2-4-5/registered_data/reg_data0044.npy',\n",
       " '/mnt/md0/runs/s3d-AH007_2022-03-28_2-4-5/registered_data/reg_data0045.npy',\n",
       " '/mnt/md0/runs/s3d-AH007_2022-03-28_2-4-5/registered_data/reg_data0046.npy',\n",
       " '/mnt/md0/runs/s3d-AH007_2022-03-28_2-4-5/registered_data/reg_data0047.npy',\n",
       " '/mnt/md0/runs/s3d-AH007_2022-03-28_2-4-5/registered_data/reg_data0048.npy',\n",
       " '/mnt/md0/runs/s3d-AH007_2022-03-28_2-4-5/registered_data/reg_data0049.npy',\n",
       " '/mnt/md0/runs/s3d-AH007_2022-03-28_2-4-5/registered_data/reg_data0050.npy',\n",
       " '/mnt/md0/runs/s3d-AH007_2022-03-28_2-4-5/registered_data/reg_data0051.npy',\n",
       " '/mnt/md0/runs/s3d-AH007_2022-03-28_2-4-5/registered_data/reg_data0052.npy',\n",
       " '/mnt/md0/runs/s3d-AH007_2022-03-28_2-4-5/registered_data/reg_data0053.npy',\n",
       " '/mnt/md0/runs/s3d-AH007_2022-03-28_2-4-5/registered_data/reg_data0054.npy',\n",
       " '/mnt/md0/runs/s3d-AH007_2022-03-28_2-4-5/registered_data/reg_data0055.npy',\n",
       " '/mnt/md0/runs/s3d-AH007_2022-03-28_2-4-5/registered_data/reg_data0056.npy',\n",
       " '/mnt/md0/runs/s3d-AH007_2022-03-28_2-4-5/registered_data/reg_data0057.npy',\n",
       " '/mnt/md0/runs/s3d-AH007_2022-03-28_2-4-5/registered_data/reg_data0058.npy',\n",
       " '/mnt/md0/runs/s3d-AH007_2022-03-28_2-4-5/registered_data/reg_data0059.npy',\n",
       " '/mnt/md0/runs/s3d-AH007_2022-03-28_2-4-5/registered_data/reg_data0060.npy',\n",
       " '/mnt/md0/runs/s3d-AH007_2022-03-28_2-4-5/registered_data/reg_data0061.npy',\n",
       " '/mnt/md0/runs/s3d-AH007_2022-03-28_2-4-5/registered_data/reg_data0062.npy',\n",
       " '/mnt/md0/runs/s3d-AH007_2022-03-28_2-4-5/registered_data/reg_data0063.npy',\n",
       " '/mnt/md0/runs/s3d-AH007_2022-03-28_2-4-5/registered_data/reg_data0064.npy',\n",
       " '/mnt/md0/runs/s3d-AH007_2022-03-28_2-4-5/registered_data/reg_data0065.npy',\n",
       " '/mnt/md0/runs/s3d-AH007_2022-03-28_2-4-5/registered_data/reg_data0066.npy',\n",
       " '/mnt/md0/runs/s3d-AH007_2022-03-28_2-4-5/registered_data/reg_data0067.npy',\n",
       " '/mnt/md0/runs/s3d-AH007_2022-03-28_2-4-5/registered_data/reg_data0068.npy',\n",
       " '/mnt/md0/runs/s3d-AH007_2022-03-28_2-4-5/registered_data/reg_data0069.npy',\n",
       " '/mnt/md0/runs/s3d-AH007_2022-03-28_2-4-5/registered_data/reg_data0070.npy',\n",
       " '/mnt/md0/runs/s3d-AH007_2022-03-28_2-4-5/registered_data/reg_data0071.npy',\n",
       " '/mnt/md0/runs/s3d-AH007_2022-03-28_2-4-5/registered_data/reg_data0072.npy',\n",
       " '/mnt/md0/runs/s3d-AH007_2022-03-28_2-4-5/registered_data/reg_data0073.npy',\n",
       " '/mnt/md0/runs/s3d-AH007_2022-03-28_2-4-5/registered_data/reg_data0074.npy',\n",
       " '/mnt/md0/runs/s3d-AH007_2022-03-28_2-4-5/registered_data/reg_data0075.npy',\n",
       " '/mnt/md0/runs/s3d-AH007_2022-03-28_2-4-5/registered_data/reg_data0076.npy',\n",
       " '/mnt/md0/runs/s3d-AH007_2022-03-28_2-4-5/registered_data/reg_data0077.npy',\n",
       " '/mnt/md0/runs/s3d-AH007_2022-03-28_2-4-5/registered_data/reg_data0078.npy',\n",
       " '/mnt/md0/runs/s3d-AH007_2022-03-28_2-4-5/registered_data/reg_data0079.npy',\n",
       " '/mnt/md0/runs/s3d-AH007_2022-03-28_2-4-5/registered_data/reg_data0080.npy',\n",
       " '/mnt/md0/runs/s3d-AH007_2022-03-28_2-4-5/registered_data/reg_data0081.npy',\n",
       " '/mnt/md0/runs/s3d-AH007_2022-03-28_2-4-5/registered_data/reg_data0082.npy',\n",
       " '/mnt/md0/runs/s3d-AH007_2022-03-28_2-4-5/registered_data/reg_data0083.npy',\n",
       " '/mnt/md0/runs/s3d-AH007_2022-03-28_2-4-5/registered_data/reg_data0084.npy',\n",
       " '/mnt/md0/runs/s3d-AH007_2022-03-28_2-4-5/registered_data/reg_data0085.npy',\n",
       " '/mnt/md0/runs/s3d-AH007_2022-03-28_2-4-5/registered_data/reg_data0086.npy',\n",
       " '/mnt/md0/runs/s3d-AH007_2022-03-28_2-4-5/registered_data/reg_data0087.npy',\n",
       " '/mnt/md0/runs/s3d-AH007_2022-03-28_2-4-5/registered_data/reg_data0088.npy',\n",
       " '/mnt/md0/runs/s3d-AH007_2022-03-28_2-4-5/registered_data/reg_data0089.npy',\n",
       " '/mnt/md0/runs/s3d-AH007_2022-03-28_2-4-5/registered_data/reg_data0090.npy',\n",
       " '/mnt/md0/runs/s3d-AH007_2022-03-28_2-4-5/registered_data/reg_data0091.npy',\n",
       " '/mnt/md0/runs/s3d-AH007_2022-03-28_2-4-5/registered_data/reg_data0092.npy',\n",
       " '/mnt/md0/runs/s3d-AH007_2022-03-28_2-4-5/registered_data/reg_data0093.npy',\n",
       " '/mnt/md0/runs/s3d-AH007_2022-03-28_2-4-5/registered_data/reg_data0094.npy',\n",
       " '/mnt/md0/runs/s3d-AH007_2022-03-28_2-4-5/registered_data/reg_data0095.npy',\n",
       " '/mnt/md0/runs/s3d-AH007_2022-03-28_2-4-5/registered_data/reg_data0096.npy',\n",
       " '/mnt/md0/runs/s3d-AH007_2022-03-28_2-4-5/registered_data/reg_data0097.npy',\n",
       " '/mnt/md0/runs/s3d-AH007_2022-03-28_2-4-5/registered_data/reg_data0098.npy',\n",
       " '/mnt/md0/runs/s3d-AH007_2022-03-28_2-4-5/registered_data/reg_data0099.npy',\n",
       " '/mnt/md0/runs/s3d-AH007_2022-03-28_2-4-5/registered_data/reg_data0100.npy',\n",
       " '/mnt/md0/runs/s3d-AH007_2022-03-28_2-4-5/registered_data/reg_data0101.npy',\n",
       " '/mnt/md0/runs/s3d-AH007_2022-03-28_2-4-5/registered_data/reg_data0102.npy']"
      ]
     },
     "execution_count": 75,
     "metadata": {},
     "output_type": "execute_result"
    }
   ],
   "source": [
    "job.get_registered_files('registered_data', 'reg_data')"
   ]
  },
  {
   "cell_type": "code",
   "execution_count": null,
   "id": "b956dfce",
   "metadata": {},
   "outputs": [],
   "source": []
  }
 ],
 "metadata": {
  "kernelspec": {
   "display_name": "s2p-lbm",
   "language": "python",
   "name": "s2p-lbm"
  },
  "language_info": {
   "codemirror_mode": {
    "name": "ipython",
    "version": 3
   },
   "file_extension": ".py",
   "mimetype": "text/x-python",
   "name": "python",
   "nbconvert_exporter": "python",
   "pygments_lexer": "ipython3",
   "version": "3.8.17"
  }
 },
 "nbformat": 4,
 "nbformat_minor": 5
}
