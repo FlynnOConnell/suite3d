{
 "cells": [
  {
   "cell_type": "code",
   "execution_count": 1,
   "id": "dff51d5e",
   "metadata": {},
   "outputs": [],
   "source": [
    "%load_ext autoreload\n",
    "%autoreload 2\n",
    "\n",
    "import os \n",
    "import shutil\n",
    "import numpy as n\n",
    "from datetime import date\n",
    "from matplotlib import pyplot as plt\n",
    "import time\n",
    "import napari"
   ]
  },
  {
   "cell_type": "code",
   "execution_count": 2,
   "id": "51d1964f",
   "metadata": {},
   "outputs": [],
   "source": [
    "os.chdir('/home/ali/packages/s2p-lbm/')\n",
    "\n",
    "from suite3d.job import Job\n",
    "from suite3d import lbmio, utils, ui\n",
    "from suite3d import tiff_utils as tfu\n",
    "from suite3d import file_utils as flu"
   ]
  },
  {
   "cell_type": "code",
   "execution_count": 3,
   "id": "604964d7",
   "metadata": {},
   "outputs": [],
   "source": [
    "from mkl_fft import fftn, ifftn\n",
    "import cupy as cp\n",
    "import cupyx.scipy.fft as cufft\n",
    "import scipy.fft\n",
    "import cupyx.scipy.ndimage as cuimage"
   ]
  },
  {
   "cell_type": "code",
   "execution_count": 4,
   "id": "9a79590f",
   "metadata": {},
   "outputs": [
    {
     "name": "stdout",
     "output_type": "stream",
     "text": [
      "   Found and loaded params from /mnt/md0/runs/s3d-AH007_2022-03-28_2-4-5/params.npy\n",
      "SI ROI pix count in x is 182, which is impossible, setting it to 145\n"
     ]
    }
   ],
   "source": [
    "# Create the job\n",
    "job = Job('/mnt/md0/runs','AH007_2022-03-28_2-4-5', create=False, overwrite=False, verbosity = 10)\n",
    "tifs, si_params, exp_str = flu.find_exp(job.params['subjects_dir'], job.params['subject'],\n",
    "                                        job.params['date'], job.params['expnum'])\n",
    "\n",
    "exp_dir = flu.find_expt_file((job.params['subject'], job.params['date'], job.params['expnum'][0]),\n",
    "                         'root', dirs=[job.params['subjects_dir']])\n",
    "offset_files = job.get_registered_files('registered_data', 'offset')"
   ]
  },
  {
   "cell_type": "code",
   "execution_count": 5,
   "id": "22626584",
   "metadata": {},
   "outputs": [],
   "source": [
    "cz = (0,25)\n",
    "ct = (0, 50)\n",
    "cy = (None,None)\n",
    "cx = (None,None)"
   ]
  },
  {
   "cell_type": "code",
   "execution_count": 6,
   "id": "ddbe2bd4",
   "metadata": {},
   "outputs": [],
   "source": [
    "offsets = [n.load(f,allow_pickle=True).item() for f in offset_files]\n",
    "offset = offsets[0]\n",
    "for k,v in offset.items():\n",
    "    offset[k] = n.array(n.concatenate([o[k] for o in offsets],axis=1) )\n",
    "    offset[k] = offset[k][cz[0]:cz[1], ct[0]:ct[1]]\n",
    "dx = (offset['xms'] - n.floor(offset['xms'].mean(axis=1,keepdims=True)))[cz[0]:cz[1]]\n",
    "dy = (offset['yms'] - n.floor(offset['yms'].mean(axis=1,keepdims=True)))[cz[0]:cz[1]]"
   ]
  },
  {
   "cell_type": "code",
   "execution_count": 7,
   "id": "d993999c",
   "metadata": {},
   "outputs": [],
   "source": [
    "summary = job.load_summary()\n",
    "all_ops = summary['all_ops']\n",
    "crosstalk_coeff = summary['crosstalk_coeff']\n",
    "refs_and_masks = summary['refs_and_masks']\n",
    "ref_img = summary['ref_img_3d'][cz[0]:cz[1]]\n",
    "min_pix_vals = summary['min_pix_vals']\n",
    "mask_mul, mask_offset, ref_2ds = n.stack([r[:3] for r in refs_and_masks],axis=1)[:,cz[0]:cz[1], cy[0]:cy[1], cx[0]:cx[1]]\n",
    "mask_mul_nr, mask_offset_nr, ref_nr = n.stack([r[3:] for r in refs_and_masks],axis=1)[:,cz[0]:cz[1], cy[0]:cy[1], cx[0]:cx[1]]\n",
    "rmins = n.array([op['rmin'] for op in all_ops])\n",
    "rmaxs = n.array([op['rmax'] for op in all_ops])"
   ]
  },
  {
   "cell_type": "code",
   "execution_count": 8,
   "id": "ad98a969",
   "metadata": {},
   "outputs": [
    {
     "name": "stdout",
     "output_type": "stream",
     "text": [
      "Loading /mnt/a2/AH007/2022-03-28/2/AH007_ROI3p33um_NOSCREEN_-400um_00002_00001.tif\n",
      "Loaded 1 files, total 5.68 GB\n"
     ]
    }
   ],
   "source": [
    "mov_raw = lbmio.load_and_stitch_tifs(job.tifs[1:2], planes = n.arange(cz[0],cz[1]))[:,:,cy[0]:cy[1], cx[0]:cx[1]]\n",
    "mov_raw = mov_raw[:,ct[0]:ct[1]]\n",
    "mov_pos = mov_raw - min_pix_vals.reshape(len(min_pix_vals), 1, 1, 1)[cz[0]:cz[1],]"
   ]
  },
  {
   "cell_type": "code",
   "execution_count": 9,
   "id": "9d8536bb",
   "metadata": {},
   "outputs": [],
   "source": [
    "from suite3d import register_gpu as rgpu "
   ]
  },
  {
   "cell_type": "code",
   "execution_count": 10,
   "id": "65770e85",
   "metadata": {},
   "outputs": [
    {
     "name": "stdout",
     "output_type": "stream",
     "text": [
      "CPU times: user 4.25 s, sys: 5.22 s, total: 9.46 s\n",
      "Wall time: 9.48 s\n"
     ]
    }
   ],
   "source": [
    "%%time\n",
    "mov_shifted, ymaxs, xmaxs = rgpu.rigid_2d_reg_gpu(mov_pos, mask_mul, mask_offset, ref_2ds, shift=True,\n",
    "                                                 max_reg_xy = 50, rmins=rmins, rmaxs=rmaxs, crosstalk_coeff=crosstalk_coeff)"
   ]
  },
  {
   "cell_type": "code",
   "execution_count": 11,
   "id": "abb0d17a",
   "metadata": {},
   "outputs": [
    {
     "name": "stdout",
     "output_type": "stream",
     "text": [
      "CPU times: user 772 ms, sys: 687 ms, total: 1.46 s\n",
      "Wall time: 1.46 s\n"
     ]
    }
   ],
   "source": [
    "%%time\n",
    "mov_shifted_gpu = mov_shifted.get()\n",
    "ymaxs_gpu = ymaxs.get(); \n",
    "xmaxs_gpu = xmaxs.get()"
   ]
  },
  {
   "cell_type": "code",
   "execution_count": 12,
   "id": "3ce9b7ba",
   "metadata": {},
   "outputs": [],
   "source": [
    "# del mov_gpu\n",
    "# del mov_shifted\n",
    "mempool = cp.get_default_memory_pool()\n",
    "mempool.free_all_blocks()"
   ]
  },
  {
   "cell_type": "code",
   "execution_count": 13,
   "id": "b9785602",
   "metadata": {},
   "outputs": [
    {
     "name": "stdout",
     "output_type": "stream",
     "text": [
      "CPU times: user 8.66 ms, sys: 13.3 ms, total: 22 ms\n",
      "Wall time: 21.7 ms\n"
     ]
    }
   ],
   "source": [
    "%%time\n",
    "ref_gpu = cp.asarray(ref_img)"
   ]
  },
  {
   "cell_type": "code",
   "execution_count": 14,
   "id": "306fcbae",
   "metadata": {},
   "outputs": [],
   "source": [
    "zf = 1.0/3.0\n",
    "max_shift_z = 8"
   ]
  },
  {
   "cell_type": "code",
   "execution_count": 15,
   "id": "ae939968",
   "metadata": {
    "scrolled": true
   },
   "outputs": [
    {
     "name": "stdout",
     "output_type": "stream",
     "text": [
      "CPU times: user 4.73 ms, sys: 1.47 ms, total: 6.2 ms\n",
      "Wall time: 5.99 ms\n"
     ]
    }
   ],
   "source": [
    "%%time\n",
    "ref_z = cuimage.zoom(ref_gpu, (1,zf,zf), order=1)\n",
    "ref_zf = cufft.fft(ref_z, axis=0)\n",
    "ref_zf_c = cp.conjugate(ref_zf)\n",
    "ref_cf_cn = ref_zf_c / (n.abs(ref_zf_c) + n.complex64(1e-5))"
   ]
  },
  {
   "cell_type": "code",
   "execution_count": 16,
   "id": "7b99b5b2",
   "metadata": {},
   "outputs": [
    {
     "name": "stdout",
     "output_type": "stream",
     "text": [
      "CPU times: user 109 ms, sys: 1.74 ms, total: 111 ms\n",
      "Wall time: 110 ms\n"
     ]
    }
   ],
   "source": [
    "%%time\n",
    "mov_z = cuimage.zoom(mov_shifted,zoom=(1.0, 1.0, zf,zf), order=1)\n",
    "mov_z_f = cufft.fft(mov_z, axis=1)\n",
    "# mov_z_fn = mov_z_f / (n.abs(mov_z_f) + n.complex64(1e-5))"
   ]
  },
  {
   "cell_type": "code",
   "execution_count": 19,
   "id": "82e604fd",
   "metadata": {},
   "outputs": [],
   "source": [
    "dotnorm = mov_z_fn * ref_cf_cn\n",
    "pcorr = cufft.ifft(dotnorm,axis=0)\n",
    "pcorr = n.concatenate([pcorr[-max_shift_z:], pcorr[:max_shift_z+1]])"
   ]
  },
  {
   "cell_type": "code",
   "execution_count": 18,
   "id": "129a6c28",
   "metadata": {},
   "outputs": [
    {
     "data": {
      "text/plain": [
       "(17, 25, 401, 338)"
      ]
     },
     "execution_count": 18,
     "metadata": {},
     "output_type": "execute_result"
    }
   ],
   "source": [
    "pcorr.shape"
   ]
  },
  {
   "cell_type": "code",
   "execution_count": null,
   "id": "2426cd6a",
   "metadata": {},
   "outputs": [],
   "source": []
  },
  {
   "cell_type": "code",
   "execution_count": null,
   "id": "089eca6e",
   "metadata": {},
   "outputs": [],
   "source": []
  },
  {
   "cell_type": "code",
   "execution_count": 17,
   "id": "56be3204",
   "metadata": {},
   "outputs": [
    {
     "data": {
      "text/plain": [
       "dtype('float32')"
      ]
     },
     "execution_count": 17,
     "metadata": {},
     "output_type": "execute_result"
    }
   ],
   "source": [
    "mov_shifted.dtype"
   ]
  },
  {
   "cell_type": "code",
   "execution_count": null,
   "id": "cfb5d5ed",
   "metadata": {},
   "outputs": [],
   "source": []
  },
  {
   "cell_type": "code",
   "execution_count": null,
   "id": "0ecbc4cb",
   "metadata": {},
   "outputs": [],
   "source": []
  }
 ],
 "metadata": {
  "kernelspec": {
   "display_name": "s2p-lbm",
   "language": "python",
   "name": "s2p-lbm"
  },
  "language_info": {
   "codemirror_mode": {
    "name": "ipython",
    "version": 3
   },
   "file_extension": ".py",
   "mimetype": "text/x-python",
   "name": "python",
   "nbconvert_exporter": "python",
   "pygments_lexer": "ipython3",
   "version": "3.8.17"
  }
 },
 "nbformat": 4,
 "nbformat_minor": 5
}
