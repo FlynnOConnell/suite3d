{
 "cells": [
  {
   "cell_type": "code",
   "execution_count": 1,
   "id": "c43283ba",
   "metadata": {},
   "outputs": [],
   "source": [
    "%load_ext autoreload\n",
    "%autoreload 2\n",
    "\n",
    "import os \n",
    "import shutil\n",
    "import numpy as n\n",
    "from datetime import date\n",
    "from matplotlib import pyplot as plt\n",
    "import time\n",
    "import napari"
   ]
  },
  {
   "cell_type": "code",
   "execution_count": 2,
   "id": "0c9f7cf7",
   "metadata": {},
   "outputs": [],
   "source": [
    "os.chdir('/home/ali/packages/s2p-lbm/')\n",
    "\n",
    "from suite3d.job import Job\n",
    "from suite3d import lbmio, utils, ui\n",
    "from suite3d import tiff_utils as tfu\n",
    "from suite3d import file_utils as flu"
   ]
  },
  {
   "cell_type": "code",
   "execution_count": 3,
   "id": "94c7a186",
   "metadata": {},
   "outputs": [],
   "source": [
    "exp_str = 'AH007_2022-03-28_2-4-5'"
   ]
  },
  {
   "cell_type": "code",
   "execution_count": 4,
   "id": "979f8788",
   "metadata": {},
   "outputs": [
    {
     "name": "stdout",
     "output_type": "stream",
     "text": [
      "   Found and loaded params from /mnt/md0/runs/s3d-AH007_2022-03-28_2-4-5/params.npy\n"
     ]
    }
   ],
   "source": [
    "# Create the job\n",
    "job = Job('/mnt/md0/runs',exp_str, create=False, overwrite=False, verbosity = 3)"
   ]
  },
  {
   "cell_type": "code",
   "execution_count": 5,
   "id": "dc10ede8",
   "metadata": {},
   "outputs": [],
   "source": [
    "combined_dir = job.dirs['detection-combined-full']"
   ]
  },
  {
   "cell_type": "code",
   "execution_count": 6,
   "id": "ee5f705d",
   "metadata": {},
   "outputs": [],
   "source": [
    "outputs = ui.load_outputs(combined_dir, load_traces=True)"
   ]
  },
  {
   "cell_type": "code",
   "execution_count": null,
   "id": "4e7cb318",
   "metadata": {},
   "outputs": [],
   "source": []
  },
  {
   "cell_type": "code",
   "execution_count": 7,
   "id": "e23f3ee8",
   "metadata": {},
   "outputs": [],
   "source": [
    "v1, v2 = ui.make_label_vols(outputs['stats'], outputs['vmap'].shape, \n",
    "            iscell =  outputs['iscell_curated_slider'], \n",
    "                  cmap='Blues', lam_max = 0.3)"
   ]
  },
  {
   "cell_type": "code",
   "execution_count": 8,
   "id": "3e11da63",
   "metadata": {},
   "outputs": [],
   "source": [
    "stats = outputs['stats']\n",
    "shape = outputs['vmap'].shape\n",
    "iscell = outputs['iscell_curated_slider']\n",
    "lam_thresh = 0.15\n",
    "coords = [stat['coords'] for stat in stats]\n",
    "lams = [stat['lam'] for stat in stats]\n",
    "F = outputs['F']"
   ]
  },
  {
   "cell_type": "code",
   "execution_count": 9,
   "id": "3b4752c2",
   "metadata": {},
   "outputs": [],
   "source": [
    "import copy"
   ]
  },
  {
   "cell_type": "code",
   "execution_count": 24,
   "id": "5c5b73cd",
   "metadata": {},
   "outputs": [],
   "source": [
    "meds = n.array([stat['med'] for stat in stats])"
   ]
  },
  {
   "cell_type": "code",
   "execution_count": 11,
   "id": "773b5e54",
   "metadata": {},
   "outputs": [],
   "source": [
    "spks = outputs['spks']"
   ]
  },
  {
   "cell_type": "code",
   "execution_count": 12,
   "id": "9a6b55f9",
   "metadata": {},
   "outputs": [],
   "source": [
    "sm = spks.mean(axis=0)"
   ]
  },
  {
   "cell_type": "code",
   "execution_count": 14,
   "id": "07c03895",
   "metadata": {},
   "outputs": [
    {
     "data": {
      "text/plain": [
       "(2000.0, 2100.0)"
      ]
     },
     "execution_count": 14,
     "metadata": {},
     "output_type": "execute_result"
    },
    {
     "data": {
      "image/png": "[encoded data removed]",
      "text/plain": [
       "<Figure size 640x480 with 1 Axes>"
      ]
     },
     "metadata": {},
     "output_type": "display_data"
    }
   ],
   "source": [
    "plt.plot(sm)\n",
    "plt.xlim(2000,2100)"
   ]
  },
  {
   "cell_type": "code",
   "execution_count": 50,
   "id": "c98c54f2",
   "metadata": {},
   "outputs": [],
   "source": [
    "cell_act_vol = n.zeros( (nts,) + shape)"
   ]
  },
  {
   "cell_type": "code",
   "execution_count": 51,
   "id": "67f63f83",
   "metadata": {},
   "outputs": [],
   "source": [
    "nts = 50\n",
    "start_idx = 2040"
   ]
  },
  {
   "cell_type": "code",
   "execution_count": 54,
   "id": "89f6275d",
   "metadata": {},
   "outputs": [
    {
     "data": {
      "text/plain": [
       "(50, 11)"
      ]
     },
     "execution_count": 54,
     "metadata": {},
     "output_type": "execute_result"
    }
   ],
   "source": [
    "cell_act_vol[:, cz,cy,cx].shape"
   ]
  },
  {
   "cell_type": "code",
   "execution_count": 57,
   "id": "16db5f31",
   "metadata": {},
   "outputs": [
    {
     "data": {
      "text/plain": [
       "(50,)"
      ]
     },
     "execution_count": 57,
     "metadata": {},
     "output_type": "execute_result"
    }
   ],
   "source": [
    "F[i, start_idx:start_idx+nts].shape"
   ]
  },
  {
   "cell_type": "code",
   "execution_count": 79,
   "id": "6658630a",
   "metadata": {},
   "outputs": [],
   "source": [
    "Fm = F.mean(axis=1, keepdims=True)\n",
    "Fstd = F.std(axis=1, keepdims=True)"
   ]
  },
  {
   "cell_type": "code",
   "execution_count": 98,
   "id": "14a4ae95",
   "metadata": {},
   "outputs": [],
   "source": [
    "spks_m = spks.mean(axis=1, keepdims=True)\n",
    "spks_std = spks.std(axis=1, keepdims=True)"
   ]
  },
  {
   "cell_type": "code",
   "execution_count": 88,
   "id": "9b703016",
   "metadata": {},
   "outputs": [],
   "source": [
    "! mkdir /mnt/md0/share/series_z"
   ]
  },
  {
   "cell_type": "code",
   "execution_count": 92,
   "id": "3bf12b1f",
   "metadata": {},
   "outputs": [],
   "source": [
    "\n",
    "from scipy.ndimage import gaussian_filter1d\n",
    "# from scipy.signal import gaussian_filter1d"
   ]
  },
  {
   "cell_type": "code",
   "execution_count": 93,
   "id": "35f8455b",
   "metadata": {},
   "outputs": [],
   "source": [
    "def filt(signal, width = 3, axis=0, mode='gaussian'):\n",
    "    if width == 0:\n",
    "        return signal\n",
    "\n",
    "    if mode == 'gaussian':\n",
    "        out = gaussian_filter1d(signal, sigma=width, axis=axis)\n",
    "    else:\n",
    "        assert False, \"mode not implemented\"\n",
    "    return out"
   ]
  },
  {
   "cell_type": "code",
   "execution_count": 115,
   "id": "b76d4a39",
   "metadata": {},
   "outputs": [],
   "source": [
    "spks_z = (spks - spks.mean(axis=1,keepdims=True))/spks.std(axis=1,keepdims=True)"
   ]
  },
  {
   "cell_type": "code",
   "execution_count": 125,
   "id": "1d8341c4",
   "metadata": {},
   "outputs": [],
   "source": [
    "spks_f = filt(spks_z, width=3, axis=1)"
   ]
  },
  {
   "cell_type": "code",
   "execution_count": 126,
   "id": "4a80ce51",
   "metadata": {},
   "outputs": [
    {
     "data": {
      "text/plain": [
       "[<matplotlib.lines.Line2D at 0x7fb4273c3d90>]"
      ]
     },
     "execution_count": 126,
     "metadata": {},
     "output_type": "execute_result"
    },
    {
     "data": {
      "image/png": "[encoded data removed]",
      "text/plain": [
       "<Figure size 640x480 with 1 Axes>"
      ]
     },
     "metadata": {},
     "output_type": "display_data"
    }
   ],
   "source": [
    "plt.plot(spks_f[100, start_idx:start_idx+nts])"
   ]
  },
  {
   "cell_type": "code",
   "execution_count": 127,
   "id": "d25a152f",
   "metadata": {},
   "outputs": [],
   "source": [
    "for i in range(len(stats)):\n",
    "    if iscell[i,0]:\n",
    "        cz,cy,cx = coords[i]\n",
    "        if meds[i][0] == 0:\n",
    "            continue\n",
    "        lam = copy.copy(lams[i])\n",
    "        idxs = lam > lam_thresh\n",
    "        cz = cz[idxs]; cy = cy[idxs]; cx = cx[idxs]\n",
    "        for j in range(len(cz)):\n",
    "            cell_act_vol[:,cz[j], cy[j],cx[j]] =  spks_f[i, start_idx:start_idx+nts]"
   ]
  },
  {
   "cell_type": "code",
   "execution_count": 128,
   "id": "d5ea02ca",
   "metadata": {},
   "outputs": [
    {
     "data": {
      "text/plain": [
       "6.034681797027588"
      ]
     },
     "execution_count": 128,
     "metadata": {},
     "output_type": "execute_result"
    }
   ],
   "source": [
    "cell_act_vol.max()"
   ]
  },
  {
   "cell_type": "code",
   "execution_count": 129,
   "id": "67890cfb",
   "metadata": {},
   "outputs": [],
   "source": [
    "cell_act_vol_int = (1000*cell_act_vol).astype(n.int16)"
   ]
  },
  {
   "cell_type": "code",
   "execution_count": 130,
   "id": "4014fa13",
   "metadata": {},
   "outputs": [],
   "source": [
    "for i in range(nts):\n",
    "    tfu.save_mrc('/mnt/md0/share/series_spks_f3z', '%03d.mrc' % i,cell_act_vol_int[i], voxel_size=(4,4,15), dtype=n.int16)"
   ]
  },
  {
   "cell_type": "code",
   "execution_count": null,
   "id": "f2a8867f",
   "metadata": {},
   "outputs": [],
   "source": []
  },
  {
   "cell_type": "code",
   "execution_count": null,
   "id": "e3c55214",
   "metadata": {},
   "outputs": [],
   "source": []
  },
  {
   "cell_type": "code",
   "execution_count": 63,
   "id": "4b496e40",
   "metadata": {},
   "outputs": [],
   "source": [
    "tfu.save_mrc('/mnt/md0/share', 'cell_activity.mrc',cell_act_vol_int, voxel_size=(4,4,15), dtype=n.int16)"
   ]
  },
  {
   "cell_type": "code",
   "execution_count": 67,
   "id": "4474543d",
   "metadata": {},
   "outputs": [
    {
     "ename": "TypeError",
     "evalue": "_set_voxel_size() takes 4 positional arguments but 5 were given",
     "output_type": "error",
     "traceback": [
      "\u001b[0;31m---------------------------------------------------------------------------\u001b[0m",
      "\u001b[0;31mTypeError\u001b[0m                                 Traceback (most recent call last)",
      "Cell \u001b[0;32mIn[67], line 1\u001b[0m\n\u001b[0;32m----> 1\u001b[0m \u001b[43mtfu\u001b[49m\u001b[38;5;241;43m.\u001b[39;49m\u001b[43msave_mrc\u001b[49m\u001b[43m(\u001b[49m\u001b[38;5;124;43m'\u001b[39;49m\u001b[38;5;124;43m/mnt/md0/share\u001b[39;49m\u001b[38;5;124;43m'\u001b[39;49m\u001b[43m,\u001b[49m\u001b[43m \u001b[49m\u001b[38;5;124;43m'\u001b[39;49m\u001b[38;5;124;43mcell_activity_4d.mrc\u001b[39;49m\u001b[38;5;124;43m'\u001b[39;49m\u001b[43m,\u001b[49m\u001b[43mcell_act_vol_int\u001b[49m\u001b[43m,\u001b[49m\u001b[43m \u001b[49m\u001b[43mvoxel_size\u001b[49m\u001b[38;5;241;43m=\u001b[39;49m\u001b[43m(\u001b[49m\u001b[38;5;241;43m4\u001b[39;49m\u001b[43m,\u001b[49m\u001b[38;5;241;43m4\u001b[39;49m\u001b[43m,\u001b[49m\u001b[38;5;241;43m15\u001b[39;49m\u001b[43m,\u001b[49m\u001b[38;5;241;43m1\u001b[39;49m\u001b[43m)\u001b[49m\u001b[43m,\u001b[49m\u001b[43m \u001b[49m\u001b[43mdtype\u001b[49m\u001b[38;5;241;43m=\u001b[39;49m\u001b[43mn\u001b[49m\u001b[38;5;241;43m.\u001b[39;49m\u001b[43mint16\u001b[49m\u001b[43m)\u001b[49m\n",
      "File \u001b[0;32m~/packages/s2p-lbm/suite3d/tiff_utils.py:310\u001b[0m, in \u001b[0;36msave_mrc\u001b[0;34m(dir, fname, data, voxel_size, dtype)\u001b[0m\n\u001b[1;32m    308\u001b[0m \u001b[38;5;28;01mwith\u001b[39;00m mrcfile\u001b[38;5;241m.\u001b[39mnew(fpath, overwrite\u001b[38;5;241m=\u001b[39m\u001b[38;5;28;01mTrue\u001b[39;00m) \u001b[38;5;28;01mas\u001b[39;00m mrc:\n\u001b[1;32m    309\u001b[0m     mrc\u001b[38;5;241m.\u001b[39mset_data(data\u001b[38;5;241m.\u001b[39mastype(dtype))\n\u001b[0;32m--> 310\u001b[0m     \u001b[43mmrc\u001b[49m\u001b[38;5;241;43m.\u001b[39;49m\u001b[43mvoxel_size\u001b[49m \u001b[38;5;241m=\u001b[39m voxel_size\n",
      "File \u001b[0;32m~/anaconda3/envs/suite3d-gpu/lib/python3.8/site-packages/mrcfile/mrcobject.py:303\u001b[0m, in \u001b[0;36mMrcObject.voxel_size\u001b[0;34m(self, voxel_size)\u001b[0m\n\u001b[1;32m    300\u001b[0m     \u001b[38;5;28;01mexcept\u001b[39;00m \u001b[38;5;167;01mAttributeError\u001b[39;00m:\n\u001b[1;32m    301\u001b[0m         \u001b[38;5;66;03m# If the item() method doesn't exist, assume we have a 3-tuple\u001b[39;00m\n\u001b[1;32m    302\u001b[0m         sizes \u001b[38;5;241m=\u001b[39m voxel_size\n\u001b[0;32m--> 303\u001b[0m \u001b[38;5;28;43mself\u001b[39;49m\u001b[38;5;241;43m.\u001b[39;49m\u001b[43m_set_voxel_size\u001b[49m\u001b[43m(\u001b[49m\u001b[38;5;241;43m*\u001b[39;49m\u001b[43msizes\u001b[49m\u001b[43m)\u001b[49m\n",
      "\u001b[0;31mTypeError\u001b[0m: _set_voxel_size() takes 4 positional arguments but 5 were given"
     ]
    }
   ],
   "source": [
    "tfu.save_mrc('/mnt/md0/share', 'cell_activity_4d.mrc',cell_act_vol_int, voxel_size=(4,4,15,1), dtype=n.int16)"
   ]
  },
  {
   "cell_type": "code",
   "execution_count": null,
   "id": "5efb08da",
   "metadata": {},
   "outputs": [],
   "source": []
  },
  {
   "cell_type": "code",
   "execution_count": 64,
   "id": "e7c0b421",
   "metadata": {},
   "outputs": [
    {
     "data": {
      "text/plain": [
       "(50, 18, 1000, 850)"
      ]
     },
     "execution_count": 64,
     "metadata": {},
     "output_type": "execute_result"
    }
   ],
   "source": [
    "cell_act_vol_int.shape"
   ]
  },
  {
   "cell_type": "code",
   "execution_count": 65,
   "id": "1afe4f88",
   "metadata": {},
   "outputs": [
    {
     "data": {
      "text/plain": [
       "900"
      ]
     },
     "execution_count": 65,
     "metadata": {},
     "output_type": "execute_result"
    }
   ],
   "source": [
    "50*18"
   ]
  },
  {
   "cell_type": "code",
   "execution_count": 43,
   "id": "3af8b37f",
   "metadata": {},
   "outputs": [],
   "source": [
    "cell_vol = n.zeros(shape)"
   ]
  },
  {
   "cell_type": "code",
   "execution_count": 44,
   "id": "4e84748c",
   "metadata": {},
   "outputs": [],
   "source": [
    "for i in range(len(stats)):\n",
    "    if iscell[i,0]:\n",
    "        cz,cy,cx = coords[i]\n",
    "        if meds[i][0] == 0:\n",
    "            continue\n",
    "        lam = copy.copy(lams[i])\n",
    "        idxs = lam > lam_thresh\n",
    "        cz = cz[idxs]; cy = cy[idxs]; cx = cx[idxs]\n",
    "        cell_vol[cz, cy,cx] = 1"
   ]
  },
  {
   "cell_type": "code",
   "execution_count": 46,
   "id": "c717d0f8",
   "metadata": {},
   "outputs": [],
   "source": [
    "tfu.save_mrc('/mnt/md0/share', 'cell_vol.mrc',cell_vol, voxel_size=(4,4,15), dtype=n.int16)"
   ]
  },
  {
   "cell_type": "code",
   "execution_count": null,
   "id": "302fd0d0",
   "metadata": {},
   "outputs": [],
   "source": []
  }
 ],
 "metadata": {
  "kernelspec": {
   "display_name": "Python [conda env:suite3d-gpu]",
   "language": "python",
   "name": "conda-env-suite3d-gpu-py"
  },
  "language_info": {
   "codemirror_mode": {
    "name": "ipython",
    "version": 3
   },
   "file_extension": ".py",
   "mimetype": "text/x-python",
   "name": "python",
   "nbconvert_exporter": "python",
   "pygments_lexer": "ipython3",
   "version": "3.8.17"
  }
 },
 "nbformat": 4,
 "nbformat_minor": 5
}
