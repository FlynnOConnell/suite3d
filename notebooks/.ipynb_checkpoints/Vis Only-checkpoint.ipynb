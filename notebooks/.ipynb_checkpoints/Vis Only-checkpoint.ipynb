{
 "cells": [
  {
   "cell_type": "code",
   "execution_count": 1,
   "id": "f57652f9",
   "metadata": {},
   "outputs": [],
   "source": [
    "%load_ext autoreload\n",
    "%autoreload 2\n",
    "\n",
    "import os \n",
    "import shutil\n",
    "import numpy as n\n",
    "from datetime import date\n",
    "import time\n",
    "import napari"
   ]
  },
  {
   "cell_type": "code",
   "execution_count": 9,
   "id": "30cfc9b3",
   "metadata": {},
   "outputs": [],
   "source": [
    "os.chdir(r'C:\\bulk\\packages\\s2p-lbm\\suite2p\\suite2p\\suite3d')"
   ]
  },
  {
   "cell_type": "code",
   "execution_count": 11,
   "id": "c1639a25",
   "metadata": {},
   "outputs": [],
   "source": [
    "import numpy as n"
   ]
  },
  {
   "cell_type": "code",
   "execution_count": 14,
   "id": "1373e4bf",
   "metadata": {},
   "outputs": [],
   "source": [
    "import pyqtgraph"
   ]
  },
  {
   "cell_type": "code",
   "execution_count": 15,
   "id": "dc92c3cd",
   "metadata": {},
   "outputs": [],
   "source": [
    "import ui"
   ]
  },
  {
   "cell_type": "code",
   "execution_count": 17,
   "id": "0bfe2663",
   "metadata": {},
   "outputs": [],
   "source": [
    "combined_dir = r'C:\\bulk\\analysis\\combined-full\\combined-full'"
   ]
  },
  {
   "cell_type": "code",
   "execution_count": 18,
   "id": "89991a6a",
   "metadata": {},
   "outputs": [
    {
     "name": "stdout",
     "output_type": "stream",
     "text": [
      "Found old curated iscell with 17880 of 18107 marked as cells\n",
      "Saving old iscell_curated to backup path C:\\bulk\\analysis\\combined-full\\combined-full\\iscell_curated_old_09-06-23_19-44-33.npy\n",
      "Cells\n",
      "Saving old iscell_curated to backup path C:\\bulk\\analysis\\combined-full\\combined-full\\iscell_curated_slider_old_09-06-23_19-44-33.npy\n",
      "('vmap_peak', (5.800059, 7.1653999328613285), 'peak_val', <function add_curation_sliders.<locals>.<lambda> at 0x0000011BFF6A1160>)\n"
     ]
    }
   ],
   "source": [
    "outputs = ui.load_outputs(combined_dir, load_traces=True)\n",
    "v,layers = ui.create_ui(outputs)\n",
    "ui.add_callbacks_to_ui(v,layers,outputs,savedir=combined_dir)"
   ]
  },
  {
   "cell_type": "code",
   "execution_count": null,
   "id": "00737ebb",
   "metadata": {},
   "outputs": [],
   "source": []
  },
  {
   "cell_type": "code",
   "execution_count": null,
   "id": "24f514a1",
   "metadata": {},
   "outputs": [],
   "source": []
  }
 ],
 "metadata": {
  "kernelspec": {
   "display_name": "Python 3 (ipykernel)",
   "language": "python",
   "name": "python3"
  },
  "language_info": {
   "codemirror_mode": {
    "name": "ipython",
    "version": 3
   },
   "file_extension": ".py",
   "mimetype": "text/x-python",
   "name": "python",
   "nbconvert_exporter": "python",
   "pygments_lexer": "ipython3",
   "version": "3.9.16"
  }
 },
 "nbformat": 4,
 "nbformat_minor": 5
}
