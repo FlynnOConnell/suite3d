{
 "cells": [
  {
   "cell_type": "code",
   "execution_count": 92,
   "id": "4367c7a5",
   "metadata": {},
   "outputs": [
    {
     "name": "stdout",
     "output_type": "stream",
     "text": [
      "The autoreload extension is already loaded. To reload it, use:\n",
      "  %reload_ext autoreload\n"
     ]
    }
   ],
   "source": [
    "%load_ext autoreload\n",
    "%autoreload 2\n",
    "\n",
    "import os \n",
    "import shutil\n",
    "import numpy as n\n",
    "from datetime import date\n",
    "from matplotlib import pyplot as plt"
   ]
  },
  {
   "cell_type": "code",
   "execution_count": 2,
   "id": "0778d127",
   "metadata": {},
   "outputs": [],
   "source": [
    "## !! CHANGE ME !! ##\n",
    "os.chdir('C:\\\\ali\\\\packages\\\\s2p-lbm')"
   ]
  },
  {
   "cell_type": "code",
   "execution_count": 3,
   "id": "206067de",
   "metadata": {
    "scrolled": true
   },
   "outputs": [],
   "source": [
    "from suite2p.io import lbm as lbmio\n",
    "from suite2p.suite3d.job import Job\n",
    "from suite2p.suite3d import extension as ext\n",
    "\n",
    "from suite2p.suite3d import iter_step\n",
    "from utils import tiff_utils as tfu\n",
    "from dask import array as darr"
   ]
  },
  {
   "cell_type": "code",
   "execution_count": null,
   "id": "4ba620ac",
   "metadata": {},
   "outputs": [],
   "source": []
  },
  {
   "cell_type": "code",
   "execution_count": null,
   "id": "cae98c9c",
   "metadata": {},
   "outputs": [],
   "source": []
  }
 ],
 "metadata": {
  "kernelspec": {
   "display_name": "Python [conda env:s2p-lbm]",
   "language": "python",
   "name": "conda-env-s2p-lbm-py"
  },
  "language_info": {
   "codemirror_mode": {
    "name": "ipython",
    "version": 3
   },
   "file_extension": ".py",
   "mimetype": "text/x-python",
   "name": "python",
   "nbconvert_exporter": "python",
   "pygments_lexer": "ipython3",
   "version": "3.8.15"
  },
  "vscode": {
   "interpreter": {
    "hash": "623adc5dd64151d60c8b525032dbc7bed3e7d4ddf32f7de7f3a181d384cf1c0a"
   }
  }
 },
 "nbformat": 4,
 "nbformat_minor": 5
}
