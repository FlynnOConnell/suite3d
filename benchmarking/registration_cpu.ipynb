{
 "cells": [
  {
   "cell_type": "code",
   "execution_count": 1,
   "id": "ba331223",
   "metadata": {},
   "outputs": [],
   "source": [
    "%load_ext autoreload\n",
    "%autoreload 2\n",
    "\n",
    "import os \n",
    "import shutil\n",
    "import numpy as n\n",
    "from datetime import date\n",
    "from matplotlib import pyplot as plt\n",
    "import time\n",
    "import napari\n",
    "from datetime import datetime"
   ]
  },
  {
   "cell_type": "code",
   "execution_count": 2,
   "id": "115ddee1",
   "metadata": {},
   "outputs": [],
   "source": [
    "# path to wherever the s2p-lbm repository is cloned on your computer\n",
    "repo_path = os.path.dirname(os.path.abspath(\"\"))\n",
    "os.chdir(repo_path)\n",
    "\n",
    "from suite3d.job import Job\n",
    "from suite3d import lbmio, utils, ui\n",
    "from suite3d import tiff_utils as tfu"
   ]
  },
  {
   "cell_type": "code",
   "execution_count": 3,
   "id": "02fd728a",
   "metadata": {},
   "outputs": [],
   "source": [
    "results_dir = '/mnt/md0/s3d-benchmarking/results/reg'"
   ]
  },
  {
   "cell_type": "code",
   "execution_count": 17,
   "id": "b1919102",
   "metadata": {},
   "outputs": [
    {
     "name": "stdout",
     "output_type": "stream",
     "text": [
      "   Found and loaded params from /mnt/md0/s3d-benchmarking/s3d-benchmark-reg/params.npy\n",
      "Job directory /mnt/md0/s3d-benchmarking/s3d-benchmark-reg-cpu already exists\n",
      "Loading job directory for benchmark-reg-cpu in /mnt/md0/s3d-benchmarking\n",
      "   Loading dirs \n",
      "      Created dir /mnt/md0/s3d-benchmarking/s3d-benchmark-reg-cpu/registered_fused_data\n",
      "      Found dir summary\n",
      "      Found dir iters\n",
      "   Found and loaded params from /mnt/md0/s3d-benchmarking/s3d-benchmark-reg/params.npy\n",
      "   Copied init pass and parameters from parent job\n",
      "   Updated main params file\n"
     ]
    }
   ],
   "source": [
    "job = Job('/mnt/md0/s3d-benchmarking','benchmark-reg-cpu',create=True, overwrite=True, verbosity = 3,\n",
    "          parent_job = Job('/mnt/md0/s3d-benchmarking','benchmark-reg', create=False))"
   ]
  },
  {
   "cell_type": "code",
   "execution_count": 35,
   "id": "d9aa3973",
   "metadata": {},
   "outputs": [
    {
     "name": "stdout",
     "output_type": "stream",
     "text": [
      "      Found dir /mnt/md0/s3d-benchmarking/s3d-benchmark-reg-cpu/registered_fused_data with tag registered_fused_data\n",
      "   Saved a copy of params at /mnt/md0/s3d-benchmarking/s3d-benchmark-reg-cpu/registered_fused_data\n",
      "   Updated main params file\n",
      "Will analyze 1 tifs in 1 batches\n",
      "   Enforcing positivity\n",
      "   Launching IO thread\n",
      "         Start Batch:        Total Used: 074.560 GB, Virtual Available: 428.636 GB, Virtual Used: 074.560 GB, Swap Used: 000.000 GB\n",
      "Loading Batch 1 of 1\n",
      "      Loading /mnt/md0/data/demo/AH007_ROI3p33um_NOSCREEN_-400um_00001_00001.tif\n"
     ]
    },
    {
     "name": "stderr",
     "output_type": "stream",
     "text": [
      "Numba: Attempted to fork from a non-main thread, the TBB library may be in an invalid state in the child process.\n",
      "Numba: Attempted to fork from a non-main thread, the TBB library may be in an invalid state in the child process.\n",
      "Numba: Attempted to fork from a non-main thread, the TBB library may be in an invalid state in the child process.\n",
      "Numba: Attempted to fork from a non-main thread, the TBB library may be in an invalid state in the child process.\n",
      "Numba: Attempted to fork from a non-main thread, the TBB library may be in an invalid state in the child process.\n",
      "Numba: Attempted to fork from a non-main thread, the TBB library may be in an invalid state in the child process.\n",
      "Numba: Attempted to fork from a non-main thread, the TBB library may be in an invalid state in the child process.\n",
      "Numba: Attempted to fork from a non-main thread, the TBB library may be in an invalid state in the child process.\n",
      "Numba: Attempted to fork from a non-main thread, the TBB library may be in an invalid state in the child process.\n",
      "Numba: Attempted to fork from a non-main thread, the TBB library may be in an invalid state in the child process.\n",
      "Numba: Attempted to fork from a non-main thread, the TBB library may be in an invalid state in the child process.\n",
      "Numba: Attempted to fork from a non-main thread, the TBB library may be in an invalid state in the child process.\n",
      "Numba: Attempted to fork from a non-main thread, the TBB library may be in an invalid state in the child process.\n",
      "Numba: Attempted to fork from a non-main thread, the TBB library may be in an invalid state in the child process.\n",
      "Numba: Attempted to fork from a non-main thread, the TBB library may be in an invalid state in the child process.\n"
     ]
    },
    {
     "name": "stdout",
     "output_type": "stream",
     "text": [
      "   Loaded 1 files, total 6.82 GB\n",
      "   Batch 0 IO thread joined\n",
      "         After IO thread joinTotal Used: 081.378 GB, Virtual Available: 421.817 GB, Virtual Used: 081.378 GB, Swap Used: 000.000 GB\n",
      "   Subtracting min vals to enfore positivity\n",
      "         After Sharr creation:Total Used: 094.925 GB, Virtual Available: 408.271 GB, Virtual Used: 094.925 GB, Swap Used: 000.000 GB\n",
      "      Subtracting plane 1 from 16\n",
      "      Subtracting plane 2 from 17\n",
      "      Subtracting plane 3 from 18\n",
      "      Subtracting plane 4 from 19\n",
      "      Subtracting plane 5 from 20\n",
      "      Subtracting plane 6 from 21\n",
      "      Subtracting plane 7 from 22\n",
      "      Subtracting plane 8 from 23\n",
      "      Subtracting plane 9 from 24\n",
      "      Subtracting plane 10 from 25\n",
      "      Subtracting plane 11 from 26\n",
      "      Subtracting plane 12 from 27\n",
      "      Subtracting plane 13 from 28\n",
      "      Subtracting plane 14 from 29\n",
      "   Registering Batch 0\n",
      "         Before Reg:         Total Used: 094.907 GB, Virtual Available: 408.289 GB, Virtual Used: 094.907 GB, Swap Used: 000.000 GB\n",
      "   \n",
      "      Registering plane 0\n",
      "      Registering plane 1\n",
      "      Registering plane 2\n",
      "      Registering plane 3\n",
      "      Registering plane 4\n",
      "      Registering plane 5\n",
      "      Registering plane 6\n",
      "      Registering plane 7\n",
      "      Registering plane 8\n",
      "      Registering plane 9\n",
      "      Registering plane 10\n",
      "      Registering plane 11\n",
      "      Registering plane 12\n",
      "      Registering plane 13\n",
      "      Registering plane 14\n",
      "      Registering plane 15\n",
      "      Registering plane 16\n",
      "      Registering plane 17\n",
      "      Registering plane 18\n",
      "      Registering plane 19\n",
      "      Registering plane 20\n",
      "      Registering plane 21\n",
      "      Registering plane 22\n",
      "      Registering plane 23\n",
      "      Registering plane 24\n",
      "      Registering plane 25\n",
      "      Registering plane 26\n",
      "      Registering plane 27\n",
      "      Registering plane 28\n",
      "      Registering plane 29\n",
      "      Saving registered file of shape (30, 100, 1239, 991) to /mnt/md0/s3d-benchmarking/s3d-benchmark-reg-cpu/registered_fused_data/fused_reg_data0000.npy\n",
      "         After reg:          Total Used: 094.687 GB, Virtual Available: 408.509 GB, Virtual Used: 094.687 GB, Swap Used: 000.000 GB\n",
      "         After close + unlink shmem:Total Used: 087.819 GB, Virtual Available: 415.377 GB, Virtual Used: 087.819 GB, Swap Used: 000.000 GB\n",
      "      Garbage collected 5188 items\n",
      "         After gc collect:   Total Used: 087.820 GB, Virtual Available: 415.376 GB, Virtual Used: 087.820 GB, Swap Used: 000.000 GB\n"
     ]
    }
   ],
   "source": [
    "tic = time.time()\n",
    "job.register()\n",
    "toc = time.time()"
   ]
  },
  {
   "cell_type": "code",
   "execution_count": 36,
   "id": "e0f55664",
   "metadata": {},
   "outputs": [],
   "source": [
    "offset = job.get_registered_files(filename_filter='offset')\n",
    "\n",
    "offset = n.load(offset[0],allow_pickle=True).item()"
   ]
  },
  {
   "cell_type": "code",
   "execution_count": 38,
   "id": "a0cc44b4",
   "metadata": {},
   "outputs": [],
   "source": [
    "rigid_y, rigid_x, nonrigid_x, nonrigid_y = job.load_registration_results()"
   ]
  },
  {
   "cell_type": "code",
   "execution_count": 39,
   "id": "63569274",
   "metadata": {},
   "outputs": [],
   "source": [
    "mov = job.get_registered_movie()"
   ]
  },
  {
   "cell_type": "code",
   "execution_count": 40,
   "id": "ed9f1cce",
   "metadata": {},
   "outputs": [],
   "source": [
    "mean_vol = mov.mean(axis=1).compute()"
   ]
  },
  {
   "cell_type": "code",
   "execution_count": 41,
   "id": "b15dd28d",
   "metadata": {},
   "outputs": [],
   "source": [
    "timings = {'register'    : toc - tic}\n",
    "outputs = {'rigid_y'     : rigid_y,\n",
    "           'rigid_x'     : rigid_x,\n",
    "           'nonrigid_y'  : nonrigid_y,\n",
    "           'nonrigid_x'  : nonrigid_x,\n",
    "           'mean_vol'    : mean_vol}\n",
    "repo_status = utils.get_repo_status(repo_path)"
   ]
  },
  {
   "cell_type": "code",
   "execution_count": 42,
   "id": "fe8850b2",
   "metadata": {},
   "outputs": [],
   "source": [
    "# this updates the baseline\n",
    "# utils.save_benchmark_results(results_dir, outputs, timings, repo_status, is_baseline=True)"
   ]
  },
  {
   "cell_type": "code",
   "execution_count": 44,
   "id": "504b8c69",
   "metadata": {},
   "outputs": [],
   "source": [
    "baseline_output, __, __ = utils.load_baseline_results(results_dir)"
   ]
  },
  {
   "cell_type": "code",
   "execution_count": 43,
   "id": "4cb8cf81",
   "metadata": {},
   "outputs": [
    {
     "name": "stdout",
     "output_type": "stream",
     "text": [
      "                                         Baseline        |      Current         | \n",
      "Branch:                             dev                  | dev                  | \n",
      "Last commit hash:                   30c58f16ab717fa9dc43 | 27d37e787b15639478bf | \n",
      "Last commit summ:                   benchmarking/testing | example notebook for | \n",
      "Dirty :                             True                 | True                 | \n",
      "    \n",
      "Timings (s) \n",
      "register                                          70.124 |              116.030 | \n",
      "\n",
      "Outputs: \n",
      "rigid_y                                                  |                      |  mismatch: 35 / 3000 (98.83333 % match) \n",
      "           shape:                   (100, 30)            | (100, 30)            | \n",
      "           mean:                                 -22.053 |              -22.103 |\n",
      "           std:                                   14.442 |               14.865 | \n",
      "rigid_x                                                  |                      |  mismatch: 44 / 3000 (98.53333 % match) \n",
      "           shape:                   (100, 30)            | (100, 30)            | \n",
      "           mean:                                 -18.715 |              -18.738 |\n",
      "           std:                                   11.107 |               11.948 | \n",
      "nonrigid_y                                               |                      |  mismatch: 319602 / 540000 (40.81444 % match) \n",
      "           shape:                   (100, 30, 15, 12)    | (100, 30, 15, 12)    | \n",
      "           mean:                                  -0.419 |               -0.032 |\n",
      "           std:                                    2.142 |                2.187 | \n",
      "nonrigid_x                                               |                      |  mismatch: 315999 / 540000 (41.48167 % match) \n",
      "           shape:                   (100, 30, 15, 12)    | (100, 30, 15, 12)    | \n",
      "           mean:                                  -0.360 |                0.058 |\n",
      "           std:                                    2.061 |                2.107 | \n",
      "mean_vol                                                 |                      |  mismatch: 34340656 / 36835470 (6.77286 % match) \n",
      "           shape:                   (30, 1239, 991)      | (30, 1239, 991)      | \n",
      "           mean:                                  77.409 |               79.771 |\n",
      "           std:                                  175.209 |              176.103 | \n",
      "\n",
      "Saved benchmark results to /mnt/md0/s3d-benchmarking/results/reg/2023-19-10-14_49\n"
     ]
    }
   ],
   "source": [
    "utils.benchmark(results_dir, outputs, timings, repo_status)"
   ]
  },
  {
   "cell_type": "code",
   "execution_count": null,
   "id": "86999ae0",
   "metadata": {},
   "outputs": [],
   "source": []
  },
  {
   "cell_type": "code",
   "execution_count": null,
   "id": "7130e3b6",
   "metadata": {},
   "outputs": [],
   "source": []
  }
 ],
 "metadata": {
  "kernelspec": {
   "display_name": "Python [conda env:suite3d-gpu]",
   "language": "python",
   "name": "conda-env-suite3d-gpu-py"
  },
  "language_info": {
   "codemirror_mode": {
    "name": "ipython",
    "version": 3
   },
   "file_extension": ".py",
   "mimetype": "text/x-python",
   "name": "python",
   "nbconvert_exporter": "python",
   "pygments_lexer": "ipython3",
   "version": "3.8.18"
  }
 },
 "nbformat": 4,
 "nbformat_minor": 5
}
