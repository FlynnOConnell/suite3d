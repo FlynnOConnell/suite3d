{
 "cells": [
  {
   "cell_type": "code",
   "execution_count": 2,
   "id": "ba331223",
   "metadata": {},
   "outputs": [],
   "source": [
    "%load_ext autoreload\n",
    "%autoreload 2\n",
    "\n",
    "import os \n",
    "import shutil\n",
    "import numpy as n\n",
    "from datetime import date\n",
    "from matplotlib import pyplot as plt\n",
    "import time\n",
    "import napari\n",
    "from datetime import datetime"
   ]
  },
  {
   "cell_type": "code",
   "execution_count": 3,
   "id": "115ddee1",
   "metadata": {},
   "outputs": [],
   "source": [
    "# path to wherever the s2p-lbm repository is cloned on your computer\n",
    "repo_path = os.path.dirname(os.path.abspath(\"\"))\n",
    "os.chdir(repo_path)\n",
    "\n",
    "from suite3d.job import Job\n",
    "from suite3d import lbmio, utils, ui\n",
    "from suite3d import tiff_utils as tfu"
   ]
  },
  {
   "cell_type": "code",
   "execution_count": 4,
   "id": "02fd728a",
   "metadata": {},
   "outputs": [],
   "source": [
    "results_dir = '/mnt/md0/s3d-benchmarking/results/reg'"
   ]
  },
  {
   "cell_type": "code",
   "execution_count": 10,
   "id": "b1919102",
   "metadata": {},
   "outputs": [
    {
     "name": "stdout",
     "output_type": "stream",
     "text": [
      "   Found and loaded params from /mnt/md0/s3d-benchmarking/s3d-benchmark-reg/params.npy\n"
     ]
    }
   ],
   "source": [
    "job = Job('/mnt/md0/s3d-benchmarking','benchmark-reg',create=False, verbosity = 3)\n",
    "# job.copy_init_pass( Job('/mnt/md0/s3d-benchmarking','benchmark-init', create=False).load_summary())"
   ]
  },
  {
   "cell_type": "code",
   "execution_count": 18,
   "id": "d9aa3973",
   "metadata": {},
   "outputs": [
    {
     "name": "stdout",
     "output_type": "stream",
     "text": [
      "      Found dir /mnt/md0/s3d-benchmarking/s3d-benchmark-reg/registered_fused_data with tag registered_fused_data\n",
      "Will analyze 1 tifs in 1 batches\n",
      "   Enforcing positivity\n",
      "   Launching IO thread\n",
      "         Memory at batch 0.  Total Used: 244.185 GB, Virtual Available: 274.697 GB, Virtual Used: 228.499 GB, Swap Used: 015.685 GB\n",
      "Loading Batch 0 of 0\n",
      "      Loading /mnt/md0/data/demo/AH007_ROI3p33um_NOSCREEN_-400um_00001_00001.tif\n"
     ]
    },
    {
     "name": "stderr",
     "output_type": "stream",
     "text": [
      "Numba: Attempted to fork from a non-main thread, the TBB library may be in an invalid state in the child process.\n",
      "Numba: Attempted to fork from a non-main thread, the TBB library may be in an invalid state in the child process.\n",
      "Numba: Attempted to fork from a non-main thread, the TBB library may be in an invalid state in the child process.\n",
      "Numba: Attempted to fork from a non-main thread, the TBB library may be in an invalid state in the child process.\n",
      "Numba: Attempted to fork from a non-main thread, the TBB library may be in an invalid state in the child process.\n",
      "Numba: Attempted to fork from a non-main thread, the TBB library may be in an invalid state in the child process.\n",
      "Numba: Attempted to fork from a non-main thread, the TBB library may be in an invalid state in the child process.\n",
      "Numba: Attempted to fork from a non-main thread, the TBB library may be in an invalid state in the child process.\n",
      "Numba: Attempted to fork from a non-main thread, the TBB library may be in an invalid state in the child process.\n",
      "Numba: Attempted to fork from a non-main thread, the TBB library may be in an invalid state in the child process.\n",
      "Numba: Attempted to fork from a non-main thread, the TBB library may be in an invalid state in the child process.\n",
      "Numba: Attempted to fork from a non-main thread, the TBB library may be in an invalid state in the child process.\n",
      "Numba: Attempted to fork from a non-main thread, the TBB library may be in an invalid state in the child process.\n",
      "Numba: Attempted to fork from a non-main thread, the TBB library may be in an invalid state in the child process.\n",
      "Numba: Attempted to fork from a non-main thread, the TBB library may be in an invalid state in the child process.\n"
     ]
    },
    {
     "name": "stdout",
     "output_type": "stream",
     "text": [
      "   Loaded 1 files, total 6.82 GB\n",
      "   Batch 0 IO thread joined\n",
      "         Memory after IO thread joinTotal Used: 250.985 GB, Virtual Available: 267.896 GB, Virtual Used: 235.300 GB, Swap Used: 015.685 GB\n",
      "         Memory after movie copied from threadTotal Used: 257.816 GB, Virtual Available: 261.065 GB, Virtual Used: 242.131 GB, Swap Used: 015.685 GB\n",
      "         Memory after thread memory clearedTotal Used: 250.991 GB, Virtual Available: 267.890 GB, Virtual Used: 235.306 GB, Swap Used: 015.685 GB\n",
      "      Loaded batch of size (30, 100, 1202, 1015)\n",
      "      Sending frames 0-10 to GPU for rigid registration\n",
      "         Loaded mov and masks to GPU for rigid reg in 0.50 sec\n",
      "         Subtracting min pix vals to enforce positivity\n",
      "         Subtracting crosstalk\n",
      "         Fusing and padding movie\n",
      "         GPU Mov of shape 30, 10, 1239, 991; 2.74 GB\n",
      "         Allocating memory for shifted movie\n",
      "         Registered batch in 0.02 sec\n",
      "         Shifted batch in 0.30 sec\n",
      "         Freeing all blocks\n",
      "      Completed rigid registration in 1.21 sec\n",
      "         Allocated GPU array for non-rigid reg in 0.19 sec\n",
      "   Clipped movie in 0.00 sec\n",
      "   Split movie into blocks in 0.00 sec\n",
      "   Completed FFT of blocks and computed phase correlations in 0.00 sec\n",
      "   Computed SNR and smoothed phase corrs in 0.35 sec\n",
      "         Computed subpixel shifts in 0.01 sec\n",
      "      Computed non-rigid shifts in 1.77 sec\n",
      "      Transferred shifted mov of shape (10, 30, 1239, 991) to CPU in 0.00 sec\n",
      "      Allocated array of shape (30, 100, 1239, 991) to store CPU movie\n",
      "         After array alloc:  Total Used: 252.363 GB, Virtual Available: 266.518 GB, Virtual Used: 236.678 GB, Swap Used: 015.685 GB\n",
      "   Non rigid transformed (on CPU) in 2.44 sec\n",
      "         After GPU Batch:    Total Used: 253.600 GB, Virtual Available: 265.281 GB, Virtual Used: 237.915 GB, Swap Used: 015.685 GB\n",
      "      Sending frames 10-20 to GPU for rigid registration\n",
      "         Loaded mov and masks to GPU for rigid reg in 0.50 sec\n",
      "         Subtracting min pix vals to enforce positivity\n",
      "         Subtracting crosstalk\n",
      "         Fusing and padding movie\n",
      "         GPU Mov of shape 30, 10, 1239, 991; 2.74 GB\n",
      "         Allocating memory for shifted movie\n",
      "         Registered batch in 0.02 sec\n",
      "         Shifted batch in 0.30 sec\n",
      "         Freeing all blocks\n",
      "      Completed rigid registration in 1.22 sec\n",
      "         Allocated GPU array for non-rigid reg in 0.20 sec\n",
      "   Clipped movie in 0.00 sec\n",
      "   Split movie into blocks in 0.00 sec\n",
      "   Completed FFT of blocks and computed phase correlations in 0.00 sec\n",
      "   Computed SNR and smoothed phase corrs in 0.35 sec\n",
      "         Computed subpixel shifts in 0.01 sec\n",
      "      Computed non-rigid shifts in 1.77 sec\n",
      "      Transferred shifted mov of shape (10, 30, 1239, 991) to CPU in 0.00 sec\n",
      "   Non rigid transformed (on CPU) in 2.37 sec\n",
      "         After GPU Batch:    Total Used: 254.939 GB, Virtual Available: 263.943 GB, Virtual Used: 239.253 GB, Swap Used: 015.685 GB\n",
      "      Sending frames 20-30 to GPU for rigid registration\n",
      "         Loaded mov and masks to GPU for rigid reg in 0.50 sec\n",
      "         Subtracting min pix vals to enforce positivity\n",
      "         Subtracting crosstalk\n",
      "         Fusing and padding movie\n",
      "         GPU Mov of shape 30, 10, 1239, 991; 2.74 GB\n",
      "         Allocating memory for shifted movie\n",
      "         Registered batch in 0.02 sec\n",
      "         Shifted batch in 0.30 sec\n",
      "         Freeing all blocks\n",
      "      Completed rigid registration in 1.21 sec\n",
      "         Allocated GPU array for non-rigid reg in 0.20 sec\n",
      "   Clipped movie in 0.00 sec\n",
      "   Split movie into blocks in 0.00 sec\n",
      "   Completed FFT of blocks and computed phase correlations in 0.00 sec\n",
      "   Computed SNR and smoothed phase corrs in 0.35 sec\n",
      "         Computed subpixel shifts in 0.01 sec\n",
      "      Computed non-rigid shifts in 1.77 sec\n",
      "      Transferred shifted mov of shape (10, 30, 1239, 991) to CPU in 0.00 sec\n",
      "   Non rigid transformed (on CPU) in 2.28 sec\n",
      "         After GPU Batch:    Total Used: 256.312 GB, Virtual Available: 262.569 GB, Virtual Used: 240.627 GB, Swap Used: 015.685 GB\n",
      "      Sending frames 30-40 to GPU for rigid registration\n",
      "         Loaded mov and masks to GPU for rigid reg in 0.51 sec\n",
      "         Subtracting min pix vals to enforce positivity\n",
      "         Subtracting crosstalk\n",
      "         Fusing and padding movie\n",
      "         GPU Mov of shape 30, 10, 1239, 991; 2.74 GB\n",
      "         Allocating memory for shifted movie\n",
      "         Registered batch in 0.02 sec\n",
      "         Shifted batch in 0.30 sec\n",
      "         Freeing all blocks\n",
      "      Completed rigid registration in 1.22 sec\n",
      "         Allocated GPU array for non-rigid reg in 0.19 sec\n",
      "   Clipped movie in 0.00 sec\n",
      "   Split movie into blocks in 0.00 sec\n",
      "   Completed FFT of blocks and computed phase correlations in 0.00 sec\n",
      "   Computed SNR and smoothed phase corrs in 0.35 sec\n",
      "         Computed subpixel shifts in 0.01 sec\n",
      "      Computed non-rigid shifts in 1.77 sec\n",
      "      Transferred shifted mov of shape (10, 30, 1239, 991) to CPU in 0.00 sec\n",
      "   Non rigid transformed (on CPU) in 2.38 sec\n",
      "         After GPU Batch:    Total Used: 257.663 GB, Virtual Available: 261.218 GB, Virtual Used: 241.978 GB, Swap Used: 015.685 GB\n",
      "      Sending frames 40-50 to GPU for rigid registration\n",
      "         Loaded mov and masks to GPU for rigid reg in 0.49 sec\n",
      "         Subtracting min pix vals to enforce positivity\n",
      "         Subtracting crosstalk\n",
      "         Fusing and padding movie\n",
      "         GPU Mov of shape 30, 10, 1239, 991; 2.74 GB\n",
      "         Allocating memory for shifted movie\n",
      "         Registered batch in 0.02 sec\n",
      "         Shifted batch in 0.30 sec\n",
      "         Freeing all blocks\n",
      "      Completed rigid registration in 1.19 sec\n",
      "         Allocated GPU array for non-rigid reg in 0.19 sec\n",
      "   Clipped movie in 0.00 sec\n",
      "   Split movie into blocks in 0.00 sec\n",
      "   Completed FFT of blocks and computed phase correlations in 0.00 sec\n",
      "   Computed SNR and smoothed phase corrs in 0.35 sec\n",
      "         Computed subpixel shifts in 0.01 sec\n",
      "      Computed non-rigid shifts in 1.75 sec\n",
      "      Transferred shifted mov of shape (10, 30, 1239, 991) to CPU in 0.00 sec\n",
      "   Non rigid transformed (on CPU) in 2.34 sec\n",
      "         After GPU Batch:    Total Used: 259.035 GB, Virtual Available: 259.847 GB, Virtual Used: 243.349 GB, Swap Used: 015.685 GB\n",
      "      Sending frames 50-60 to GPU for rigid registration\n",
      "         Loaded mov and masks to GPU for rigid reg in 0.50 sec\n",
      "         Subtracting min pix vals to enforce positivity\n",
      "         Subtracting crosstalk\n",
      "         Fusing and padding movie\n",
      "         GPU Mov of shape 30, 10, 1239, 991; 2.74 GB\n",
      "         Allocating memory for shifted movie\n",
      "         Registered batch in 0.02 sec\n",
      "         Shifted batch in 0.30 sec\n",
      "         Freeing all blocks\n",
      "      Completed rigid registration in 1.23 sec\n",
      "         Allocated GPU array for non-rigid reg in 0.19 sec\n",
      "   Clipped movie in 0.00 sec\n",
      "   Split movie into blocks in 0.00 sec\n",
      "   Completed FFT of blocks and computed phase correlations in 0.00 sec\n",
      "   Computed SNR and smoothed phase corrs in 0.35 sec\n",
      "         Computed subpixel shifts in 0.01 sec\n",
      "      Computed non-rigid shifts in 1.79 sec\n",
      "      Transferred shifted mov of shape (10, 30, 1239, 991) to CPU in 0.00 sec\n",
      "   Non rigid transformed (on CPU) in 2.51 sec\n",
      "         After GPU Batch:    Total Used: 260.407 GB, Virtual Available: 258.474 GB, Virtual Used: 244.722 GB, Swap Used: 015.685 GB\n",
      "      Sending frames 60-70 to GPU for rigid registration\n",
      "         Loaded mov and masks to GPU for rigid reg in 0.50 sec\n",
      "         Subtracting min pix vals to enforce positivity\n",
      "         Subtracting crosstalk\n",
      "         Fusing and padding movie\n",
      "         GPU Mov of shape 30, 10, 1239, 991; 2.74 GB\n",
      "         Allocating memory for shifted movie\n",
      "         Registered batch in 0.02 sec\n",
      "         Shifted batch in 0.30 sec\n",
      "         Freeing all blocks\n",
      "      Completed rigid registration in 1.20 sec\n",
      "         Allocated GPU array for non-rigid reg in 0.19 sec\n",
      "   Clipped movie in 0.00 sec\n",
      "   Split movie into blocks in 0.00 sec\n",
      "   Completed FFT of blocks and computed phase correlations in 0.00 sec\n",
      "   Computed SNR and smoothed phase corrs in 0.35 sec\n",
      "         Computed subpixel shifts in 0.01 sec\n",
      "      Computed non-rigid shifts in 1.75 sec\n",
      "      Transferred shifted mov of shape (10, 30, 1239, 991) to CPU in 0.00 sec\n",
      "   Non rigid transformed (on CPU) in 2.61 sec\n",
      "         After GPU Batch:    Total Used: 261.778 GB, Virtual Available: 257.103 GB, Virtual Used: 246.093 GB, Swap Used: 015.685 GB\n",
      "      Sending frames 70-80 to GPU for rigid registration\n"
     ]
    },
    {
     "name": "stdout",
     "output_type": "stream",
     "text": [
      "         Loaded mov and masks to GPU for rigid reg in 0.50 sec\n",
      "         Subtracting min pix vals to enforce positivity\n",
      "         Subtracting crosstalk\n",
      "         Fusing and padding movie\n",
      "         GPU Mov of shape 30, 10, 1239, 991; 2.74 GB\n",
      "         Allocating memory for shifted movie\n",
      "         Registered batch in 0.02 sec\n",
      "         Shifted batch in 0.30 sec\n",
      "         Freeing all blocks\n",
      "      Completed rigid registration in 1.21 sec\n",
      "         Allocated GPU array for non-rigid reg in 0.19 sec\n",
      "   Clipped movie in 0.00 sec\n",
      "   Split movie into blocks in 0.00 sec\n",
      "   Completed FFT of blocks and computed phase correlations in 0.00 sec\n",
      "   Computed SNR and smoothed phase corrs in 0.35 sec\n",
      "         Computed subpixel shifts in 0.01 sec\n",
      "      Computed non-rigid shifts in 1.76 sec\n",
      "      Transferred shifted mov of shape (10, 30, 1239, 991) to CPU in 0.00 sec\n",
      "   Non rigid transformed (on CPU) in 2.49 sec\n",
      "         After GPU Batch:    Total Used: 263.143 GB, Virtual Available: 255.739 GB, Virtual Used: 247.457 GB, Swap Used: 015.685 GB\n",
      "      Sending frames 80-90 to GPU for rigid registration\n",
      "         Loaded mov and masks to GPU for rigid reg in 0.50 sec\n",
      "         Subtracting min pix vals to enforce positivity\n",
      "         Subtracting crosstalk\n",
      "         Fusing and padding movie\n",
      "         GPU Mov of shape 30, 10, 1239, 991; 2.74 GB\n",
      "         Allocating memory for shifted movie\n",
      "         Registered batch in 0.02 sec\n",
      "         Shifted batch in 0.30 sec\n",
      "         Freeing all blocks\n",
      "      Completed rigid registration in 1.21 sec\n",
      "         Allocated GPU array for non-rigid reg in 0.20 sec\n",
      "   Clipped movie in 0.00 sec\n",
      "   Split movie into blocks in 0.00 sec\n",
      "   Completed FFT of blocks and computed phase correlations in 0.00 sec\n",
      "   Computed SNR and smoothed phase corrs in 0.34 sec\n",
      "         Computed subpixel shifts in 0.01 sec\n",
      "      Computed non-rigid shifts in 1.76 sec\n",
      "      Transferred shifted mov of shape (10, 30, 1239, 991) to CPU in 0.00 sec\n",
      "   Non rigid transformed (on CPU) in 2.35 sec\n",
      "         After GPU Batch:    Total Used: 264.526 GB, Virtual Available: 254.355 GB, Virtual Used: 248.841 GB, Swap Used: 015.685 GB\n",
      "      Sending frames 90-100 to GPU for rigid registration\n",
      "         Loaded mov and masks to GPU for rigid reg in 0.50 sec\n",
      "         Subtracting min pix vals to enforce positivity\n",
      "         Subtracting crosstalk\n",
      "         Fusing and padding movie\n",
      "         GPU Mov of shape 30, 10, 1239, 991; 2.74 GB\n",
      "         Allocating memory for shifted movie\n",
      "         Registered batch in 0.02 sec\n",
      "         Shifted batch in 0.30 sec\n",
      "         Freeing all blocks\n",
      "      Completed rigid registration in 1.21 sec\n",
      "         Allocated GPU array for non-rigid reg in 0.19 sec\n",
      "   Clipped movie in 0.00 sec\n",
      "   Split movie into blocks in 0.00 sec\n",
      "   Completed FFT of blocks and computed phase correlations in 0.00 sec\n",
      "   Computed SNR and smoothed phase corrs in 0.35 sec\n",
      "         Computed subpixel shifts in 0.01 sec\n",
      "      Computed non-rigid shifts in 1.77 sec\n",
      "      Transferred shifted mov of shape (10, 30, 1239, 991) to CPU in 0.00 sec\n",
      "   Non rigid transformed (on CPU) in 2.48 sec\n",
      "         After GPU Batch:    Total Used: 265.894 GB, Virtual Available: 252.988 GB, Virtual Used: 250.208 GB, Swap Used: 015.685 GB\n",
      "      Concatenating movie\n",
      "         Concat in 0.00 sec\n",
      "         After all GPU Batches:Total Used: 265.894 GB, Virtual Available: 252.988 GB, Virtual Used: 250.208 GB, Swap Used: 015.685 GB\n",
      "      Saving fused, registered file of shape (30, 100, 1239, 991) to /mnt/md0/s3d-benchmarking/s3d-benchmark-reg/registered_fused_data/fused_reg_data0000.npy\n",
      "         Saved in 7.00 sec\n",
      "         After full batch saving:Total Used: 265.896 GB, Virtual Available: 252.985 GB, Virtual Used: 250.211 GB, Swap Used: 015.685 GB\n"
     ]
    }
   ],
   "source": [
    "tic = time.time()\n",
    "job.register_gpu()\n",
    "toc = time.time()"
   ]
  },
  {
   "cell_type": "code",
   "execution_count": 19,
   "id": "a0cc44b4",
   "metadata": {},
   "outputs": [],
   "source": [
    "rigid_y, rigid_x, nonrigid_x, nonrigid_y = job.load_registration_results()"
   ]
  },
  {
   "cell_type": "code",
   "execution_count": 23,
   "id": "63569274",
   "metadata": {},
   "outputs": [],
   "source": [
    "mov = job.get_registered_movie('registered_fused_data', 'fused')"
   ]
  },
  {
   "cell_type": "code",
   "execution_count": 25,
   "id": "ed9f1cce",
   "metadata": {},
   "outputs": [],
   "source": [
    "mean_vol = mov.mean(axis=1).compute()"
   ]
  },
  {
   "cell_type": "code",
   "execution_count": 12,
   "id": "a2430e9d",
   "metadata": {},
   "outputs": [],
   "source": [
    "offset = job.get_registered_files(filename_filter='offset')\n",
    "\n",
    "offset = n.load(offset[0],allow_pickle=True).item()"
   ]
  },
  {
   "cell_type": "code",
   "execution_count": 13,
   "id": "415d5357",
   "metadata": {},
   "outputs": [
    {
     "data": {
      "text/plain": [
       "dict_keys(['xmaxs_rr', 'ymaxs_rr', 'xmaxs_nr', 'ymaxs_nr'])"
      ]
     },
     "execution_count": 13,
     "metadata": {},
     "output_type": "execute_result"
    }
   ],
   "source": [
    "offset.keys()"
   ]
  },
  {
   "cell_type": "code",
   "execution_count": 14,
   "id": "b72716fb",
   "metadata": {},
   "outputs": [
    {
     "data": {
      "text/plain": [
       "(100, 30)"
      ]
     },
     "execution_count": 14,
     "metadata": {},
     "output_type": "execute_result"
    }
   ],
   "source": [
    "offset['xmaxs_rr'].shape"
   ]
  },
  {
   "cell_type": "code",
   "execution_count": 15,
   "id": "f5e84725",
   "metadata": {},
   "outputs": [
    {
     "data": {
      "text/plain": [
       "(100, 30, 180)"
      ]
     },
     "execution_count": 15,
     "metadata": {},
     "output_type": "execute_result"
    }
   ],
   "source": [
    "offset['xmaxs_nr'].shape"
   ]
  },
  {
   "cell_type": "code",
   "execution_count": 34,
   "id": "b15dd28d",
   "metadata": {},
   "outputs": [],
   "source": [
    "timings = {'register'    : toc - tic}\n",
    "outputs = {'rigid_y'     : rigid_y,\n",
    "           'rigid_x'     : rigid_x,\n",
    "           'nonrigid_y'  : nonrigid_y,\n",
    "           'nonrigid_x'  : nonrigid_x,\n",
    "           'mean_vol'    : mean_vol}\n",
    "repo_status = utils.get_repo_status(repo_path)"
   ]
  },
  {
   "cell_type": "code",
   "execution_count": 36,
   "id": "fe8850b2",
   "metadata": {},
   "outputs": [],
   "source": [
    "# this updates the baseline\n",
    "# utils.save_benchmark_results(results_dir, outputs, timings, repo_status, is_baseline=True)"
   ]
  },
  {
   "cell_type": "code",
   "execution_count": 37,
   "id": "4cb8cf81",
   "metadata": {},
   "outputs": [
    {
     "name": "stdout",
     "output_type": "stream",
     "text": [
      "                                         Baseline        |      Current         | \n",
      "Branch:                             dev                  | dev                  | \n",
      "Last commit hash:                   30c58f16ab717fa9dc43 | 30c58f16ab717fa9dc43 | \n",
      "Last commit summ:                   benchmarking/testing | benchmarking/testing | \n",
      "Dirty :                             True                 | True                 | \n",
      "    \n",
      "Timings (s) \n",
      "register                                          70.124 |               70.124 | \n",
      "\n",
      "Outputs: \n",
      "rigid_y                                                  |                      |  mismatch: 0 / 3000 (100.00000 % match) \n",
      "           shape:                   (100, 30)            | (100, 30)            | \n",
      "           mean:                                 -22.053 |              -22.053 |\n",
      "           std:                                   14.442 |               14.442 | \n",
      "rigid_x                                                  |                      |  mismatch: 0 / 3000 (100.00000 % match) \n",
      "           shape:                   (100, 30)            | (100, 30)            | \n",
      "           mean:                                 -18.715 |              -18.715 |\n",
      "           std:                                   11.107 |               11.107 | \n",
      "nonrigid_y                                               |                      |  mismatch: 0 / 540000 (100.00000 % match) \n",
      "           shape:                   (100, 30, 15, 12)    | (100, 30, 15, 12)    | \n",
      "           mean:                                  -0.419 |               -0.419 |\n",
      "           std:                                    2.142 |                2.142 | \n",
      "nonrigid_x                                               |                      |  mismatch: 0 / 540000 (100.00000 % match) \n",
      "           shape:                   (100, 30, 15, 12)    | (100, 30, 15, 12)    | \n",
      "           mean:                                  -0.360 |               -0.360 |\n",
      "           std:                                    2.061 |                2.061 | \n",
      "mean_vol                                                 |                      |  mismatch: 0 / 36835470 (100.00000 % match) \n",
      "           shape:                   (30, 1239, 991)      | (30, 1239, 991)      | \n",
      "           mean:                                  77.409 |               77.409 |\n",
      "           std:                                  175.209 |              175.209 | \n",
      "\n",
      "Saved benchmark results to /mnt/md0/s3d-benchmarking/results/reg/2023-19-10-11_43\n"
     ]
    }
   ],
   "source": [
    "utils.benchmark(results_dir, outputs, timings, repo_status)"
   ]
  },
  {
   "cell_type": "code",
   "execution_count": null,
   "id": "86999ae0",
   "metadata": {},
   "outputs": [],
   "source": []
  },
  {
   "cell_type": "code",
   "execution_count": null,
   "id": "7130e3b6",
   "metadata": {},
   "outputs": [],
   "source": []
  }
 ],
 "metadata": {
  "kernelspec": {
   "display_name": "Python [conda env:suite3d-gpu]",
   "language": "python",
   "name": "conda-env-suite3d-gpu-py"
  },
  "language_info": {
   "codemirror_mode": {
    "name": "ipython",
    "version": 3
   },
   "file_extension": ".py",
   "mimetype": "text/x-python",
   "name": "python",
   "nbconvert_exporter": "python",
   "pygments_lexer": "ipython3",
   "version": "3.8.18"
  }
 },
 "nbformat": 4,
 "nbformat_minor": 5
}
