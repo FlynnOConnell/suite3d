{
 "cells": [
  {
   "cell_type": "code",
   "execution_count": 1,
   "id": "ba331223",
   "metadata": {},
   "outputs": [],
   "source": [
    "%load_ext autoreload\n",
    "%autoreload 2\n",
    "\n",
    "import os \n",
    "import shutil\n",
    "import numpy as n\n",
    "from datetime import date\n",
    "from matplotlib import pyplot as plt\n",
    "import time\n",
    "import napari\n",
    "from datetime import datetime"
   ]
  },
  {
   "cell_type": "code",
   "execution_count": 2,
   "id": "115ddee1",
   "metadata": {},
   "outputs": [],
   "source": [
    "# path to wherever the s2p-lbm repository is cloned on your computer\n",
    "repo_path = os.path.dirname(os.path.abspath(\"\"))\n",
    "os.chdir(repo_path)\n",
    "\n",
    "from suite3d.job import Job\n",
    "from suite3d import lbmio, utils, ui\n",
    "from suite3d import tiff_utils as tfu"
   ]
  },
  {
   "cell_type": "code",
   "execution_count": 3,
   "id": "02fd728a",
   "metadata": {},
   "outputs": [],
   "source": [
    "results_dir = '/mnt/md0/s3d-benchmarking/results/init'"
   ]
  },
  {
   "cell_type": "code",
   "execution_count": 4,
   "id": "22b34c7f",
   "metadata": {},
   "outputs": [],
   "source": [
    "## Find all the tiffiles in the tif path\n",
    "# File I/O is pipelined, so the data doesn't have to be on a fast SSD \n",
    "# single HDDs or reasonably fast network drives should work without much difference in speed \n",
    "tif_path = r'/mnt/md0/data/demo'\n",
    "tifs = tfu.get_tif_paths(tif_path)"
   ]
  },
  {
   "cell_type": "code",
   "execution_count": 5,
   "id": "b6188717",
   "metadata": {},
   "outputs": [],
   "source": [
    "# Set the mandatory parameters\n",
    "params = {\n",
    "    # volume rate\n",
    "    'fs': tfu.get_vol_rate(tifs[0]),\n",
    "    # planes to analyze. 0 is deepest, 30 is shallowest (corrected for ScanImage channel IDs)\n",
    "    # you should keep all the planes to do crosstalk estimation! \n",
    "    'planes' : n.arange(30),\n",
    "    # Decay time of the Ca indicator in seconds. 1.3 for GCaMP6s. This example is for GCamP8m\n",
    "    'tau' : 1.3\n",
    "}"
   ]
  },
  {
   "cell_type": "code",
   "execution_count": 6,
   "id": "b1919102",
   "metadata": {},
   "outputs": [
    {
     "name": "stdout",
     "output_type": "stream",
     "text": [
      "Job directory /mnt/md0/s3d-benchmarking/s3d-benchmark-init already exists\n",
      "Loading job directory for benchmark-init in /mnt/md0/s3d-benchmarking\n",
      "   Loading dirs \n",
      "      Found dir registered_data\n",
      "      Found dir summary\n",
      "      Found dir iters\n",
      "   Loading default params\n",
      "      Updating param fs\n",
      "      Updating param planes\n",
      "      Updating param tau\n",
      "   Updated main params file\n"
     ]
    }
   ],
   "source": [
    "# Create the job\n",
    "job = Job('/mnt/md0/s3d-benchmarking','benchmark-init', tifs = tifs,\n",
    "          params=params, create=True, overwrite=True, verbosity = 3)"
   ]
  },
  {
   "cell_type": "code",
   "execution_count": 7,
   "id": "42d4be3c",
   "metadata": {},
   "outputs": [],
   "source": [
    "# optional parameters for initialization\n",
    "# load 1 file to initialize\n",
    "job.params['n_init_files'] = 1\n",
    "job.params['init_file_sample_method'] = 'even'\n"
   ]
  },
  {
   "cell_type": "code",
   "execution_count": null,
   "id": "e8c4adc8",
   "metadata": {},
   "outputs": [
    {
     "name": "stdout",
     "output_type": "stream",
     "text": [
      "   Saved a copy of params at /mnt/md0/s3d-benchmarking/s3d-benchmark-init/summary\n",
      "   Updated main params file\n",
      "Launching initial pass\n",
      "Saving summary to /mnt/md0/s3d-benchmarking/s3d-benchmark-init/summary/summary.npy\n",
      "Loading /mnt/md0/data/demo/AH007_ROI3p33um_NOSCREEN_-400um_00001_00002.tif\n",
      "Loaded 1 files, total 6.82 GB\n",
      "   Loaded movie with 100 frames and shape 30, 1202, 1015\n",
      "         Enforcing positivity in mean image\n"
     ]
    },
    {
     "name": "stderr",
     "output_type": "stream",
     "text": [
      "/home/ali/packages/s2p-lbm/suite3d/utils.py:197: UserWarning: This figure includes Axes that are not compatible with tight_layout, so results might be incorrect.\n",
      "  plt.tight_layout()\n"
     ]
    },
    {
     "name": "stdout",
     "output_type": "stream",
     "text": [
      "Saving figure to /mnt/md0/s3d-benchmarking/s3d-benchmark-init/summary/crosstalk_plots\n",
      "saved\n",
      "Close figure\n"
     ]
    },
    {
     "data": {
      "image/png": "[encoded data removed]",
      "text/plain": [
       "<Figure size 300x300 with 1 Axes>"
      ]
     },
     "metadata": {},
     "output_type": "display_data"
    },
    {
     "name": "stdout",
     "output_type": "stream",
     "text": [
      "   Subtracting with estimated coefficient 0.295\n",
      "         Subtracting plane 0 from 15\n",
      "         Subtracting plane 1 from 16\n",
      "         Subtracting plane 2 from 17\n",
      "         Subtracting plane 3 from 18\n",
      "         Subtracting plane 4 from 19\n",
      "         Subtracting plane 5 from 20\n",
      "         Subtracting plane 6 from 21\n",
      "         Subtracting plane 7 from 22\n",
      "         Subtracting plane 8 from 23\n",
      "         Subtracting plane 9 from 24\n",
      "         Subtracting plane 10 from 25\n",
      "         Subtracting plane 11 from 26\n",
      "         Subtracting plane 12 from 27\n",
      "         Subtracting plane 13 from 28\n",
      "         Subtracting plane 14 from 29\n",
      "   Estimating fusing shifts\n",
      "   Using best fuse shift of 13\n",
      "   Building ops file\n",
      "   Saved init mov to /mnt/md0/s3d-benchmarking/s3d-benchmark-init/summary/init_mov.npy\n",
      "   Aligning planes\n",
      "float64\n",
      "8\n",
      "      Fixing 0 plane alignment outliers\n",
      "   Fusing and padding init mov\n",
      "Setting smooth_sigma: 1.15\n",
      "Setting maxregshift: 0.15\n",
      "Setting Ly: 1239\n",
      "Setting Lx: 991\n",
      "Setting nonrigid: True\n",
      "   Computing reference images\n",
      "        Computed reference for plane 0\n",
      "        Computed reference for plane 1\n",
      "        Computed reference for plane 2\n",
      "        Computed reference for plane 3\n",
      "        Computed reference for plane 4\n"
     ]
    }
   ],
   "source": [
    "tic = time.time()\n",
    "job.run_init_pass()\n",
    "toc = time.time()"
   ]
  },
  {
   "cell_type": "code",
   "execution_count": null,
   "id": "351c005b",
   "metadata": {},
   "outputs": [],
   "source": [
    "init_pass_time = toc - tic"
   ]
  },
  {
   "cell_type": "code",
   "execution_count": null,
   "id": "34b7873b",
   "metadata": {},
   "outputs": [],
   "source": [
    "summary = job.load_summary()"
   ]
  },
  {
   "cell_type": "code",
   "execution_count": null,
   "id": "bd6d0d0c",
   "metadata": {},
   "outputs": [],
   "source": [
    "ref_img = summary['ref_img_3d']\n",
    "crosstalk_coeff = summary['crosstalk_coeff']\n",
    "plane_shifts = summary['plane_shifts']\n",
    "fuse_shift = summary['fuse_shift']\n",
    "fuse_shifts = summary['fuse_shifts']"
   ]
  },
  {
   "cell_type": "code",
   "execution_count": null,
   "id": "8cdac2b1",
   "metadata": {},
   "outputs": [],
   "source": [
    "outputs = {\n",
    "    'ref_img' : ref_img,\n",
    "    'crosstalk_coeff' : crosstalk_coeff,\n",
    "    'plane_shifts' : plane_shifts,\n",
    "    'fuse_shift' : fuse_shift,\n",
    "    'fuse_shifts' : fuse_shifts\n",
    "}\n",
    "timings = {'initalization' : init_pass_time}\n",
    "repo_status = utils.get_repo_status(repo_path)"
   ]
  },
  {
   "cell_type": "code",
   "execution_count": null,
   "id": "738697f7",
   "metadata": {},
   "outputs": [],
   "source": [
    "baseline_outputs, baseline_timings, baseline_repo_status = utils.load_baseline_results(results_dir)"
   ]
  },
  {
   "cell_type": "code",
   "execution_count": null,
   "id": "5842281b",
   "metadata": {},
   "outputs": [],
   "source": [
    "repo_comp = utils.compare_repo_status(baseline_repo_status, repo_status)\n",
    "timing_comp = utils.compare_timings(baseline_timings, timings)\n",
    "output_comp, __ = utils.compare_outputs(baseline_outputs, outputs);"
   ]
  },
  {
   "cell_type": "code",
   "execution_count": null,
   "id": "7130e3b6",
   "metadata": {},
   "outputs": [],
   "source": []
  }
 ],
 "metadata": {
  "kernelspec": {
   "display_name": "Python [conda env:suite3d-gpu]",
   "language": "python",
   "name": "conda-env-suite3d-gpu-py"
  },
  "language_info": {
   "codemirror_mode": {
    "name": "ipython",
    "version": 3
   },
   "file_extension": ".py",
   "mimetype": "text/x-python",
   "name": "python",
   "nbconvert_exporter": "python",
   "pygments_lexer": "ipython3",
   "version": "3.8.18"
  }
 },
 "nbformat": 4,
 "nbformat_minor": 5
}
