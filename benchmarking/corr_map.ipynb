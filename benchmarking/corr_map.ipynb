{
 "cells": [
  {
   "cell_type": "code",
   "execution_count": 1,
   "id": "ba331223",
   "metadata": {},
   "outputs": [],
   "source": [
    "%load_ext autoreload\n",
    "%autoreload 2\n",
    "\n",
    "import os \n",
    "import shutil\n",
    "import numpy as n\n",
    "from datetime import date\n",
    "from matplotlib import pyplot as plt\n",
    "import time\n",
    "import napari\n",
    "from datetime import datetime"
   ]
  },
  {
   "cell_type": "code",
   "execution_count": 2,
   "id": "115ddee1",
   "metadata": {},
   "outputs": [],
   "source": [
    "# path to wherever the s2p-lbm repository is cloned on your computer\n",
    "repo_path = os.path.dirname(os.path.abspath(\"\"))\n",
    "os.chdir(repo_path)\n",
    "\n",
    "from suite3d.job import Job\n",
    "from suite3d import lbmio, utils, ui\n",
    "from suite3d import tiff_utils as tfu"
   ]
  },
  {
   "cell_type": "code",
   "execution_count": 3,
   "id": "02fd728a",
   "metadata": {},
   "outputs": [],
   "source": [
    "results_dir = '/mnt/md0/s3d-benchmarking/results/corr_map'"
   ]
  },
  {
   "cell_type": "code",
   "execution_count": 4,
   "id": "b1919102",
   "metadata": {},
   "outputs": [
    {
     "name": "stdout",
     "output_type": "stream",
     "text": [
      "   Found and loaded params from /mnt/md0/s3d-benchmarking/s3d-benchmark-corr_map/params.npy\n"
     ]
    }
   ],
   "source": [
    "job = Job('/mnt/md0/s3d-benchmarking','benchmark-corr_map',create=False, verbosity = 3)"
   ]
  },
  {
   "cell_type": "code",
   "execution_count": 5,
   "id": "7ce21336",
   "metadata": {},
   "outputs": [],
   "source": [
    "# %%time\n",
    "# job.register_gpu()"
   ]
  },
  {
   "cell_type": "code",
   "execution_count": 6,
   "id": "63569274",
   "metadata": {},
   "outputs": [],
   "source": [
    "mov = job.get_registered_movie('registered_fused_data', 'fused')"
   ]
  },
  {
   "cell_type": "code",
   "execution_count": 7,
   "id": "f54d6c0d",
   "metadata": {},
   "outputs": [],
   "source": [
    "job.params['conv_filt_type'] = 'gaussian'\n",
    "job.params['conv_filt_xy'] = 1.0\n",
    "job.params['conv_filt_z'] = 1.0\n",
    "job.params['npil_filt_type'] = 'unif'\n",
    "job.params['npil_filt_xy'] = 5.0\n",
    "job.params['npil_filt_z']=  1.5\n",
    "\n",
    "job.params['sdnorm_exp']= 0.8\n",
    "job.params['intensity_thresh'] : 0.2\n",
    "\n",
    "job.params['t_batch_size'] = 300\n",
    "job.params['n_proc_corr'] = 70\n",
    "job.params['mproc_batchsize'] = 5\n"
   ]
  },
  {
   "cell_type": "code",
   "execution_count": 8,
   "id": "07df72f4",
   "metadata": {},
   "outputs": [],
   "source": [
    "crop = ((0,18), (100,1100), (100, 950))\n",
    "mov_crop = mov[crop[0][0]:crop[0][1], :,crop[1][0]:crop[1][1], \n",
    "               crop[2][0]:crop[2][1]]"
   ]
  },
  {
   "cell_type": "code",
   "execution_count": 9,
   "id": "846fbe72",
   "metadata": {},
   "outputs": [
    {
     "name": "stdout",
     "output_type": "stream",
     "text": [
      "   Updated main params file\n",
      "      Found dir /mnt/md0/s3d-benchmarking/s3d-benchmark-corr_map/mov_sub with tag mov_sub\n",
      "   Saving mov_sub to /mnt/md0/s3d-benchmarking/s3d-benchmark-corr_map/mov_sub\n",
      "   Using conv_filt: gaussian, 1.00, 1.00\n",
      "   Using np_filt: unif, 1.50, 5.00\n",
      "   Created files and dirs for 1 batches\n",
      "      Running batch 1 of 1\n",
      "         Will process 300 frames (0-300, t_batch_size: 300)\n",
      "      Loaded and swapped, idx 0 to 300\n",
      "      Calculating corr map\n",
      "         Rolling mean filter\n",
      "         Stdev over time\n",
      "         Sharr creation\n",
      "         Sub and conv\n",
      "         Vmap\n",
      "   Calculated corr map in 367.00 seconds\n",
      "      Saving to /mnt/md0/s3d-benchmarking/s3d-benchmark-corr_map/iters/batch0000\n",
      "CPU times: user 1min 47s, sys: 4min 12s, total: 5min 59s\n",
      "Wall time: 6min 35s\n"
     ]
    }
   ],
   "source": [
    "%%time\n",
    "tic = time.time()\n",
    "(vmap, mean_img, max_img), __, __ = job.calculate_corr_map(mov = mov)\n",
    "toc = time.time()"
   ]
  },
  {
   "cell_type": "code",
   "execution_count": 13,
   "id": "ee410dc0",
   "metadata": {},
   "outputs": [],
   "source": [
    "toc = time.time() + 6*60+35.1324521\n",
    "tic = 0 + time.time()"
   ]
  },
  {
   "cell_type": "code",
   "execution_count": 34,
   "id": "b15dd28d",
   "metadata": {},
   "outputs": [],
   "source": [
    "timings = {'corr_map'    : toc - tic}\n",
    "outputs = {'rigid_y'     : rigid_y,\n",
    "           'rigid_x'     : rigid_x,\n",
    "           'nonrigid_y'  : nonrigid_y,\n",
    "           'nonrigid_x'  : nonrigid_x,\n",
    "           'mean_vol'    : mean_vol}\n",
    "repo_status = utils.get_repo_status(repo_path)"
   ]
  },
  {
   "cell_type": "code",
   "execution_count": 36,
   "id": "fe8850b2",
   "metadata": {},
   "outputs": [],
   "source": [
    "# this updates the baseline\n",
    "# utils.save_benchmark_results(results_dir, outputs, timings, repo_status, is_baseline=True)"
   ]
  },
  {
   "cell_type": "code",
   "execution_count": 37,
   "id": "4cb8cf81",
   "metadata": {},
   "outputs": [
    {
     "name": "stdout",
     "output_type": "stream",
     "text": [
      "                                         Baseline        |      Current         | \n",
      "Branch:                             dev                  | dev                  | \n",
      "Last commit hash:                   30c58f16ab717fa9dc43 | 30c58f16ab717fa9dc43 | \n",
      "Last commit summ:                   benchmarking/testing | benchmarking/testing | \n",
      "Dirty :                             True                 | True                 | \n",
      "    \n",
      "Timings (s) \n",
      "register                                          70.124 |               70.124 | \n",
      "\n",
      "Outputs: \n",
      "rigid_y                                                  |                      |  mismatch: 0 / 3000 (100.00000 % match) \n",
      "           shape:                   (100, 30)            | (100, 30)            | \n",
      "           mean:                                 -22.053 |              -22.053 |\n",
      "           std:                                   14.442 |               14.442 | \n",
      "rigid_x                                                  |                      |  mismatch: 0 / 3000 (100.00000 % match) \n",
      "           shape:                   (100, 30)            | (100, 30)            | \n",
      "           mean:                                 -18.715 |              -18.715 |\n",
      "           std:                                   11.107 |               11.107 | \n",
      "nonrigid_y                                               |                      |  mismatch: 0 / 540000 (100.00000 % match) \n",
      "           shape:                   (100, 30, 15, 12)    | (100, 30, 15, 12)    | \n",
      "           mean:                                  -0.419 |               -0.419 |\n",
      "           std:                                    2.142 |                2.142 | \n",
      "nonrigid_x                                               |                      |  mismatch: 0 / 540000 (100.00000 % match) \n",
      "           shape:                   (100, 30, 15, 12)    | (100, 30, 15, 12)    | \n",
      "           mean:                                  -0.360 |               -0.360 |\n",
      "           std:                                    2.061 |                2.061 | \n",
      "mean_vol                                                 |                      |  mismatch: 0 / 36835470 (100.00000 % match) \n",
      "           shape:                   (30, 1239, 991)      | (30, 1239, 991)      | \n",
      "           mean:                                  77.409 |               77.409 |\n",
      "           std:                                  175.209 |              175.209 | \n",
      "\n",
      "Saved benchmark results to /mnt/md0/s3d-benchmarking/results/reg/2023-19-10-11_43\n"
     ]
    }
   ],
   "source": [
    "utils.benchmark(results_dir, outputs, timings, repo_status)"
   ]
  },
  {
   "cell_type": "code",
   "execution_count": null,
   "id": "86999ae0",
   "metadata": {},
   "outputs": [],
   "source": []
  },
  {
   "cell_type": "code",
   "execution_count": null,
   "id": "7130e3b6",
   "metadata": {},
   "outputs": [],
   "source": []
  }
 ],
 "metadata": {
  "kernelspec": {
   "display_name": "Python [conda env:suite3d-gpu]",
   "language": "python",
   "name": "conda-env-suite3d-gpu-py"
  },
  "language_info": {
   "codemirror_mode": {
    "name": "ipython",
    "version": 3
   },
   "file_extension": ".py",
   "mimetype": "text/x-python",
   "name": "python",
   "nbconvert_exporter": "python",
   "pygments_lexer": "ipython3",
   "version": "3.8.18"
  }
 },
 "nbformat": 4,
 "nbformat_minor": 5
}
