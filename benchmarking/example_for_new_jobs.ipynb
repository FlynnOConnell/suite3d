{
 "cells": [
  {
   "cell_type": "code",
   "execution_count": 7,
   "id": "d281a940",
   "metadata": {},
   "outputs": [
    {
     "name": "stdout",
     "output_type": "stream",
     "text": [
      "The autoreload extension is already loaded. To reload it, use:\n",
      "  %reload_ext autoreload\n"
     ]
    }
   ],
   "source": [
    "%load_ext autoreload\n",
    "%autoreload 2\n",
    "\n",
    "import os \n",
    "import shutil\n",
    "import numpy as n\n",
    "from datetime import date\n",
    "from matplotlib import pyplot as plt\n",
    "import time\n",
    "import napari\n",
    "from datetime import datetime"
   ]
  },
  {
   "cell_type": "code",
   "execution_count": 44,
   "id": "0181529d",
   "metadata": {},
   "outputs": [],
   "source": [
    "# path to wherever the s2p-lbm repository is cloned on your computer\n",
    "# CHANGE THIS!!!!\n",
    "repo_path = '/home/ali/packages/s2p-lbm/'#os.path.dirname(os.path.abspath(\"\"))\n",
    "os.chdir(repo_path)\n",
    "\n",
    "from suite3d.job import Job\n",
    "from suite3d import lbmio, utils, ui\n",
    "from suite3d import tiff_utils as tfu"
   ]
  },
  {
   "cell_type": "code",
   "execution_count": 9,
   "id": "4f62b157",
   "metadata": {},
   "outputs": [],
   "source": [
    "results_dir = '/mnt/md0/s3d-benchmarking/results/corr_map'"
   ]
  },
  {
   "cell_type": "code",
   "execution_count": 10,
   "id": "e7a703f8",
   "metadata": {},
   "outputs": [
    {
     "name": "stdout",
     "output_type": "stream",
     "text": [
      "   Found and loaded params from /mnt/md0/s3d-benchmarking/s3d-benchmark-corr_map/params.npy\n"
     ]
    }
   ],
   "source": [
    "# This is the original job that I used for benchmarking\n",
    "original_job = Job('/mnt/md0/s3d-benchmarking','benchmark-corr_map',create=False, verbosity = 3)"
   ]
  },
  {
   "cell_type": "code",
   "execution_count": 34,
   "id": "f9589331",
   "metadata": {},
   "outputs": [],
   "source": [
    "# here you can create your own job. Instead of re-running all the previous processing steps\n",
    "# up to the correlation map, I've added a function to just copy the relevant files from a \n",
    "# parent job. This way you can do whatever you want on your own job without overwriting the \n",
    "# benchmarking data in the original job"
   ]
  },
  {
   "cell_type": "code",
   "execution_count": 33,
   "id": "b502845b",
   "metadata": {},
   "outputs": [
    {
     "name": "stdout",
     "output_type": "stream",
     "text": [
      "Job directory /mnt/md0/sam/s3d-corr_map_parallelized already exists\n",
      "Loading job directory for corr_map_parallelized in /mnt/md0/sam\n",
      "   Loading dirs \n",
      "      Found dir registered_data\n",
      "      Found dir summary\n",
      "      Found dir iters\n",
      "   Found and loaded params from /mnt/md0/s3d-benchmarking/s3d-benchmark-corr_map/params.npy\n",
      "   Copied init pass and parameters from parent job\n",
      "   Copying dir registered_fused_data from parent job\n",
      "      Found dir /mnt/md0/sam/s3d-corr_map_parallelized/registered_fused_data with tag registered_fused_data\n",
      "   Updated main params file\n"
     ]
    }
   ],
   "source": [
    "job = Job('/mnt/md0/sam', 'corr_map_parallelized', create=True, overwrite=True, \n",
    "          parent_job=original_job, copy_parent_dirs=('registered_fused_data',))"
   ]
  },
  {
   "cell_type": "code",
   "execution_count": 35,
   "id": "c20037ca",
   "metadata": {},
   "outputs": [],
   "source": [
    "mov = job.get_registered_movie('registered_fused_data', 'fused')"
   ]
  },
  {
   "cell_type": "code",
   "execution_count": 36,
   "id": "1ca70b8b",
   "metadata": {},
   "outputs": [],
   "source": [
    "job.params['conv_filt_type'] = 'gaussian'\n",
    "job.params['conv_filt_xy'] = 1.0\n",
    "job.params['conv_filt_z'] = 1.0\n",
    "job.params['npil_filt_type'] = 'unif'\n",
    "job.params['npil_filt_xy'] = 5.0\n",
    "job.params['npil_filt_z']=  1.5\n",
    "\n",
    "job.params['sdnorm_exp']= 0.8\n",
    "job.params['intensity_thresh'] : 0.2\n",
    "\n",
    "job.params['t_batch_size'] = 300\n",
    "job.params['n_proc_corr'] = 70\n",
    "job.params['mproc_batchsize'] = 5\n",
    "\n",
    "\n",
    "crop = ((0,18), (100,1100), (100, 950))\n",
    "mov_crop = mov[crop[0][0]:crop[0][1], :,crop[1][0]:crop[1][1], \n",
    "               crop[2][0]:crop[2][1]]"
   ]
  },
  {
   "cell_type": "code",
   "execution_count": 37,
   "id": "6b368bfb",
   "metadata": {},
   "outputs": [
    {
     "name": "stdout",
     "output_type": "stream",
     "text": [
      "   Updated main params file\n",
      "   Created dir /mnt/md0/sam/s3d-corr_map_parallelized/mov_sub with tag mov_sub\n",
      "   Saving mov_sub to /mnt/md0/sam/s3d-corr_map_parallelized/mov_sub\n",
      "   Using conv_filt: gaussian, 1.00, 1.00\n",
      "   Using np_filt: unif, 1.50, 5.00\n",
      "   Created files and dirs for 1 batches\n",
      "      Running batch 1 of 1\n",
      "         Will process 300 frames (0-300, t_batch_size: 300)\n",
      "      Loaded and swapped, idx 0 to 300\n",
      "      Calculating corr map\n",
      "         Rolling mean filter\n",
      "         Stdev over time\n",
      "         Sharr creation\n",
      "         Sub and conv\n",
      "         Vmap\n",
      "   Calculated corr map in 446.67 seconds\n",
      "      Saving to /mnt/md0/sam/s3d-corr_map_parallelized/iters/batch0000\n",
      "CPU times: user 1min 45s, sys: 5min 27s, total: 7min 12s\n",
      "Wall time: 7min 50s\n"
     ]
    }
   ],
   "source": [
    "%%time\n",
    "tic = time.time()\n",
    "(vmap, mean_img, max_img), __, __ = job.calculate_corr_map(mov = mov)\n",
    "toc = time.time()"
   ]
  },
  {
   "cell_type": "code",
   "execution_count": 45,
   "id": "aa92f37f",
   "metadata": {},
   "outputs": [],
   "source": [
    "timings = {'corr_map'    : toc - tic}\n",
    "outputs = {'vmap'        : vmap,\n",
    "           'mean_img'    : mean_img}\n",
    "repo_status = utils.get_repo_status(repo_path)"
   ]
  },
  {
   "cell_type": "code",
   "execution_count": 46,
   "id": "e9792bf8",
   "metadata": {},
   "outputs": [
    {
     "name": "stdout",
     "output_type": "stream",
     "text": [
      "                                         Baseline        |      Current         | \n",
      "Branch:                             dev                  | dev                  | \n",
      "Last commit hash:                   4f756530fe7b1a8b8a8b | 3b23e046a2b2acc29198 | \n",
      "Last commit summ:                   benchmarks for init, | benchmarking tools e | \n",
      "Dirty :                             True                 | True                 | \n",
      "    \n",
      "Timings (s) \n",
      "corr_map                                         395.132 |              470.270 | \n",
      "\n",
      "Outputs: \n",
      "vmap                                                     |                      |  mismatch: 0 / 36835470 (100.00000 % match) \n",
      "           shape:                   (30, 1239, 991)      | (30, 1239, 991)      | \n",
      "           mean:                                   2.053 |                2.053 |\n",
      "           std:                                    0.842 |                0.842 | \n",
      "mean_img                                                 |                      |  mismatch: 0 / 36835470 (100.00000 % match) \n",
      "           shape:                   (30, 1239, 991)      | (30, 1239, 991)      | \n",
      "           mean:                                  76.905 |               76.905 |\n",
      "           std:                                  173.904 |              173.904 | \n",
      "\n",
      "Saved benchmark results to /mnt/md0/s3d-benchmarking/results/corr_map/2023-19-10-13_47\n"
     ]
    }
   ],
   "source": [
    "utils.benchmark(results_dir, outputs, timings, repo_status)"
   ]
  },
  {
   "cell_type": "code",
   "execution_count": null,
   "id": "6b883722",
   "metadata": {},
   "outputs": [],
   "source": []
  }
 ],
 "metadata": {
  "kernelspec": {
   "display_name": "Python [conda env:suite3d-gpu]",
   "language": "python",
   "name": "conda-env-suite3d-gpu-py"
  },
  "language_info": {
   "codemirror_mode": {
    "name": "ipython",
    "version": 3
   },
   "file_extension": ".py",
   "mimetype": "text/x-python",
   "name": "python",
   "nbconvert_exporter": "python",
   "pygments_lexer": "ipython3",
   "version": "3.8.18"
  }
 },
 "nbformat": 4,
 "nbformat_minor": 5
}
