{
 "cells": [
  {
   "cell_type": "code",
   "execution_count": 7,
   "id": "a821dd5f",
   "metadata": {},
   "outputs": [
    {
     "name": "stdout",
     "output_type": "stream",
     "text": [
      "The autoreload extension is already loaded. To reload it, use:\n",
      "  %reload_ext autoreload\n"
     ]
    }
   ],
   "source": [
    "%load_ext autoreload\n",
    "%autoreload 2\n",
    "\n",
    "import os \n",
    "import shutil\n",
    "import numpy as n\n",
    "from datetime import date\n",
    "from matplotlib import pyplot as plt\n",
    "import time\n",
    "import napari\n",
    "from datetime import datetime"
   ]
  },
  {
   "cell_type": "code",
   "execution_count": 8,
   "id": "c6b4b300",
   "metadata": {},
   "outputs": [],
   "source": [
    "# path to wherever the s2p-lbm repository is cloned on your computer\n",
    "repo_path = os.path.dirname(os.path.abspath(\"\"))\n",
    "os.chdir(repo_path)\n",
    "\n",
    "from suite3d.job import Job\n",
    "from suite3d import lbmio, utils, ui\n",
    "from suite3d import tiff_utils as tfu"
   ]
  },
  {
   "cell_type": "code",
   "execution_count": 9,
   "id": "86e3d0fe",
   "metadata": {},
   "outputs": [],
   "source": [
    "results_dir = '/mnt/md0/s3d-benchmarking/results/corr_map'"
   ]
  },
  {
   "cell_type": "code",
   "execution_count": 10,
   "id": "f083f6de",
   "metadata": {},
   "outputs": [
    {
     "name": "stdout",
     "output_type": "stream",
     "text": [
      "   Found and loaded params from /mnt/md0/s3d-benchmarking/s3d-benchmark-corr_map/params.npy\n"
     ]
    }
   ],
   "source": [
    "# This is the original job that I used for benchmarking\n",
    "original_job = Job('/mnt/md0/s3d-benchmarking','benchmark-corr_map',create=False, verbosity = 3)"
   ]
  },
  {
   "cell_type": "code",
   "execution_count": 34,
   "id": "2631f65d",
   "metadata": {},
   "outputs": [],
   "source": [
    "# here you can create your own job. Instead of re-running all the previous processing steps\n",
    "# up to the correlation map, I've added a function to just copy the relevant files from a \n",
    "# parent job. This way you can do whatever you want on your own job without overwriting the \n",
    "# benchmarking data in the original job"
   ]
  },
  {
   "cell_type": "code",
   "execution_count": 33,
   "id": "e515e108",
   "metadata": {},
   "outputs": [
    {
     "name": "stdout",
     "output_type": "stream",
     "text": [
      "Job directory /mnt/md0/sam/s3d-corr_map_parallelized already exists\n",
      "Loading job directory for corr_map_parallelized in /mnt/md0/sam\n",
      "   Loading dirs \n",
      "      Found dir registered_data\n",
      "      Found dir summary\n",
      "      Found dir iters\n",
      "   Found and loaded params from /mnt/md0/s3d-benchmarking/s3d-benchmark-corr_map/params.npy\n",
      "   Copied init pass and parameters from parent job\n",
      "   Copying dir registered_fused_data from parent job\n",
      "      Found dir /mnt/md0/sam/s3d-corr_map_parallelized/registered_fused_data with tag registered_fused_data\n",
      "   Updated main params file\n"
     ]
    }
   ],
   "source": [
    "job = Job('/mnt/md0/sam', 'corr_map_parallelized', create=True, overwrite=True, \n",
    "          parent_job=original_job, copy_parent_dirs=('registered_fused_data',))"
   ]
  },
  {
   "cell_type": "code",
   "execution_count": 35,
   "id": "73d8f848",
   "metadata": {},
   "outputs": [],
   "source": [
    "mov = job.get_registered_movie('registered_fused_data', 'fused')"
   ]
  },
  {
   "cell_type": "code",
   "execution_count": null,
   "id": "24b175f3",
   "metadata": {},
   "outputs": [],
   "source": []
  }
 ],
 "metadata": {
  "kernelspec": {
   "display_name": "Python [conda env:suite3d-gpu]",
   "language": "python",
   "name": "conda-env-suite3d-gpu-py"
  },
  "language_info": {
   "codemirror_mode": {
    "name": "ipython",
    "version": 3
   },
   "file_extension": ".py",
   "mimetype": "text/x-python",
   "name": "python",
   "nbconvert_exporter": "python",
   "pygments_lexer": "ipython3",
   "version": "3.8.18"
  }
 },
 "nbformat": 4,
 "nbformat_minor": 5
}
